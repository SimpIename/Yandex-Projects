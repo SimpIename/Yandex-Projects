{
 "cells": [
  {
   "cell_type": "markdown",
   "id": "2e75de1f",
   "metadata": {
    "deletable": false,
    "editable": false,
    "id": "c81daeeb"
   },
   "source": [
    "# Исследование надежности заемщиков\n"
   ]
  },
  {
   "cell_type": "markdown",
   "id": "c34f3005",
   "metadata": {
    "deletable": false,
    "editable": false,
    "id": "744d7639"
   },
   "source": [
    "## Откройте таблицу и изучите общую информацию о данных"
   ]
  },
  {
   "cell_type": "code",
   "execution_count": 43,
   "id": "d27710bb",
   "metadata": {
    "deletable": false,
    "id": "7bcf75c9"
   },
   "outputs": [],
   "source": [
    "import pandas as pd\n",
    "import numpy as np\n",
    "import seaborn as sns\n",
    "\n",
    "try:\n",
    "    data = pd.read_csv('/datasets/data.csv')\n",
    "except:\n",
    "    data = pd.read_csv('data.csv')"
   ]
  },
  {
   "cell_type": "code",
   "execution_count": 44,
   "id": "60364bbd",
   "metadata": {
    "deletable": false,
    "id": "2a7cab99",
    "outputId": "1a8f3ef2-d323-4ec2-ddf7-89670b5944c4"
   },
   "outputs": [
    {
     "data": {
      "text/html": [
       "<div>\n",
       "<style scoped>\n",
       "    .dataframe tbody tr th:only-of-type {\n",
       "        vertical-align: middle;\n",
       "    }\n",
       "\n",
       "    .dataframe tbody tr th {\n",
       "        vertical-align: top;\n",
       "    }\n",
       "\n",
       "    .dataframe thead th {\n",
       "        text-align: right;\n",
       "    }\n",
       "</style>\n",
       "<table border=\"1\" class=\"dataframe\">\n",
       "  <thead>\n",
       "    <tr style=\"text-align: right;\">\n",
       "      <th></th>\n",
       "      <th>children</th>\n",
       "      <th>days_employed</th>\n",
       "      <th>dob_years</th>\n",
       "      <th>education</th>\n",
       "      <th>education_id</th>\n",
       "      <th>family_status</th>\n",
       "      <th>family_status_id</th>\n",
       "      <th>gender</th>\n",
       "      <th>income_type</th>\n",
       "      <th>debt</th>\n",
       "      <th>total_income</th>\n",
       "      <th>purpose</th>\n",
       "    </tr>\n",
       "  </thead>\n",
       "  <tbody>\n",
       "    <tr>\n",
       "      <th>0</th>\n",
       "      <td>1</td>\n",
       "      <td>-8437.673028</td>\n",
       "      <td>42</td>\n",
       "      <td>высшее</td>\n",
       "      <td>0</td>\n",
       "      <td>женат / замужем</td>\n",
       "      <td>0</td>\n",
       "      <td>F</td>\n",
       "      <td>сотрудник</td>\n",
       "      <td>0</td>\n",
       "      <td>253875.639453</td>\n",
       "      <td>покупка жилья</td>\n",
       "    </tr>\n",
       "    <tr>\n",
       "      <th>1</th>\n",
       "      <td>1</td>\n",
       "      <td>-4024.803754</td>\n",
       "      <td>36</td>\n",
       "      <td>среднее</td>\n",
       "      <td>1</td>\n",
       "      <td>женат / замужем</td>\n",
       "      <td>0</td>\n",
       "      <td>F</td>\n",
       "      <td>сотрудник</td>\n",
       "      <td>0</td>\n",
       "      <td>112080.014102</td>\n",
       "      <td>приобретение автомобиля</td>\n",
       "    </tr>\n",
       "    <tr>\n",
       "      <th>2</th>\n",
       "      <td>0</td>\n",
       "      <td>-5623.422610</td>\n",
       "      <td>33</td>\n",
       "      <td>Среднее</td>\n",
       "      <td>1</td>\n",
       "      <td>женат / замужем</td>\n",
       "      <td>0</td>\n",
       "      <td>M</td>\n",
       "      <td>сотрудник</td>\n",
       "      <td>0</td>\n",
       "      <td>145885.952297</td>\n",
       "      <td>покупка жилья</td>\n",
       "    </tr>\n",
       "    <tr>\n",
       "      <th>3</th>\n",
       "      <td>3</td>\n",
       "      <td>-4124.747207</td>\n",
       "      <td>32</td>\n",
       "      <td>среднее</td>\n",
       "      <td>1</td>\n",
       "      <td>женат / замужем</td>\n",
       "      <td>0</td>\n",
       "      <td>M</td>\n",
       "      <td>сотрудник</td>\n",
       "      <td>0</td>\n",
       "      <td>267628.550329</td>\n",
       "      <td>дополнительное образование</td>\n",
       "    </tr>\n",
       "    <tr>\n",
       "      <th>4</th>\n",
       "      <td>0</td>\n",
       "      <td>340266.072047</td>\n",
       "      <td>53</td>\n",
       "      <td>среднее</td>\n",
       "      <td>1</td>\n",
       "      <td>гражданский брак</td>\n",
       "      <td>1</td>\n",
       "      <td>F</td>\n",
       "      <td>пенсионер</td>\n",
       "      <td>0</td>\n",
       "      <td>158616.077870</td>\n",
       "      <td>сыграть свадьбу</td>\n",
       "    </tr>\n",
       "    <tr>\n",
       "      <th>5</th>\n",
       "      <td>0</td>\n",
       "      <td>-926.185831</td>\n",
       "      <td>27</td>\n",
       "      <td>высшее</td>\n",
       "      <td>0</td>\n",
       "      <td>гражданский брак</td>\n",
       "      <td>1</td>\n",
       "      <td>M</td>\n",
       "      <td>компаньон</td>\n",
       "      <td>0</td>\n",
       "      <td>255763.565419</td>\n",
       "      <td>покупка жилья</td>\n",
       "    </tr>\n",
       "    <tr>\n",
       "      <th>6</th>\n",
       "      <td>0</td>\n",
       "      <td>-2879.202052</td>\n",
       "      <td>43</td>\n",
       "      <td>высшее</td>\n",
       "      <td>0</td>\n",
       "      <td>женат / замужем</td>\n",
       "      <td>0</td>\n",
       "      <td>F</td>\n",
       "      <td>компаньон</td>\n",
       "      <td>0</td>\n",
       "      <td>240525.971920</td>\n",
       "      <td>операции с жильем</td>\n",
       "    </tr>\n",
       "    <tr>\n",
       "      <th>7</th>\n",
       "      <td>0</td>\n",
       "      <td>-152.779569</td>\n",
       "      <td>50</td>\n",
       "      <td>СРЕДНЕЕ</td>\n",
       "      <td>1</td>\n",
       "      <td>женат / замужем</td>\n",
       "      <td>0</td>\n",
       "      <td>M</td>\n",
       "      <td>сотрудник</td>\n",
       "      <td>0</td>\n",
       "      <td>135823.934197</td>\n",
       "      <td>образование</td>\n",
       "    </tr>\n",
       "    <tr>\n",
       "      <th>8</th>\n",
       "      <td>2</td>\n",
       "      <td>-6929.865299</td>\n",
       "      <td>35</td>\n",
       "      <td>ВЫСШЕЕ</td>\n",
       "      <td>0</td>\n",
       "      <td>гражданский брак</td>\n",
       "      <td>1</td>\n",
       "      <td>F</td>\n",
       "      <td>сотрудник</td>\n",
       "      <td>0</td>\n",
       "      <td>95856.832424</td>\n",
       "      <td>на проведение свадьбы</td>\n",
       "    </tr>\n",
       "    <tr>\n",
       "      <th>9</th>\n",
       "      <td>0</td>\n",
       "      <td>-2188.756445</td>\n",
       "      <td>41</td>\n",
       "      <td>среднее</td>\n",
       "      <td>1</td>\n",
       "      <td>женат / замужем</td>\n",
       "      <td>0</td>\n",
       "      <td>M</td>\n",
       "      <td>сотрудник</td>\n",
       "      <td>0</td>\n",
       "      <td>144425.938277</td>\n",
       "      <td>покупка жилья для семьи</td>\n",
       "    </tr>\n",
       "    <tr>\n",
       "      <th>10</th>\n",
       "      <td>2</td>\n",
       "      <td>-4171.483647</td>\n",
       "      <td>36</td>\n",
       "      <td>высшее</td>\n",
       "      <td>0</td>\n",
       "      <td>женат / замужем</td>\n",
       "      <td>0</td>\n",
       "      <td>M</td>\n",
       "      <td>компаньон</td>\n",
       "      <td>0</td>\n",
       "      <td>113943.491460</td>\n",
       "      <td>покупка недвижимости</td>\n",
       "    </tr>\n",
       "    <tr>\n",
       "      <th>11</th>\n",
       "      <td>0</td>\n",
       "      <td>-792.701887</td>\n",
       "      <td>40</td>\n",
       "      <td>среднее</td>\n",
       "      <td>1</td>\n",
       "      <td>женат / замужем</td>\n",
       "      <td>0</td>\n",
       "      <td>F</td>\n",
       "      <td>сотрудник</td>\n",
       "      <td>0</td>\n",
       "      <td>77069.234271</td>\n",
       "      <td>покупка коммерческой недвижимости</td>\n",
       "    </tr>\n",
       "    <tr>\n",
       "      <th>12</th>\n",
       "      <td>0</td>\n",
       "      <td>NaN</td>\n",
       "      <td>65</td>\n",
       "      <td>среднее</td>\n",
       "      <td>1</td>\n",
       "      <td>гражданский брак</td>\n",
       "      <td>1</td>\n",
       "      <td>M</td>\n",
       "      <td>пенсионер</td>\n",
       "      <td>0</td>\n",
       "      <td>NaN</td>\n",
       "      <td>сыграть свадьбу</td>\n",
       "    </tr>\n",
       "    <tr>\n",
       "      <th>13</th>\n",
       "      <td>0</td>\n",
       "      <td>-1846.641941</td>\n",
       "      <td>54</td>\n",
       "      <td>неоконченное высшее</td>\n",
       "      <td>2</td>\n",
       "      <td>женат / замужем</td>\n",
       "      <td>0</td>\n",
       "      <td>F</td>\n",
       "      <td>сотрудник</td>\n",
       "      <td>0</td>\n",
       "      <td>130458.228857</td>\n",
       "      <td>приобретение автомобиля</td>\n",
       "    </tr>\n",
       "    <tr>\n",
       "      <th>14</th>\n",
       "      <td>0</td>\n",
       "      <td>-1844.956182</td>\n",
       "      <td>56</td>\n",
       "      <td>высшее</td>\n",
       "      <td>0</td>\n",
       "      <td>гражданский брак</td>\n",
       "      <td>1</td>\n",
       "      <td>F</td>\n",
       "      <td>компаньон</td>\n",
       "      <td>1</td>\n",
       "      <td>165127.911772</td>\n",
       "      <td>покупка жилой недвижимости</td>\n",
       "    </tr>\n",
       "    <tr>\n",
       "      <th>15</th>\n",
       "      <td>1</td>\n",
       "      <td>-972.364419</td>\n",
       "      <td>26</td>\n",
       "      <td>среднее</td>\n",
       "      <td>1</td>\n",
       "      <td>женат / замужем</td>\n",
       "      <td>0</td>\n",
       "      <td>F</td>\n",
       "      <td>сотрудник</td>\n",
       "      <td>0</td>\n",
       "      <td>116820.904450</td>\n",
       "      <td>строительство собственной недвижимости</td>\n",
       "    </tr>\n",
       "    <tr>\n",
       "      <th>16</th>\n",
       "      <td>0</td>\n",
       "      <td>-1719.934226</td>\n",
       "      <td>35</td>\n",
       "      <td>среднее</td>\n",
       "      <td>1</td>\n",
       "      <td>женат / замужем</td>\n",
       "      <td>0</td>\n",
       "      <td>F</td>\n",
       "      <td>сотрудник</td>\n",
       "      <td>0</td>\n",
       "      <td>289202.704229</td>\n",
       "      <td>недвижимость</td>\n",
       "    </tr>\n",
       "    <tr>\n",
       "      <th>17</th>\n",
       "      <td>0</td>\n",
       "      <td>-2369.999720</td>\n",
       "      <td>33</td>\n",
       "      <td>высшее</td>\n",
       "      <td>0</td>\n",
       "      <td>гражданский брак</td>\n",
       "      <td>1</td>\n",
       "      <td>M</td>\n",
       "      <td>сотрудник</td>\n",
       "      <td>0</td>\n",
       "      <td>90410.586745</td>\n",
       "      <td>строительство недвижимости</td>\n",
       "    </tr>\n",
       "    <tr>\n",
       "      <th>18</th>\n",
       "      <td>0</td>\n",
       "      <td>400281.136913</td>\n",
       "      <td>53</td>\n",
       "      <td>среднее</td>\n",
       "      <td>1</td>\n",
       "      <td>вдовец / вдова</td>\n",
       "      <td>2</td>\n",
       "      <td>F</td>\n",
       "      <td>пенсионер</td>\n",
       "      <td>0</td>\n",
       "      <td>56823.777243</td>\n",
       "      <td>на покупку подержанного автомобиля</td>\n",
       "    </tr>\n",
       "    <tr>\n",
       "      <th>19</th>\n",
       "      <td>0</td>\n",
       "      <td>-10038.818549</td>\n",
       "      <td>48</td>\n",
       "      <td>СРЕДНЕЕ</td>\n",
       "      <td>1</td>\n",
       "      <td>в разводе</td>\n",
       "      <td>3</td>\n",
       "      <td>F</td>\n",
       "      <td>сотрудник</td>\n",
       "      <td>0</td>\n",
       "      <td>242831.107982</td>\n",
       "      <td>на покупку своего автомобиля</td>\n",
       "    </tr>\n",
       "  </tbody>\n",
       "</table>\n",
       "</div>"
      ],
      "text/plain": [
       "    children  days_employed  dob_years            education  education_id  \\\n",
       "0          1   -8437.673028         42               высшее             0   \n",
       "1          1   -4024.803754         36              среднее             1   \n",
       "2          0   -5623.422610         33              Среднее             1   \n",
       "3          3   -4124.747207         32              среднее             1   \n",
       "4          0  340266.072047         53              среднее             1   \n",
       "5          0    -926.185831         27               высшее             0   \n",
       "6          0   -2879.202052         43               высшее             0   \n",
       "7          0    -152.779569         50              СРЕДНЕЕ             1   \n",
       "8          2   -6929.865299         35               ВЫСШЕЕ             0   \n",
       "9          0   -2188.756445         41              среднее             1   \n",
       "10         2   -4171.483647         36               высшее             0   \n",
       "11         0    -792.701887         40              среднее             1   \n",
       "12         0            NaN         65              среднее             1   \n",
       "13         0   -1846.641941         54  неоконченное высшее             2   \n",
       "14         0   -1844.956182         56               высшее             0   \n",
       "15         1    -972.364419         26              среднее             1   \n",
       "16         0   -1719.934226         35              среднее             1   \n",
       "17         0   -2369.999720         33               высшее             0   \n",
       "18         0  400281.136913         53              среднее             1   \n",
       "19         0  -10038.818549         48              СРЕДНЕЕ             1   \n",
       "\n",
       "       family_status  family_status_id gender income_type  debt  \\\n",
       "0    женат / замужем                 0      F   сотрудник     0   \n",
       "1    женат / замужем                 0      F   сотрудник     0   \n",
       "2    женат / замужем                 0      M   сотрудник     0   \n",
       "3    женат / замужем                 0      M   сотрудник     0   \n",
       "4   гражданский брак                 1      F   пенсионер     0   \n",
       "5   гражданский брак                 1      M   компаньон     0   \n",
       "6    женат / замужем                 0      F   компаньон     0   \n",
       "7    женат / замужем                 0      M   сотрудник     0   \n",
       "8   гражданский брак                 1      F   сотрудник     0   \n",
       "9    женат / замужем                 0      M   сотрудник     0   \n",
       "10   женат / замужем                 0      M   компаньон     0   \n",
       "11   женат / замужем                 0      F   сотрудник     0   \n",
       "12  гражданский брак                 1      M   пенсионер     0   \n",
       "13   женат / замужем                 0      F   сотрудник     0   \n",
       "14  гражданский брак                 1      F   компаньон     1   \n",
       "15   женат / замужем                 0      F   сотрудник     0   \n",
       "16   женат / замужем                 0      F   сотрудник     0   \n",
       "17  гражданский брак                 1      M   сотрудник     0   \n",
       "18    вдовец / вдова                 2      F   пенсионер     0   \n",
       "19         в разводе                 3      F   сотрудник     0   \n",
       "\n",
       "     total_income                                 purpose  \n",
       "0   253875.639453                           покупка жилья  \n",
       "1   112080.014102                 приобретение автомобиля  \n",
       "2   145885.952297                           покупка жилья  \n",
       "3   267628.550329              дополнительное образование  \n",
       "4   158616.077870                         сыграть свадьбу  \n",
       "5   255763.565419                           покупка жилья  \n",
       "6   240525.971920                       операции с жильем  \n",
       "7   135823.934197                             образование  \n",
       "8    95856.832424                   на проведение свадьбы  \n",
       "9   144425.938277                 покупка жилья для семьи  \n",
       "10  113943.491460                    покупка недвижимости  \n",
       "11   77069.234271       покупка коммерческой недвижимости  \n",
       "12            NaN                         сыграть свадьбу  \n",
       "13  130458.228857                 приобретение автомобиля  \n",
       "14  165127.911772              покупка жилой недвижимости  \n",
       "15  116820.904450  строительство собственной недвижимости  \n",
       "16  289202.704229                            недвижимость  \n",
       "17   90410.586745              строительство недвижимости  \n",
       "18   56823.777243      на покупку подержанного автомобиля  \n",
       "19  242831.107982            на покупку своего автомобиля  "
      ]
     },
     "execution_count": 44,
     "metadata": {},
     "output_type": "execute_result"
    }
   ],
   "source": [
    "data.head(20)"
   ]
  },
  {
   "cell_type": "code",
   "execution_count": 45,
   "id": "feb42c6d",
   "metadata": {
    "deletable": false,
    "id": "2b757bca",
    "outputId": "15376089-8dad-46c9-b520-c05248d43158"
   },
   "outputs": [
    {
     "name": "stdout",
     "output_type": "stream",
     "text": [
      "<class 'pandas.core.frame.DataFrame'>\n",
      "RangeIndex: 21525 entries, 0 to 21524\n",
      "Data columns (total 12 columns):\n",
      " #   Column            Non-Null Count  Dtype  \n",
      "---  ------            --------------  -----  \n",
      " 0   children          21525 non-null  int64  \n",
      " 1   days_employed     19351 non-null  float64\n",
      " 2   dob_years         21525 non-null  int64  \n",
      " 3   education         21525 non-null  object \n",
      " 4   education_id      21525 non-null  int64  \n",
      " 5   family_status     21525 non-null  object \n",
      " 6   family_status_id  21525 non-null  int64  \n",
      " 7   gender            21525 non-null  object \n",
      " 8   income_type       21525 non-null  object \n",
      " 9   debt              21525 non-null  int64  \n",
      " 10  total_income      19351 non-null  float64\n",
      " 11  purpose           21525 non-null  object \n",
      "dtypes: float64(2), int64(5), object(5)\n",
      "memory usage: 2.0+ MB\n"
     ]
    }
   ],
   "source": [
    "data.info()"
   ]
  },
  {
   "cell_type": "markdown",
   "id": "5cc89556",
   "metadata": {
    "deletable": false,
    "editable": false,
    "id": "333ec665"
   },
   "source": [
    "## Предобработка данных"
   ]
  },
  {
   "cell_type": "markdown",
   "id": "30580656",
   "metadata": {
    "deletable": false,
    "editable": false,
    "id": "02d92d53"
   },
   "source": [
    "### Удаление пропусков"
   ]
  },
  {
   "cell_type": "code",
   "execution_count": 46,
   "id": "b00a0587",
   "metadata": {
    "deletable": false,
    "id": "7f9b2309",
    "outputId": "81f4d817-781c-465c-ed15-91ce4446810d"
   },
   "outputs": [
    {
     "data": {
      "text/plain": [
       "children               0\n",
       "days_employed       2174\n",
       "dob_years              0\n",
       "education              0\n",
       "education_id           0\n",
       "family_status          0\n",
       "family_status_id       0\n",
       "gender                 0\n",
       "income_type            0\n",
       "debt                   0\n",
       "total_income        2174\n",
       "purpose                0\n",
       "dtype: int64"
      ]
     },
     "execution_count": 46,
     "metadata": {},
     "output_type": "execute_result"
    }
   ],
   "source": [
    "data.isna().sum()"
   ]
  },
  {
   "cell_type": "code",
   "execution_count": 47,
   "id": "58427a72",
   "metadata": {
    "deletable": false,
    "id": "42006a93"
   },
   "outputs": [],
   "source": [
    "for t in data['income_type'].unique():\n",
    "    data.loc[(data['income_type'] == t) & (data['total_income'].isna()), 'total_income'] = \\\n",
    "    data.loc[(data['income_type'] == t), 'total_income'].median()"
   ]
  },
  {
   "cell_type": "markdown",
   "id": "dd88f9ad",
   "metadata": {
    "deletable": false,
    "editable": false,
    "id": "89da5ece"
   },
   "source": [
    "### Обработка аномальных значений"
   ]
  },
  {
   "cell_type": "code",
   "execution_count": 48,
   "id": "b91881a0",
   "metadata": {
    "deletable": false,
    "id": "f6f055bf"
   },
   "outputs": [],
   "source": [
    "data['days_employed'] = data['days_employed'].abs()"
   ]
  },
  {
   "cell_type": "code",
   "execution_count": 49,
   "id": "2cf94c3a",
   "metadata": {
    "deletable": false,
    "id": "85a5faf6",
    "outputId": "801ef80e-522b-4668-f34e-565af7432bcf"
   },
   "outputs": [
    {
     "data": {
      "text/plain": [
       "income_type\n",
       "безработный        366413.652744\n",
       "в декрете            3296.759962\n",
       "госслужащий          2689.368353\n",
       "компаньон            1547.382223\n",
       "пенсионер          365213.306266\n",
       "предприниматель       520.848083\n",
       "сотрудник            1574.202821\n",
       "студент               578.751554\n",
       "Name: days_employed, dtype: float64"
      ]
     },
     "execution_count": 49,
     "metadata": {},
     "output_type": "execute_result"
    }
   ],
   "source": [
    "data.groupby('income_type')['days_employed'].agg('median')"
   ]
  },
  {
   "cell_type": "markdown",
   "id": "ba4b415b",
   "metadata": {
    "id": "38d1a030"
   },
   "source": [
    "У двух типов (безработные и пенсионеры) получатся аномально большие значения. Исправить такие значения сложно, поэтому оставим их как есть."
   ]
  },
  {
   "cell_type": "code",
   "execution_count": 50,
   "id": "72be22e5",
   "metadata": {
    "deletable": false,
    "id": "ef5056eb",
    "outputId": "6975b15c-7f95-4697-d16d-a0c79b657b03"
   },
   "outputs": [
    {
     "data": {
      "text/plain": [
       "array([ 1,  0,  3,  2, -1,  4, 20,  5])"
      ]
     },
     "execution_count": 50,
     "metadata": {},
     "output_type": "execute_result"
    }
   ],
   "source": [
    "data['children'].unique()"
   ]
  },
  {
   "cell_type": "code",
   "execution_count": 51,
   "id": "1fad98c4",
   "metadata": {
    "deletable": false,
    "id": "3ff9801d"
   },
   "outputs": [],
   "source": [
    "data = data[(data['children'] != -1) & (data['children'] != 20)]"
   ]
  },
  {
   "cell_type": "code",
   "execution_count": 52,
   "id": "a756168f",
   "metadata": {
    "deletable": false,
    "id": "ad4fa8b7",
    "outputId": "b2097101-d49d-44d9-901b-32a65c9463d1"
   },
   "outputs": [
    {
     "data": {
      "text/plain": [
       "array([1, 0, 3, 2, 4, 5])"
      ]
     },
     "execution_count": 52,
     "metadata": {},
     "output_type": "execute_result"
    }
   ],
   "source": [
    "data['children'].unique()"
   ]
  },
  {
   "cell_type": "markdown",
   "id": "33f39052",
   "metadata": {
    "deletable": false,
    "editable": false,
    "id": "75440b63"
   },
   "source": [
    "### Удаление пропусков (продолжение)"
   ]
  },
  {
   "cell_type": "code",
   "execution_count": 53,
   "id": "cf853124",
   "metadata": {
    "deletable": false,
    "id": "af6b1a7e"
   },
   "outputs": [],
   "source": [
    "for t in data['income_type'].unique():\n",
    "    data.loc[(data['income_type'] == t) & (data['days_employed'].isna()), 'days_employed'] = \\\n",
    "    data.loc[(data['income_type'] == t), 'days_employed'].median()"
   ]
  },
  {
   "cell_type": "code",
   "execution_count": 54,
   "id": "abb52538",
   "metadata": {
    "deletable": false,
    "id": "55f78bc2",
    "outputId": "8da1e4e1-358e-4e87-98c9-f261bce0a7b2"
   },
   "outputs": [
    {
     "data": {
      "text/plain": [
       "children            0\n",
       "days_employed       0\n",
       "dob_years           0\n",
       "education           0\n",
       "education_id        0\n",
       "family_status       0\n",
       "family_status_id    0\n",
       "gender              0\n",
       "income_type         0\n",
       "debt                0\n",
       "total_income        0\n",
       "purpose             0\n",
       "dtype: int64"
      ]
     },
     "execution_count": 54,
     "metadata": {},
     "output_type": "execute_result"
    }
   ],
   "source": [
    "data.isna().sum()"
   ]
  },
  {
   "cell_type": "markdown",
   "id": "a8b9f28c",
   "metadata": {
    "deletable": false,
    "editable": false,
    "id": "ddc81e43"
   },
   "source": [
    "### Изменение типов данных"
   ]
  },
  {
   "cell_type": "code",
   "execution_count": 55,
   "id": "fef5cb4b",
   "metadata": {
    "deletable": false,
    "id": "920b65ad"
   },
   "outputs": [],
   "source": [
    "data['total_income'] = data['total_income'].astype(int)"
   ]
  },
  {
   "cell_type": "markdown",
   "id": "b0b1609f",
   "metadata": {
    "deletable": false,
    "editable": false,
    "id": "80c420ba"
   },
   "source": [
    "### Обработка дубликатов"
   ]
  },
  {
   "cell_type": "code",
   "execution_count": 56,
   "id": "52433ceb",
   "metadata": {
    "deletable": false
   },
   "outputs": [],
   "source": [
    "data['education'] = data['education'].str.lower()"
   ]
  },
  {
   "cell_type": "code",
   "execution_count": 57,
   "id": "eb8dd49e",
   "metadata": {
    "deletable": false,
    "id": "3ee445e4",
    "outputId": "9684deba-1934-42d1-99e1-cda61740f822"
   },
   "outputs": [
    {
     "data": {
      "text/plain": [
       "71"
      ]
     },
     "execution_count": 57,
     "metadata": {},
     "output_type": "execute_result"
    }
   ],
   "source": [
    "data.duplicated().sum()"
   ]
  },
  {
   "cell_type": "code",
   "execution_count": 58,
   "id": "e320809c",
   "metadata": {
    "deletable": false,
    "id": "8575fe05"
   },
   "outputs": [],
   "source": [
    "data = data.drop_duplicates()"
   ]
  },
  {
   "cell_type": "markdown",
   "id": "b0c18194",
   "metadata": {
    "deletable": false,
    "editable": false,
    "id": "9904cf55"
   },
   "source": [
    "### Категоризация данных"
   ]
  },
  {
   "cell_type": "markdown",
   "id": "c96ccc45",
   "metadata": {
    "id": "72fcc8a2"
   },
   "source": [
    "На основании диапазонов, указанных ниже, создадим в датафрейме `data` столбец `total_income_category` с категориями:**\n",
    "\n",
    "- 0–30000 — `'E'`;\n",
    "- 30001–50000 — `'D'`;\n",
    "- 50001–200000 — `'C'`;\n",
    "- 200001–1000000 — `'B'`;\n",
    "- 1000001 и выше — `'A'`.\n",
    "\n",
    "\n",
    "**Например, кредитополучателю с доходом 25000 нужно назначить категорию `'E'`, а клиенту, получающему 235000, — `'B'`. Используйте собственную функцию с именем `categorize_income()` и метод `apply()`.**"
   ]
  },
  {
   "cell_type": "code",
   "execution_count": 59,
   "id": "7e3bbad1",
   "metadata": {
    "deletable": false,
    "id": "e1771346"
   },
   "outputs": [],
   "source": [
    "def categorize_income(income):\n",
    "    try:\n",
    "        if 0 <= income <= 30000:\n",
    "            return 'E'\n",
    "        elif 30001 <= income <= 50000:\n",
    "            return 'D'\n",
    "        elif 50001 <= income <= 200000:\n",
    "            return 'C'\n",
    "        elif 200001 <= income <= 1000000:\n",
    "            return 'B'\n",
    "        elif income >= 1000001:\n",
    "            return 'A'\n",
    "    except:\n",
    "        pass"
   ]
  },
  {
   "cell_type": "code",
   "execution_count": 60,
   "id": "ea87fd90",
   "metadata": {
    "deletable": false,
    "id": "d5f3586d"
   },
   "outputs": [],
   "source": [
    "data['total_income_category'] = data['total_income'].apply(categorize_income)"
   ]
  },
  {
   "cell_type": "code",
   "execution_count": 61,
   "id": "9da91ffe",
   "metadata": {
    "deletable": false,
    "id": "f67ce9b3",
    "outputId": "673c12d9-7d7e-4ae0-9812-c622c89dd244"
   },
   "outputs": [
    {
     "data": {
      "text/plain": [
       "array(['покупка жилья', 'приобретение автомобиля',\n",
       "       'дополнительное образование', 'сыграть свадьбу',\n",
       "       'операции с жильем', 'образование', 'на проведение свадьбы',\n",
       "       'покупка жилья для семьи', 'покупка недвижимости',\n",
       "       'покупка коммерческой недвижимости', 'покупка жилой недвижимости',\n",
       "       'строительство собственной недвижимости', 'недвижимость',\n",
       "       'строительство недвижимости', 'на покупку подержанного автомобиля',\n",
       "       'на покупку своего автомобиля',\n",
       "       'операции с коммерческой недвижимостью',\n",
       "       'строительство жилой недвижимости', 'жилье',\n",
       "       'операции со своей недвижимостью', 'автомобили',\n",
       "       'заняться образованием', 'сделка с подержанным автомобилем',\n",
       "       'получение образования', 'автомобиль', 'свадьба',\n",
       "       'получение дополнительного образования', 'покупка своего жилья',\n",
       "       'операции с недвижимостью', 'получение высшего образования',\n",
       "       'свой автомобиль', 'сделка с автомобилем',\n",
       "       'профильное образование', 'высшее образование',\n",
       "       'покупка жилья для сдачи', 'на покупку автомобиля', 'ремонт жилью',\n",
       "       'заняться высшим образованием'], dtype=object)"
      ]
     },
     "execution_count": 61,
     "metadata": {},
     "output_type": "execute_result"
    }
   ],
   "source": [
    "data['purpose'].unique()"
   ]
  },
  {
   "cell_type": "markdown",
   "id": "c7386f15",
   "metadata": {
    "id": "85d0aef0"
   },
   "source": [
    "Создадим функцию, которая на основании данных из столбца `purpose` сформирует новый столбец `purpose_category`, в который войдут следующие категории:**\n",
    "\n",
    "- `'операции с автомобилем'`,\n",
    "- `'операции с недвижимостью'`,\n",
    "- `'проведение свадьбы'`,\n",
    "- `'получение образования'`.\n",
    "\n"
   ]
  },
  {
   "cell_type": "code",
   "execution_count": 62,
   "id": "e5c2e1a1",
   "metadata": {
    "deletable": false,
    "id": "e149fab4"
   },
   "outputs": [],
   "source": [
    "def categorize_purpose(row):\n",
    "    try:\n",
    "        if 'автом' in row:\n",
    "            return 'операции с автомобилем'\n",
    "        elif 'жил' in row or 'недвиж' in row:\n",
    "            return 'операции с недвижимостью'\n",
    "        elif 'свад' in row:\n",
    "            return 'проведение свадьбы'\n",
    "        elif 'образов' in row:\n",
    "            return 'получение образования'\n",
    "    except:\n",
    "        return 'нет категории'"
   ]
  },
  {
   "cell_type": "code",
   "execution_count": 63,
   "id": "8b552bef",
   "metadata": {
    "deletable": false,
    "id": "bf36e69b"
   },
   "outputs": [],
   "source": [
    "data['purpose_category'] = data['purpose'].apply(categorize_purpose)"
   ]
  },
  {
   "cell_type": "markdown",
   "id": "8f680718",
   "metadata": {
    "deletable": false,
    "editable": false,
    "id": "09b242bf"
   },
   "source": [
    "### Шаг 3. Исследуйте данные и ответьте на вопросы"
   ]
  },
  {
   "cell_type": "markdown",
   "id": "abe3891a",
   "metadata": {
    "deletable": false,
    "editable": false,
    "id": "c5d66278"
   },
   "source": [
    "#### 3.1 Есть ли зависимость между количеством детей и возвратом кредита в срок?"
   ]
  },
  {
   "cell_type": "code",
   "execution_count": 64,
   "id": "9c55f877",
   "metadata": {
    "deletable": false,
    "id": "2cacfc4a"
   },
   "outputs": [
    {
     "data": {
      "text/html": [
       "<div>\n",
       "<style scoped>\n",
       "    .dataframe tbody tr th:only-of-type {\n",
       "        vertical-align: middle;\n",
       "    }\n",
       "\n",
       "    .dataframe tbody tr th {\n",
       "        vertical-align: top;\n",
       "    }\n",
       "\n",
       "    .dataframe thead th {\n",
       "        text-align: right;\n",
       "    }\n",
       "</style>\n",
       "<table border=\"1\" class=\"dataframe\">\n",
       "  <thead>\n",
       "    <tr style=\"text-align: right;\">\n",
       "      <th></th>\n",
       "      <th>children</th>\n",
       "      <th>days_employed</th>\n",
       "      <th>dob_years</th>\n",
       "      <th>education</th>\n",
       "      <th>education_id</th>\n",
       "      <th>family_status</th>\n",
       "      <th>family_status_id</th>\n",
       "      <th>gender</th>\n",
       "      <th>income_type</th>\n",
       "      <th>debt</th>\n",
       "      <th>total_income</th>\n",
       "      <th>purpose</th>\n",
       "      <th>total_income_category</th>\n",
       "      <th>purpose_category</th>\n",
       "    </tr>\n",
       "  </thead>\n",
       "  <tbody>\n",
       "    <tr>\n",
       "      <th>0</th>\n",
       "      <td>1</td>\n",
       "      <td>8437.673028</td>\n",
       "      <td>42</td>\n",
       "      <td>высшее</td>\n",
       "      <td>0</td>\n",
       "      <td>женат / замужем</td>\n",
       "      <td>0</td>\n",
       "      <td>F</td>\n",
       "      <td>сотрудник</td>\n",
       "      <td>0</td>\n",
       "      <td>253875</td>\n",
       "      <td>покупка жилья</td>\n",
       "      <td>B</td>\n",
       "      <td>операции с недвижимостью</td>\n",
       "    </tr>\n",
       "    <tr>\n",
       "      <th>1</th>\n",
       "      <td>1</td>\n",
       "      <td>4024.803754</td>\n",
       "      <td>36</td>\n",
       "      <td>среднее</td>\n",
       "      <td>1</td>\n",
       "      <td>женат / замужем</td>\n",
       "      <td>0</td>\n",
       "      <td>F</td>\n",
       "      <td>сотрудник</td>\n",
       "      <td>0</td>\n",
       "      <td>112080</td>\n",
       "      <td>приобретение автомобиля</td>\n",
       "      <td>C</td>\n",
       "      <td>операции с автомобилем</td>\n",
       "    </tr>\n",
       "    <tr>\n",
       "      <th>2</th>\n",
       "      <td>0</td>\n",
       "      <td>5623.422610</td>\n",
       "      <td>33</td>\n",
       "      <td>среднее</td>\n",
       "      <td>1</td>\n",
       "      <td>женат / замужем</td>\n",
       "      <td>0</td>\n",
       "      <td>M</td>\n",
       "      <td>сотрудник</td>\n",
       "      <td>0</td>\n",
       "      <td>145885</td>\n",
       "      <td>покупка жилья</td>\n",
       "      <td>C</td>\n",
       "      <td>операции с недвижимостью</td>\n",
       "    </tr>\n",
       "    <tr>\n",
       "      <th>3</th>\n",
       "      <td>3</td>\n",
       "      <td>4124.747207</td>\n",
       "      <td>32</td>\n",
       "      <td>среднее</td>\n",
       "      <td>1</td>\n",
       "      <td>женат / замужем</td>\n",
       "      <td>0</td>\n",
       "      <td>M</td>\n",
       "      <td>сотрудник</td>\n",
       "      <td>0</td>\n",
       "      <td>267628</td>\n",
       "      <td>дополнительное образование</td>\n",
       "      <td>B</td>\n",
       "      <td>получение образования</td>\n",
       "    </tr>\n",
       "    <tr>\n",
       "      <th>4</th>\n",
       "      <td>0</td>\n",
       "      <td>340266.072047</td>\n",
       "      <td>53</td>\n",
       "      <td>среднее</td>\n",
       "      <td>1</td>\n",
       "      <td>гражданский брак</td>\n",
       "      <td>1</td>\n",
       "      <td>F</td>\n",
       "      <td>пенсионер</td>\n",
       "      <td>0</td>\n",
       "      <td>158616</td>\n",
       "      <td>сыграть свадьбу</td>\n",
       "      <td>C</td>\n",
       "      <td>проведение свадьбы</td>\n",
       "    </tr>\n",
       "  </tbody>\n",
       "</table>\n",
       "</div>"
      ],
      "text/plain": [
       "   children  days_employed  dob_years education  education_id  \\\n",
       "0         1    8437.673028         42    высшее             0   \n",
       "1         1    4024.803754         36   среднее             1   \n",
       "2         0    5623.422610         33   среднее             1   \n",
       "3         3    4124.747207         32   среднее             1   \n",
       "4         0  340266.072047         53   среднее             1   \n",
       "\n",
       "      family_status  family_status_id gender income_type  debt  total_income  \\\n",
       "0   женат / замужем                 0      F   сотрудник     0        253875   \n",
       "1   женат / замужем                 0      F   сотрудник     0        112080   \n",
       "2   женат / замужем                 0      M   сотрудник     0        145885   \n",
       "3   женат / замужем                 0      M   сотрудник     0        267628   \n",
       "4  гражданский брак                 1      F   пенсионер     0        158616   \n",
       "\n",
       "                      purpose total_income_category          purpose_category  \n",
       "0               покупка жилья                     B  операции с недвижимостью  \n",
       "1     приобретение автомобиля                     C    операции с автомобилем  \n",
       "2               покупка жилья                     C  операции с недвижимостью  \n",
       "3  дополнительное образование                     B     получение образования  \n",
       "4             сыграть свадьбу                     C        проведение свадьбы  "
      ]
     },
     "execution_count": 64,
     "metadata": {},
     "output_type": "execute_result"
    }
   ],
   "source": [
    "data.head()"
   ]
  },
  {
   "cell_type": "code",
   "execution_count": 65,
   "id": "0a39f9e8",
   "metadata": {},
   "outputs": [
    {
     "data": {
      "text/html": [
       "<div>\n",
       "<style scoped>\n",
       "    .dataframe tbody tr th:only-of-type {\n",
       "        vertical-align: middle;\n",
       "    }\n",
       "\n",
       "    .dataframe tbody tr th {\n",
       "        vertical-align: top;\n",
       "    }\n",
       "\n",
       "    .dataframe thead th {\n",
       "        text-align: right;\n",
       "    }\n",
       "</style>\n",
       "<table border=\"1\" class=\"dataframe\">\n",
       "  <thead>\n",
       "    <tr style=\"text-align: right;\">\n",
       "      <th></th>\n",
       "      <th>Кол-во клиентов</th>\n",
       "      <th>Кол-во должников</th>\n",
       "      <th>Доля невозврата</th>\n",
       "    </tr>\n",
       "    <tr>\n",
       "      <th>children</th>\n",
       "      <th></th>\n",
       "      <th></th>\n",
       "      <th></th>\n",
       "    </tr>\n",
       "  </thead>\n",
       "  <tbody>\n",
       "    <tr>\n",
       "      <th>4</th>\n",
       "      <td>41</td>\n",
       "      <td>4</td>\n",
       "      <td>0.097561</td>\n",
       "    </tr>\n",
       "    <tr>\n",
       "      <th>2</th>\n",
       "      <td>2052</td>\n",
       "      <td>194</td>\n",
       "      <td>0.094542</td>\n",
       "    </tr>\n",
       "    <tr>\n",
       "      <th>1</th>\n",
       "      <td>4808</td>\n",
       "      <td>444</td>\n",
       "      <td>0.092346</td>\n",
       "    </tr>\n",
       "    <tr>\n",
       "      <th>3</th>\n",
       "      <td>330</td>\n",
       "      <td>27</td>\n",
       "      <td>0.081818</td>\n",
       "    </tr>\n",
       "    <tr>\n",
       "      <th>0</th>\n",
       "      <td>14091</td>\n",
       "      <td>1063</td>\n",
       "      <td>0.075438</td>\n",
       "    </tr>\n",
       "    <tr>\n",
       "      <th>5</th>\n",
       "      <td>9</td>\n",
       "      <td>0</td>\n",
       "      <td>0.000000</td>\n",
       "    </tr>\n",
       "  </tbody>\n",
       "</table>\n",
       "</div>"
      ],
      "text/plain": [
       "          Кол-во клиентов  Кол-во должников  Доля невозврата\n",
       "children                                                    \n",
       "4                      41                 4         0.097561\n",
       "2                    2052               194         0.094542\n",
       "1                    4808               444         0.092346\n",
       "3                     330                27         0.081818\n",
       "0                   14091              1063         0.075438\n",
       "5                       9                 0         0.000000"
      ]
     },
     "metadata": {},
     "output_type": "display_data"
    },
    {
     "data": {
      "image/png": "[encoded data removed]",
      "text/plain": [
       "<Figure size 1500x480 with 1 Axes>"
      ]
     },
     "metadata": {},
     "output_type": "display_data"
    }
   ],
   "source": [
    "#Написал pivot функцию с визуализацией в seaborn\n",
    "def pivot(data, index):\n",
    "    pivot = pd.pivot_table(data, values='debt', index=index, aggfunc = ['count', 'sum', 'mean'])\n",
    "    pivot.columns = ['Кол-во клиентов', 'Кол-во должников', 'Доля невозврата']\n",
    "    display(pivot.sort_values('Доля невозврата', ascending = False))\n",
    "    plt = sns.barplot(x=pivot.index, y='Доля невозврата', data=pivot)\n",
    "    plt.set(xlabel=index, ylabel='Доля невозвратов', title='Зависимость доли от категориального значения')\n",
    "    plt.figure.set_figwidth(15)\n",
    "\n",
    "    \n",
    "pivot(data, 'children')"
   ]
  },
  {
   "cell_type": "code",
   "execution_count": 66,
   "id": "a400188d",
   "metadata": {},
   "outputs": [
    {
     "data": {
      "text/html": [
       "<div>\n",
       "<style scoped>\n",
       "    .dataframe tbody tr th:only-of-type {\n",
       "        vertical-align: middle;\n",
       "    }\n",
       "\n",
       "    .dataframe tbody tr th {\n",
       "        vertical-align: top;\n",
       "    }\n",
       "\n",
       "    .dataframe thead th {\n",
       "        text-align: right;\n",
       "    }\n",
       "</style>\n",
       "<table border=\"1\" class=\"dataframe\">\n",
       "  <thead>\n",
       "    <tr style=\"text-align: right;\">\n",
       "      <th></th>\n",
       "      <th>children</th>\n",
       "      <th>days_employed</th>\n",
       "      <th>dob_years</th>\n",
       "      <th>education</th>\n",
       "      <th>education_id</th>\n",
       "      <th>family_status</th>\n",
       "      <th>family_status_id</th>\n",
       "      <th>gender</th>\n",
       "      <th>income_type</th>\n",
       "      <th>debt</th>\n",
       "      <th>total_income</th>\n",
       "      <th>purpose</th>\n",
       "      <th>total_income_category</th>\n",
       "      <th>purpose_category</th>\n",
       "    </tr>\n",
       "  </thead>\n",
       "  <tbody>\n",
       "    <tr>\n",
       "      <th>3979</th>\n",
       "      <td>5</td>\n",
       "      <td>1572.328285</td>\n",
       "      <td>42</td>\n",
       "      <td>среднее</td>\n",
       "      <td>1</td>\n",
       "      <td>гражданский брак</td>\n",
       "      <td>1</td>\n",
       "      <td>M</td>\n",
       "      <td>сотрудник</td>\n",
       "      <td>0</td>\n",
       "      <td>142594</td>\n",
       "      <td>на покупку своего автомобиля</td>\n",
       "      <td>C</td>\n",
       "      <td>операции с автомобилем</td>\n",
       "    </tr>\n",
       "    <tr>\n",
       "      <th>4397</th>\n",
       "      <td>5</td>\n",
       "      <td>3248.839837</td>\n",
       "      <td>36</td>\n",
       "      <td>среднее</td>\n",
       "      <td>1</td>\n",
       "      <td>женат / замужем</td>\n",
       "      <td>0</td>\n",
       "      <td>F</td>\n",
       "      <td>компаньон</td>\n",
       "      <td>0</td>\n",
       "      <td>168460</td>\n",
       "      <td>операции с недвижимостью</td>\n",
       "      <td>C</td>\n",
       "      <td>операции с недвижимостью</td>\n",
       "    </tr>\n",
       "    <tr>\n",
       "      <th>7866</th>\n",
       "      <td>5</td>\n",
       "      <td>773.124856</td>\n",
       "      <td>36</td>\n",
       "      <td>среднее</td>\n",
       "      <td>1</td>\n",
       "      <td>женат / замужем</td>\n",
       "      <td>0</td>\n",
       "      <td>F</td>\n",
       "      <td>сотрудник</td>\n",
       "      <td>0</td>\n",
       "      <td>48772</td>\n",
       "      <td>операции с жильем</td>\n",
       "      <td>D</td>\n",
       "      <td>операции с недвижимостью</td>\n",
       "    </tr>\n",
       "    <tr>\n",
       "      <th>15822</th>\n",
       "      <td>5</td>\n",
       "      <td>418.199982</td>\n",
       "      <td>31</td>\n",
       "      <td>среднее</td>\n",
       "      <td>1</td>\n",
       "      <td>женат / замужем</td>\n",
       "      <td>0</td>\n",
       "      <td>F</td>\n",
       "      <td>сотрудник</td>\n",
       "      <td>0</td>\n",
       "      <td>77552</td>\n",
       "      <td>сделка с подержанным автомобилем</td>\n",
       "      <td>C</td>\n",
       "      <td>операции с автомобилем</td>\n",
       "    </tr>\n",
       "    <tr>\n",
       "      <th>15916</th>\n",
       "      <td>5</td>\n",
       "      <td>2286.262752</td>\n",
       "      <td>37</td>\n",
       "      <td>среднее</td>\n",
       "      <td>1</td>\n",
       "      <td>женат / замужем</td>\n",
       "      <td>0</td>\n",
       "      <td>F</td>\n",
       "      <td>сотрудник</td>\n",
       "      <td>0</td>\n",
       "      <td>256698</td>\n",
       "      <td>покупка недвижимости</td>\n",
       "      <td>B</td>\n",
       "      <td>операции с недвижимостью</td>\n",
       "    </tr>\n",
       "    <tr>\n",
       "      <th>16211</th>\n",
       "      <td>5</td>\n",
       "      <td>387.317579</td>\n",
       "      <td>35</td>\n",
       "      <td>среднее</td>\n",
       "      <td>1</td>\n",
       "      <td>гражданский брак</td>\n",
       "      <td>1</td>\n",
       "      <td>F</td>\n",
       "      <td>госслужащий</td>\n",
       "      <td>0</td>\n",
       "      <td>126102</td>\n",
       "      <td>на проведение свадьбы</td>\n",
       "      <td>C</td>\n",
       "      <td>проведение свадьбы</td>\n",
       "    </tr>\n",
       "    <tr>\n",
       "      <th>20452</th>\n",
       "      <td>5</td>\n",
       "      <td>268.425464</td>\n",
       "      <td>38</td>\n",
       "      <td>начальное</td>\n",
       "      <td>3</td>\n",
       "      <td>женат / замужем</td>\n",
       "      <td>0</td>\n",
       "      <td>F</td>\n",
       "      <td>сотрудник</td>\n",
       "      <td>0</td>\n",
       "      <td>212545</td>\n",
       "      <td>заняться высшим образованием</td>\n",
       "      <td>B</td>\n",
       "      <td>получение образования</td>\n",
       "    </tr>\n",
       "    <tr>\n",
       "      <th>20837</th>\n",
       "      <td>5</td>\n",
       "      <td>2386.600221</td>\n",
       "      <td>35</td>\n",
       "      <td>среднее</td>\n",
       "      <td>1</td>\n",
       "      <td>женат / замужем</td>\n",
       "      <td>0</td>\n",
       "      <td>F</td>\n",
       "      <td>компаньон</td>\n",
       "      <td>0</td>\n",
       "      <td>204241</td>\n",
       "      <td>жилье</td>\n",
       "      <td>B</td>\n",
       "      <td>операции с недвижимостью</td>\n",
       "    </tr>\n",
       "    <tr>\n",
       "      <th>21156</th>\n",
       "      <td>5</td>\n",
       "      <td>1690.018117</td>\n",
       "      <td>59</td>\n",
       "      <td>среднее</td>\n",
       "      <td>1</td>\n",
       "      <td>женат / замужем</td>\n",
       "      <td>0</td>\n",
       "      <td>M</td>\n",
       "      <td>сотрудник</td>\n",
       "      <td>0</td>\n",
       "      <td>269068</td>\n",
       "      <td>операции со своей недвижимостью</td>\n",
       "      <td>B</td>\n",
       "      <td>операции с недвижимостью</td>\n",
       "    </tr>\n",
       "  </tbody>\n",
       "</table>\n",
       "</div>"
      ],
      "text/plain": [
       "       children  days_employed  dob_years  education  education_id  \\\n",
       "3979          5    1572.328285         42    среднее             1   \n",
       "4397          5    3248.839837         36    среднее             1   \n",
       "7866          5     773.124856         36    среднее             1   \n",
       "15822         5     418.199982         31    среднее             1   \n",
       "15916         5    2286.262752         37    среднее             1   \n",
       "16211         5     387.317579         35    среднее             1   \n",
       "20452         5     268.425464         38  начальное             3   \n",
       "20837         5    2386.600221         35    среднее             1   \n",
       "21156         5    1690.018117         59    среднее             1   \n",
       "\n",
       "          family_status  family_status_id gender  income_type  debt  \\\n",
       "3979   гражданский брак                 1      M    сотрудник     0   \n",
       "4397    женат / замужем                 0      F    компаньон     0   \n",
       "7866    женат / замужем                 0      F    сотрудник     0   \n",
       "15822   женат / замужем                 0      F    сотрудник     0   \n",
       "15916   женат / замужем                 0      F    сотрудник     0   \n",
       "16211  гражданский брак                 1      F  госслужащий     0   \n",
       "20452   женат / замужем                 0      F    сотрудник     0   \n",
       "20837   женат / замужем                 0      F    компаньон     0   \n",
       "21156   женат / замужем                 0      M    сотрудник     0   \n",
       "\n",
       "       total_income                           purpose total_income_category  \\\n",
       "3979         142594      на покупку своего автомобиля                     C   \n",
       "4397         168460          операции с недвижимостью                     C   \n",
       "7866          48772                 операции с жильем                     D   \n",
       "15822         77552  сделка с подержанным автомобилем                     C   \n",
       "15916        256698              покупка недвижимости                     B   \n",
       "16211        126102             на проведение свадьбы                     C   \n",
       "20452        212545      заняться высшим образованием                     B   \n",
       "20837        204241                             жилье                     B   \n",
       "21156        269068   операции со своей недвижимостью                     B   \n",
       "\n",
       "               purpose_category  \n",
       "3979     операции с автомобилем  \n",
       "4397   операции с недвижимостью  \n",
       "7866   операции с недвижимостью  \n",
       "15822    операции с автомобилем  \n",
       "15916  операции с недвижимостью  \n",
       "16211        проведение свадьбы  \n",
       "20452     получение образования  \n",
       "20837  операции с недвижимостью  \n",
       "21156  операции с недвижимостью  "
      ]
     },
     "metadata": {},
     "output_type": "display_data"
    }
   ],
   "source": [
    "display(data.loc[data['children'] == 5])\n",
    "#Клиентов с пятью детьми мало, их можно не учитывать в общей статистике, \n",
    "#а отсутствие задолженностей может быть простым совпадением"
   ]
  },
  {
   "cell_type": "markdown",
   "id": "a6f9302a",
   "metadata": {
    "deletable": false,
    "id": "3a6b99ec"
   },
   "source": [
    "**Вывод:** Клиенты без детей в среднем имеют меньше задолженностей по кредитам"
   ]
  },
  {
   "cell_type": "markdown",
   "id": "a8a08bee",
   "metadata": {
    "deletable": false,
    "editable": false,
    "id": "97be82ca"
   },
   "source": [
    "#### 3.2 Есть ли зависимость между семейным положением и возвратом кредита в срок?"
   ]
  },
  {
   "cell_type": "code",
   "execution_count": 67,
   "id": "e29ef03b",
   "metadata": {
    "deletable": false,
    "id": "dc3f7ee8"
   },
   "outputs": [
    {
     "data": {
      "text/html": [
       "<div>\n",
       "<style scoped>\n",
       "    .dataframe tbody tr th:only-of-type {\n",
       "        vertical-align: middle;\n",
       "    }\n",
       "\n",
       "    .dataframe tbody tr th {\n",
       "        vertical-align: top;\n",
       "    }\n",
       "\n",
       "    .dataframe thead th {\n",
       "        text-align: right;\n",
       "    }\n",
       "</style>\n",
       "<table border=\"1\" class=\"dataframe\">\n",
       "  <thead>\n",
       "    <tr style=\"text-align: right;\">\n",
       "      <th></th>\n",
       "      <th>Кол-во клиентов</th>\n",
       "      <th>Кол-во должников</th>\n",
       "      <th>Доля невозврата</th>\n",
       "    </tr>\n",
       "    <tr>\n",
       "      <th>family_status</th>\n",
       "      <th></th>\n",
       "      <th></th>\n",
       "      <th></th>\n",
       "    </tr>\n",
       "  </thead>\n",
       "  <tbody>\n",
       "    <tr>\n",
       "      <th>Не женат / не замужем</th>\n",
       "      <td>2796</td>\n",
       "      <td>273</td>\n",
       "      <td>0.097639</td>\n",
       "    </tr>\n",
       "    <tr>\n",
       "      <th>гражданский брак</th>\n",
       "      <td>4134</td>\n",
       "      <td>385</td>\n",
       "      <td>0.093130</td>\n",
       "    </tr>\n",
       "    <tr>\n",
       "      <th>женат / замужем</th>\n",
       "      <td>12261</td>\n",
       "      <td>927</td>\n",
       "      <td>0.075606</td>\n",
       "    </tr>\n",
       "    <tr>\n",
       "      <th>в разводе</th>\n",
       "      <td>1189</td>\n",
       "      <td>84</td>\n",
       "      <td>0.070648</td>\n",
       "    </tr>\n",
       "    <tr>\n",
       "      <th>вдовец / вдова</th>\n",
       "      <td>951</td>\n",
       "      <td>63</td>\n",
       "      <td>0.066246</td>\n",
       "    </tr>\n",
       "  </tbody>\n",
       "</table>\n",
       "</div>"
      ],
      "text/plain": [
       "                       Кол-во клиентов  Кол-во должников  Доля невозврата\n",
       "family_status                                                            \n",
       "Не женат / не замужем             2796               273         0.097639\n",
       "гражданский брак                  4134               385         0.093130\n",
       "женат / замужем                  12261               927         0.075606\n",
       "в разводе                         1189                84         0.070648\n",
       "вдовец / вдова                     951                63         0.066246"
      ]
     },
     "metadata": {},
     "output_type": "display_data"
    },
    {
     "data": {
      "image/png": "[encoded data removed]",
      "text/plain": [
       "<Figure size 1500x480 with 1 Axes>"
      ]
     },
     "metadata": {},
     "output_type": "display_data"
    }
   ],
   "source": [
    "pivot(data, 'family_status')"
   ]
  },
  {
   "cell_type": "markdown",
   "id": "c92878b8",
   "metadata": {
    "deletable": false,
    "id": "1cef7837"
   },
   "source": [
    "**Вывод:** Наименьшую среднюю задолженность имеют клиенты в разводе и вдовцы. Наибольшую - не состоящие в браке клиенты."
   ]
  },
  {
   "cell_type": "markdown",
   "id": "06587d68",
   "metadata": {
    "deletable": false,
    "editable": false,
    "id": "1e8b2fca"
   },
   "source": [
    "#### 3.3 Есть ли зависимость между уровнем дохода и возвратом кредита в срок?"
   ]
  },
  {
   "cell_type": "code",
   "execution_count": 68,
   "id": "3ae99b96",
   "metadata": {
    "deletable": false,
    "id": "cd7e3720"
   },
   "outputs": [
    {
     "data": {
      "text/html": [
       "<div>\n",
       "<style scoped>\n",
       "    .dataframe tbody tr th:only-of-type {\n",
       "        vertical-align: middle;\n",
       "    }\n",
       "\n",
       "    .dataframe tbody tr th {\n",
       "        vertical-align: top;\n",
       "    }\n",
       "\n",
       "    .dataframe thead th {\n",
       "        text-align: right;\n",
       "    }\n",
       "</style>\n",
       "<table border=\"1\" class=\"dataframe\">\n",
       "  <thead>\n",
       "    <tr style=\"text-align: right;\">\n",
       "      <th></th>\n",
       "      <th>Кол-во клиентов</th>\n",
       "      <th>Кол-во должников</th>\n",
       "      <th>Доля невозврата</th>\n",
       "    </tr>\n",
       "    <tr>\n",
       "      <th>total_income_category</th>\n",
       "      <th></th>\n",
       "      <th></th>\n",
       "      <th></th>\n",
       "    </tr>\n",
       "  </thead>\n",
       "  <tbody>\n",
       "    <tr>\n",
       "      <th>E</th>\n",
       "      <td>22</td>\n",
       "      <td>2</td>\n",
       "      <td>0.090909</td>\n",
       "    </tr>\n",
       "    <tr>\n",
       "      <th>C</th>\n",
       "      <td>15921</td>\n",
       "      <td>1353</td>\n",
       "      <td>0.084982</td>\n",
       "    </tr>\n",
       "    <tr>\n",
       "      <th>A</th>\n",
       "      <td>25</td>\n",
       "      <td>2</td>\n",
       "      <td>0.080000</td>\n",
       "    </tr>\n",
       "    <tr>\n",
       "      <th>B</th>\n",
       "      <td>5014</td>\n",
       "      <td>354</td>\n",
       "      <td>0.070602</td>\n",
       "    </tr>\n",
       "    <tr>\n",
       "      <th>D</th>\n",
       "      <td>349</td>\n",
       "      <td>21</td>\n",
       "      <td>0.060172</td>\n",
       "    </tr>\n",
       "  </tbody>\n",
       "</table>\n",
       "</div>"
      ],
      "text/plain": [
       "                       Кол-во клиентов  Кол-во должников  Доля невозврата\n",
       "total_income_category                                                    \n",
       "E                                   22                 2         0.090909\n",
       "C                                15921              1353         0.084982\n",
       "A                                   25                 2         0.080000\n",
       "B                                 5014               354         0.070602\n",
       "D                                  349                21         0.060172"
      ]
     },
     "metadata": {},
     "output_type": "display_data"
    },
    {
     "data": {
      "image/png": "[encoded data removed]",
      "text/plain": [
       "<Figure size 1500x480 with 1 Axes>"
      ]
     },
     "metadata": {},
     "output_type": "display_data"
    }
   ],
   "source": [
    "pivot(data, 'total_income_category')"
   ]
  },
  {
   "cell_type": "markdown",
   "id": "110cfa52",
   "metadata": {
    "deletable": false,
    "id": "e8593def"
   },
   "source": [
    "**Вывод:** Среди двух самых крупных категорий - B и C, средняя задолженность категории B ниже"
   ]
  },
  {
   "cell_type": "markdown",
   "id": "597513c1",
   "metadata": {
    "deletable": false,
    "editable": false,
    "id": "99ecbd1f"
   },
   "source": [
    "#### 3.4 Как разные цели кредита влияют на его возврат в срок?"
   ]
  },
  {
   "cell_type": "code",
   "execution_count": 69,
   "id": "15cc74eb",
   "metadata": {
    "deletable": false,
    "id": "2b687290"
   },
   "outputs": [
    {
     "data": {
      "text/html": [
       "<div>\n",
       "<style scoped>\n",
       "    .dataframe tbody tr th:only-of-type {\n",
       "        vertical-align: middle;\n",
       "    }\n",
       "\n",
       "    .dataframe tbody tr th {\n",
       "        vertical-align: top;\n",
       "    }\n",
       "\n",
       "    .dataframe thead th {\n",
       "        text-align: right;\n",
       "    }\n",
       "</style>\n",
       "<table border=\"1\" class=\"dataframe\">\n",
       "  <thead>\n",
       "    <tr style=\"text-align: right;\">\n",
       "      <th></th>\n",
       "      <th>Кол-во клиентов</th>\n",
       "      <th>Кол-во должников</th>\n",
       "      <th>Доля невозврата</th>\n",
       "    </tr>\n",
       "    <tr>\n",
       "      <th>purpose_category</th>\n",
       "      <th></th>\n",
       "      <th></th>\n",
       "      <th></th>\n",
       "    </tr>\n",
       "  </thead>\n",
       "  <tbody>\n",
       "    <tr>\n",
       "      <th>операции с автомобилем</th>\n",
       "      <td>4279</td>\n",
       "      <td>400</td>\n",
       "      <td>0.093480</td>\n",
       "    </tr>\n",
       "    <tr>\n",
       "      <th>получение образования</th>\n",
       "      <td>3988</td>\n",
       "      <td>369</td>\n",
       "      <td>0.092528</td>\n",
       "    </tr>\n",
       "    <tr>\n",
       "      <th>проведение свадьбы</th>\n",
       "      <td>2313</td>\n",
       "      <td>183</td>\n",
       "      <td>0.079118</td>\n",
       "    </tr>\n",
       "    <tr>\n",
       "      <th>операции с недвижимостью</th>\n",
       "      <td>10751</td>\n",
       "      <td>780</td>\n",
       "      <td>0.072551</td>\n",
       "    </tr>\n",
       "  </tbody>\n",
       "</table>\n",
       "</div>"
      ],
      "text/plain": [
       "                          Кол-во клиентов  Кол-во должников  Доля невозврата\n",
       "purpose_category                                                            \n",
       "операции с автомобилем               4279               400         0.093480\n",
       "получение образования                3988               369         0.092528\n",
       "проведение свадьбы                   2313               183         0.079118\n",
       "операции с недвижимостью            10751               780         0.072551"
      ]
     },
     "metadata": {},
     "output_type": "display_data"
    },
    {
     "data": {
      "image/png": "[encoded data removed]",
      "text/plain": [
       "<Figure size 1500x480 with 1 Axes>"
      ]
     },
     "metadata": {},
     "output_type": "display_data"
    }
   ],
   "source": [
    "pivot(data, 'purpose_category')"
   ]
  },
  {
   "cell_type": "markdown",
   "id": "725d8090",
   "metadata": {
    "deletable": false,
    "id": "b4bb2ce6"
   },
   "source": [
    "**Вывод:** Для автокредитов и образовательных кредитов уровень средней задолженности выше, чем для кредитов на проведение свадьбы и операции с недвижимостью"
   ]
  },
  {
   "cell_type": "markdown",
   "id": "111bc7e8",
   "metadata": {
    "deletable": false,
    "editable": false,
    "id": "09c3ac4c"
   },
   "source": [
    "#### 3.5 Приведите возможные причины появления пропусков в исходных данных."
   ]
  },
  {
   "cell_type": "markdown",
   "id": "d1c33f0e",
   "metadata": {
    "deletable": false,
    "id": "9da2ceda"
   },
   "source": [
    "*Ответ:* Пропуски могли появиться вследствие человеческого фактора: данные могли не потребовать и/или не ввести. Также данные могли быть потеряны из-за технической ошибки, например, при выгрузке данных."
   ]
  },
  {
   "cell_type": "markdown",
   "id": "5e2e0953",
   "metadata": {
    "deletable": false,
    "editable": false,
    "id": "7b0487d6"
   },
   "source": [
    "#### 3.6 Объясните, почему заполнить пропуски медианным значением — лучшее решение для количественных переменных."
   ]
  },
  {
   "cell_type": "markdown",
   "id": "1c47e5f1",
   "metadata": {
    "deletable": false,
    "id": "7ecf2b8e"
   },
   "source": [
    "*Ответ:* Медиана позволяет сгладить влияние выбросов, а также не искажает данные."
   ]
  },
  {
   "cell_type": "markdown",
   "id": "1ab99963",
   "metadata": {
    "deletable": false,
    "editable": false,
    "id": "6db5255a"
   },
   "source": [
    "### Шаг 4: общий вывод."
   ]
  },
  {
   "cell_type": "markdown",
   "id": "8d3b696d",
   "metadata": {
    "deletable": false,
    "id": "bad65432"
   },
   "source": [
    "При создании алгоритма скоринга нужно учесть следующие факторы риска:\n",
    "1. Дети: отсутствие детей - лучше\n",
    "2. Семейный статус: клиенты в разводе и вдовцы - лучше\n",
    "3. Категория кредита: кредиты на свадьбу и недвижимость - лучше\n",
    "4. Категория дохода: B лучше C\n",
    "\n",
    "\n",
    "Дополнительно можно исследовать зависимость средней задолженности от возраста и пола клиента, также можно разделить клиентов на более узкие сегменты и проанализировать их."
   ]
  }
 ],
 "metadata": {
  "ExecuteTimeLog": [
   {
    "duration": 50,
    "start_time": "2022-09-09T15:38:24.434Z"
   },
   {
    "duration": 491,
    "start_time": "2022-09-09T15:38:36.991Z"
   },
   {
    "duration": 23,
    "start_time": "2022-09-09T15:38:37.484Z"
   },
   {
    "duration": 30,
    "start_time": "2022-09-09T15:38:37.509Z"
   },
   {
    "duration": 25,
    "start_time": "2022-09-09T15:38:37.541Z"
   },
   {
    "duration": 50,
    "start_time": "2022-09-09T15:38:37.568Z"
   },
   {
    "duration": 3,
    "start_time": "2022-09-09T15:38:37.620Z"
   },
   {
    "duration": 30,
    "start_time": "2022-09-09T15:38:37.625Z"
   },
   {
    "duration": 11,
    "start_time": "2022-09-09T15:38:37.657Z"
   },
   {
    "duration": 40,
    "start_time": "2022-09-09T15:38:37.670Z"
   },
   {
    "duration": 26,
    "start_time": "2022-09-09T15:38:37.712Z"
   },
   {
    "duration": 57,
    "start_time": "2022-09-09T15:38:37.740Z"
   },
   {
    "duration": 9,
    "start_time": "2022-09-09T15:38:37.799Z"
   },
   {
    "duration": 49,
    "start_time": "2022-09-09T15:38:37.810Z"
   },
   {
    "duration": 42,
    "start_time": "2022-09-09T15:38:37.863Z"
   },
   {
    "duration": 42,
    "start_time": "2022-09-09T15:38:37.907Z"
   },
   {
    "duration": 46,
    "start_time": "2022-09-09T15:38:37.951Z"
   },
   {
    "duration": 8,
    "start_time": "2022-09-09T15:38:37.998Z"
   },
   {
    "duration": 30,
    "start_time": "2022-09-09T15:38:38.008Z"
   },
   {
    "duration": 29,
    "start_time": "2022-09-09T15:38:38.040Z"
   },
   {
    "duration": 32,
    "start_time": "2022-09-09T15:38:38.071Z"
   },
   {
    "duration": 57,
    "start_time": "2022-09-09T15:38:38.105Z"
   },
   {
    "duration": 27,
    "start_time": "2022-09-09T15:38:38.164Z"
   },
   {
    "duration": 22,
    "start_time": "2022-09-09T15:38:38.192Z"
   },
   {
    "duration": 38,
    "start_time": "2022-09-09T15:38:38.215Z"
   },
   {
    "duration": 12,
    "start_time": "2022-09-09T15:38:38.255Z"
   },
   {
    "duration": 12,
    "start_time": "2022-09-09T15:43:37.967Z"
   },
   {
    "duration": 5,
    "start_time": "2022-09-09T15:46:04.720Z"
   },
   {
    "duration": 4,
    "start_time": "2022-09-09T15:46:12.517Z"
   },
   {
    "duration": 8,
    "start_time": "2022-09-09T15:46:54.823Z"
   },
   {
    "duration": 7,
    "start_time": "2022-09-09T15:47:31.230Z"
   },
   {
    "duration": 10,
    "start_time": "2022-09-09T15:47:39.047Z"
   },
   {
    "duration": 14,
    "start_time": "2022-09-09T15:51:34.502Z"
   },
   {
    "duration": 9,
    "start_time": "2022-09-09T15:54:52.880Z"
   },
   {
    "duration": 9,
    "start_time": "2022-09-09T15:55:30.077Z"
   },
   {
    "duration": 71,
    "start_time": "2022-09-09T15:56:03.111Z"
   },
   {
    "duration": 10,
    "start_time": "2022-09-09T15:56:14.486Z"
   },
   {
    "duration": 10,
    "start_time": "2022-09-09T15:56:30.999Z"
   },
   {
    "duration": 9,
    "start_time": "2022-09-09T15:56:52.429Z"
   },
   {
    "duration": 8,
    "start_time": "2022-09-09T16:01:55.239Z"
   },
   {
    "duration": 16,
    "start_time": "2022-09-09T16:02:21.851Z"
   },
   {
    "duration": 8,
    "start_time": "2022-09-09T16:03:05.202Z"
   },
   {
    "duration": 10,
    "start_time": "2022-09-09T16:03:08.054Z"
   },
   {
    "duration": 10,
    "start_time": "2022-09-09T16:03:33.158Z"
   },
   {
    "duration": 6,
    "start_time": "2022-09-09T16:05:20.238Z"
   },
   {
    "duration": 6,
    "start_time": "2022-09-09T16:05:32.910Z"
   },
   {
    "duration": 11,
    "start_time": "2022-09-09T16:06:06.636Z"
   },
   {
    "duration": 47,
    "start_time": "2022-09-10T08:50:25.084Z"
   },
   {
    "duration": 1045,
    "start_time": "2022-09-10T08:50:35.904Z"
   },
   {
    "duration": 21,
    "start_time": "2022-09-10T08:50:36.951Z"
   },
   {
    "duration": 14,
    "start_time": "2022-09-10T08:50:36.973Z"
   },
   {
    "duration": 8,
    "start_time": "2022-09-10T08:50:36.989Z"
   },
   {
    "duration": 40,
    "start_time": "2022-09-10T08:50:36.999Z"
   },
   {
    "duration": 2,
    "start_time": "2022-09-10T08:50:37.041Z"
   },
   {
    "duration": 12,
    "start_time": "2022-09-10T08:50:37.045Z"
   },
   {
    "duration": 7,
    "start_time": "2022-09-10T08:50:37.058Z"
   },
   {
    "duration": 9,
    "start_time": "2022-09-10T08:50:37.066Z"
   },
   {
    "duration": 5,
    "start_time": "2022-09-10T08:50:37.077Z"
   },
   {
    "duration": 32,
    "start_time": "2022-09-10T08:50:37.084Z"
   },
   {
    "duration": 28,
    "start_time": "2022-09-10T08:50:37.117Z"
   },
   {
    "duration": 9,
    "start_time": "2022-09-10T08:50:37.147Z"
   },
   {
    "duration": 19,
    "start_time": "2022-09-10T08:50:37.158Z"
   },
   {
    "duration": 24,
    "start_time": "2022-09-10T08:50:37.179Z"
   },
   {
    "duration": 35,
    "start_time": "2022-09-10T08:50:37.206Z"
   },
   {
    "duration": 5,
    "start_time": "2022-09-10T08:50:37.243Z"
   },
   {
    "duration": 33,
    "start_time": "2022-09-10T08:50:37.249Z"
   },
   {
    "duration": 11,
    "start_time": "2022-09-10T08:50:37.285Z"
   },
   {
    "duration": 8,
    "start_time": "2022-09-10T08:50:37.298Z"
   },
   {
    "duration": 16,
    "start_time": "2022-09-10T08:50:37.308Z"
   },
   {
    "duration": 18,
    "start_time": "2022-09-10T08:50:37.325Z"
   },
   {
    "duration": 66,
    "start_time": "2022-09-10T08:50:37.345Z"
   },
   {
    "duration": 0,
    "start_time": "2022-09-10T08:50:37.413Z"
   },
   {
    "duration": 0,
    "start_time": "2022-09-10T08:50:37.415Z"
   },
   {
    "duration": 0,
    "start_time": "2022-09-10T08:50:37.416Z"
   },
   {
    "duration": 0,
    "start_time": "2022-09-10T08:50:37.417Z"
   },
   {
    "duration": 0,
    "start_time": "2022-09-10T08:50:37.418Z"
   },
   {
    "duration": 0,
    "start_time": "2022-09-10T08:50:37.420Z"
   },
   {
    "duration": 0,
    "start_time": "2022-09-10T08:50:37.437Z"
   },
   {
    "duration": 0,
    "start_time": "2022-09-10T08:50:37.439Z"
   },
   {
    "duration": 7,
    "start_time": "2022-09-10T08:51:46.761Z"
   },
   {
    "duration": 460,
    "start_time": "2022-09-10T08:52:28.884Z"
   },
   {
    "duration": 21,
    "start_time": "2022-09-10T08:52:29.346Z"
   },
   {
    "duration": 13,
    "start_time": "2022-09-10T08:52:29.369Z"
   },
   {
    "duration": 12,
    "start_time": "2022-09-10T08:52:29.385Z"
   },
   {
    "duration": 54,
    "start_time": "2022-09-10T08:52:29.398Z"
   },
   {
    "duration": 4,
    "start_time": "2022-09-10T08:52:29.454Z"
   },
   {
    "duration": 12,
    "start_time": "2022-09-10T08:52:29.459Z"
   },
   {
    "duration": 4,
    "start_time": "2022-09-10T08:52:29.472Z"
   },
   {
    "duration": 11,
    "start_time": "2022-09-10T08:52:29.477Z"
   },
   {
    "duration": 8,
    "start_time": "2022-09-10T08:52:29.491Z"
   },
   {
    "duration": 45,
    "start_time": "2022-09-10T08:52:29.500Z"
   },
   {
    "duration": 11,
    "start_time": "2022-09-10T08:52:29.547Z"
   },
   {
    "duration": 5,
    "start_time": "2022-09-10T08:52:29.560Z"
   },
   {
    "duration": 21,
    "start_time": "2022-09-10T08:52:29.566Z"
   },
   {
    "duration": 29,
    "start_time": "2022-09-10T08:52:29.589Z"
   },
   {
    "duration": 24,
    "start_time": "2022-09-10T08:52:29.638Z"
   },
   {
    "duration": 4,
    "start_time": "2022-09-10T08:52:29.664Z"
   },
   {
    "duration": 12,
    "start_time": "2022-09-10T08:52:29.670Z"
   },
   {
    "duration": 5,
    "start_time": "2022-09-10T08:52:29.684Z"
   },
   {
    "duration": 8,
    "start_time": "2022-09-10T08:52:29.690Z"
   },
   {
    "duration": 12,
    "start_time": "2022-09-10T08:52:29.699Z"
   },
   {
    "duration": 33,
    "start_time": "2022-09-10T08:52:29.712Z"
   },
   {
    "duration": 78,
    "start_time": "2022-09-10T08:52:29.746Z"
   },
   {
    "duration": 0,
    "start_time": "2022-09-10T08:52:29.826Z"
   },
   {
    "duration": 0,
    "start_time": "2022-09-10T08:52:29.827Z"
   },
   {
    "duration": 0,
    "start_time": "2022-09-10T08:52:29.828Z"
   },
   {
    "duration": 0,
    "start_time": "2022-09-10T08:52:29.829Z"
   },
   {
    "duration": 0,
    "start_time": "2022-09-10T08:52:29.836Z"
   },
   {
    "duration": 0,
    "start_time": "2022-09-10T08:52:29.837Z"
   },
   {
    "duration": 0,
    "start_time": "2022-09-10T08:52:29.839Z"
   },
   {
    "duration": 0,
    "start_time": "2022-09-10T08:52:29.840Z"
   },
   {
    "duration": 24,
    "start_time": "2022-09-10T08:55:09.713Z"
   },
   {
    "duration": 13,
    "start_time": "2022-09-10T08:57:02.058Z"
   },
   {
    "duration": 12,
    "start_time": "2022-09-10T08:57:24.490Z"
   },
   {
    "duration": 10,
    "start_time": "2022-09-10T08:57:34.567Z"
   },
   {
    "duration": 11,
    "start_time": "2022-09-10T09:00:46.242Z"
   },
   {
    "duration": 11,
    "start_time": "2022-09-10T09:01:30.969Z"
   },
   {
    "duration": 12,
    "start_time": "2022-09-10T09:01:51.105Z"
   },
   {
    "duration": 12,
    "start_time": "2022-09-10T09:03:50.455Z"
   },
   {
    "duration": 15,
    "start_time": "2022-09-10T09:04:10.608Z"
   },
   {
    "duration": 13,
    "start_time": "2022-09-10T09:05:02.873Z"
   },
   {
    "duration": 17,
    "start_time": "2022-09-10T09:05:13.850Z"
   },
   {
    "duration": 513,
    "start_time": "2022-09-10T11:16:56.571Z"
   },
   {
    "duration": 21,
    "start_time": "2022-09-10T11:16:57.087Z"
   },
   {
    "duration": 13,
    "start_time": "2022-09-10T11:16:57.110Z"
   },
   {
    "duration": 9,
    "start_time": "2022-09-10T11:16:57.125Z"
   },
   {
    "duration": 54,
    "start_time": "2022-09-10T11:16:57.136Z"
   },
   {
    "duration": 3,
    "start_time": "2022-09-10T11:16:57.192Z"
   },
   {
    "duration": 11,
    "start_time": "2022-09-10T11:16:57.196Z"
   },
   {
    "duration": 4,
    "start_time": "2022-09-10T11:16:57.208Z"
   },
   {
    "duration": 13,
    "start_time": "2022-09-10T11:16:57.214Z"
   },
   {
    "duration": 4,
    "start_time": "2022-09-10T11:16:57.228Z"
   },
   {
    "duration": 50,
    "start_time": "2022-09-10T11:16:57.233Z"
   },
   {
    "duration": 9,
    "start_time": "2022-09-10T11:16:57.284Z"
   },
   {
    "duration": 4,
    "start_time": "2022-09-10T11:16:57.295Z"
   },
   {
    "duration": 11,
    "start_time": "2022-09-10T11:16:57.302Z"
   },
   {
    "duration": 24,
    "start_time": "2022-09-10T11:16:57.314Z"
   },
   {
    "duration": 40,
    "start_time": "2022-09-10T11:16:57.339Z"
   },
   {
    "duration": 4,
    "start_time": "2022-09-10T11:16:57.381Z"
   },
   {
    "duration": 16,
    "start_time": "2022-09-10T11:16:57.386Z"
   },
   {
    "duration": 8,
    "start_time": "2022-09-10T11:16:57.403Z"
   },
   {
    "duration": 4,
    "start_time": "2022-09-10T11:16:57.413Z"
   },
   {
    "duration": 11,
    "start_time": "2022-09-10T11:16:57.418Z"
   },
   {
    "duration": 13,
    "start_time": "2022-09-10T11:16:57.430Z"
   },
   {
    "duration": 44,
    "start_time": "2022-09-10T11:16:57.445Z"
   },
   {
    "duration": 13,
    "start_time": "2022-09-10T11:16:57.491Z"
   },
   {
    "duration": 16,
    "start_time": "2022-09-10T11:16:57.505Z"
   },
   {
    "duration": 12,
    "start_time": "2022-09-10T11:16:57.522Z"
   },
   {
    "duration": 18,
    "start_time": "2022-09-10T11:16:57.535Z"
   },
   {
    "duration": 476,
    "start_time": "2022-09-10T11:21:22.964Z"
   },
   {
    "duration": 23,
    "start_time": "2022-09-10T11:21:23.443Z"
   },
   {
    "duration": 15,
    "start_time": "2022-09-10T11:21:23.467Z"
   },
   {
    "duration": 8,
    "start_time": "2022-09-10T11:21:23.484Z"
   },
   {
    "duration": 34,
    "start_time": "2022-09-10T11:21:23.494Z"
   },
   {
    "duration": 3,
    "start_time": "2022-09-10T11:21:23.530Z"
   },
   {
    "duration": 13,
    "start_time": "2022-09-10T11:21:23.535Z"
   },
   {
    "duration": 5,
    "start_time": "2022-09-10T11:21:23.549Z"
   },
   {
    "duration": 26,
    "start_time": "2022-09-10T11:21:23.555Z"
   },
   {
    "duration": 4,
    "start_time": "2022-09-10T11:21:23.583Z"
   },
   {
    "duration": 33,
    "start_time": "2022-09-10T11:21:23.588Z"
   },
   {
    "duration": 9,
    "start_time": "2022-09-10T11:21:23.622Z"
   },
   {
    "duration": 3,
    "start_time": "2022-09-10T11:21:23.632Z"
   },
   {
    "duration": 11,
    "start_time": "2022-09-10T11:21:23.638Z"
   },
   {
    "duration": 40,
    "start_time": "2022-09-10T11:21:23.650Z"
   },
   {
    "duration": 17,
    "start_time": "2022-09-10T11:21:23.691Z"
   },
   {
    "duration": 4,
    "start_time": "2022-09-10T11:21:23.710Z"
   },
   {
    "duration": 11,
    "start_time": "2022-09-10T11:21:23.715Z"
   },
   {
    "duration": 6,
    "start_time": "2022-09-10T11:21:23.727Z"
   },
   {
    "duration": 3,
    "start_time": "2022-09-10T11:21:23.734Z"
   },
   {
    "duration": 39,
    "start_time": "2022-09-10T11:21:23.739Z"
   },
   {
    "duration": 511,
    "start_time": "2022-09-10T11:21:23.779Z"
   },
   {
    "duration": 14,
    "start_time": "2022-09-10T11:21:24.291Z"
   },
   {
    "duration": 14,
    "start_time": "2022-09-10T11:21:24.307Z"
   },
   {
    "duration": 62,
    "start_time": "2022-09-10T11:21:24.324Z"
   },
   {
    "duration": 19,
    "start_time": "2022-09-10T11:21:24.388Z"
   },
   {
    "duration": 20,
    "start_time": "2022-09-10T11:21:24.411Z"
   },
   {
    "duration": 47,
    "start_time": "2022-09-10T11:21:24.433Z"
   },
   {
    "duration": 543,
    "start_time": "2022-09-10T11:51:45.029Z"
   },
   {
    "duration": 32,
    "start_time": "2022-09-10T11:51:45.576Z"
   },
   {
    "duration": 23,
    "start_time": "2022-09-10T11:51:45.610Z"
   },
   {
    "duration": 19,
    "start_time": "2022-09-10T11:51:45.636Z"
   },
   {
    "duration": 46,
    "start_time": "2022-09-10T11:51:45.657Z"
   },
   {
    "duration": 4,
    "start_time": "2022-09-10T11:51:45.705Z"
   },
   {
    "duration": 18,
    "start_time": "2022-09-10T11:51:45.711Z"
   },
   {
    "duration": 24,
    "start_time": "2022-09-10T11:51:45.731Z"
   },
   {
    "duration": 10,
    "start_time": "2022-09-10T11:51:45.757Z"
   },
   {
    "duration": 6,
    "start_time": "2022-09-10T11:51:45.770Z"
   },
   {
    "duration": 38,
    "start_time": "2022-09-10T11:51:45.777Z"
   },
   {
    "duration": 9,
    "start_time": "2022-09-10T11:51:45.816Z"
   },
   {
    "duration": 46,
    "start_time": "2022-09-10T11:51:45.827Z"
   },
   {
    "duration": 11,
    "start_time": "2022-09-10T11:51:45.875Z"
   },
   {
    "duration": 27,
    "start_time": "2022-09-10T11:51:45.887Z"
   },
   {
    "duration": 24,
    "start_time": "2022-09-10T11:51:45.916Z"
   },
   {
    "duration": 5,
    "start_time": "2022-09-10T11:51:45.942Z"
   },
   {
    "duration": 24,
    "start_time": "2022-09-10T11:51:45.955Z"
   },
   {
    "duration": 9,
    "start_time": "2022-09-10T11:51:45.981Z"
   },
   {
    "duration": 4,
    "start_time": "2022-09-10T11:51:45.992Z"
   },
   {
    "duration": 17,
    "start_time": "2022-09-10T11:51:45.998Z"
   },
   {
    "duration": 526,
    "start_time": "2022-09-10T11:51:46.018Z"
   },
   {
    "duration": 19,
    "start_time": "2022-09-10T11:51:46.546Z"
   },
   {
    "duration": 25,
    "start_time": "2022-09-10T11:51:46.568Z"
   },
   {
    "duration": 13,
    "start_time": "2022-09-10T11:51:46.594Z"
   },
   {
    "duration": 61,
    "start_time": "2022-09-10T11:51:46.609Z"
   },
   {
    "duration": 17,
    "start_time": "2022-09-10T11:51:46.671Z"
   },
   {
    "duration": 16,
    "start_time": "2022-09-10T11:51:46.691Z"
   },
   {
    "duration": 1308,
    "start_time": "2022-09-10T11:56:26.596Z"
   },
   {
    "duration": 17,
    "start_time": "2022-09-10T11:56:27.906Z"
   },
   {
    "duration": 13,
    "start_time": "2022-09-10T11:56:27.924Z"
   },
   {
    "duration": 18,
    "start_time": "2022-09-10T11:56:27.938Z"
   },
   {
    "duration": 29,
    "start_time": "2022-09-10T11:56:27.958Z"
   },
   {
    "duration": 3,
    "start_time": "2022-09-10T11:56:27.988Z"
   },
   {
    "duration": 10,
    "start_time": "2022-09-10T11:56:27.992Z"
   },
   {
    "duration": 3,
    "start_time": "2022-09-10T11:56:28.003Z"
   },
   {
    "duration": 7,
    "start_time": "2022-09-10T11:56:28.007Z"
   },
   {
    "duration": 4,
    "start_time": "2022-09-10T11:56:28.015Z"
   },
   {
    "duration": 54,
    "start_time": "2022-09-10T11:56:28.020Z"
   },
   {
    "duration": 8,
    "start_time": "2022-09-10T11:56:28.076Z"
   },
   {
    "duration": 4,
    "start_time": "2022-09-10T11:56:28.085Z"
   },
   {
    "duration": 16,
    "start_time": "2022-09-10T11:56:28.092Z"
   },
   {
    "duration": 17,
    "start_time": "2022-09-10T11:56:28.110Z"
   },
   {
    "duration": 39,
    "start_time": "2022-09-10T11:56:28.129Z"
   },
   {
    "duration": 3,
    "start_time": "2022-09-10T11:56:28.169Z"
   },
   {
    "duration": 11,
    "start_time": "2022-09-10T11:56:28.174Z"
   },
   {
    "duration": 5,
    "start_time": "2022-09-10T11:56:28.186Z"
   },
   {
    "duration": 5,
    "start_time": "2022-09-10T11:56:28.192Z"
   },
   {
    "duration": 10,
    "start_time": "2022-09-10T11:56:28.198Z"
   },
   {
    "duration": 515,
    "start_time": "2022-09-10T11:56:28.209Z"
   },
   {
    "duration": 12,
    "start_time": "2022-09-10T11:56:28.726Z"
   },
   {
    "duration": 14,
    "start_time": "2022-09-10T11:56:28.739Z"
   },
   {
    "duration": 13,
    "start_time": "2022-09-10T11:56:28.754Z"
   },
   {
    "duration": 12,
    "start_time": "2022-09-10T11:56:28.768Z"
   },
   {
    "duration": 12,
    "start_time": "2022-09-10T11:56:28.781Z"
   },
   {
    "duration": 16,
    "start_time": "2022-09-10T11:56:28.794Z"
   },
   {
    "duration": 19,
    "start_time": "2022-09-10T11:57:56.208Z"
   },
   {
    "duration": 153,
    "start_time": "2022-09-10T12:02:49.008Z"
   },
   {
    "duration": 33,
    "start_time": "2022-09-10T12:05:04.241Z"
   },
   {
    "duration": 27,
    "start_time": "2022-09-10T12:05:40.935Z"
   },
   {
    "duration": 1442,
    "start_time": "2022-09-10T12:06:20.258Z"
   },
   {
    "duration": 1394,
    "start_time": "2022-09-10T12:10:35.796Z"
   },
   {
    "duration": 36,
    "start_time": "2022-09-10T12:10:46.829Z"
   },
   {
    "duration": 37,
    "start_time": "2022-09-10T12:11:27.200Z"
   },
   {
    "duration": 42,
    "start_time": "2022-09-10T12:12:27.471Z"
   },
   {
    "duration": 34,
    "start_time": "2022-09-10T12:13:57.931Z"
   },
   {
    "duration": 37,
    "start_time": "2022-09-10T12:15:10.129Z"
   },
   {
    "duration": 26,
    "start_time": "2022-09-10T12:17:16.966Z"
   },
   {
    "duration": 318,
    "start_time": "2022-09-10T12:17:51.900Z"
   },
   {
    "duration": 34,
    "start_time": "2022-09-10T12:18:21.462Z"
   },
   {
    "duration": 301,
    "start_time": "2022-09-10T12:18:27.447Z"
   },
   {
    "duration": 127,
    "start_time": "2022-09-10T12:18:49.536Z"
   },
   {
    "duration": 29,
    "start_time": "2022-09-10T12:19:31.355Z"
   },
   {
    "duration": 125,
    "start_time": "2022-09-10T12:19:41.389Z"
   },
   {
    "duration": 193,
    "start_time": "2022-09-10T12:21:49.786Z"
   },
   {
    "duration": 132,
    "start_time": "2022-09-10T12:22:42.131Z"
   },
   {
    "duration": 126,
    "start_time": "2022-09-10T12:23:40.732Z"
   },
   {
    "duration": 119,
    "start_time": "2022-09-10T12:24:25.347Z"
   },
   {
    "duration": 131,
    "start_time": "2022-09-10T12:26:27.050Z"
   },
   {
    "duration": 127,
    "start_time": "2022-09-10T12:26:50.532Z"
   },
   {
    "duration": 126,
    "start_time": "2022-09-10T12:27:03.409Z"
   },
   {
    "duration": 142,
    "start_time": "2022-09-10T12:28:29.236Z"
   },
   {
    "duration": 171,
    "start_time": "2022-09-10T12:28:37.443Z"
   },
   {
    "duration": 135,
    "start_time": "2022-09-10T12:28:46.332Z"
   },
   {
    "duration": 132,
    "start_time": "2022-09-10T12:28:53.758Z"
   },
   {
    "duration": 143,
    "start_time": "2022-09-10T12:29:00.443Z"
   },
   {
    "duration": 1134,
    "start_time": "2022-09-10T12:29:08.759Z"
   },
   {
    "duration": 19,
    "start_time": "2022-09-10T12:29:09.895Z"
   },
   {
    "duration": 12,
    "start_time": "2022-09-10T12:29:09.916Z"
   },
   {
    "duration": 8,
    "start_time": "2022-09-10T12:29:09.930Z"
   },
   {
    "duration": 42,
    "start_time": "2022-09-10T12:29:09.939Z"
   },
   {
    "duration": 3,
    "start_time": "2022-09-10T12:29:09.982Z"
   },
   {
    "duration": 9,
    "start_time": "2022-09-10T12:29:09.986Z"
   },
   {
    "duration": 4,
    "start_time": "2022-09-10T12:29:09.996Z"
   },
   {
    "duration": 8,
    "start_time": "2022-09-10T12:29:10.001Z"
   },
   {
    "duration": 9,
    "start_time": "2022-09-10T12:29:10.011Z"
   },
   {
    "duration": 49,
    "start_time": "2022-09-10T12:29:10.022Z"
   },
   {
    "duration": 8,
    "start_time": "2022-09-10T12:29:10.072Z"
   },
   {
    "duration": 3,
    "start_time": "2022-09-10T12:29:10.081Z"
   },
   {
    "duration": 11,
    "start_time": "2022-09-10T12:29:10.086Z"
   },
   {
    "duration": 19,
    "start_time": "2022-09-10T12:29:10.098Z"
   },
   {
    "duration": 16,
    "start_time": "2022-09-10T12:29:10.118Z"
   },
   {
    "duration": 22,
    "start_time": "2022-09-10T12:29:10.135Z"
   },
   {
    "duration": 10,
    "start_time": "2022-09-10T12:29:10.158Z"
   },
   {
    "duration": 10,
    "start_time": "2022-09-10T12:29:10.169Z"
   },
   {
    "duration": 4,
    "start_time": "2022-09-10T12:29:10.180Z"
   },
   {
    "duration": 8,
    "start_time": "2022-09-10T12:29:10.186Z"
   },
   {
    "duration": 464,
    "start_time": "2022-09-10T12:29:10.196Z"
   },
   {
    "duration": 12,
    "start_time": "2022-09-10T12:29:10.662Z"
   },
   {
    "duration": 208,
    "start_time": "2022-09-10T12:29:10.676Z"
   },
   {
    "duration": 13,
    "start_time": "2022-09-10T12:29:10.886Z"
   },
   {
    "duration": 164,
    "start_time": "2022-09-10T12:29:10.901Z"
   },
   {
    "duration": 208,
    "start_time": "2022-09-10T12:29:11.066Z"
   },
   {
    "duration": 143,
    "start_time": "2022-09-10T12:29:11.277Z"
   }
  ],
  "colab": {
   "name": "dpp_template_part2.ipynb",
   "provenance": []
  },
  "kernelspec": {
   "display_name": "Python 3 (ipykernel)",
   "language": "python",
   "name": "python3"
  },
  "language_info": {
   "codemirror_mode": {
    "name": "ipython",
    "version": 3
   },
   "file_extension": ".py",
   "mimetype": "text/x-python",
   "name": "python",
   "nbconvert_exporter": "python",
   "pygments_lexer": "ipython3",
   "version": "3.9.13"
  },
  "toc": {
   "base_numbering": 1,
   "nav_menu": {},
   "number_sections": true,
   "sideBar": true,
   "skip_h1_title": true,
   "title_cell": "Table of Contents",
   "title_sidebar": "Contents",
   "toc_cell": false,
   "toc_position": {},
   "toc_section_display": true,
   "toc_window_display": false
  }
 },
 "nbformat": 4,
 "nbformat_minor": 5
}
