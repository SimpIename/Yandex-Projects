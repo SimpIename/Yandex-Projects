{
 "cells": [
  {
   "cell_type": "markdown",
   "metadata": {},
   "source": [
    "# Описание проекта"
   ]
  },
  {
   "cell_type": "markdown",
   "metadata": {},
   "source": [
    "Нужно разобраться, как ведут себя пользователи мобильного приложения в стартапе, который продает продукты питания.  \n",
    "  \n",
    "Изучим воронку продаж, узнаем, как пользователи доходят до покупки. Сколько пользователей доходит до покупки, а сколько - \"застревает\" на предыдущих шагах? На каких именно?  \n",
    "  \n",
    "После этого исследуем результаты A/A/B эксперимента. Выясним, какой шрифт в приложении лучше.  "
   ]
  },
  {
   "cell_type": "markdown",
   "metadata": {},
   "source": [
    "## План работы\n",
    "**Часть 1**\n",
    "- [x] Открыть файл и изучить общую информацию\n",
    "\n",
    "**Часть 2**\n",
    "- [x] Переименовать столбцы\n",
    "- [x] Проверить пропуски и типы данных.\n",
    "- [x] Добавить столбец даты и времени и столбец даты\n",
    "\n",
    "**Часть 3**\n",
    "- [x] Сколько всего событий в логе?\n",
    "- [x] Сколько всего пользователей в логе?\n",
    "- [x] Сколько в среднем событий приходится на пользователя?\n",
    "- [x] Данными за какой период вы располагаете? Найдите максимальную и минимальную дату. Постройте гистограмму по дате и времени. Можно ли быть уверенным, что у вас одинаково полные данные за весь период? Технически в логи новых дней по некоторым пользователям могут «доезжать» события из прошлого  — это может «перекашивать данные». Определите, с какого момента данные полные и отбросьте более старые. Данными за какой период времени вы располагаете на самом деле?\n",
    "- [x] Много ли событий и пользователей вы потеряли, отбросив старые данные?\n",
    "- [x] Проверьте, что у вас есть пользователи из всех трёх экспериментальных групп.\n",
    "\n",
    "**Часть 4**\n",
    "- [x] Посмотрите, какие события есть в логах, как часто они встречаются. Отсортируйте события по частоте.\n",
    "- [x] Посчитайте, сколько пользователей совершали каждое из этих событий. Отсортируйте события по числу пользователей. Посчитайте долю пользователей, которые хоть раз совершали событие.\n",
    "- [x] Предположите, в каком порядке происходят события. Все ли они выстраиваются в последовательную цепочку? Их не нужно учитывать при расчёте воронки.\n",
    "- [x] По воронке событий посчитайте, какая доля пользователей проходит на следующий шаг воронки (от числа пользователей на предыдущем). То есть для последовательности событий A → B → C посчитайте отношение числа пользователей с событием B к количеству пользователей с событием A, а также отношение числа пользователей с событием C к количеству пользователей с событием B.\n",
    "- [x] На каком шаге теряете больше всего пользователей?\n",
    "- [x] Какая доля пользователей доходит от первого события до оплаты?\n",
    "\n",
    "**Часть 5**\n",
    "- [x] Сколько пользователей в каждой экспериментальной группе?\n",
    "- [x] Есть 2 контрольные группы для А/А-эксперимента, чтобы проверить корректность всех механизмов и расчётов. Проверьте, находят ли статистические критерии разницу между выборками 246 и 247.\n",
    "- [x] Выберите самое популярное событие. Посчитайте число пользователей, совершивших это событие в каждой из контрольных групп. Посчитайте долю пользователей, совершивших это событие. Проверьте, будет ли отличие между группами статистически достоверным. Проделайте то же самое для всех других событий (удобно обернуть проверку в отдельную функцию). Можно ли сказать, что разбиение на группы работает корректно?\n",
    "- [x] Аналогично поступите с группой с изменённым шрифтом. Сравните результаты с каждой из контрольных групп в отдельности по каждому событию. Сравните результаты с объединённой контрольной группой. Какие выводы из эксперимента можно сделать?\n",
    "- [x] Какой уровень значимости вы выбрали при проверке статистических гипотез выше? Посчитайте, сколько проверок статистических гипотез вы сделали. При уровне значимости 0.1 каждый десятый раз можно получать ложный результат. Какой уровень значимости стоит применить? Если вы хотите изменить его, проделайте предыдущие пункты и проверьте свои выводы.\n",
    "\n",
    "**Часть 6**\n",
    "- [x] Вывод\n",
    "\n"
   ]
  },
  {
   "cell_type": "markdown",
   "metadata": {},
   "source": [
    "## Откроем файл и изучим общую информацию"
   ]
  },
  {
   "cell_type": "code",
   "execution_count": 198,
   "metadata": {},
   "outputs": [],
   "source": [
    "import pandas as pd\n",
    "import datetime as dt\n",
    "import matplotlib.pyplot as plt\n",
    "from scipy import stats as st\n",
    "import numpy as np\n",
    "import math\n",
    "import plotly.express as px"
   ]
  },
  {
   "cell_type": "code",
   "execution_count": 199,
   "metadata": {},
   "outputs": [],
   "source": [
    "try:\n",
    "    data = pd.read_csv('/datasets/logs_exp.csv', sep='\\t')\n",
    "except:\n",
    "    data = pd.read_csv('logs_exp.csv', sep='\\t')"
   ]
  },
  {
   "cell_type": "code",
   "execution_count": 200,
   "metadata": {},
   "outputs": [
    {
     "data": {
      "text/html": [
       "<div>\n",
       "<style scoped>\n",
       "    .dataframe tbody tr th:only-of-type {\n",
       "        vertical-align: middle;\n",
       "    }\n",
       "\n",
       "    .dataframe tbody tr th {\n",
       "        vertical-align: top;\n",
       "    }\n",
       "\n",
       "    .dataframe thead th {\n",
       "        text-align: right;\n",
       "    }\n",
       "</style>\n",
       "<table border=\"1\" class=\"dataframe\">\n",
       "  <thead>\n",
       "    <tr style=\"text-align: right;\">\n",
       "      <th></th>\n",
       "      <th>EventName</th>\n",
       "      <th>DeviceIDHash</th>\n",
       "      <th>EventTimestamp</th>\n",
       "      <th>ExpId</th>\n",
       "    </tr>\n",
       "  </thead>\n",
       "  <tbody>\n",
       "    <tr>\n",
       "      <th>0</th>\n",
       "      <td>MainScreenAppear</td>\n",
       "      <td>4575588528974610257</td>\n",
       "      <td>1564029816</td>\n",
       "      <td>246</td>\n",
       "    </tr>\n",
       "    <tr>\n",
       "      <th>1</th>\n",
       "      <td>MainScreenAppear</td>\n",
       "      <td>7416695313311560658</td>\n",
       "      <td>1564053102</td>\n",
       "      <td>246</td>\n",
       "    </tr>\n",
       "    <tr>\n",
       "      <th>2</th>\n",
       "      <td>PaymentScreenSuccessful</td>\n",
       "      <td>3518123091307005509</td>\n",
       "      <td>1564054127</td>\n",
       "      <td>248</td>\n",
       "    </tr>\n",
       "    <tr>\n",
       "      <th>3</th>\n",
       "      <td>CartScreenAppear</td>\n",
       "      <td>3518123091307005509</td>\n",
       "      <td>1564054127</td>\n",
       "      <td>248</td>\n",
       "    </tr>\n",
       "    <tr>\n",
       "      <th>4</th>\n",
       "      <td>PaymentScreenSuccessful</td>\n",
       "      <td>6217807653094995999</td>\n",
       "      <td>1564055322</td>\n",
       "      <td>248</td>\n",
       "    </tr>\n",
       "  </tbody>\n",
       "</table>\n",
       "</div>"
      ],
      "text/plain": [
       "                 EventName         DeviceIDHash  EventTimestamp  ExpId\n",
       "0         MainScreenAppear  4575588528974610257      1564029816    246\n",
       "1         MainScreenAppear  7416695313311560658      1564053102    246\n",
       "2  PaymentScreenSuccessful  3518123091307005509      1564054127    248\n",
       "3         CartScreenAppear  3518123091307005509      1564054127    248\n",
       "4  PaymentScreenSuccessful  6217807653094995999      1564055322    248"
      ]
     },
     "execution_count": 200,
     "metadata": {},
     "output_type": "execute_result"
    }
   ],
   "source": [
    "data.head()"
   ]
  },
  {
   "cell_type": "code",
   "execution_count": 201,
   "metadata": {},
   "outputs": [
    {
     "name": "stdout",
     "output_type": "stream",
     "text": [
      "<class 'pandas.core.frame.DataFrame'>\n",
      "RangeIndex: 244126 entries, 0 to 244125\n",
      "Data columns (total 4 columns):\n",
      " #   Column          Non-Null Count   Dtype \n",
      "---  ------          --------------   ----- \n",
      " 0   EventName       244126 non-null  object\n",
      " 1   DeviceIDHash    244126 non-null  int64 \n",
      " 2   EventTimestamp  244126 non-null  int64 \n",
      " 3   ExpId           244126 non-null  int64 \n",
      "dtypes: int64(3), object(1)\n",
      "memory usage: 7.5+ MB\n"
     ]
    }
   ],
   "source": [
    "data.info()"
   ]
  },
  {
   "cell_type": "markdown",
   "metadata": {},
   "source": [
    "## Изучим и проверим данные"
   ]
  },
  {
   "cell_type": "code",
   "execution_count": 202,
   "metadata": {},
   "outputs": [],
   "source": [
    "data.columns = ['event_name', 'device_id', 'timestamp', 'exp_id']\n"
   ]
  },
  {
   "cell_type": "code",
   "execution_count": 203,
   "metadata": {},
   "outputs": [
    {
     "data": {
      "text/plain": [
       "array([246, 248, 247])"
      ]
     },
     "execution_count": 203,
     "metadata": {},
     "output_type": "execute_result"
    }
   ],
   "source": [
    "data['exp_id'].unique()"
   ]
  },
  {
   "cell_type": "markdown",
   "metadata": {},
   "source": [
    "Пропуски отсутствуют, типы данных соответствуют"
   ]
  },
  {
   "cell_type": "code",
   "execution_count": 204,
   "metadata": {},
   "outputs": [],
   "source": [
    "data['datetime'] = pd.to_datetime(data['timestamp'], unit='s')\n"
   ]
  },
  {
   "cell_type": "code",
   "execution_count": 205,
   "metadata": {},
   "outputs": [],
   "source": [
    "data['date'] = pd.to_datetime(data['datetime'].dt.date)"
   ]
  },
  {
   "cell_type": "code",
   "execution_count": 206,
   "metadata": {},
   "outputs": [],
   "source": [
    "def get_group(row):\n",
    "    if row[3] == 246:\n",
    "        return 'A1'\n",
    "    if row[3] == 247:\n",
    "        return 'A2'    \n",
    "    return 'B'\n",
    "    "
   ]
  },
  {
   "cell_type": "code",
   "execution_count": 207,
   "metadata": {},
   "outputs": [],
   "source": [
    "data['group'] = data.apply(get_group, axis=1)"
   ]
  },
  {
   "cell_type": "code",
   "execution_count": 208,
   "metadata": {},
   "outputs": [],
   "source": [
    "data = data.drop(columns=['exp_id'])"
   ]
  },
  {
   "cell_type": "code",
   "execution_count": 209,
   "metadata": {},
   "outputs": [
    {
     "name": "stdout",
     "output_type": "stream",
     "text": [
      "<class 'pandas.core.frame.DataFrame'>\n",
      "RangeIndex: 244126 entries, 0 to 244125\n",
      "Data columns (total 6 columns):\n",
      " #   Column      Non-Null Count   Dtype         \n",
      "---  ------      --------------   -----         \n",
      " 0   event_name  244126 non-null  object        \n",
      " 1   device_id   244126 non-null  int64         \n",
      " 2   timestamp   244126 non-null  int64         \n",
      " 3   datetime    244126 non-null  datetime64[ns]\n",
      " 4   date        244126 non-null  datetime64[ns]\n",
      " 5   group       244126 non-null  object        \n",
      "dtypes: datetime64[ns](2), int64(2), object(2)\n",
      "memory usage: 11.2+ MB\n"
     ]
    }
   ],
   "source": [
    "data.info()"
   ]
  },
  {
   "cell_type": "code",
   "execution_count": 210,
   "metadata": {},
   "outputs": [
    {
     "data": {
      "text/plain": [
       "413"
      ]
     },
     "execution_count": 210,
     "metadata": {},
     "output_type": "execute_result"
    }
   ],
   "source": [
    "data.duplicated().sum()"
   ]
  },
  {
   "cell_type": "code",
   "execution_count": 211,
   "metadata": {},
   "outputs": [],
   "source": [
    "data = data.drop_duplicates()"
   ]
  },
  {
   "cell_type": "code",
   "execution_count": 212,
   "metadata": {},
   "outputs": [
    {
     "data": {
      "text/plain": [
       "event_name    0\n",
       "device_id     0\n",
       "timestamp     0\n",
       "datetime      0\n",
       "date          0\n",
       "group         0\n",
       "dtype: int64"
      ]
     },
     "execution_count": 212,
     "metadata": {},
     "output_type": "execute_result"
    }
   ],
   "source": [
    "data.isna().sum()"
   ]
  },
  {
   "cell_type": "markdown",
   "metadata": {},
   "source": [
    "## Изучим и проверим данные"
   ]
  },
  {
   "cell_type": "code",
   "execution_count": 213,
   "metadata": {},
   "outputs": [
    {
     "name": "stdout",
     "output_type": "stream",
     "text": [
      "Всего 243713 записей\n"
     ]
    }
   ],
   "source": [
    "print(f'Всего {data.shape[0]} записей')"
   ]
  },
  {
   "cell_type": "code",
   "execution_count": 214,
   "metadata": {},
   "outputs": [
    {
     "name": "stdout",
     "output_type": "stream",
     "text": [
      "Всего 7551 уникальных пользователей\n"
     ]
    }
   ],
   "source": [
    "print(f'Всего {data[\"device_id\"].nunique()} уникальных пользователей')"
   ]
  },
  {
   "cell_type": "code",
   "execution_count": 215,
   "metadata": {},
   "outputs": [
    {
     "name": "stdout",
     "output_type": "stream",
     "text": [
      "В среднем 32.276 событий на пользователя\n"
     ]
    }
   ],
   "source": [
    "print(f'В среднем {round(data.shape[0]/data[\"device_id\"].nunique(), 3)} событий на пользователя')"
   ]
  },
  {
   "cell_type": "code",
   "execution_count": 216,
   "metadata": {},
   "outputs": [
    {
     "name": "stdout",
     "output_type": "stream",
     "text": [
      "Минимальная дата 2019-07-25 00:00:00\n",
      "Максимальная дата 2019-08-07 00:00:00\n"
     ]
    }
   ],
   "source": [
    "print('Минимальная дата', data['date'].min())\n",
    "print('Максимальная дата', data['date'].max())"
   ]
  },
  {
   "cell_type": "code",
   "execution_count": 217,
   "metadata": {},
   "outputs": [],
   "source": [
    "users0 = data['device_id'].nunique()\n",
    "events0 = data.shape[0]"
   ]
  },
  {
   "cell_type": "code",
   "execution_count": 218,
   "metadata": {},
   "outputs": [
    {
     "data": {
      "text/html": [
       "<div>\n",
       "<style scoped>\n",
       "    .dataframe tbody tr th:only-of-type {\n",
       "        vertical-align: middle;\n",
       "    }\n",
       "\n",
       "    .dataframe tbody tr th {\n",
       "        vertical-align: top;\n",
       "    }\n",
       "\n",
       "    .dataframe thead th {\n",
       "        text-align: right;\n",
       "    }\n",
       "</style>\n",
       "<table border=\"1\" class=\"dataframe\">\n",
       "  <thead>\n",
       "    <tr style=\"text-align: right;\">\n",
       "      <th></th>\n",
       "      <th>event_name</th>\n",
       "    </tr>\n",
       "    <tr>\n",
       "      <th>date</th>\n",
       "      <th></th>\n",
       "    </tr>\n",
       "  </thead>\n",
       "  <tbody>\n",
       "    <tr>\n",
       "      <th>2019-07-25</th>\n",
       "      <td>9</td>\n",
       "    </tr>\n",
       "    <tr>\n",
       "      <th>2019-07-26</th>\n",
       "      <td>31</td>\n",
       "    </tr>\n",
       "    <tr>\n",
       "      <th>2019-07-27</th>\n",
       "      <td>55</td>\n",
       "    </tr>\n",
       "    <tr>\n",
       "      <th>2019-07-28</th>\n",
       "      <td>105</td>\n",
       "    </tr>\n",
       "    <tr>\n",
       "      <th>2019-07-29</th>\n",
       "      <td>184</td>\n",
       "    </tr>\n",
       "    <tr>\n",
       "      <th>2019-07-30</th>\n",
       "      <td>412</td>\n",
       "    </tr>\n",
       "    <tr>\n",
       "      <th>2019-07-31</th>\n",
       "      <td>2030</td>\n",
       "    </tr>\n",
       "    <tr>\n",
       "      <th>2019-08-01</th>\n",
       "      <td>36141</td>\n",
       "    </tr>\n",
       "    <tr>\n",
       "      <th>2019-08-02</th>\n",
       "      <td>35554</td>\n",
       "    </tr>\n",
       "    <tr>\n",
       "      <th>2019-08-03</th>\n",
       "      <td>33282</td>\n",
       "    </tr>\n",
       "    <tr>\n",
       "      <th>2019-08-04</th>\n",
       "      <td>32968</td>\n",
       "    </tr>\n",
       "    <tr>\n",
       "      <th>2019-08-05</th>\n",
       "      <td>36058</td>\n",
       "    </tr>\n",
       "    <tr>\n",
       "      <th>2019-08-06</th>\n",
       "      <td>35788</td>\n",
       "    </tr>\n",
       "    <tr>\n",
       "      <th>2019-08-07</th>\n",
       "      <td>31096</td>\n",
       "    </tr>\n",
       "  </tbody>\n",
       "</table>\n",
       "</div>"
      ],
      "text/plain": [
       "            event_name\n",
       "date                  \n",
       "2019-07-25           9\n",
       "2019-07-26          31\n",
       "2019-07-27          55\n",
       "2019-07-28         105\n",
       "2019-07-29         184\n",
       "2019-07-30         412\n",
       "2019-07-31        2030\n",
       "2019-08-01       36141\n",
       "2019-08-02       35554\n",
       "2019-08-03       33282\n",
       "2019-08-04       32968\n",
       "2019-08-05       36058\n",
       "2019-08-06       35788\n",
       "2019-08-07       31096"
      ]
     },
     "execution_count": 218,
     "metadata": {},
     "output_type": "execute_result"
    }
   ],
   "source": [
    "pd.pivot_table(data=data, index='date', values='event_name', aggfunc='count')"
   ]
  },
  {
   "cell_type": "markdown",
   "metadata": {},
   "source": [
    "Отбросим данные за Июль"
   ]
  },
  {
   "cell_type": "code",
   "execution_count": 219,
   "metadata": {},
   "outputs": [],
   "source": [
    "data = data.loc[data['date'].dt.month == 8]"
   ]
  },
  {
   "cell_type": "code",
   "execution_count": 220,
   "metadata": {},
   "outputs": [
    {
     "data": {
      "text/plain": [
       "7534"
      ]
     },
     "execution_count": 220,
     "metadata": {},
     "output_type": "execute_result"
    }
   ],
   "source": [
    "data['device_id'].nunique()"
   ]
  },
  {
   "cell_type": "code",
   "execution_count": 221,
   "metadata": {},
   "outputs": [
    {
     "data": {
      "text/plain": [
       "(240887, 6)"
      ]
     },
     "execution_count": 221,
     "metadata": {},
     "output_type": "execute_result"
    }
   ],
   "source": [
    "data.shape"
   ]
  },
  {
   "cell_type": "code",
   "execution_count": 222,
   "metadata": {},
   "outputs": [
    {
     "name": "stdout",
     "output_type": "stream",
     "text": [
      "После исключения аномальных данных потеряли 0.225% пользователей\n",
      "После исключения аномальных данных потеряли 1.16% событий\n"
     ]
    }
   ],
   "source": [
    "print(f'После исключения аномальных данных потеряли {round((users0 - data[\"device_id\"].nunique())/users0*100, 3)}% пользователей')\n",
    "print(f'После исключения аномальных данных потеряли {round((events0 - data.shape[0])/events0*100, 3)}% событий')"
   ]
  },
  {
   "cell_type": "code",
   "execution_count": 223,
   "metadata": {},
   "outputs": [
    {
     "data": {
      "text/html": [
       "<div>\n",
       "<style scoped>\n",
       "    .dataframe tbody tr th:only-of-type {\n",
       "        vertical-align: middle;\n",
       "    }\n",
       "\n",
       "    .dataframe tbody tr th {\n",
       "        vertical-align: top;\n",
       "    }\n",
       "\n",
       "    .dataframe thead th {\n",
       "        text-align: right;\n",
       "    }\n",
       "</style>\n",
       "<table border=\"1\" class=\"dataframe\">\n",
       "  <thead>\n",
       "    <tr style=\"text-align: right;\">\n",
       "      <th></th>\n",
       "      <th>event_name</th>\n",
       "    </tr>\n",
       "    <tr>\n",
       "      <th>group</th>\n",
       "      <th></th>\n",
       "    </tr>\n",
       "  </thead>\n",
       "  <tbody>\n",
       "    <tr>\n",
       "      <th>A1</th>\n",
       "      <td>79302</td>\n",
       "    </tr>\n",
       "    <tr>\n",
       "      <th>A2</th>\n",
       "      <td>77022</td>\n",
       "    </tr>\n",
       "    <tr>\n",
       "      <th>B</th>\n",
       "      <td>84563</td>\n",
       "    </tr>\n",
       "  </tbody>\n",
       "</table>\n",
       "</div>"
      ],
      "text/plain": [
       "       event_name\n",
       "group            \n",
       "A1          79302\n",
       "A2          77022\n",
       "B           84563"
      ]
     },
     "execution_count": 223,
     "metadata": {},
     "output_type": "execute_result"
    }
   ],
   "source": [
    "group_pivot = pd.pivot_table(data=data, index='group', values='event_name', aggfunc='count')\n",
    "group_pivot"
   ]
  },
  {
   "cell_type": "code",
   "execution_count": 224,
   "metadata": {},
   "outputs": [
    {
     "data": {
      "image/png": "[encoded data removed]",
      "text/plain": [
       "<Figure size 1152x648 with 1 Axes>"
      ]
     },
     "metadata": {},
     "output_type": "display_data"
    }
   ],
   "source": [
    "plt.figure(figsize=(16, 9))\n",
    "plt.pie(group_pivot['event_name'], labels=['A1', 'A2', 'B'], autopct='%1.1f%%', shadow='true');\n",
    "plt.title('groups_count')\n",
    "plt.show()"
   ]
  },
  {
   "cell_type": "markdown",
   "metadata": {},
   "source": [
    "Проверим, есть ли пересечения между группами"
   ]
  },
  {
   "cell_type": "code",
   "execution_count": 225,
   "metadata": {},
   "outputs": [
    {
     "name": "stdout",
     "output_type": "stream",
     "text": [
      "0\n",
      "0\n",
      "0\n"
     ]
    }
   ],
   "source": [
    "A1_filtered = data.query('group == \"A1\"')\n",
    "A2_filtered = data.query('group == \"A2\"')\n",
    "B_filtered = data.query('group == \"B\"')\n",
    "print(A1_filtered.merge(A2_filtered, on='device_id').shape[0])\n",
    "print(B_filtered.merge(A2_filtered, on='device_id').shape[0])\n",
    "print(B_filtered.merge(A1_filtered, on='device_id').shape[0])"
   ]
  },
  {
   "cell_type": "markdown",
   "metadata": {},
   "source": [
    "Видим, что пересечений нет"
   ]
  },
  {
   "cell_type": "markdown",
   "metadata": {},
   "source": [
    "## Изучим воронку событий"
   ]
  },
  {
   "cell_type": "code",
   "execution_count": 226,
   "metadata": {},
   "outputs": [
    {
     "name": "stdout",
     "output_type": "stream",
     "text": [
      "<class 'pandas.core.frame.DataFrame'>\n",
      "Int64Index: 240887 entries, 2828 to 244125\n",
      "Data columns (total 6 columns):\n",
      " #   Column      Non-Null Count   Dtype         \n",
      "---  ------      --------------   -----         \n",
      " 0   event_name  240887 non-null  object        \n",
      " 1   device_id   240887 non-null  int64         \n",
      " 2   timestamp   240887 non-null  int64         \n",
      " 3   datetime    240887 non-null  datetime64[ns]\n",
      " 4   date        240887 non-null  datetime64[ns]\n",
      " 5   group       240887 non-null  object        \n",
      "dtypes: datetime64[ns](2), int64(2), object(2)\n",
      "memory usage: 12.9+ MB\n"
     ]
    }
   ],
   "source": [
    "data.info()"
   ]
  },
  {
   "cell_type": "code",
   "execution_count": 227,
   "metadata": {},
   "outputs": [
    {
     "data": {
      "text/html": [
       "<div>\n",
       "<style scoped>\n",
       "    .dataframe tbody tr th:only-of-type {\n",
       "        vertical-align: middle;\n",
       "    }\n",
       "\n",
       "    .dataframe tbody tr th {\n",
       "        vertical-align: top;\n",
       "    }\n",
       "\n",
       "    .dataframe thead th {\n",
       "        text-align: right;\n",
       "    }\n",
       "</style>\n",
       "<table border=\"1\" class=\"dataframe\">\n",
       "  <thead>\n",
       "    <tr style=\"text-align: right;\">\n",
       "      <th></th>\n",
       "      <th>count</th>\n",
       "      <th>nunique</th>\n",
       "    </tr>\n",
       "    <tr>\n",
       "      <th>event_name</th>\n",
       "      <th></th>\n",
       "      <th></th>\n",
       "    </tr>\n",
       "  </thead>\n",
       "  <tbody>\n",
       "    <tr>\n",
       "      <th>MainScreenAppear</th>\n",
       "      <td>117328</td>\n",
       "      <td>7419</td>\n",
       "    </tr>\n",
       "    <tr>\n",
       "      <th>OffersScreenAppear</th>\n",
       "      <td>46333</td>\n",
       "      <td>4593</td>\n",
       "    </tr>\n",
       "    <tr>\n",
       "      <th>CartScreenAppear</th>\n",
       "      <td>42303</td>\n",
       "      <td>3734</td>\n",
       "    </tr>\n",
       "    <tr>\n",
       "      <th>PaymentScreenSuccessful</th>\n",
       "      <td>33918</td>\n",
       "      <td>3539</td>\n",
       "    </tr>\n",
       "    <tr>\n",
       "      <th>Tutorial</th>\n",
       "      <td>1005</td>\n",
       "      <td>840</td>\n",
       "    </tr>\n",
       "  </tbody>\n",
       "</table>\n",
       "</div>"
      ],
      "text/plain": [
       "                          count  nunique\n",
       "event_name                              \n",
       "MainScreenAppear         117328     7419\n",
       "OffersScreenAppear        46333     4593\n",
       "CartScreenAppear          42303     3734\n",
       "PaymentScreenSuccessful   33918     3539\n",
       "Tutorial                   1005      840"
      ]
     },
     "execution_count": 227,
     "metadata": {},
     "output_type": "execute_result"
    }
   ],
   "source": [
    "name_pivot = pd.pivot_table(data=data, \n",
    "                            index='event_name', \n",
    "                            values='device_id', \n",
    "                            aggfunc=['count', 'nunique'])\n",
    "name_pivot.columns=['count', 'nunique']\n",
    "name_pivot = name_pivot.sort_values(by='count', ascending=False)\n",
    "name_pivot"
   ]
  },
  {
   "cell_type": "code",
   "execution_count": 228,
   "metadata": {},
   "outputs": [],
   "source": [
    "#plt.bar(x=range(len(name_pivot['nunique'])), y=name_pivot['nunique'], height=0.8)"
   ]
  },
  {
   "cell_type": "code",
   "execution_count": 229,
   "metadata": {},
   "outputs": [
    {
     "data": {
      "image/png": "[encoded data removed]",
      "text/plain": [
       "<Figure size 1152x648 with 1 Axes>"
      ]
     },
     "metadata": {},
     "output_type": "display_data"
    }
   ],
   "source": [
    "plt.figure(figsize=(16, 9))\n",
    "plt.pie(name_pivot['count'],\n",
    "        labels=name_pivot.index, autopct='%1.1f%%', shadow='true');\n",
    "plt.title('events_count')\n",
    "plt.show()"
   ]
  },
  {
   "cell_type": "code",
   "execution_count": 230,
   "metadata": {},
   "outputs": [
    {
     "data": {
      "image/png": "[encoded data removed]",
      "text/plain": [
       "<Figure size 1152x648 with 1 Axes>"
      ]
     },
     "metadata": {},
     "output_type": "display_data"
    }
   ],
   "source": [
    "plt.figure(figsize=(16, 9))\n",
    "plt.pie(name_pivot['nunique'],\n",
    "        labels=name_pivot.index, autopct='%1.1f%%', shadow='true');\n",
    "plt.title('users_count')\n",
    "plt.show()"
   ]
  },
  {
   "cell_type": "code",
   "execution_count": 231,
   "metadata": {},
   "outputs": [
    {
     "data": {
      "text/html": [
       "<div>\n",
       "<style scoped>\n",
       "    .dataframe tbody tr th:only-of-type {\n",
       "        vertical-align: middle;\n",
       "    }\n",
       "\n",
       "    .dataframe tbody tr th {\n",
       "        vertical-align: top;\n",
       "    }\n",
       "\n",
       "    .dataframe thead th {\n",
       "        text-align: right;\n",
       "    }\n",
       "</style>\n",
       "<table border=\"1\" class=\"dataframe\">\n",
       "  <thead>\n",
       "    <tr style=\"text-align: right;\">\n",
       "      <th></th>\n",
       "      <th>event_name</th>\n",
       "      <th>device_id</th>\n",
       "      <th>timestamp</th>\n",
       "      <th>datetime</th>\n",
       "      <th>date</th>\n",
       "      <th>group</th>\n",
       "    </tr>\n",
       "  </thead>\n",
       "  <tbody>\n",
       "    <tr>\n",
       "      <th>2828</th>\n",
       "      <td>Tutorial</td>\n",
       "      <td>3737462046622621720</td>\n",
       "      <td>1564618048</td>\n",
       "      <td>2019-08-01 00:07:28</td>\n",
       "      <td>2019-08-01</td>\n",
       "      <td>A1</td>\n",
       "    </tr>\n",
       "    <tr>\n",
       "      <th>2829</th>\n",
       "      <td>MainScreenAppear</td>\n",
       "      <td>3737462046622621720</td>\n",
       "      <td>1564618080</td>\n",
       "      <td>2019-08-01 00:08:00</td>\n",
       "      <td>2019-08-01</td>\n",
       "      <td>A1</td>\n",
       "    </tr>\n",
       "    <tr>\n",
       "      <th>2830</th>\n",
       "      <td>MainScreenAppear</td>\n",
       "      <td>3737462046622621720</td>\n",
       "      <td>1564618135</td>\n",
       "      <td>2019-08-01 00:08:55</td>\n",
       "      <td>2019-08-01</td>\n",
       "      <td>A1</td>\n",
       "    </tr>\n",
       "    <tr>\n",
       "      <th>2831</th>\n",
       "      <td>OffersScreenAppear</td>\n",
       "      <td>3737462046622621720</td>\n",
       "      <td>1564618138</td>\n",
       "      <td>2019-08-01 00:08:58</td>\n",
       "      <td>2019-08-01</td>\n",
       "      <td>A1</td>\n",
       "    </tr>\n",
       "    <tr>\n",
       "      <th>2832</th>\n",
       "      <td>MainScreenAppear</td>\n",
       "      <td>1433840883824088890</td>\n",
       "      <td>1564618139</td>\n",
       "      <td>2019-08-01 00:08:59</td>\n",
       "      <td>2019-08-01</td>\n",
       "      <td>A2</td>\n",
       "    </tr>\n",
       "  </tbody>\n",
       "</table>\n",
       "</div>"
      ],
      "text/plain": [
       "              event_name            device_id   timestamp            datetime  \\\n",
       "2828            Tutorial  3737462046622621720  1564618048 2019-08-01 00:07:28   \n",
       "2829    MainScreenAppear  3737462046622621720  1564618080 2019-08-01 00:08:00   \n",
       "2830    MainScreenAppear  3737462046622621720  1564618135 2019-08-01 00:08:55   \n",
       "2831  OffersScreenAppear  3737462046622621720  1564618138 2019-08-01 00:08:58   \n",
       "2832    MainScreenAppear  1433840883824088890  1564618139 2019-08-01 00:08:59   \n",
       "\n",
       "           date group  \n",
       "2828 2019-08-01    A1  \n",
       "2829 2019-08-01    A1  \n",
       "2830 2019-08-01    A1  \n",
       "2831 2019-08-01    A1  \n",
       "2832 2019-08-01    A2  "
      ]
     },
     "execution_count": 231,
     "metadata": {},
     "output_type": "execute_result"
    }
   ],
   "source": [
    "data.head()"
   ]
  },
  {
   "cell_type": "markdown",
   "metadata": {},
   "source": [
    "Если предположить, что отображение главной страницы - это необходимый этап. То получим, что из 7551 уникальных юзеров 7419 совершили хотя бы одно событие"
   ]
  },
  {
   "cell_type": "code",
   "execution_count": 232,
   "metadata": {},
   "outputs": [
    {
     "name": "stdout",
     "output_type": "stream",
     "text": [
      "Доля таких пользователей 0.985\n"
     ]
    }
   ],
   "source": [
    "print(f'Доля таких пользователей {round(name_pivot[\"nunique\"][0]/data[\"device_id\"].nunique(), 3)}')"
   ]
  },
  {
   "cell_type": "markdown",
   "metadata": {},
   "source": [
    "Я думаю, события происходят в таком порядке: Главный экран, Окно предложений, Корзина, Успешная оплата. Обучение не является обязательным этапом, некоторые клиенты могут обращаться к нему в случае затруднений"
   ]
  },
  {
   "cell_type": "code",
   "execution_count": 233,
   "metadata": {},
   "outputs": [],
   "source": [
    "funnel = [name_pivot['nunique'][i+1]/name_pivot['nunique'][i] for i in range(len(name_pivot['nunique']) - 1)]"
   ]
  },
  {
   "cell_type": "code",
   "execution_count": 234,
   "metadata": {},
   "outputs": [],
   "source": [
    "funnel = funnel[:-1]"
   ]
  },
  {
   "cell_type": "code",
   "execution_count": 235,
   "metadata": {},
   "outputs": [
    {
     "data": {
      "text/plain": [
       "[0.6190861302062273, 0.8129762682342695, 0.9477771826459561]"
      ]
     },
     "execution_count": 235,
     "metadata": {},
     "output_type": "execute_result"
    }
   ],
   "source": [
    "funnel"
   ]
  },
  {
   "cell_type": "code",
   "execution_count": 236,
   "metadata": {},
   "outputs": [
    {
     "data": {
      "text/html": [
       "<div>\n",
       "<style scoped>\n",
       "    .dataframe tbody tr th:only-of-type {\n",
       "        vertical-align: middle;\n",
       "    }\n",
       "\n",
       "    .dataframe tbody tr th {\n",
       "        vertical-align: top;\n",
       "    }\n",
       "\n",
       "    .dataframe thead th {\n",
       "        text-align: right;\n",
       "    }\n",
       "</style>\n",
       "<table border=\"1\" class=\"dataframe\">\n",
       "  <thead>\n",
       "    <tr style=\"text-align: right;\">\n",
       "      <th></th>\n",
       "      <th>conversion</th>\n",
       "    </tr>\n",
       "  </thead>\n",
       "  <tbody>\n",
       "    <tr>\n",
       "      <th>Main to Offers</th>\n",
       "      <td>0.619086</td>\n",
       "    </tr>\n",
       "    <tr>\n",
       "      <th>Offers to Cart</th>\n",
       "      <td>0.812976</td>\n",
       "    </tr>\n",
       "    <tr>\n",
       "      <th>Cart to Payment</th>\n",
       "      <td>0.947777</td>\n",
       "    </tr>\n",
       "  </tbody>\n",
       "</table>\n",
       "</div>"
      ],
      "text/plain": [
       "                 conversion\n",
       "Main to Offers     0.619086\n",
       "Offers to Cart     0.812976\n",
       "Cart to Payment    0.947777"
      ]
     },
     "execution_count": 236,
     "metadata": {},
     "output_type": "execute_result"
    }
   ],
   "source": [
    "index = ['Main to Offers', 'Offers to Cart', 'Cart to Payment']\n",
    "funnel_df = pd.DataFrame(data=funnel, index=index, columns=['conversion'])\n",
    "funnel_df"
   ]
  },
  {
   "cell_type": "markdown",
   "metadata": {},
   "source": [
    "Заметим, что больше всего пользователей теряется при переходе с главной страницы на страницу заказа."
   ]
  },
  {
   "cell_type": "code",
   "execution_count": 237,
   "metadata": {},
   "outputs": [
    {
     "name": "stdout",
     "output_type": "stream",
     "text": [
      "От первого звонка до оплаты доходит 0.477 клиентов\n"
     ]
    }
   ],
   "source": [
    "print(f'От первого звонка до оплаты доходит {round(name_pivot[\"nunique\"][3]/name_pivot[\"nunique\"][0], 3)} клиентов')"
   ]
  },
  {
   "cell_type": "code",
   "execution_count": 238,
   "metadata": {},
   "outputs": [
    {
     "data": {
      "application/vnd.plotly.v1+json": {
       "config": {
        "plotlyServerURL": "https://plot.ly"
       },
       "data": [
        {
         "hovertemplate": "number=%{x}<br>stage=%{y}<extra></extra>",
         "legendgroup": "",
         "marker": {
          "color": "#636efa"
         },
         "name": "",
         "orientation": "h",
         "showlegend": false,
         "type": "funnel",
         "x": [
          117328,
          46333,
          42303,
          33918
         ],
         "xaxis": "x",
         "y": [
          "MainScreenAppear",
          "OffersScreenAppear",
          "CartScreenAppear",
          "PaymentScreenSuccessful"
         ],
         "yaxis": "y"
        }
       ],
       "layout": {
        "legend": {
         "tracegroupgap": 0
        },
        "template": {
         "data": {
          "bar": [
           {
            "error_x": {
             "color": "#2a3f5f"
            },
            "error_y": {
             "color": "#2a3f5f"
            },
            "marker": {
             "line": {
              "color": "#E5ECF6",
              "width": 0.5
             },
             "pattern": {
              "fillmode": "overlay",
              "size": 10,
              "solidity": 0.2
             }
            },
            "type": "bar"
           }
          ],
          "barpolar": [
           {
            "marker": {
             "line": {
              "color": "#E5ECF6",
              "width": 0.5
             },
             "pattern": {
              "fillmode": "overlay",
              "size": 10,
              "solidity": 0.2
             }
            },
            "type": "barpolar"
           }
          ],
          "carpet": [
           {
            "aaxis": {
             "endlinecolor": "#2a3f5f",
             "gridcolor": "white",
             "linecolor": "white",
             "minorgridcolor": "white",
             "startlinecolor": "#2a3f5f"
            },
            "baxis": {
             "endlinecolor": "#2a3f5f",
             "gridcolor": "white",
             "linecolor": "white",
             "minorgridcolor": "white",
             "startlinecolor": "#2a3f5f"
            },
            "type": "carpet"
           }
          ],
          "choropleth": [
           {
            "colorbar": {
             "outlinewidth": 0,
             "ticks": ""
            },
            "type": "choropleth"
           }
          ],
          "contour": [
           {
            "colorbar": {
             "outlinewidth": 0,
             "ticks": ""
            },
            "colorscale": [
             [
              0,
              "#0d0887"
             ],
             [
              0.1111111111111111,
              "#46039f"
             ],
             [
              0.2222222222222222,
              "#7201a8"
             ],
             [
              0.3333333333333333,
              "#9c179e"
             ],
             [
              0.4444444444444444,
              "#bd3786"
             ],
             [
              0.5555555555555556,
              "#d8576b"
             ],
             [
              0.6666666666666666,
              "#ed7953"
             ],
             [
              0.7777777777777778,
              "#fb9f3a"
             ],
             [
              0.8888888888888888,
              "#fdca26"
             ],
             [
              1,
              "#f0f921"
             ]
            ],
            "type": "contour"
           }
          ],
          "contourcarpet": [
           {
            "colorbar": {
             "outlinewidth": 0,
             "ticks": ""
            },
            "type": "contourcarpet"
           }
          ],
          "heatmap": [
           {
            "colorbar": {
             "outlinewidth": 0,
             "ticks": ""
            },
            "colorscale": [
             [
              0,
              "#0d0887"
             ],
             [
              0.1111111111111111,
              "#46039f"
             ],
             [
              0.2222222222222222,
              "#7201a8"
             ],
             [
              0.3333333333333333,
              "#9c179e"
             ],
             [
              0.4444444444444444,
              "#bd3786"
             ],
             [
              0.5555555555555556,
              "#d8576b"
             ],
             [
              0.6666666666666666,
              "#ed7953"
             ],
             [
              0.7777777777777778,
              "#fb9f3a"
             ],
             [
              0.8888888888888888,
              "#fdca26"
             ],
             [
              1,
              "#f0f921"
             ]
            ],
            "type": "heatmap"
           }
          ],
          "heatmapgl": [
           {
            "colorbar": {
             "outlinewidth": 0,
             "ticks": ""
            },
            "colorscale": [
             [
              0,
              "#0d0887"
             ],
             [
              0.1111111111111111,
              "#46039f"
             ],
             [
              0.2222222222222222,
              "#7201a8"
             ],
             [
              0.3333333333333333,
              "#9c179e"
             ],
             [
              0.4444444444444444,
              "#bd3786"
             ],
             [
              0.5555555555555556,
              "#d8576b"
             ],
             [
              0.6666666666666666,
              "#ed7953"
             ],
             [
              0.7777777777777778,
              "#fb9f3a"
             ],
             [
              0.8888888888888888,
              "#fdca26"
             ],
             [
              1,
              "#f0f921"
             ]
            ],
            "type": "heatmapgl"
           }
          ],
          "histogram": [
           {
            "marker": {
             "pattern": {
              "fillmode": "overlay",
              "size": 10,
              "solidity": 0.2
             }
            },
            "type": "histogram"
           }
          ],
          "histogram2d": [
           {
            "colorbar": {
             "outlinewidth": 0,
             "ticks": ""
            },
            "colorscale": [
             [
              0,
              "#0d0887"
             ],
             [
              0.1111111111111111,
              "#46039f"
             ],
             [
              0.2222222222222222,
              "#7201a8"
             ],
             [
              0.3333333333333333,
              "#9c179e"
             ],
             [
              0.4444444444444444,
              "#bd3786"
             ],
             [
              0.5555555555555556,
              "#d8576b"
             ],
             [
              0.6666666666666666,
              "#ed7953"
             ],
             [
              0.7777777777777778,
              "#fb9f3a"
             ],
             [
              0.8888888888888888,
              "#fdca26"
             ],
             [
              1,
              "#f0f921"
             ]
            ],
            "type": "histogram2d"
           }
          ],
          "histogram2dcontour": [
           {
            "colorbar": {
             "outlinewidth": 0,
             "ticks": ""
            },
            "colorscale": [
             [
              0,
              "#0d0887"
             ],
             [
              0.1111111111111111,
              "#46039f"
             ],
             [
              0.2222222222222222,
              "#7201a8"
             ],
             [
              0.3333333333333333,
              "#9c179e"
             ],
             [
              0.4444444444444444,
              "#bd3786"
             ],
             [
              0.5555555555555556,
              "#d8576b"
             ],
             [
              0.6666666666666666,
              "#ed7953"
             ],
             [
              0.7777777777777778,
              "#fb9f3a"
             ],
             [
              0.8888888888888888,
              "#fdca26"
             ],
             [
              1,
              "#f0f921"
             ]
            ],
            "type": "histogram2dcontour"
           }
          ],
          "mesh3d": [
           {
            "colorbar": {
             "outlinewidth": 0,
             "ticks": ""
            },
            "type": "mesh3d"
           }
          ],
          "parcoords": [
           {
            "line": {
             "colorbar": {
              "outlinewidth": 0,
              "ticks": ""
             }
            },
            "type": "parcoords"
           }
          ],
          "pie": [
           {
            "automargin": true,
            "type": "pie"
           }
          ],
          "scatter": [
           {
            "marker": {
             "colorbar": {
              "outlinewidth": 0,
              "ticks": ""
             }
            },
            "type": "scatter"
           }
          ],
          "scatter3d": [
           {
            "line": {
             "colorbar": {
              "outlinewidth": 0,
              "ticks": ""
             }
            },
            "marker": {
             "colorbar": {
              "outlinewidth": 0,
              "ticks": ""
             }
            },
            "type": "scatter3d"
           }
          ],
          "scattercarpet": [
           {
            "marker": {
             "colorbar": {
              "outlinewidth": 0,
              "ticks": ""
             }
            },
            "type": "scattercarpet"
           }
          ],
          "scattergeo": [
           {
            "marker": {
             "colorbar": {
              "outlinewidth": 0,
              "ticks": ""
             }
            },
            "type": "scattergeo"
           }
          ],
          "scattergl": [
           {
            "marker": {
             "colorbar": {
              "outlinewidth": 0,
              "ticks": ""
             }
            },
            "type": "scattergl"
           }
          ],
          "scattermapbox": [
           {
            "marker": {
             "colorbar": {
              "outlinewidth": 0,
              "ticks": ""
             }
            },
            "type": "scattermapbox"
           }
          ],
          "scatterpolar": [
           {
            "marker": {
             "colorbar": {
              "outlinewidth": 0,
              "ticks": ""
             }
            },
            "type": "scatterpolar"
           }
          ],
          "scatterpolargl": [
           {
            "marker": {
             "colorbar": {
              "outlinewidth": 0,
              "ticks": ""
             }
            },
            "type": "scatterpolargl"
           }
          ],
          "scatterternary": [
           {
            "marker": {
             "colorbar": {
              "outlinewidth": 0,
              "ticks": ""
             }
            },
            "type": "scatterternary"
           }
          ],
          "surface": [
           {
            "colorbar": {
             "outlinewidth": 0,
             "ticks": ""
            },
            "colorscale": [
             [
              0,
              "#0d0887"
             ],
             [
              0.1111111111111111,
              "#46039f"
             ],
             [
              0.2222222222222222,
              "#7201a8"
             ],
             [
              0.3333333333333333,
              "#9c179e"
             ],
             [
              0.4444444444444444,
              "#bd3786"
             ],
             [
              0.5555555555555556,
              "#d8576b"
             ],
             [
              0.6666666666666666,
              "#ed7953"
             ],
             [
              0.7777777777777778,
              "#fb9f3a"
             ],
             [
              0.8888888888888888,
              "#fdca26"
             ],
             [
              1,
              "#f0f921"
             ]
            ],
            "type": "surface"
           }
          ],
          "table": [
           {
            "cells": {
             "fill": {
              "color": "#EBF0F8"
             },
             "line": {
              "color": "white"
             }
            },
            "header": {
             "fill": {
              "color": "#C8D4E3"
             },
             "line": {
              "color": "white"
             }
            },
            "type": "table"
           }
          ]
         },
         "layout": {
          "annotationdefaults": {
           "arrowcolor": "#2a3f5f",
           "arrowhead": 0,
           "arrowwidth": 1
          },
          "autotypenumbers": "strict",
          "coloraxis": {
           "colorbar": {
            "outlinewidth": 0,
            "ticks": ""
           }
          },
          "colorscale": {
           "diverging": [
            [
             0,
             "#8e0152"
            ],
            [
             0.1,
             "#c51b7d"
            ],
            [
             0.2,
             "#de77ae"
            ],
            [
             0.3,
             "#f1b6da"
            ],
            [
             0.4,
             "#fde0ef"
            ],
            [
             0.5,
             "#f7f7f7"
            ],
            [
             0.6,
             "#e6f5d0"
            ],
            [
             0.7,
             "#b8e186"
            ],
            [
             0.8,
             "#7fbc41"
            ],
            [
             0.9,
             "#4d9221"
            ],
            [
             1,
             "#276419"
            ]
           ],
           "sequential": [
            [
             0,
             "#0d0887"
            ],
            [
             0.1111111111111111,
             "#46039f"
            ],
            [
             0.2222222222222222,
             "#7201a8"
            ],
            [
             0.3333333333333333,
             "#9c179e"
            ],
            [
             0.4444444444444444,
             "#bd3786"
            ],
            [
             0.5555555555555556,
             "#d8576b"
            ],
            [
             0.6666666666666666,
             "#ed7953"
            ],
            [
             0.7777777777777778,
             "#fb9f3a"
            ],
            [
             0.8888888888888888,
             "#fdca26"
            ],
            [
             1,
             "#f0f921"
            ]
           ],
           "sequentialminus": [
            [
             0,
             "#0d0887"
            ],
            [
             0.1111111111111111,
             "#46039f"
            ],
            [
             0.2222222222222222,
             "#7201a8"
            ],
            [
             0.3333333333333333,
             "#9c179e"
            ],
            [
             0.4444444444444444,
             "#bd3786"
            ],
            [
             0.5555555555555556,
             "#d8576b"
            ],
            [
             0.6666666666666666,
             "#ed7953"
            ],
            [
             0.7777777777777778,
             "#fb9f3a"
            ],
            [
             0.8888888888888888,
             "#fdca26"
            ],
            [
             1,
             "#f0f921"
            ]
           ]
          },
          "colorway": [
           "#636efa",
           "#EF553B",
           "#00cc96",
           "#ab63fa",
           "#FFA15A",
           "#19d3f3",
           "#FF6692",
           "#B6E880",
           "#FF97FF",
           "#FECB52"
          ],
          "font": {
           "color": "#2a3f5f"
          },
          "geo": {
           "bgcolor": "white",
           "lakecolor": "white",
           "landcolor": "#E5ECF6",
           "showlakes": true,
           "showland": true,
           "subunitcolor": "white"
          },
          "hoverlabel": {
           "align": "left"
          },
          "hovermode": "closest",
          "mapbox": {
           "style": "light"
          },
          "paper_bgcolor": "white",
          "plot_bgcolor": "#E5ECF6",
          "polar": {
           "angularaxis": {
            "gridcolor": "white",
            "linecolor": "white",
            "ticks": ""
           },
           "bgcolor": "#E5ECF6",
           "radialaxis": {
            "gridcolor": "white",
            "linecolor": "white",
            "ticks": ""
           }
          },
          "scene": {
           "xaxis": {
            "backgroundcolor": "#E5ECF6",
            "gridcolor": "white",
            "gridwidth": 2,
            "linecolor": "white",
            "showbackground": true,
            "ticks": "",
            "zerolinecolor": "white"
           },
           "yaxis": {
            "backgroundcolor": "#E5ECF6",
            "gridcolor": "white",
            "gridwidth": 2,
            "linecolor": "white",
            "showbackground": true,
            "ticks": "",
            "zerolinecolor": "white"
           },
           "zaxis": {
            "backgroundcolor": "#E5ECF6",
            "gridcolor": "white",
            "gridwidth": 2,
            "linecolor": "white",
            "showbackground": true,
            "ticks": "",
            "zerolinecolor": "white"
           }
          },
          "shapedefaults": {
           "line": {
            "color": "#2a3f5f"
           }
          },
          "ternary": {
           "aaxis": {
            "gridcolor": "white",
            "linecolor": "white",
            "ticks": ""
           },
           "baxis": {
            "gridcolor": "white",
            "linecolor": "white",
            "ticks": ""
           },
           "bgcolor": "#E5ECF6",
           "caxis": {
            "gridcolor": "white",
            "linecolor": "white",
            "ticks": ""
           }
          },
          "title": {
           "x": 0.05
          },
          "xaxis": {
           "automargin": true,
           "gridcolor": "white",
           "linecolor": "white",
           "ticks": "",
           "title": {
            "standoff": 15
           },
           "zerolinecolor": "white",
           "zerolinewidth": 2
          },
          "yaxis": {
           "automargin": true,
           "gridcolor": "white",
           "linecolor": "white",
           "ticks": "",
           "title": {
            "standoff": 15
           },
           "zerolinecolor": "white",
           "zerolinewidth": 2
          }
         }
        },
        "title": {
         "text": "funnel"
        },
        "xaxis": {
         "anchor": "y",
         "domain": [
          0,
          1
         ],
         "title": {
          "text": "number"
         }
        },
        "yaxis": {
         "anchor": "x",
         "domain": [
          0,
          1
         ],
         "title": {
          "text": "stage"
         }
        }
       }
      },
      "text/html": [
       "<div>                            <div id=\"78772e91-269c-452a-a0b6-b344a764bae7\" class=\"plotly-graph-div\" style=\"height:525px; width:100%;\"></div>            <script type=\"text/javascript\">                require([\"plotly\"], function(Plotly) {                    window.PLOTLYENV=window.PLOTLYENV || {};                                    if (document.getElementById(\"78772e91-269c-452a-a0b6-b344a764bae7\")) {                    Plotly.newPlot(                        \"78772e91-269c-452a-a0b6-b344a764bae7\",                        [{\"hovertemplate\":\"number=%{x}<br>stage=%{y}<extra></extra>\",\"legendgroup\":\"\",\"marker\":{\"color\":\"#636efa\"},\"name\":\"\",\"orientation\":\"h\",\"showlegend\":false,\"x\":[117328,46333,42303,33918],\"xaxis\":\"x\",\"y\":[\"MainScreenAppear\",\"OffersScreenAppear\",\"CartScreenAppear\",\"PaymentScreenSuccessful\"],\"yaxis\":\"y\",\"type\":\"funnel\"}],                        {\"template\":{\"data\":{\"bar\":[{\"error_x\":{\"color\":\"#2a3f5f\"},\"error_y\":{\"color\":\"#2a3f5f\"},\"marker\":{\"line\":{\"color\":\"#E5ECF6\",\"width\":0.5},\"pattern\":{\"fillmode\":\"overlay\",\"size\":10,\"solidity\":0.2}},\"type\":\"bar\"}],\"barpolar\":[{\"marker\":{\"line\":{\"color\":\"#E5ECF6\",\"width\":0.5},\"pattern\":{\"fillmode\":\"overlay\",\"size\":10,\"solidity\":0.2}},\"type\":\"barpolar\"}],\"carpet\":[{\"aaxis\":{\"endlinecolor\":\"#2a3f5f\",\"gridcolor\":\"white\",\"linecolor\":\"white\",\"minorgridcolor\":\"white\",\"startlinecolor\":\"#2a3f5f\"},\"baxis\":{\"endlinecolor\":\"#2a3f5f\",\"gridcolor\":\"white\",\"linecolor\":\"white\",\"minorgridcolor\":\"white\",\"startlinecolor\":\"#2a3f5f\"},\"type\":\"carpet\"}],\"choropleth\":[{\"colorbar\":{\"outlinewidth\":0,\"ticks\":\"\"},\"type\":\"choropleth\"}],\"contour\":[{\"colorbar\":{\"outlinewidth\":0,\"ticks\":\"\"},\"colorscale\":[[0.0,\"#0d0887\"],[0.1111111111111111,\"#46039f\"],[0.2222222222222222,\"#7201a8\"],[0.3333333333333333,\"#9c179e\"],[0.4444444444444444,\"#bd3786\"],[0.5555555555555556,\"#d8576b\"],[0.6666666666666666,\"#ed7953\"],[0.7777777777777778,\"#fb9f3a\"],[0.8888888888888888,\"#fdca26\"],[1.0,\"#f0f921\"]],\"type\":\"contour\"}],\"contourcarpet\":[{\"colorbar\":{\"outlinewidth\":0,\"ticks\":\"\"},\"type\":\"contourcarpet\"}],\"heatmap\":[{\"colorbar\":{\"outlinewidth\":0,\"ticks\":\"\"},\"colorscale\":[[0.0,\"#0d0887\"],[0.1111111111111111,\"#46039f\"],[0.2222222222222222,\"#7201a8\"],[0.3333333333333333,\"#9c179e\"],[0.4444444444444444,\"#bd3786\"],[0.5555555555555556,\"#d8576b\"],[0.6666666666666666,\"#ed7953\"],[0.7777777777777778,\"#fb9f3a\"],[0.8888888888888888,\"#fdca26\"],[1.0,\"#f0f921\"]],\"type\":\"heatmap\"}],\"heatmapgl\":[{\"colorbar\":{\"outlinewidth\":0,\"ticks\":\"\"},\"colorscale\":[[0.0,\"#0d0887\"],[0.1111111111111111,\"#46039f\"],[0.2222222222222222,\"#7201a8\"],[0.3333333333333333,\"#9c179e\"],[0.4444444444444444,\"#bd3786\"],[0.5555555555555556,\"#d8576b\"],[0.6666666666666666,\"#ed7953\"],[0.7777777777777778,\"#fb9f3a\"],[0.8888888888888888,\"#fdca26\"],[1.0,\"#f0f921\"]],\"type\":\"heatmapgl\"}],\"histogram\":[{\"marker\":{\"pattern\":{\"fillmode\":\"overlay\",\"size\":10,\"solidity\":0.2}},\"type\":\"histogram\"}],\"histogram2d\":[{\"colorbar\":{\"outlinewidth\":0,\"ticks\":\"\"},\"colorscale\":[[0.0,\"#0d0887\"],[0.1111111111111111,\"#46039f\"],[0.2222222222222222,\"#7201a8\"],[0.3333333333333333,\"#9c179e\"],[0.4444444444444444,\"#bd3786\"],[0.5555555555555556,\"#d8576b\"],[0.6666666666666666,\"#ed7953\"],[0.7777777777777778,\"#fb9f3a\"],[0.8888888888888888,\"#fdca26\"],[1.0,\"#f0f921\"]],\"type\":\"histogram2d\"}],\"histogram2dcontour\":[{\"colorbar\":{\"outlinewidth\":0,\"ticks\":\"\"},\"colorscale\":[[0.0,\"#0d0887\"],[0.1111111111111111,\"#46039f\"],[0.2222222222222222,\"#7201a8\"],[0.3333333333333333,\"#9c179e\"],[0.4444444444444444,\"#bd3786\"],[0.5555555555555556,\"#d8576b\"],[0.6666666666666666,\"#ed7953\"],[0.7777777777777778,\"#fb9f3a\"],[0.8888888888888888,\"#fdca26\"],[1.0,\"#f0f921\"]],\"type\":\"histogram2dcontour\"}],\"mesh3d\":[{\"colorbar\":{\"outlinewidth\":0,\"ticks\":\"\"},\"type\":\"mesh3d\"}],\"parcoords\":[{\"line\":{\"colorbar\":{\"outlinewidth\":0,\"ticks\":\"\"}},\"type\":\"parcoords\"}],\"pie\":[{\"automargin\":true,\"type\":\"pie\"}],\"scatter\":[{\"marker\":{\"colorbar\":{\"outlinewidth\":0,\"ticks\":\"\"}},\"type\":\"scatter\"}],\"scatter3d\":[{\"line\":{\"colorbar\":{\"outlinewidth\":0,\"ticks\":\"\"}},\"marker\":{\"colorbar\":{\"outlinewidth\":0,\"ticks\":\"\"}},\"type\":\"scatter3d\"}],\"scattercarpet\":[{\"marker\":{\"colorbar\":{\"outlinewidth\":0,\"ticks\":\"\"}},\"type\":\"scattercarpet\"}],\"scattergeo\":[{\"marker\":{\"colorbar\":{\"outlinewidth\":0,\"ticks\":\"\"}},\"type\":\"scattergeo\"}],\"scattergl\":[{\"marker\":{\"colorbar\":{\"outlinewidth\":0,\"ticks\":\"\"}},\"type\":\"scattergl\"}],\"scattermapbox\":[{\"marker\":{\"colorbar\":{\"outlinewidth\":0,\"ticks\":\"\"}},\"type\":\"scattermapbox\"}],\"scatterpolar\":[{\"marker\":{\"colorbar\":{\"outlinewidth\":0,\"ticks\":\"\"}},\"type\":\"scatterpolar\"}],\"scatterpolargl\":[{\"marker\":{\"colorbar\":{\"outlinewidth\":0,\"ticks\":\"\"}},\"type\":\"scatterpolargl\"}],\"scatterternary\":[{\"marker\":{\"colorbar\":{\"outlinewidth\":0,\"ticks\":\"\"}},\"type\":\"scatterternary\"}],\"surface\":[{\"colorbar\":{\"outlinewidth\":0,\"ticks\":\"\"},\"colorscale\":[[0.0,\"#0d0887\"],[0.1111111111111111,\"#46039f\"],[0.2222222222222222,\"#7201a8\"],[0.3333333333333333,\"#9c179e\"],[0.4444444444444444,\"#bd3786\"],[0.5555555555555556,\"#d8576b\"],[0.6666666666666666,\"#ed7953\"],[0.7777777777777778,\"#fb9f3a\"],[0.8888888888888888,\"#fdca26\"],[1.0,\"#f0f921\"]],\"type\":\"surface\"}],\"table\":[{\"cells\":{\"fill\":{\"color\":\"#EBF0F8\"},\"line\":{\"color\":\"white\"}},\"header\":{\"fill\":{\"color\":\"#C8D4E3\"},\"line\":{\"color\":\"white\"}},\"type\":\"table\"}]},\"layout\":{\"annotationdefaults\":{\"arrowcolor\":\"#2a3f5f\",\"arrowhead\":0,\"arrowwidth\":1},\"autotypenumbers\":\"strict\",\"coloraxis\":{\"colorbar\":{\"outlinewidth\":0,\"ticks\":\"\"}},\"colorscale\":{\"diverging\":[[0,\"#8e0152\"],[0.1,\"#c51b7d\"],[0.2,\"#de77ae\"],[0.3,\"#f1b6da\"],[0.4,\"#fde0ef\"],[0.5,\"#f7f7f7\"],[0.6,\"#e6f5d0\"],[0.7,\"#b8e186\"],[0.8,\"#7fbc41\"],[0.9,\"#4d9221\"],[1,\"#276419\"]],\"sequential\":[[0.0,\"#0d0887\"],[0.1111111111111111,\"#46039f\"],[0.2222222222222222,\"#7201a8\"],[0.3333333333333333,\"#9c179e\"],[0.4444444444444444,\"#bd3786\"],[0.5555555555555556,\"#d8576b\"],[0.6666666666666666,\"#ed7953\"],[0.7777777777777778,\"#fb9f3a\"],[0.8888888888888888,\"#fdca26\"],[1.0,\"#f0f921\"]],\"sequentialminus\":[[0.0,\"#0d0887\"],[0.1111111111111111,\"#46039f\"],[0.2222222222222222,\"#7201a8\"],[0.3333333333333333,\"#9c179e\"],[0.4444444444444444,\"#bd3786\"],[0.5555555555555556,\"#d8576b\"],[0.6666666666666666,\"#ed7953\"],[0.7777777777777778,\"#fb9f3a\"],[0.8888888888888888,\"#fdca26\"],[1.0,\"#f0f921\"]]},\"colorway\":[\"#636efa\",\"#EF553B\",\"#00cc96\",\"#ab63fa\",\"#FFA15A\",\"#19d3f3\",\"#FF6692\",\"#B6E880\",\"#FF97FF\",\"#FECB52\"],\"font\":{\"color\":\"#2a3f5f\"},\"geo\":{\"bgcolor\":\"white\",\"lakecolor\":\"white\",\"landcolor\":\"#E5ECF6\",\"showlakes\":true,\"showland\":true,\"subunitcolor\":\"white\"},\"hoverlabel\":{\"align\":\"left\"},\"hovermode\":\"closest\",\"mapbox\":{\"style\":\"light\"},\"paper_bgcolor\":\"white\",\"plot_bgcolor\":\"#E5ECF6\",\"polar\":{\"angularaxis\":{\"gridcolor\":\"white\",\"linecolor\":\"white\",\"ticks\":\"\"},\"bgcolor\":\"#E5ECF6\",\"radialaxis\":{\"gridcolor\":\"white\",\"linecolor\":\"white\",\"ticks\":\"\"}},\"scene\":{\"xaxis\":{\"backgroundcolor\":\"#E5ECF6\",\"gridcolor\":\"white\",\"gridwidth\":2,\"linecolor\":\"white\",\"showbackground\":true,\"ticks\":\"\",\"zerolinecolor\":\"white\"},\"yaxis\":{\"backgroundcolor\":\"#E5ECF6\",\"gridcolor\":\"white\",\"gridwidth\":2,\"linecolor\":\"white\",\"showbackground\":true,\"ticks\":\"\",\"zerolinecolor\":\"white\"},\"zaxis\":{\"backgroundcolor\":\"#E5ECF6\",\"gridcolor\":\"white\",\"gridwidth\":2,\"linecolor\":\"white\",\"showbackground\":true,\"ticks\":\"\",\"zerolinecolor\":\"white\"}},\"shapedefaults\":{\"line\":{\"color\":\"#2a3f5f\"}},\"ternary\":{\"aaxis\":{\"gridcolor\":\"white\",\"linecolor\":\"white\",\"ticks\":\"\"},\"baxis\":{\"gridcolor\":\"white\",\"linecolor\":\"white\",\"ticks\":\"\"},\"bgcolor\":\"#E5ECF6\",\"caxis\":{\"gridcolor\":\"white\",\"linecolor\":\"white\",\"ticks\":\"\"}},\"title\":{\"x\":0.05},\"xaxis\":{\"automargin\":true,\"gridcolor\":\"white\",\"linecolor\":\"white\",\"ticks\":\"\",\"title\":{\"standoff\":15},\"zerolinecolor\":\"white\",\"zerolinewidth\":2},\"yaxis\":{\"automargin\":true,\"gridcolor\":\"white\",\"linecolor\":\"white\",\"ticks\":\"\",\"title\":{\"standoff\":15},\"zerolinecolor\":\"white\",\"zerolinewidth\":2}}},\"xaxis\":{\"anchor\":\"y\",\"domain\":[0.0,1.0],\"title\":{\"text\":\"number\"}},\"yaxis\":{\"anchor\":\"x\",\"domain\":[0.0,1.0],\"title\":{\"text\":\"stage\"}},\"legend\":{\"tracegroupgap\":0},\"title\":{\"text\":\"funnel\"}},                        {\"responsive\": true}                    ).then(function(){\n",
       "                            \n",
       "var gd = document.getElementById('78772e91-269c-452a-a0b6-b344a764bae7');\n",
       "var x = new MutationObserver(function (mutations, observer) {{\n",
       "        var display = window.getComputedStyle(gd).display;\n",
       "        if (!display || display === 'none') {{\n",
       "            console.log([gd, 'removed!']);\n",
       "            Plotly.purge(gd);\n",
       "            observer.disconnect();\n",
       "        }}\n",
       "}});\n",
       "\n",
       "// Listen for the removal of the full notebook cells\n",
       "var notebookContainer = gd.closest('#notebook-container');\n",
       "if (notebookContainer) {{\n",
       "    x.observe(notebookContainer, {childList: true});\n",
       "}}\n",
       "\n",
       "// Listen for the clearing of the current output cell\n",
       "var outputEl = gd.closest('.output');\n",
       "if (outputEl) {{\n",
       "    x.observe(outputEl, {childList: true});\n",
       "}}\n",
       "\n",
       "                        })                };                });            </script>        </div>"
      ]
     },
     "metadata": {},
     "output_type": "display_data"
    }
   ],
   "source": [
    "data_funnel = dict(\n",
    "    number=name_pivot['count'][:-1],\n",
    "    stage=name_pivot.index[:-1])\n",
    "fig = px.funnel(data_funnel, x='number', y='stage', title='funnel')\n",
    "fig.show()"
   ]
  },
  {
   "cell_type": "markdown",
   "metadata": {},
   "source": [
    "## Изучим результаты эксперимента"
   ]
  },
  {
   "cell_type": "code",
   "execution_count": 239,
   "metadata": {},
   "outputs": [
    {
     "data": {
      "text/html": [
       "<div>\n",
       "<style scoped>\n",
       "    .dataframe tbody tr th:only-of-type {\n",
       "        vertical-align: middle;\n",
       "    }\n",
       "\n",
       "    .dataframe tbody tr th {\n",
       "        vertical-align: top;\n",
       "    }\n",
       "\n",
       "    .dataframe thead th {\n",
       "        text-align: right;\n",
       "    }\n",
       "</style>\n",
       "<table border=\"1\" class=\"dataframe\">\n",
       "  <thead>\n",
       "    <tr style=\"text-align: right;\">\n",
       "      <th></th>\n",
       "      <th>event_name</th>\n",
       "    </tr>\n",
       "    <tr>\n",
       "      <th>group</th>\n",
       "      <th></th>\n",
       "    </tr>\n",
       "  </thead>\n",
       "  <tbody>\n",
       "    <tr>\n",
       "      <th>A1</th>\n",
       "      <td>79302</td>\n",
       "    </tr>\n",
       "    <tr>\n",
       "      <th>A2</th>\n",
       "      <td>77022</td>\n",
       "    </tr>\n",
       "    <tr>\n",
       "      <th>B</th>\n",
       "      <td>84563</td>\n",
       "    </tr>\n",
       "  </tbody>\n",
       "</table>\n",
       "</div>"
      ],
      "text/plain": [
       "       event_name\n",
       "group            \n",
       "A1          79302\n",
       "A2          77022\n",
       "B           84563"
      ]
     },
     "execution_count": 239,
     "metadata": {},
     "output_type": "execute_result"
    }
   ],
   "source": [
    "group_pivot = pd.pivot_table(data=data, index='group', values='event_name', aggfunc='count')\n",
    "group_pivot"
   ]
  },
  {
   "cell_type": "code",
   "execution_count": 240,
   "metadata": {},
   "outputs": [
    {
     "data": {
      "text/html": [
       "<div>\n",
       "<style scoped>\n",
       "    .dataframe tbody tr th:only-of-type {\n",
       "        vertical-align: middle;\n",
       "    }\n",
       "\n",
       "    .dataframe tbody tr th {\n",
       "        vertical-align: top;\n",
       "    }\n",
       "\n",
       "    .dataframe thead th {\n",
       "        text-align: right;\n",
       "    }\n",
       "</style>\n",
       "<table border=\"1\" class=\"dataframe\">\n",
       "  <thead>\n",
       "    <tr style=\"text-align: right;\">\n",
       "      <th></th>\n",
       "      <th>event_name</th>\n",
       "      <th>device_id</th>\n",
       "      <th>timestamp</th>\n",
       "      <th>datetime</th>\n",
       "      <th>date</th>\n",
       "      <th>group</th>\n",
       "    </tr>\n",
       "  </thead>\n",
       "  <tbody>\n",
       "    <tr>\n",
       "      <th>2828</th>\n",
       "      <td>Tutorial</td>\n",
       "      <td>3737462046622621720</td>\n",
       "      <td>1564618048</td>\n",
       "      <td>2019-08-01 00:07:28</td>\n",
       "      <td>2019-08-01</td>\n",
       "      <td>A1</td>\n",
       "    </tr>\n",
       "    <tr>\n",
       "      <th>2829</th>\n",
       "      <td>MainScreenAppear</td>\n",
       "      <td>3737462046622621720</td>\n",
       "      <td>1564618080</td>\n",
       "      <td>2019-08-01 00:08:00</td>\n",
       "      <td>2019-08-01</td>\n",
       "      <td>A1</td>\n",
       "    </tr>\n",
       "    <tr>\n",
       "      <th>2830</th>\n",
       "      <td>MainScreenAppear</td>\n",
       "      <td>3737462046622621720</td>\n",
       "      <td>1564618135</td>\n",
       "      <td>2019-08-01 00:08:55</td>\n",
       "      <td>2019-08-01</td>\n",
       "      <td>A1</td>\n",
       "    </tr>\n",
       "    <tr>\n",
       "      <th>2831</th>\n",
       "      <td>OffersScreenAppear</td>\n",
       "      <td>3737462046622621720</td>\n",
       "      <td>1564618138</td>\n",
       "      <td>2019-08-01 00:08:58</td>\n",
       "      <td>2019-08-01</td>\n",
       "      <td>A1</td>\n",
       "    </tr>\n",
       "    <tr>\n",
       "      <th>2832</th>\n",
       "      <td>MainScreenAppear</td>\n",
       "      <td>1433840883824088890</td>\n",
       "      <td>1564618139</td>\n",
       "      <td>2019-08-01 00:08:59</td>\n",
       "      <td>2019-08-01</td>\n",
       "      <td>A2</td>\n",
       "    </tr>\n",
       "  </tbody>\n",
       "</table>\n",
       "</div>"
      ],
      "text/plain": [
       "              event_name            device_id   timestamp            datetime  \\\n",
       "2828            Tutorial  3737462046622621720  1564618048 2019-08-01 00:07:28   \n",
       "2829    MainScreenAppear  3737462046622621720  1564618080 2019-08-01 00:08:00   \n",
       "2830    MainScreenAppear  3737462046622621720  1564618135 2019-08-01 00:08:55   \n",
       "2831  OffersScreenAppear  3737462046622621720  1564618138 2019-08-01 00:08:58   \n",
       "2832    MainScreenAppear  1433840883824088890  1564618139 2019-08-01 00:08:59   \n",
       "\n",
       "           date group  \n",
       "2828 2019-08-01    A1  \n",
       "2829 2019-08-01    A1  \n",
       "2830 2019-08-01    A1  \n",
       "2831 2019-08-01    A1  \n",
       "2832 2019-08-01    A2  "
      ]
     },
     "execution_count": 240,
     "metadata": {},
     "output_type": "execute_result"
    }
   ],
   "source": [
    "data.head()"
   ]
  },
  {
   "cell_type": "code",
   "execution_count": 241,
   "metadata": {},
   "outputs": [
    {
     "data": {
      "image/png": "[encoded data removed]",
      "text/plain": [
       "<Figure size 1152x648 with 1 Axes>"
      ]
     },
     "metadata": {},
     "output_type": "display_data"
    }
   ],
   "source": [
    "plt.figure(figsize=(16, 9))\n",
    "plt.pie(group_pivot['event_name'], labels=['A1', 'A2', 'B'], autopct='%1.1f%%', shadow='true');\n",
    "plt.title('groups_count')\n",
    "plt.show()"
   ]
  },
  {
   "cell_type": "code",
   "execution_count": 242,
   "metadata": {},
   "outputs": [
    {
     "data": {
      "text/html": [
       "<div>\n",
       "<style scoped>\n",
       "    .dataframe tbody tr th:only-of-type {\n",
       "        vertical-align: middle;\n",
       "    }\n",
       "\n",
       "    .dataframe tbody tr th {\n",
       "        vertical-align: top;\n",
       "    }\n",
       "\n",
       "    .dataframe thead th {\n",
       "        text-align: right;\n",
       "    }\n",
       "</style>\n",
       "<table border=\"1\" class=\"dataframe\">\n",
       "  <thead>\n",
       "    <tr style=\"text-align: right;\">\n",
       "      <th></th>\n",
       "      <th>event_name</th>\n",
       "      <th>device_id</th>\n",
       "      <th>timestamp</th>\n",
       "      <th>datetime</th>\n",
       "      <th>date</th>\n",
       "      <th>group</th>\n",
       "    </tr>\n",
       "  </thead>\n",
       "  <tbody>\n",
       "    <tr>\n",
       "      <th>2828</th>\n",
       "      <td>Tutorial</td>\n",
       "      <td>3737462046622621720</td>\n",
       "      <td>1564618048</td>\n",
       "      <td>2019-08-01 00:07:28</td>\n",
       "      <td>2019-08-01</td>\n",
       "      <td>A1</td>\n",
       "    </tr>\n",
       "    <tr>\n",
       "      <th>2829</th>\n",
       "      <td>MainScreenAppear</td>\n",
       "      <td>3737462046622621720</td>\n",
       "      <td>1564618080</td>\n",
       "      <td>2019-08-01 00:08:00</td>\n",
       "      <td>2019-08-01</td>\n",
       "      <td>A1</td>\n",
       "    </tr>\n",
       "    <tr>\n",
       "      <th>2830</th>\n",
       "      <td>MainScreenAppear</td>\n",
       "      <td>3737462046622621720</td>\n",
       "      <td>1564618135</td>\n",
       "      <td>2019-08-01 00:08:55</td>\n",
       "      <td>2019-08-01</td>\n",
       "      <td>A1</td>\n",
       "    </tr>\n",
       "    <tr>\n",
       "      <th>2831</th>\n",
       "      <td>OffersScreenAppear</td>\n",
       "      <td>3737462046622621720</td>\n",
       "      <td>1564618138</td>\n",
       "      <td>2019-08-01 00:08:58</td>\n",
       "      <td>2019-08-01</td>\n",
       "      <td>A1</td>\n",
       "    </tr>\n",
       "    <tr>\n",
       "      <th>2832</th>\n",
       "      <td>MainScreenAppear</td>\n",
       "      <td>1433840883824088890</td>\n",
       "      <td>1564618139</td>\n",
       "      <td>2019-08-01 00:08:59</td>\n",
       "      <td>2019-08-01</td>\n",
       "      <td>A2</td>\n",
       "    </tr>\n",
       "  </tbody>\n",
       "</table>\n",
       "</div>"
      ],
      "text/plain": [
       "              event_name            device_id   timestamp            datetime  \\\n",
       "2828            Tutorial  3737462046622621720  1564618048 2019-08-01 00:07:28   \n",
       "2829    MainScreenAppear  3737462046622621720  1564618080 2019-08-01 00:08:00   \n",
       "2830    MainScreenAppear  3737462046622621720  1564618135 2019-08-01 00:08:55   \n",
       "2831  OffersScreenAppear  3737462046622621720  1564618138 2019-08-01 00:08:58   \n",
       "2832    MainScreenAppear  1433840883824088890  1564618139 2019-08-01 00:08:59   \n",
       "\n",
       "           date group  \n",
       "2828 2019-08-01    A1  \n",
       "2829 2019-08-01    A1  \n",
       "2830 2019-08-01    A1  \n",
       "2831 2019-08-01    A1  \n",
       "2832 2019-08-01    A2  "
      ]
     },
     "execution_count": 242,
     "metadata": {},
     "output_type": "execute_result"
    }
   ],
   "source": [
    "data.head()"
   ]
  },
  {
   "cell_type": "code",
   "execution_count": 243,
   "metadata": {
    "scrolled": false
   },
   "outputs": [
    {
     "data": {
      "text/html": [
       "<div>\n",
       "<style scoped>\n",
       "    .dataframe tbody tr th:only-of-type {\n",
       "        vertical-align: middle;\n",
       "    }\n",
       "\n",
       "    .dataframe tbody tr th {\n",
       "        vertical-align: top;\n",
       "    }\n",
       "\n",
       "    .dataframe thead th {\n",
       "        text-align: right;\n",
       "    }\n",
       "</style>\n",
       "<table border=\"1\" class=\"dataframe\">\n",
       "  <thead>\n",
       "    <tr style=\"text-align: right;\">\n",
       "      <th></th>\n",
       "      <th>count</th>\n",
       "      <th>nunique</th>\n",
       "    </tr>\n",
       "    <tr>\n",
       "      <th>event_name</th>\n",
       "      <th></th>\n",
       "      <th></th>\n",
       "    </tr>\n",
       "  </thead>\n",
       "  <tbody>\n",
       "    <tr>\n",
       "      <th>MainScreenAppear</th>\n",
       "      <td>37676</td>\n",
       "      <td>2450</td>\n",
       "    </tr>\n",
       "    <tr>\n",
       "      <th>OffersScreenAppear</th>\n",
       "      <td>14767</td>\n",
       "      <td>1542</td>\n",
       "    </tr>\n",
       "    <tr>\n",
       "      <th>CartScreenAppear</th>\n",
       "      <td>14690</td>\n",
       "      <td>1266</td>\n",
       "    </tr>\n",
       "    <tr>\n",
       "      <th>PaymentScreenSuccessful</th>\n",
       "      <td>11852</td>\n",
       "      <td>1200</td>\n",
       "    </tr>\n",
       "    <tr>\n",
       "      <th>Tutorial</th>\n",
       "      <td>317</td>\n",
       "      <td>278</td>\n",
       "    </tr>\n",
       "  </tbody>\n",
       "</table>\n",
       "</div>"
      ],
      "text/plain": [
       "                         count  nunique\n",
       "event_name                             \n",
       "MainScreenAppear         37676     2450\n",
       "OffersScreenAppear       14767     1542\n",
       "CartScreenAppear         14690     1266\n",
       "PaymentScreenSuccessful  11852     1200\n",
       "Tutorial                   317      278"
      ]
     },
     "metadata": {},
     "output_type": "display_data"
    },
    {
     "data": {
      "image/png": "[encoded data removed]",
      "text/plain": [
       "<Figure size 1152x648 with 1 Axes>"
      ]
     },
     "metadata": {},
     "output_type": "display_data"
    },
    {
     "data": {
      "image/png": "[encoded data removed]",
      "text/plain": [
       "<Figure size 1152x648 with 1 Axes>"
      ]
     },
     "metadata": {},
     "output_type": "display_data"
    }
   ],
   "source": [
    "\n",
    "name_pivotA1 = pd.pivot_table(data=data.query('group == \"A1\"'), \n",
    "                    index='event_name', \n",
    "                    values='device_id', \n",
    "                    aggfunc=['count', 'nunique'])\n",
    "name_pivotA1.columns=['count', 'nunique']\n",
    "name_pivotA1 = name_pivotA1.sort_values(by='count', ascending=False)\n",
    "display(name_pivotA1)\n",
    "plt.figure(figsize=(16, 9))\n",
    "plt.pie(name_pivotA1['count'],\n",
    "        labels=name_pivotA1.index, autopct='%1.1f%%', shadow='true');\n",
    "plt.title('events_count')\n",
    "plt.figure(figsize=(16, 9))\n",
    "plt.pie(name_pivotA1['nunique'],\n",
    "        labels=name_pivotA1.index, autopct='%1.1f%%', shadow='true');\n",
    "plt.title('users_count')\n",
    "plt.show()"
   ]
  },
  {
   "cell_type": "code",
   "execution_count": 244,
   "metadata": {},
   "outputs": [
    {
     "data": {
      "text/html": [
       "<div>\n",
       "<style scoped>\n",
       "    .dataframe tbody tr th:only-of-type {\n",
       "        vertical-align: middle;\n",
       "    }\n",
       "\n",
       "    .dataframe tbody tr th {\n",
       "        vertical-align: top;\n",
       "    }\n",
       "\n",
       "    .dataframe thead th {\n",
       "        text-align: right;\n",
       "    }\n",
       "</style>\n",
       "<table border=\"1\" class=\"dataframe\">\n",
       "  <thead>\n",
       "    <tr style=\"text-align: right;\">\n",
       "      <th></th>\n",
       "      <th>count</th>\n",
       "      <th>nunique</th>\n",
       "    </tr>\n",
       "    <tr>\n",
       "      <th>event_name</th>\n",
       "      <th></th>\n",
       "      <th></th>\n",
       "    </tr>\n",
       "  </thead>\n",
       "  <tbody>\n",
       "    <tr>\n",
       "      <th>MainScreenAppear</th>\n",
       "      <td>39090</td>\n",
       "      <td>2476</td>\n",
       "    </tr>\n",
       "    <tr>\n",
       "      <th>OffersScreenAppear</th>\n",
       "      <td>15179</td>\n",
       "      <td>1520</td>\n",
       "    </tr>\n",
       "    <tr>\n",
       "      <th>CartScreenAppear</th>\n",
       "      <td>12434</td>\n",
       "      <td>1238</td>\n",
       "    </tr>\n",
       "    <tr>\n",
       "      <th>PaymentScreenSuccessful</th>\n",
       "      <td>9981</td>\n",
       "      <td>1158</td>\n",
       "    </tr>\n",
       "    <tr>\n",
       "      <th>Tutorial</th>\n",
       "      <td>338</td>\n",
       "      <td>283</td>\n",
       "    </tr>\n",
       "  </tbody>\n",
       "</table>\n",
       "</div>"
      ],
      "text/plain": [
       "                         count  nunique\n",
       "event_name                             \n",
       "MainScreenAppear         39090     2476\n",
       "OffersScreenAppear       15179     1520\n",
       "CartScreenAppear         12434     1238\n",
       "PaymentScreenSuccessful   9981     1158\n",
       "Tutorial                   338      283"
      ]
     },
     "metadata": {},
     "output_type": "display_data"
    },
    {
     "data": {
      "image/png": "[encoded data removed]",
      "text/plain": [
       "<Figure size 1152x648 with 1 Axes>"
      ]
     },
     "metadata": {},
     "output_type": "display_data"
    },
    {
     "data": {
      "image/png": "[encoded data removed]",
      "text/plain": [
       "<Figure size 1152x648 with 1 Axes>"
      ]
     },
     "metadata": {},
     "output_type": "display_data"
    }
   ],
   "source": [
    "name_pivotA2 = pd.pivot_table(data=data.query('group == \"A2\"'), \n",
    "                    index='event_name', \n",
    "                    values='device_id', \n",
    "                    aggfunc=['count', 'nunique'])\n",
    "name_pivotA2.columns=['count', 'nunique']\n",
    "name_pivotA2 = name_pivotA2.sort_values(by='count', ascending=False)\n",
    "display(name_pivotA2)\n",
    "plt.figure(figsize=(16, 9))\n",
    "plt.pie(name_pivotA2['count'],\n",
    "        labels=name_pivotA2.index, autopct='%1.1f%%', shadow='true');\n",
    "plt.title('events_count')\n",
    "plt.figure(figsize=(16, 9))\n",
    "plt.pie(name_pivotA2['nunique'],\n",
    "        labels=name_pivotA2.index, autopct='%1.1f%%', shadow='true');\n",
    "plt.title('users_count')\n",
    "plt.show()"
   ]
  },
  {
   "cell_type": "code",
   "execution_count": 245,
   "metadata": {},
   "outputs": [
    {
     "data": {
      "text/html": [
       "<div>\n",
       "<style scoped>\n",
       "    .dataframe tbody tr th:only-of-type {\n",
       "        vertical-align: middle;\n",
       "    }\n",
       "\n",
       "    .dataframe tbody tr th {\n",
       "        vertical-align: top;\n",
       "    }\n",
       "\n",
       "    .dataframe thead th {\n",
       "        text-align: right;\n",
       "    }\n",
       "</style>\n",
       "<table border=\"1\" class=\"dataframe\">\n",
       "  <thead>\n",
       "    <tr style=\"text-align: right;\">\n",
       "      <th></th>\n",
       "      <th>count</th>\n",
       "      <th>nunique</th>\n",
       "    </tr>\n",
       "    <tr>\n",
       "      <th>event_name</th>\n",
       "      <th></th>\n",
       "      <th></th>\n",
       "    </tr>\n",
       "  </thead>\n",
       "  <tbody>\n",
       "    <tr>\n",
       "      <th>MainScreenAppear</th>\n",
       "      <td>40562</td>\n",
       "      <td>2493</td>\n",
       "    </tr>\n",
       "    <tr>\n",
       "      <th>OffersScreenAppear</th>\n",
       "      <td>16387</td>\n",
       "      <td>1531</td>\n",
       "    </tr>\n",
       "    <tr>\n",
       "      <th>CartScreenAppear</th>\n",
       "      <td>15179</td>\n",
       "      <td>1230</td>\n",
       "    </tr>\n",
       "    <tr>\n",
       "      <th>PaymentScreenSuccessful</th>\n",
       "      <td>12085</td>\n",
       "      <td>1181</td>\n",
       "    </tr>\n",
       "    <tr>\n",
       "      <th>Tutorial</th>\n",
       "      <td>350</td>\n",
       "      <td>279</td>\n",
       "    </tr>\n",
       "  </tbody>\n",
       "</table>\n",
       "</div>"
      ],
      "text/plain": [
       "                         count  nunique\n",
       "event_name                             \n",
       "MainScreenAppear         40562     2493\n",
       "OffersScreenAppear       16387     1531\n",
       "CartScreenAppear         15179     1230\n",
       "PaymentScreenSuccessful  12085     1181\n",
       "Tutorial                   350      279"
      ]
     },
     "metadata": {},
     "output_type": "display_data"
    },
    {
     "data": {
      "image/png": "[encoded data removed]",
      "text/plain": [
       "<Figure size 1152x648 with 1 Axes>"
      ]
     },
     "metadata": {},
     "output_type": "display_data"
    },
    {
     "data": {
      "image/png": "[encoded data removed]",
      "text/plain": [
       "<Figure size 1152x648 with 1 Axes>"
      ]
     },
     "metadata": {},
     "output_type": "display_data"
    }
   ],
   "source": [
    "name_pivotB = pd.pivot_table(data=data.query('group == \"B\"'), \n",
    "                    index='event_name', \n",
    "                    values='device_id', \n",
    "                    aggfunc=['count', 'nunique'])\n",
    "name_pivotB.columns=['count', 'nunique']\n",
    "name_pivotB = name_pivotB.sort_values(by='count', ascending=False)\n",
    "display(name_pivotB)\n",
    "plt.figure(figsize=(16, 9))\n",
    "plt.pie(name_pivotB['count'],\n",
    "        labels=name_pivotB.index, autopct='%1.1f%%', shadow='true');\n",
    "plt.title('events_count')\n",
    "plt.figure(figsize=(16, 9))\n",
    "plt.pie(name_pivotB['nunique'],\n",
    "        labels=name_pivotB.index, autopct='%1.1f%%', shadow='true');\n",
    "plt.title('users_count')\n",
    "plt.show()"
   ]
  },
  {
   "cell_type": "markdown",
   "metadata": {},
   "source": [
    "Проверим статистическое различие гипотез при помощи непараметрического теста Манна-Уитни"
   ]
  },
  {
   "cell_type": "code",
   "execution_count": 246,
   "metadata": {},
   "outputs": [
    {
     "data": {
      "text/html": [
       "<div>\n",
       "<style scoped>\n",
       "    .dataframe tbody tr th:only-of-type {\n",
       "        vertical-align: middle;\n",
       "    }\n",
       "\n",
       "    .dataframe tbody tr th {\n",
       "        vertical-align: top;\n",
       "    }\n",
       "\n",
       "    .dataframe thead th {\n",
       "        text-align: right;\n",
       "    }\n",
       "</style>\n",
       "<table border=\"1\" class=\"dataframe\">\n",
       "  <thead>\n",
       "    <tr style=\"text-align: right;\">\n",
       "      <th></th>\n",
       "      <th>count</th>\n",
       "      <th>nunique</th>\n",
       "    </tr>\n",
       "    <tr>\n",
       "      <th>event_name</th>\n",
       "      <th></th>\n",
       "      <th></th>\n",
       "    </tr>\n",
       "  </thead>\n",
       "  <tbody>\n",
       "    <tr>\n",
       "      <th>MainScreenAppear</th>\n",
       "      <td>76766</td>\n",
       "      <td>4926</td>\n",
       "    </tr>\n",
       "    <tr>\n",
       "      <th>OffersScreenAppear</th>\n",
       "      <td>29946</td>\n",
       "      <td>3062</td>\n",
       "    </tr>\n",
       "    <tr>\n",
       "      <th>CartScreenAppear</th>\n",
       "      <td>27124</td>\n",
       "      <td>2504</td>\n",
       "    </tr>\n",
       "    <tr>\n",
       "      <th>PaymentScreenSuccessful</th>\n",
       "      <td>21833</td>\n",
       "      <td>2358</td>\n",
       "    </tr>\n",
       "    <tr>\n",
       "      <th>Tutorial</th>\n",
       "      <td>655</td>\n",
       "      <td>561</td>\n",
       "    </tr>\n",
       "  </tbody>\n",
       "</table>\n",
       "</div>"
      ],
      "text/plain": [
       "                         count  nunique\n",
       "event_name                             \n",
       "MainScreenAppear         76766     4926\n",
       "OffersScreenAppear       29946     3062\n",
       "CartScreenAppear         27124     2504\n",
       "PaymentScreenSuccessful  21833     2358\n",
       "Tutorial                   655      561"
      ]
     },
     "metadata": {},
     "output_type": "display_data"
    },
    {
     "data": {
      "image/png": "[encoded data removed]",
      "text/plain": [
       "<Figure size 1152x648 with 1 Axes>"
      ]
     },
     "metadata": {},
     "output_type": "display_data"
    },
    {
     "data": {
      "image/png": "[encoded data removed]",
      "text/plain": [
       "<Figure size 1152x648 with 1 Axes>"
      ]
     },
     "metadata": {},
     "output_type": "display_data"
    }
   ],
   "source": [
    "name_pivotA = pd.pivot_table(data=data.query('group == \"A1\" or group == \"A2\"'), \n",
    "                    index='event_name', \n",
    "                    values='device_id', \n",
    "                    aggfunc=['count', 'nunique'])\n",
    "name_pivotA.columns=['count', 'nunique']\n",
    "name_pivotA = name_pivotA.sort_values(by='count', ascending=False)\n",
    "display(name_pivotA)\n",
    "plt.figure(figsize=(16, 9))\n",
    "plt.pie(name_pivotA['count'],\n",
    "        labels=name_pivotA.index, autopct='%1.1f%%', shadow='true');\n",
    "plt.title('events_count')\n",
    "plt.figure(figsize=(16, 9))\n",
    "plt.pie(name_pivotA['nunique'],\n",
    "        labels=name_pivotA.index, autopct='%1.1f%%', shadow='true');\n",
    "plt.title('users_count')\n",
    "plt.show()"
   ]
  },
  {
   "cell_type": "code",
   "execution_count": 247,
   "metadata": {},
   "outputs": [
    {
     "data": {
      "text/html": [
       "<div>\n",
       "<style scoped>\n",
       "    .dataframe tbody tr th:only-of-type {\n",
       "        vertical-align: middle;\n",
       "    }\n",
       "\n",
       "    .dataframe tbody tr th {\n",
       "        vertical-align: top;\n",
       "    }\n",
       "\n",
       "    .dataframe thead th {\n",
       "        text-align: right;\n",
       "    }\n",
       "</style>\n",
       "<table border=\"1\" class=\"dataframe\">\n",
       "  <thead>\n",
       "    <tr style=\"text-align: right;\">\n",
       "      <th></th>\n",
       "      <th>count</th>\n",
       "    </tr>\n",
       "    <tr>\n",
       "      <th>device_id</th>\n",
       "      <th></th>\n",
       "    </tr>\n",
       "  </thead>\n",
       "  <tbody>\n",
       "    <tr>\n",
       "      <th>6304868067479728361</th>\n",
       "      <td>2307</td>\n",
       "    </tr>\n",
       "    <tr>\n",
       "      <th>6932517045703054087</th>\n",
       "      <td>1439</td>\n",
       "    </tr>\n",
       "    <tr>\n",
       "      <th>4713748699910253089</th>\n",
       "      <td>824</td>\n",
       "    </tr>\n",
       "    <tr>\n",
       "      <th>3521696259961091617</th>\n",
       "      <td>702</td>\n",
       "    </tr>\n",
       "    <tr>\n",
       "      <th>3610536745613892312</th>\n",
       "      <td>661</td>\n",
       "    </tr>\n",
       "    <tr>\n",
       "      <th>...</th>\n",
       "      <td>...</td>\n",
       "    </tr>\n",
       "    <tr>\n",
       "      <th>1201821821994248592</th>\n",
       "      <td>1</td>\n",
       "    </tr>\n",
       "    <tr>\n",
       "      <th>8188293597840107588</th>\n",
       "      <td>1</td>\n",
       "    </tr>\n",
       "    <tr>\n",
       "      <th>8186183676377809366</th>\n",
       "      <td>1</td>\n",
       "    </tr>\n",
       "    <tr>\n",
       "      <th>4729948115643244079</th>\n",
       "      <td>1</td>\n",
       "    </tr>\n",
       "    <tr>\n",
       "      <th>1763795425157684703</th>\n",
       "      <td>1</td>\n",
       "    </tr>\n",
       "  </tbody>\n",
       "</table>\n",
       "<p>2537 rows × 1 columns</p>\n",
       "</div>"
      ],
      "text/plain": [
       "                     count\n",
       "device_id                 \n",
       "6304868067479728361   2307\n",
       "6932517045703054087   1439\n",
       "4713748699910253089    824\n",
       "3521696259961091617    702\n",
       "3610536745613892312    661\n",
       "...                    ...\n",
       "1201821821994248592      1\n",
       "8188293597840107588      1\n",
       "8186183676377809366      1\n",
       "4729948115643244079      1\n",
       "1763795425157684703      1\n",
       "\n",
       "[2537 rows x 1 columns]"
      ]
     },
     "metadata": {},
     "output_type": "display_data"
    }
   ],
   "source": [
    "user_pivotB = pd.pivot_table(data=data.query('group == \"B\"'), \n",
    "                    index='device_id', \n",
    "                    values='event_name', \n",
    "                    aggfunc=['count'])\n",
    "user_pivotB.columns=['count']\n",
    "user_pivotB = user_pivotB.sort_values(by='count', ascending=False)\n",
    "display(user_pivotB)\n"
   ]
  },
  {
   "cell_type": "code",
   "execution_count": 248,
   "metadata": {},
   "outputs": [
    {
     "data": {
      "text/html": [
       "<div>\n",
       "<style scoped>\n",
       "    .dataframe tbody tr th:only-of-type {\n",
       "        vertical-align: middle;\n",
       "    }\n",
       "\n",
       "    .dataframe tbody tr th {\n",
       "        vertical-align: top;\n",
       "    }\n",
       "\n",
       "    .dataframe thead th {\n",
       "        text-align: right;\n",
       "    }\n",
       "</style>\n",
       "<table border=\"1\" class=\"dataframe\">\n",
       "  <thead>\n",
       "    <tr style=\"text-align: right;\">\n",
       "      <th></th>\n",
       "      <th>count</th>\n",
       "    </tr>\n",
       "    <tr>\n",
       "      <th>device_id</th>\n",
       "      <th></th>\n",
       "    </tr>\n",
       "  </thead>\n",
       "  <tbody>\n",
       "    <tr>\n",
       "      <th>197027893265565660</th>\n",
       "      <td>1996</td>\n",
       "    </tr>\n",
       "    <tr>\n",
       "      <th>3337471580007169353</th>\n",
       "      <td>1186</td>\n",
       "    </tr>\n",
       "    <tr>\n",
       "      <th>7738058666231999878</th>\n",
       "      <td>888</td>\n",
       "    </tr>\n",
       "    <tr>\n",
       "      <th>1055544042902443290</th>\n",
       "      <td>853</td>\n",
       "    </tr>\n",
       "    <tr>\n",
       "      <th>8118046800480174342</th>\n",
       "      <td>755</td>\n",
       "    </tr>\n",
       "    <tr>\n",
       "      <th>...</th>\n",
       "      <td>...</td>\n",
       "    </tr>\n",
       "    <tr>\n",
       "      <th>1223708690315846789</th>\n",
       "      <td>1</td>\n",
       "    </tr>\n",
       "    <tr>\n",
       "      <th>986776646643071594</th>\n",
       "      <td>1</td>\n",
       "    </tr>\n",
       "    <tr>\n",
       "      <th>953362203797229321</th>\n",
       "      <td>1</td>\n",
       "    </tr>\n",
       "    <tr>\n",
       "      <th>638752412546112558</th>\n",
       "      <td>1</td>\n",
       "    </tr>\n",
       "    <tr>\n",
       "      <th>6888746892508752</th>\n",
       "      <td>1</td>\n",
       "    </tr>\n",
       "  </tbody>\n",
       "</table>\n",
       "<p>2484 rows × 1 columns</p>\n",
       "</div>"
      ],
      "text/plain": [
       "                     count\n",
       "device_id                 \n",
       "197027893265565660    1996\n",
       "3337471580007169353   1186\n",
       "7738058666231999878    888\n",
       "1055544042902443290    853\n",
       "8118046800480174342    755\n",
       "...                    ...\n",
       "1223708690315846789      1\n",
       "986776646643071594       1\n",
       "953362203797229321       1\n",
       "638752412546112558       1\n",
       "6888746892508752         1\n",
       "\n",
       "[2484 rows x 1 columns]"
      ]
     },
     "metadata": {},
     "output_type": "display_data"
    }
   ],
   "source": [
    "user_pivotA1 = pd.pivot_table(data=data.query('group == \"A1\"'), \n",
    "                    index='device_id', \n",
    "                    values='event_name', \n",
    "                    aggfunc=['count'])\n",
    "user_pivotA1.columns=['count']\n",
    "user_pivotA1 = user_pivotA1.sort_values(by='count', ascending=False)\n",
    "display(user_pivotA1)\n"
   ]
  },
  {
   "cell_type": "code",
   "execution_count": 249,
   "metadata": {},
   "outputs": [
    {
     "data": {
      "text/html": [
       "<div>\n",
       "<style scoped>\n",
       "    .dataframe tbody tr th:only-of-type {\n",
       "        vertical-align: middle;\n",
       "    }\n",
       "\n",
       "    .dataframe tbody tr th {\n",
       "        vertical-align: top;\n",
       "    }\n",
       "\n",
       "    .dataframe thead th {\n",
       "        text-align: right;\n",
       "    }\n",
       "</style>\n",
       "<table border=\"1\" class=\"dataframe\">\n",
       "  <thead>\n",
       "    <tr style=\"text-align: right;\">\n",
       "      <th></th>\n",
       "      <th>count</th>\n",
       "    </tr>\n",
       "    <tr>\n",
       "      <th>device_id</th>\n",
       "      <th></th>\n",
       "    </tr>\n",
       "  </thead>\n",
       "  <tbody>\n",
       "    <tr>\n",
       "      <th>4623191541214045580</th>\n",
       "      <td>1768</td>\n",
       "    </tr>\n",
       "    <tr>\n",
       "      <th>1754140665440434215</th>\n",
       "      <td>1221</td>\n",
       "    </tr>\n",
       "    <tr>\n",
       "      <th>1989685320445148348</th>\n",
       "      <td>728</td>\n",
       "    </tr>\n",
       "    <tr>\n",
       "      <th>2768580714092136945</th>\n",
       "      <td>523</td>\n",
       "    </tr>\n",
       "    <tr>\n",
       "      <th>4257848154605915902</th>\n",
       "      <td>378</td>\n",
       "    </tr>\n",
       "    <tr>\n",
       "      <th>...</th>\n",
       "      <td>...</td>\n",
       "    </tr>\n",
       "    <tr>\n",
       "      <th>6192612340865921875</th>\n",
       "      <td>1</td>\n",
       "    </tr>\n",
       "    <tr>\n",
       "      <th>8005753485514903385</th>\n",
       "      <td>1</td>\n",
       "    </tr>\n",
       "    <tr>\n",
       "      <th>6936517579657223951</th>\n",
       "      <td>1</td>\n",
       "    </tr>\n",
       "    <tr>\n",
       "      <th>732356052255400077</th>\n",
       "      <td>1</td>\n",
       "    </tr>\n",
       "    <tr>\n",
       "      <th>5141711951908649896</th>\n",
       "      <td>1</td>\n",
       "    </tr>\n",
       "  </tbody>\n",
       "</table>\n",
       "<p>2513 rows × 1 columns</p>\n",
       "</div>"
      ],
      "text/plain": [
       "                     count\n",
       "device_id                 \n",
       "4623191541214045580   1768\n",
       "1754140665440434215   1221\n",
       "1989685320445148348    728\n",
       "2768580714092136945    523\n",
       "4257848154605915902    378\n",
       "...                    ...\n",
       "6192612340865921875      1\n",
       "8005753485514903385      1\n",
       "6936517579657223951      1\n",
       "732356052255400077       1\n",
       "5141711951908649896      1\n",
       "\n",
       "[2513 rows x 1 columns]"
      ]
     },
     "metadata": {},
     "output_type": "display_data"
    }
   ],
   "source": [
    "user_pivotA2 = pd.pivot_table(data=data.query('group == \"A2\"'), \n",
    "                    index='device_id', \n",
    "                    values='event_name', \n",
    "                    aggfunc=['count'])\n",
    "user_pivotA2.columns=['count']\n",
    "user_pivotA2 = user_pivotA2.sort_values(by='count', ascending=False)\n",
    "display(user_pivotA2)\n"
   ]
  },
  {
   "cell_type": "code",
   "execution_count": 250,
   "metadata": {},
   "outputs": [],
   "source": [
    "def z_test_iter(df1, df2, alpha):\n",
    "    for i in range(len(df1.index) - 1):\n",
    "        print(f'Вычисляем z критерий для {i+1} шага')\n",
    "        successes = np.array([df1['count'][i+1], df2['count'][i+1]])\n",
    "        trials = np.array([df1['count'][i], df2['count'][i]])\n",
    "        z_test(successes, trials, alpha)"
   ]
  },
  {
   "cell_type": "code",
   "execution_count": 251,
   "metadata": {},
   "outputs": [],
   "source": [
    "def z_test(successes, trials, alpha):\n",
    "    # пропорция успехов в первой группе:\n",
    "    p1 = successes[0]/trials[0]\n",
    "\n",
    "    # пропорция успехов во второй группе:\n",
    "    p2 = successes[1]/trials[1]\n",
    "\n",
    "    # пропорция успехов в комбинированном датасете:\n",
    "    p_combined = (successes[0] + successes[1]) / (trials[0] + trials[1])\n",
    "\n",
    "    # разница пропорций в датасетах\n",
    "    difference = p1 - p2\n",
    "    # считаем статистику в ст.отклонениях стандартного нормального распределения\n",
    "    z_value = difference / math.sqrt(p_combined * (1 - p_combined) * (1/trials[0] + 1/trials[1]))\n",
    "\n",
    "    # задаем стандартное нормальное распределение (среднее 0, ст.отклонение 1)\n",
    "    distr = st.norm(0, 1) \n",
    "    \n",
    "    p_value = (1 - distr.cdf(abs(z_value))) * 2\n",
    "\n",
    "    print('p-значение: ', p_value)\n",
    "\n",
    "    if p_value < alpha:\n",
    "        print('Отвергаем нулевую гипотезу: между долями есть значимая разница')\n",
    "    else:\n",
    "        print(\n",
    "            'Не получилось отвергнуть нулевую гипотезу, нет оснований считать доли разными'\n",
    "        )"
   ]
  },
  {
   "cell_type": "code",
   "execution_count": 252,
   "metadata": {},
   "outputs": [
    {
     "name": "stdout",
     "output_type": "stream",
     "text": [
      "Вычисляем z критерий для 1 шага\n",
      "p-значение:  0.30156092481921815\n",
      "Не получилось отвергнуть нулевую гипотезу, нет оснований считать доли разными\n",
      "Вычисляем z критерий для 2 шага\n",
      "p-значение:  0.0\n",
      "Отвергаем нулевую гипотезу: между долями есть значимая разница\n",
      "Вычисляем z критерий для 3 шага\n",
      "p-значение:  0.39710251244033623\n",
      "Не получилось отвергнуть нулевую гипотезу, нет оснований считать доли разными\n",
      "Вычисляем z критерий для 4 шага\n",
      "p-значение:  0.0021312852874268984\n",
      "Отвергаем нулевую гипотезу: между долями есть значимая разница\n"
     ]
    }
   ],
   "source": [
    "z_test_iter(name_pivotA1, name_pivotA2, .1)"
   ]
  },
  {
   "cell_type": "code",
   "execution_count": 253,
   "metadata": {},
   "outputs": [
    {
     "name": "stdout",
     "output_type": "stream",
     "text": [
      "Вычисляем z критерий для 1 шага\n",
      "p-значение:  6.018696650178512e-06\n",
      "Отвергаем нулевую гипотезу: между долями есть значимая разница\n",
      "Вычисляем z критерий для 2 шага\n",
      "p-значение:  0.0\n",
      "Отвергаем нулевую гипотезу: между долями есть значимая разница\n",
      "Вычисляем z критерий для 3 шага\n",
      "p-значение:  0.17634571420040723\n",
      "Не получилось отвергнуть нулевую гипотезу, нет оснований считать доли разными\n",
      "Вычисляем z критерий для 4 шага\n",
      "p-значение:  0.03701081777846471\n",
      "Отвергаем нулевую гипотезу: между долями есть значимая разница\n"
     ]
    }
   ],
   "source": [
    "z_test_iter(name_pivotB, name_pivotA2, .1)"
   ]
  },
  {
   "cell_type": "code",
   "execution_count": 254,
   "metadata": {},
   "outputs": [
    {
     "name": "stdout",
     "output_type": "stream",
     "text": [
      "Вычисляем z критерий для 1 шага\n",
      "p-значение:  0.0005800679101024553\n",
      "Отвергаем нулевую гипотезу: между долями есть значимая разница\n",
      "Вычисляем z критерий для 2 шага\n",
      "p-значение:  0.0\n",
      "Отвергаем нулевую гипотезу: между долями есть значимая разница\n",
      "Вычисляем z критерий для 3 шага\n",
      "p-значение:  0.02118344648652859\n",
      "Отвергаем нулевую гипотезу: между долями есть значимая разница\n",
      "Вычисляем z критерий для 4 шага\n",
      "p-значение:  0.2978618110389517\n",
      "Не получилось отвергнуть нулевую гипотезу, нет оснований считать доли разными\n"
     ]
    }
   ],
   "source": [
    "z_test_iter(name_pivotB, name_pivotA1, .1)"
   ]
  },
  {
   "cell_type": "code",
   "execution_count": 255,
   "metadata": {},
   "outputs": [
    {
     "name": "stdout",
     "output_type": "stream",
     "text": [
      "Вычисляем z критерий для 1 шага\n",
      "p-значение:  3.5908870474887777e-06\n",
      "Отвергаем нулевую гипотезу: между долями есть значимая разница\n",
      "Вычисляем z критерий для 2 шага\n",
      "p-значение:  6.705747068735946e-14\n",
      "Отвергаем нулевую гипотезу: между долями есть значимая разница\n",
      "Вычисляем z критерий для 3 шага\n",
      "p-значение:  0.030038707127272524\n",
      "Отвергаем нулевую гипотезу: между долями есть значимая разница\n",
      "Вычисляем z критерий для 4 шага\n",
      "p-значение:  0.588919816475657\n",
      "Не получилось отвергнуть нулевую гипотезу, нет оснований считать доли разными\n"
     ]
    }
   ],
   "source": [
    "z_test_iter(name_pivotB, name_pivotA, .1)"
   ]
  },
  {
   "cell_type": "markdown",
   "metadata": {},
   "source": [
    "Наблюдаем статистически значимое различие групп A1 и B на всех этапах клиентского пути. Между группами A2 и B на первых двух шагах. Между группами A1 и A2 на втором и четвертом шаге. "
   ]
  },
  {
   "cell_type": "markdown",
   "metadata": {},
   "source": [
    "Для проверки статистических гипотез я выбрал уровень значимости alpha = 0.1. Всего было выполнено 16 проверок, таким образом, примерно в 1-2 случаях получен ложный результат. Попробуем провести тесты с более низким уровнем значимости"
   ]
  },
  {
   "cell_type": "code",
   "execution_count": 256,
   "metadata": {},
   "outputs": [
    {
     "name": "stdout",
     "output_type": "stream",
     "text": [
      "Вычисляем z критерий для 1 шага\n",
      "p-значение:  0.30156092481921815\n",
      "Не получилось отвергнуть нулевую гипотезу, нет оснований считать доли разными\n",
      "Вычисляем z критерий для 2 шага\n",
      "p-значение:  0.0\n",
      "Отвергаем нулевую гипотезу: между долями есть значимая разница\n",
      "Вычисляем z критерий для 3 шага\n",
      "p-значение:  0.39710251244033623\n",
      "Не получилось отвергнуть нулевую гипотезу, нет оснований считать доли разными\n",
      "Вычисляем z критерий для 4 шага\n",
      "p-значение:  0.0021312852874268984\n",
      "Отвергаем нулевую гипотезу: между долями есть значимая разница\n"
     ]
    }
   ],
   "source": [
    "z_test_iter(name_pivotA1, name_pivotA2, .05)"
   ]
  },
  {
   "cell_type": "code",
   "execution_count": 257,
   "metadata": {},
   "outputs": [
    {
     "name": "stdout",
     "output_type": "stream",
     "text": [
      "Вычисляем z критерий для 1 шага\n",
      "p-значение:  6.018696650178512e-06\n",
      "Отвергаем нулевую гипотезу: между долями есть значимая разница\n",
      "Вычисляем z критерий для 2 шага\n",
      "p-значение:  0.0\n",
      "Отвергаем нулевую гипотезу: между долями есть значимая разница\n",
      "Вычисляем z критерий для 3 шага\n",
      "p-значение:  0.17634571420040723\n",
      "Не получилось отвергнуть нулевую гипотезу, нет оснований считать доли разными\n",
      "Вычисляем z критерий для 4 шага\n",
      "p-значение:  0.03701081777846471\n",
      "Отвергаем нулевую гипотезу: между долями есть значимая разница\n"
     ]
    }
   ],
   "source": [
    "z_test_iter(name_pivotB, name_pivotA2, .05)"
   ]
  },
  {
   "cell_type": "code",
   "execution_count": 258,
   "metadata": {},
   "outputs": [
    {
     "name": "stdout",
     "output_type": "stream",
     "text": [
      "Вычисляем z критерий для 1 шага\n",
      "p-значение:  0.0005800679101024553\n",
      "Отвергаем нулевую гипотезу: между долями есть значимая разница\n",
      "Вычисляем z критерий для 2 шага\n",
      "p-значение:  0.0\n",
      "Отвергаем нулевую гипотезу: между долями есть значимая разница\n",
      "Вычисляем z критерий для 3 шага\n",
      "p-значение:  0.02118344648652859\n",
      "Отвергаем нулевую гипотезу: между долями есть значимая разница\n",
      "Вычисляем z критерий для 4 шага\n",
      "p-значение:  0.2978618110389517\n",
      "Не получилось отвергнуть нулевую гипотезу, нет оснований считать доли разными\n"
     ]
    }
   ],
   "source": [
    "z_test_iter(name_pivotB, name_pivotA1, .05)"
   ]
  },
  {
   "cell_type": "code",
   "execution_count": 259,
   "metadata": {},
   "outputs": [
    {
     "name": "stdout",
     "output_type": "stream",
     "text": [
      "Вычисляем z критерий для 1 шага\n",
      "p-значение:  0.30156092481921815\n",
      "Не получилось отвергнуть нулевую гипотезу, нет оснований считать доли разными\n",
      "Вычисляем z критерий для 2 шага\n",
      "p-значение:  0.0\n",
      "Отвергаем нулевую гипотезу: между долями есть значимая разница\n",
      "Вычисляем z критерий для 3 шага\n",
      "p-значение:  0.39710251244033623\n",
      "Не получилось отвергнуть нулевую гипотезу, нет оснований считать доли разными\n",
      "Вычисляем z критерий для 4 шага\n",
      "p-значение:  0.0021312852874268984\n",
      "Отвергаем нулевую гипотезу: между долями есть значимая разница\n"
     ]
    }
   ],
   "source": [
    "z_test_iter(name_pivotA1, name_pivotA2, .01)"
   ]
  },
  {
   "cell_type": "code",
   "execution_count": 260,
   "metadata": {},
   "outputs": [
    {
     "name": "stdout",
     "output_type": "stream",
     "text": [
      "Вычисляем z критерий для 1 шага\n",
      "p-значение:  6.018696650178512e-06\n",
      "Отвергаем нулевую гипотезу: между долями есть значимая разница\n",
      "Вычисляем z критерий для 2 шага\n",
      "p-значение:  0.0\n",
      "Отвергаем нулевую гипотезу: между долями есть значимая разница\n",
      "Вычисляем z критерий для 3 шага\n",
      "p-значение:  0.17634571420040723\n",
      "Не получилось отвергнуть нулевую гипотезу, нет оснований считать доли разными\n",
      "Вычисляем z критерий для 4 шага\n",
      "p-значение:  0.03701081777846471\n",
      "Не получилось отвергнуть нулевую гипотезу, нет оснований считать доли разными\n"
     ]
    }
   ],
   "source": [
    "z_test_iter(name_pivotB, name_pivotA2, .01)"
   ]
  },
  {
   "cell_type": "code",
   "execution_count": 261,
   "metadata": {},
   "outputs": [
    {
     "name": "stdout",
     "output_type": "stream",
     "text": [
      "Вычисляем z критерий для 1 шага\n",
      "p-значение:  0.0005800679101024553\n",
      "Отвергаем нулевую гипотезу: между долями есть значимая разница\n",
      "Вычисляем z критерий для 2 шага\n",
      "p-значение:  0.0\n",
      "Отвергаем нулевую гипотезу: между долями есть значимая разница\n",
      "Вычисляем z критерий для 3 шага\n",
      "p-значение:  0.02118344648652859\n",
      "Не получилось отвергнуть нулевую гипотезу, нет оснований считать доли разными\n",
      "Вычисляем z критерий для 4 шага\n",
      "p-значение:  0.2978618110389517\n",
      "Не получилось отвергнуть нулевую гипотезу, нет оснований считать доли разными\n"
     ]
    }
   ],
   "source": [
    "z_test_iter(name_pivotB, name_pivotA1, .01)"
   ]
  },
  {
   "cell_type": "markdown",
   "metadata": {},
   "source": [
    "Я считаю, что для обеспечения достаточной точности результата можно использовать z-критерий с уровнем значимости alpha = 0.05"
   ]
  },
  {
   "cell_type": "markdown",
   "metadata": {},
   "source": [
    "Теперь проведем тесты с объединенной А группой"
   ]
  },
  {
   "cell_type": "markdown",
   "metadata": {},
   "source": [
    "Построим совмещенные графики для групп А и В"
   ]
  },
  {
   "cell_type": "code",
   "execution_count": 262,
   "metadata": {},
   "outputs": [
    {
     "data": {
      "image/png": "[encoded data removed]",
      "text/plain": [
       "<Figure size 1152x648 with 4 Axes>"
      ]
     },
     "metadata": {},
     "output_type": "display_data"
    }
   ],
   "source": [
    "plt.figure(figsize=(16 ,9))\n",
    "plt.subplot(2, 2, 1)\n",
    "plt.pie(name_pivotA['count'],\n",
    "        labels=name_pivotA.index, autopct='%1.1f%%', shadow='true');\n",
    "plt.title('events_count_A')\n",
    "plt.subplot(2, 2, 2)\n",
    "plt.pie(name_pivotA['nunique'],\n",
    "        labels=name_pivotA.index, autopct='%1.1f%%', shadow='true');\n",
    "plt.subplot(2, 2, 3)\n",
    "plt.title('users_count_A')\n",
    "plt.pie(name_pivotB['count'],\n",
    "        labels=name_pivotB.index, autopct='%1.1f%%', shadow='true');\n",
    "plt.title('events_count_B')\n",
    "plt.subplot(2, 2, 4)\n",
    "plt.pie(name_pivotB['nunique'],\n",
    "        labels=name_pivotB.index, autopct='%1.1f%%', shadow='true');\n",
    "plt.title('users_count_B')\n",
    "plt.show()"
   ]
  },
  {
   "cell_type": "code",
   "execution_count": 263,
   "metadata": {},
   "outputs": [
    {
     "name": "stdout",
     "output_type": "stream",
     "text": [
      "Вычисляем z критерий для 1 шага\n",
      "p-значение:  3.5908870474887777e-06\n",
      "Отвергаем нулевую гипотезу: между долями есть значимая разница\n",
      "Вычисляем z критерий для 2 шага\n",
      "p-значение:  6.705747068735946e-14\n",
      "Отвергаем нулевую гипотезу: между долями есть значимая разница\n",
      "Вычисляем z критерий для 3 шага\n",
      "p-значение:  0.030038707127272524\n",
      "Отвергаем нулевую гипотезу: между долями есть значимая разница\n",
      "Вычисляем z критерий для 4 шага\n",
      "p-значение:  0.588919816475657\n",
      "Не получилось отвергнуть нулевую гипотезу, нет оснований считать доли разными\n"
     ]
    }
   ],
   "source": [
    "z_test_iter(name_pivotB, name_pivotA, .05)"
   ]
  },
  {
   "cell_type": "code",
   "execution_count": 264,
   "metadata": {},
   "outputs": [
    {
     "name": "stdout",
     "output_type": "stream",
     "text": [
      "Вычисляем z критерий для 1 шага\n",
      "p-значение:  3.5908870474887777e-06\n",
      "Отвергаем нулевую гипотезу: между долями есть значимая разница\n",
      "Вычисляем z критерий для 2 шага\n",
      "p-значение:  6.705747068735946e-14\n",
      "Отвергаем нулевую гипотезу: между долями есть значимая разница\n",
      "Вычисляем z критерий для 3 шага\n",
      "p-значение:  0.030038707127272524\n",
      "Не получилось отвергнуть нулевую гипотезу, нет оснований считать доли разными\n",
      "Вычисляем z критерий для 4 шага\n",
      "p-значение:  0.588919816475657\n",
      "Не получилось отвергнуть нулевую гипотезу, нет оснований считать доли разными\n"
     ]
    }
   ],
   "source": [
    "z_test_iter(name_pivotB, name_pivotA, .01)"
   ]
  },
  {
   "cell_type": "markdown",
   "metadata": {},
   "source": [
    "Обнаружили статистически значимое различие между объединенной группой А и группой В"
   ]
  },
  {
   "cell_type": "markdown",
   "metadata": {},
   "source": [
    "## Вывод"
   ]
  },
  {
   "cell_type": "markdown",
   "metadata": {},
   "source": [
    "В ходе работы мы провели анализ результатов А/В теста, в ходе которого выяснили, что существует статистически значимое различие между группами А и В на всех этапах воронки, кроме справочника. Так, доля события Появление главного экрана стала ниже, а доля событий Экран предложений, Корзина и Успешная оплата выросли. Таким образом, новый дизайн шрифтов поспособствовал росту конверсии пользователей в продажу."
   ]
  }
 ],
 "metadata": {
  "ExecuteTimeLog": [
   {
    "duration": 420,
    "start_time": "2022-12-27T19:31:36.089Z"
   },
   {
    "duration": 748,
    "start_time": "2022-12-27T19:32:25.972Z"
   },
   {
    "duration": 17,
    "start_time": "2022-12-27T19:32:38.640Z"
   },
   {
    "duration": 155,
    "start_time": "2022-12-27T19:33:03.209Z"
   },
   {
    "duration": 7,
    "start_time": "2022-12-27T19:33:05.088Z"
   },
   {
    "duration": 20,
    "start_time": "2022-12-27T19:33:52.729Z"
   },
   {
    "duration": 3,
    "start_time": "2022-12-27T19:36:01.741Z"
   },
   {
    "duration": 33,
    "start_time": "2022-12-27T19:39:01.889Z"
   },
   {
    "duration": 8,
    "start_time": "2022-12-27T19:39:19.503Z"
   },
   {
    "duration": 4,
    "start_time": "2022-12-27T19:40:31.957Z"
   },
   {
    "duration": 5,
    "start_time": "2022-12-27T19:40:46.282Z"
   },
   {
    "duration": 2,
    "start_time": "2022-12-27T19:43:03.837Z"
   },
   {
    "duration": 64,
    "start_time": "2022-12-27T19:43:43.777Z"
   },
   {
    "duration": 10,
    "start_time": "2022-12-27T19:46:26.366Z"
   },
   {
    "duration": 2,
    "start_time": "2022-12-27T19:47:15.149Z"
   },
   {
    "duration": 96,
    "start_time": "2022-12-27T19:48:11.561Z"
   },
   {
    "duration": 19,
    "start_time": "2022-12-27T19:48:21.852Z"
   },
   {
    "duration": 6,
    "start_time": "2022-12-27T19:49:45.723Z"
   },
   {
    "duration": 3,
    "start_time": "2022-12-27T19:50:38.222Z"
   },
   {
    "duration": 2329,
    "start_time": "2022-12-27T19:51:06.668Z"
   },
   {
    "duration": 28,
    "start_time": "2022-12-27T19:51:14.866Z"
   },
   {
    "duration": 3,
    "start_time": "2022-12-27T19:52:20.003Z"
   },
   {
    "duration": 2516,
    "start_time": "2022-12-27T19:52:21.655Z"
   },
   {
    "duration": 27,
    "start_time": "2022-12-27T19:52:24.285Z"
   },
   {
    "duration": 33,
    "start_time": "2022-12-27T19:53:00.922Z"
   },
   {
    "duration": 7,
    "start_time": "2022-12-27T19:53:10.962Z"
   },
   {
    "duration": 27,
    "start_time": "2022-12-27T19:53:17.604Z"
   },
   {
    "duration": 10,
    "start_time": "2022-12-27T19:53:35.566Z"
   },
   {
    "duration": 27,
    "start_time": "2022-12-27T19:53:37.407Z"
   },
   {
    "duration": 49,
    "start_time": "2022-12-29T20:15:32.041Z"
   },
   {
    "duration": 419,
    "start_time": "2022-12-29T20:15:36.500Z"
   },
   {
    "duration": 723,
    "start_time": "2022-12-29T20:15:36.921Z"
   },
   {
    "duration": 16,
    "start_time": "2022-12-29T20:15:37.645Z"
   },
   {
    "duration": 29,
    "start_time": "2022-12-29T20:15:37.663Z"
   },
   {
    "duration": 4,
    "start_time": "2022-12-29T20:15:37.694Z"
   },
   {
    "duration": 20,
    "start_time": "2022-12-29T20:15:37.700Z"
   },
   {
    "duration": 24,
    "start_time": "2022-12-29T20:15:37.722Z"
   },
   {
    "duration": 119,
    "start_time": "2022-12-29T20:15:37.751Z"
   },
   {
    "duration": 20,
    "start_time": "2022-12-29T20:15:37.872Z"
   },
   {
    "duration": 3032,
    "start_time": "2022-12-29T20:15:37.893Z"
   },
   {
    "duration": 23,
    "start_time": "2022-12-29T20:15:40.928Z"
   },
   {
    "duration": 33,
    "start_time": "2022-12-29T20:15:40.953Z"
   },
   {
    "duration": 12,
    "start_time": "2022-12-29T20:15:40.988Z"
   },
   {
    "duration": 70,
    "start_time": "2022-12-29T20:16:55.378Z"
   },
   {
    "duration": 10,
    "start_time": "2022-12-29T20:17:13.661Z"
   },
   {
    "duration": 8,
    "start_time": "2022-12-29T20:18:06.098Z"
   },
   {
    "duration": 9,
    "start_time": "2022-12-29T20:18:17.943Z"
   },
   {
    "duration": 6,
    "start_time": "2022-12-29T20:19:09.010Z"
   },
   {
    "duration": 33,
    "start_time": "2022-12-29T20:19:30.838Z"
   },
   {
    "duration": 7,
    "start_time": "2022-12-29T20:19:42.644Z"
   },
   {
    "duration": 7,
    "start_time": "2022-12-29T20:19:51.419Z"
   },
   {
    "duration": 7,
    "start_time": "2022-12-29T20:19:55.019Z"
   },
   {
    "duration": 60,
    "start_time": "2022-12-29T20:21:56.553Z"
   },
   {
    "duration": 6,
    "start_time": "2022-12-29T20:22:27.727Z"
   },
   {
    "duration": 41,
    "start_time": "2022-12-29T20:22:37.021Z"
   },
   {
    "duration": 17,
    "start_time": "2022-12-29T20:23:51.624Z"
   },
   {
    "duration": 43,
    "start_time": "2022-12-29T20:24:03.426Z"
   },
   {
    "duration": 37,
    "start_time": "2022-12-29T20:24:12.301Z"
   },
   {
    "duration": 8,
    "start_time": "2022-12-29T20:24:19.949Z"
   },
   {
    "duration": 5,
    "start_time": "2022-12-29T20:24:22.158Z"
   },
   {
    "duration": 47,
    "start_time": "2022-12-29T20:26:43.934Z"
   },
   {
    "duration": 59,
    "start_time": "2022-12-29T20:27:07.185Z"
   },
   {
    "duration": 579,
    "start_time": "2022-12-29T20:34:34.255Z"
   },
   {
    "duration": 70,
    "start_time": "2022-12-29T20:37:55.761Z"
   },
   {
    "duration": 202,
    "start_time": "2022-12-29T20:38:03.578Z"
   },
   {
    "duration": 168,
    "start_time": "2022-12-29T20:38:21.704Z"
   },
   {
    "duration": 85,
    "start_time": "2022-12-29T20:38:26.053Z"
   },
   {
    "duration": 167,
    "start_time": "2022-12-29T20:39:14.750Z"
   },
   {
    "duration": 80,
    "start_time": "2022-12-29T20:39:27.422Z"
   },
   {
    "duration": 73,
    "start_time": "2022-12-29T20:40:00.921Z"
   },
   {
    "duration": 94,
    "start_time": "2022-12-29T20:40:34.200Z"
   },
   {
    "duration": 102,
    "start_time": "2022-12-29T20:41:03.671Z"
   },
   {
    "duration": 273,
    "start_time": "2022-12-29T20:41:35.830Z"
   },
   {
    "duration": 131,
    "start_time": "2022-12-29T20:41:53.328Z"
   },
   {
    "duration": 45,
    "start_time": "2022-12-29T20:42:57.880Z"
   },
   {
    "duration": 32,
    "start_time": "2022-12-29T20:43:20.255Z"
   },
   {
    "duration": 23,
    "start_time": "2022-12-29T20:43:33.912Z"
   },
   {
    "duration": 1251,
    "start_time": "2022-12-29T20:43:53.541Z"
   },
   {
    "duration": 137,
    "start_time": "2022-12-29T20:44:03.416Z"
   },
   {
    "duration": 146,
    "start_time": "2022-12-29T20:44:14.971Z"
   },
   {
    "duration": 154,
    "start_time": "2022-12-29T20:47:19.402Z"
   },
   {
    "duration": 40,
    "start_time": "2022-12-29T20:49:01.459Z"
   },
   {
    "duration": 30,
    "start_time": "2022-12-29T20:49:20.961Z"
   },
   {
    "duration": 47,
    "start_time": "2022-12-29T20:49:34.161Z"
   },
   {
    "duration": 43,
    "start_time": "2022-12-29T20:49:38.480Z"
   },
   {
    "duration": 31,
    "start_time": "2022-12-29T20:49:50.029Z"
   },
   {
    "duration": 1124,
    "start_time": "2022-12-29T20:49:59.600Z"
   },
   {
    "duration": 198,
    "start_time": "2022-12-29T20:50:16.969Z"
   },
   {
    "duration": 138,
    "start_time": "2022-12-29T20:50:41.235Z"
   },
   {
    "duration": 179,
    "start_time": "2022-12-29T20:51:09.533Z"
   },
   {
    "duration": 158,
    "start_time": "2022-12-29T20:51:19.945Z"
   },
   {
    "duration": 37,
    "start_time": "2022-12-29T20:52:20.674Z"
   },
   {
    "duration": 65,
    "start_time": "2022-12-29T20:52:35.369Z"
   },
   {
    "duration": 99,
    "start_time": "2022-12-29T20:53:50.068Z"
   },
   {
    "duration": 103,
    "start_time": "2022-12-29T20:54:11.499Z"
   },
   {
    "duration": 107,
    "start_time": "2022-12-29T20:55:02.080Z"
   },
   {
    "duration": 178,
    "start_time": "2022-12-29T20:55:10.617Z"
   },
   {
    "duration": 162,
    "start_time": "2022-12-29T20:55:28.368Z"
   },
   {
    "duration": 161,
    "start_time": "2022-12-29T20:55:34.553Z"
   },
   {
    "duration": 157,
    "start_time": "2022-12-29T20:55:39.264Z"
   },
   {
    "duration": 10,
    "start_time": "2022-12-29T21:41:03.494Z"
   },
   {
    "duration": 4,
    "start_time": "2022-12-29T21:46:46.105Z"
   },
   {
    "duration": 3,
    "start_time": "2022-12-29T21:46:59.430Z"
   },
   {
    "duration": 4,
    "start_time": "2022-12-29T21:47:10.397Z"
   },
   {
    "duration": 4,
    "start_time": "2022-12-29T21:52:49.197Z"
   },
   {
    "duration": 4,
    "start_time": "2022-12-29T21:52:56.702Z"
   },
   {
    "duration": 2,
    "start_time": "2022-12-29T21:53:24.604Z"
   },
   {
    "duration": 5,
    "start_time": "2022-12-29T21:53:28.930Z"
   },
   {
    "duration": 9,
    "start_time": "2022-12-29T21:55:33.754Z"
   },
   {
    "duration": 7,
    "start_time": "2022-12-29T21:55:51.658Z"
   },
   {
    "duration": 10,
    "start_time": "2022-12-29T21:56:10.125Z"
   },
   {
    "duration": 3,
    "start_time": "2022-12-29T21:58:51.069Z"
   },
   {
    "duration": 3,
    "start_time": "2022-12-29T21:58:52.686Z"
   },
   {
    "duration": 5,
    "start_time": "2022-12-29T22:01:30.051Z"
   },
   {
    "duration": 5,
    "start_time": "2022-12-29T22:01:40.004Z"
   },
   {
    "duration": 4,
    "start_time": "2022-12-29T22:01:53.987Z"
   },
   {
    "duration": 5,
    "start_time": "2022-12-29T22:02:02.319Z"
   },
   {
    "duration": 92,
    "start_time": "2022-12-29T22:02:28.785Z"
   },
   {
    "duration": 4,
    "start_time": "2022-12-29T22:02:34.024Z"
   },
   {
    "duration": 4,
    "start_time": "2022-12-29T22:02:42.971Z"
   },
   {
    "duration": 3,
    "start_time": "2022-12-29T22:02:51.689Z"
   },
   {
    "duration": 3,
    "start_time": "2022-12-29T22:02:53.447Z"
   },
   {
    "duration": 8,
    "start_time": "2022-12-29T22:03:01.931Z"
   },
   {
    "duration": 72,
    "start_time": "2022-12-29T22:22:51.038Z"
   },
   {
    "duration": 4,
    "start_time": "2022-12-29T22:23:18.579Z"
   },
   {
    "duration": 3,
    "start_time": "2022-12-29T22:23:33.327Z"
   },
   {
    "duration": 4,
    "start_time": "2022-12-29T22:25:16.676Z"
   },
   {
    "duration": 10,
    "start_time": "2022-12-29T22:28:23.119Z"
   },
   {
    "duration": 115,
    "start_time": "2022-12-29T22:28:36.459Z"
   },
   {
    "duration": 119,
    "start_time": "2022-12-29T22:29:08.681Z"
   },
   {
    "duration": 3,
    "start_time": "2022-12-29T22:29:17.581Z"
   },
   {
    "duration": 38,
    "start_time": "2022-12-29T22:30:09.350Z"
   },
   {
    "duration": 41,
    "start_time": "2022-12-29T22:30:32.790Z"
   },
   {
    "duration": 122,
    "start_time": "2022-12-29T22:30:44.314Z"
   },
   {
    "duration": 10,
    "start_time": "2022-12-29T22:31:18.157Z"
   },
   {
    "duration": 157046,
    "start_time": "2022-12-29T22:33:44.417Z"
   },
   {
    "duration": 722,
    "start_time": "2022-12-29T22:36:23.604Z"
   },
   {
    "duration": 472,
    "start_time": "2022-12-29T22:37:13.284Z"
   },
   {
    "duration": 106,
    "start_time": "2022-12-29T22:38:37.850Z"
   },
   {
    "duration": 806,
    "start_time": "2022-12-29T22:42:59.553Z"
   },
   {
    "duration": 361,
    "start_time": "2022-12-29T22:57:06.006Z"
   },
   {
    "duration": 344,
    "start_time": "2022-12-29T22:57:58.663Z"
   },
   {
    "duration": 361,
    "start_time": "2022-12-29T22:58:02.210Z"
   },
   {
    "duration": 361,
    "start_time": "2022-12-29T22:59:00.407Z"
   },
   {
    "duration": 349,
    "start_time": "2022-12-29T22:59:31.671Z"
   },
   {
    "duration": 7,
    "start_time": "2022-12-29T23:00:52.675Z"
   },
   {
    "duration": 409,
    "start_time": "2022-12-29T23:43:58.689Z"
   },
   {
    "duration": 362,
    "start_time": "2022-12-29T23:44:01.844Z"
   },
   {
    "duration": 336,
    "start_time": "2022-12-29T23:44:25.519Z"
   },
   {
    "duration": 6,
    "start_time": "2022-12-29T23:44:57.121Z"
   },
   {
    "duration": 7,
    "start_time": "2022-12-29T23:46:39.210Z"
   },
   {
    "duration": 7,
    "start_time": "2022-12-29T23:46:43.876Z"
   },
   {
    "duration": 6,
    "start_time": "2022-12-29T23:46:52.727Z"
   },
   {
    "duration": 6,
    "start_time": "2022-12-29T23:47:11.797Z"
   },
   {
    "duration": 7,
    "start_time": "2022-12-29T23:47:16.614Z"
   },
   {
    "duration": 6,
    "start_time": "2022-12-29T23:47:21.767Z"
   },
   {
    "duration": 6,
    "start_time": "2022-12-29T23:47:49.891Z"
   },
   {
    "duration": 53,
    "start_time": "2022-12-29T23:59:31.636Z"
   },
   {
    "duration": 335,
    "start_time": "2022-12-29T23:59:49.173Z"
   },
   {
    "duration": 30,
    "start_time": "2022-12-29T23:59:54.801Z"
   },
   {
    "duration": 33,
    "start_time": "2022-12-30T00:00:26.876Z"
   },
   {
    "duration": 31,
    "start_time": "2022-12-30T00:00:57.518Z"
   },
   {
    "duration": 12,
    "start_time": "2022-12-30T00:02:19.185Z"
   },
   {
    "duration": 10,
    "start_time": "2022-12-30T00:02:25.104Z"
   },
   {
    "duration": 9,
    "start_time": "2022-12-30T00:02:36.784Z"
   },
   {
    "duration": 10,
    "start_time": "2022-12-30T05:23:33.765Z"
   },
   {
    "duration": 3,
    "start_time": "2022-12-30T05:23:38.411Z"
   },
   {
    "duration": 149,
    "start_time": "2022-12-30T05:23:38.438Z"
   },
   {
    "duration": 7,
    "start_time": "2022-12-30T05:23:38.589Z"
   },
   {
    "duration": 22,
    "start_time": "2022-12-30T05:23:38.598Z"
   },
   {
    "duration": 3,
    "start_time": "2022-12-30T05:23:38.622Z"
   },
   {
    "duration": 25,
    "start_time": "2022-12-30T05:23:38.626Z"
   },
   {
    "duration": 7,
    "start_time": "2022-12-30T05:23:38.653Z"
   },
   {
    "duration": 114,
    "start_time": "2022-12-30T05:23:38.662Z"
   },
   {
    "duration": 3,
    "start_time": "2022-12-30T05:23:38.778Z"
   },
   {
    "duration": 3032,
    "start_time": "2022-12-30T05:23:38.782Z"
   },
   {
    "duration": 16,
    "start_time": "2022-12-30T05:23:41.818Z"
   },
   {
    "duration": 39,
    "start_time": "2022-12-30T05:23:41.836Z"
   },
   {
    "duration": 3,
    "start_time": "2022-12-30T05:23:41.877Z"
   },
   {
    "duration": 11,
    "start_time": "2022-12-30T05:23:41.882Z"
   },
   {
    "duration": 7,
    "start_time": "2022-12-30T05:23:41.895Z"
   },
   {
    "duration": 7,
    "start_time": "2022-12-30T05:23:41.904Z"
   },
   {
    "duration": 67,
    "start_time": "2022-12-30T05:23:41.913Z"
   },
   {
    "duration": 31,
    "start_time": "2022-12-30T05:23:41.982Z"
   },
   {
    "duration": 5,
    "start_time": "2022-12-30T05:23:42.015Z"
   },
   {
    "duration": 68,
    "start_time": "2022-12-30T05:23:42.022Z"
   },
   {
    "duration": 133,
    "start_time": "2022-12-30T05:23:42.092Z"
   },
   {
    "duration": 34,
    "start_time": "2022-12-30T05:23:42.227Z"
   },
   {
    "duration": 98,
    "start_time": "2022-12-30T05:23:42.264Z"
   },
   {
    "duration": 2,
    "start_time": "2022-12-30T05:23:42.364Z"
   },
   {
    "duration": 155,
    "start_time": "2022-12-30T05:23:42.368Z"
   },
   {
    "duration": 150,
    "start_time": "2022-12-30T05:23:42.525Z"
   },
   {
    "duration": 9,
    "start_time": "2022-12-30T05:23:42.677Z"
   },
   {
    "duration": 4,
    "start_time": "2022-12-30T05:23:42.688Z"
   },
   {
    "duration": 3,
    "start_time": "2022-12-30T05:23:42.696Z"
   },
   {
    "duration": 5,
    "start_time": "2022-12-30T05:23:42.701Z"
   },
   {
    "duration": 7,
    "start_time": "2022-12-30T05:23:42.708Z"
   },
   {
    "duration": 43,
    "start_time": "2022-12-30T05:23:42.717Z"
   },
   {
    "duration": 8,
    "start_time": "2022-12-30T05:23:42.761Z"
   },
   {
    "duration": 39,
    "start_time": "2022-12-30T05:23:42.771Z"
   },
   {
    "duration": 132,
    "start_time": "2022-12-30T05:23:42.811Z"
   },
   {
    "duration": 14,
    "start_time": "2022-12-30T05:23:42.945Z"
   },
   {
    "duration": 343,
    "start_time": "2022-12-30T05:23:42.961Z"
   },
   {
    "duration": 350,
    "start_time": "2022-12-30T05:23:43.306Z"
   },
   {
    "duration": 348,
    "start_time": "2022-12-30T05:23:43.658Z"
   },
   {
    "duration": 32,
    "start_time": "2022-12-30T05:23:44.007Z"
   },
   {
    "duration": 31,
    "start_time": "2022-12-30T05:23:44.051Z"
   },
   {
    "duration": 30,
    "start_time": "2022-12-30T05:23:44.083Z"
   },
   {
    "duration": 10,
    "start_time": "2022-12-30T05:23:44.115Z"
   },
   {
    "duration": 5,
    "start_time": "2022-12-30T05:24:05.086Z"
   },
   {
    "duration": 5,
    "start_time": "2022-12-30T05:24:20.034Z"
   },
   {
    "duration": 6,
    "start_time": "2022-12-30T05:24:29.225Z"
   },
   {
    "duration": 6,
    "start_time": "2022-12-30T05:35:54.937Z"
   },
   {
    "duration": 5,
    "start_time": "2022-12-30T05:36:06.830Z"
   },
   {
    "duration": 3,
    "start_time": "2022-12-30T05:38:54.192Z"
   },
   {
    "duration": 166,
    "start_time": "2022-12-30T05:38:54.198Z"
   },
   {
    "duration": 8,
    "start_time": "2022-12-30T05:38:54.366Z"
   },
   {
    "duration": 22,
    "start_time": "2022-12-30T05:38:54.376Z"
   },
   {
    "duration": 3,
    "start_time": "2022-12-30T05:38:54.401Z"
   },
   {
    "duration": 13,
    "start_time": "2022-12-30T05:38:54.406Z"
   },
   {
    "duration": 33,
    "start_time": "2022-12-30T05:38:54.421Z"
   },
   {
    "duration": 117,
    "start_time": "2022-12-30T05:38:54.456Z"
   },
   {
    "duration": 4,
    "start_time": "2022-12-30T05:38:54.574Z"
   },
   {
    "duration": 2994,
    "start_time": "2022-12-30T05:38:54.579Z"
   },
   {
    "duration": 16,
    "start_time": "2022-12-30T05:38:57.574Z"
   },
   {
    "duration": 50,
    "start_time": "2022-12-30T05:38:57.592Z"
   },
   {
    "duration": 41,
    "start_time": "2022-12-30T05:38:57.644Z"
   },
   {
    "duration": 60,
    "start_time": "2022-12-30T05:38:57.688Z"
   },
   {
    "duration": 27,
    "start_time": "2022-12-30T05:38:57.750Z"
   },
   {
    "duration": 58,
    "start_time": "2022-12-30T05:38:57.778Z"
   },
   {
    "duration": 58,
    "start_time": "2022-12-30T05:38:57.838Z"
   },
   {
    "duration": 32,
    "start_time": "2022-12-30T05:38:57.898Z"
   },
   {
    "duration": 24,
    "start_time": "2022-12-30T05:38:57.931Z"
   },
   {
    "duration": 93,
    "start_time": "2022-12-30T05:38:57.956Z"
   },
   {
    "duration": 127,
    "start_time": "2022-12-30T05:38:58.051Z"
   },
   {
    "duration": 31,
    "start_time": "2022-12-30T05:38:58.179Z"
   },
   {
    "duration": 113,
    "start_time": "2022-12-30T05:38:58.211Z"
   },
   {
    "duration": 3,
    "start_time": "2022-12-30T05:38:58.326Z"
   },
   {
    "duration": 190,
    "start_time": "2022-12-30T05:38:58.330Z"
   },
   {
    "duration": 166,
    "start_time": "2022-12-30T05:38:58.522Z"
   },
   {
    "duration": 11,
    "start_time": "2022-12-30T05:38:58.690Z"
   },
   {
    "duration": 36,
    "start_time": "2022-12-30T05:38:58.702Z"
   },
   {
    "duration": 35,
    "start_time": "2022-12-30T05:38:58.740Z"
   },
   {
    "duration": 52,
    "start_time": "2022-12-30T05:38:58.777Z"
   },
   {
    "duration": 38,
    "start_time": "2022-12-30T05:38:58.831Z"
   },
   {
    "duration": 40,
    "start_time": "2022-12-30T05:38:58.872Z"
   },
   {
    "duration": 31,
    "start_time": "2022-12-30T05:38:58.914Z"
   },
   {
    "duration": 92,
    "start_time": "2022-12-30T05:38:58.946Z"
   },
   {
    "duration": 123,
    "start_time": "2022-12-30T05:38:59.039Z"
   },
   {
    "duration": 10,
    "start_time": "2022-12-30T05:38:59.165Z"
   },
   {
    "duration": 384,
    "start_time": "2022-12-30T05:38:59.176Z"
   },
   {
    "duration": 383,
    "start_time": "2022-12-30T05:38:59.562Z"
   },
   {
    "duration": 373,
    "start_time": "2022-12-30T05:38:59.947Z"
   },
   {
    "duration": 41,
    "start_time": "2022-12-30T05:39:00.324Z"
   },
   {
    "duration": 35,
    "start_time": "2022-12-30T05:39:00.368Z"
   },
   {
    "duration": 52,
    "start_time": "2022-12-30T05:39:00.404Z"
   },
   {
    "duration": 5,
    "start_time": "2022-12-30T05:39:00.458Z"
   },
   {
    "duration": 6,
    "start_time": "2022-12-30T05:39:14.723Z"
   },
   {
    "duration": 6,
    "start_time": "2022-12-30T05:39:21.393Z"
   },
   {
    "duration": 6,
    "start_time": "2022-12-30T05:39:26.553Z"
   },
   {
    "duration": 4,
    "start_time": "2022-12-30T05:39:57.303Z"
   },
   {
    "duration": 11,
    "start_time": "2022-12-30T05:40:06.837Z"
   },
   {
    "duration": 9,
    "start_time": "2022-12-30T05:40:13.126Z"
   },
   {
    "duration": 726,
    "start_time": "2022-12-30T10:18:23.178Z"
   },
   {
    "duration": 524,
    "start_time": "2022-12-30T10:18:27.392Z"
   },
   {
    "duration": 534,
    "start_time": "2022-12-30T10:18:27.918Z"
   },
   {
    "duration": 12,
    "start_time": "2022-12-30T10:18:28.454Z"
   },
   {
    "duration": 18,
    "start_time": "2022-12-30T10:18:28.467Z"
   },
   {
    "duration": 3,
    "start_time": "2022-12-30T10:18:28.487Z"
   },
   {
    "duration": 12,
    "start_time": "2022-12-30T10:18:28.492Z"
   },
   {
    "duration": 9,
    "start_time": "2022-12-30T10:18:28.505Z"
   },
   {
    "duration": 97,
    "start_time": "2022-12-30T10:18:28.516Z"
   },
   {
    "duration": 2,
    "start_time": "2022-12-30T10:18:28.615Z"
   },
   {
    "duration": 2698,
    "start_time": "2022-12-30T10:18:28.619Z"
   },
   {
    "duration": 16,
    "start_time": "2022-12-30T10:18:31.319Z"
   },
   {
    "duration": 31,
    "start_time": "2022-12-30T10:18:31.337Z"
   },
   {
    "duration": 11,
    "start_time": "2022-12-30T10:18:31.370Z"
   },
   {
    "duration": 34,
    "start_time": "2022-12-30T10:18:31.397Z"
   },
   {
    "duration": 31,
    "start_time": "2022-12-30T10:18:31.433Z"
   },
   {
    "duration": 12,
    "start_time": "2022-12-30T10:18:31.466Z"
   },
   {
    "duration": 32,
    "start_time": "2022-12-30T10:18:31.480Z"
   },
   {
    "duration": 30,
    "start_time": "2022-12-30T10:18:31.514Z"
   },
   {
    "duration": 4,
    "start_time": "2022-12-30T10:18:31.546Z"
   },
   {
    "duration": 57,
    "start_time": "2022-12-30T10:18:31.552Z"
   },
   {
    "duration": 123,
    "start_time": "2022-12-30T10:18:31.610Z"
   },
   {
    "duration": 24,
    "start_time": "2022-12-30T10:18:31.735Z"
   },
   {
    "duration": 94,
    "start_time": "2022-12-30T10:18:31.761Z"
   },
   {
    "duration": 2,
    "start_time": "2022-12-30T10:18:31.857Z"
   },
   {
    "duration": 178,
    "start_time": "2022-12-30T10:18:31.861Z"
   },
   {
    "duration": 155,
    "start_time": "2022-12-30T10:18:32.041Z"
   },
   {
    "duration": 10,
    "start_time": "2022-12-30T10:18:32.198Z"
   },
   {
    "duration": 11,
    "start_time": "2022-12-30T10:18:32.210Z"
   },
   {
    "duration": 12,
    "start_time": "2022-12-30T10:18:32.222Z"
   },
   {
    "duration": 30,
    "start_time": "2022-12-30T10:18:32.235Z"
   },
   {
    "duration": 8,
    "start_time": "2022-12-30T10:18:32.267Z"
   },
   {
    "duration": 10,
    "start_time": "2022-12-30T10:18:32.276Z"
   },
   {
    "duration": 5,
    "start_time": "2022-12-30T10:18:32.288Z"
   },
   {
    "duration": 56,
    "start_time": "2022-12-30T10:18:32.295Z"
   },
   {
    "duration": 151,
    "start_time": "2022-12-30T10:18:32.352Z"
   },
   {
    "duration": 13,
    "start_time": "2022-12-30T10:18:32.505Z"
   },
   {
    "duration": 353,
    "start_time": "2022-12-30T10:18:32.520Z"
   },
   {
    "duration": 340,
    "start_time": "2022-12-30T10:18:32.875Z"
   },
   {
    "duration": 339,
    "start_time": "2022-12-30T10:18:33.217Z"
   },
   {
    "duration": 39,
    "start_time": "2022-12-30T10:18:33.557Z"
   },
   {
    "duration": 30,
    "start_time": "2022-12-30T10:18:33.600Z"
   },
   {
    "duration": 29,
    "start_time": "2022-12-30T10:18:33.632Z"
   },
   {
    "duration": 9,
    "start_time": "2022-12-30T10:18:33.663Z"
   },
   {
    "duration": 2,
    "start_time": "2022-12-30T10:18:33.696Z"
   },
   {
    "duration": 33,
    "start_time": "2022-12-30T10:18:33.700Z"
   },
   {
    "duration": 0,
    "start_time": "2022-12-30T10:18:33.735Z"
   },
   {
    "duration": 0,
    "start_time": "2022-12-30T10:18:33.736Z"
   },
   {
    "duration": 9,
    "start_time": "2022-12-30T10:19:10.978Z"
   },
   {
    "duration": 4,
    "start_time": "2022-12-30T10:19:33.884Z"
   },
   {
    "duration": 10,
    "start_time": "2022-12-30T10:19:37.729Z"
   },
   {
    "duration": 7,
    "start_time": "2022-12-30T10:19:57.849Z"
   },
   {
    "duration": 5,
    "start_time": "2022-12-30T10:20:00.263Z"
   },
   {
    "duration": 5,
    "start_time": "2022-12-30T10:20:02.112Z"
   },
   {
    "duration": 4,
    "start_time": "2022-12-30T10:24:21.447Z"
   },
   {
    "duration": 14,
    "start_time": "2022-12-30T10:24:25.993Z"
   },
   {
    "duration": 3,
    "start_time": "2022-12-30T10:24:43.790Z"
   },
   {
    "duration": 10,
    "start_time": "2022-12-30T10:24:49.321Z"
   },
   {
    "duration": 8,
    "start_time": "2022-12-30T10:25:02.851Z"
   },
   {
    "duration": 3,
    "start_time": "2022-12-30T10:25:08.312Z"
   },
   {
    "duration": 11,
    "start_time": "2022-12-30T10:25:11.282Z"
   },
   {
    "duration": 3,
    "start_time": "2022-12-30T10:25:20.855Z"
   },
   {
    "duration": 3,
    "start_time": "2022-12-30T10:25:22.286Z"
   },
   {
    "duration": 8,
    "start_time": "2022-12-30T16:47:57.176Z"
   },
   {
    "duration": 1216,
    "start_time": "2022-12-30T16:50:28.982Z"
   },
   {
    "duration": 616,
    "start_time": "2022-12-30T16:50:30.200Z"
   },
   {
    "duration": 10,
    "start_time": "2022-12-30T16:50:30.817Z"
   },
   {
    "duration": 66,
    "start_time": "2022-12-30T16:50:30.829Z"
   },
   {
    "duration": 23,
    "start_time": "2022-12-30T16:50:30.897Z"
   },
   {
    "duration": 41,
    "start_time": "2022-12-30T16:50:30.921Z"
   },
   {
    "duration": 25,
    "start_time": "2022-12-30T16:50:30.964Z"
   },
   {
    "duration": 107,
    "start_time": "2022-12-30T16:50:30.991Z"
   },
   {
    "duration": 4,
    "start_time": "2022-12-30T16:50:31.099Z"
   },
   {
    "duration": 3005,
    "start_time": "2022-12-30T16:50:31.104Z"
   },
   {
    "duration": 12,
    "start_time": "2022-12-30T16:50:34.111Z"
   },
   {
    "duration": 28,
    "start_time": "2022-12-30T16:50:34.124Z"
   },
   {
    "duration": 3,
    "start_time": "2022-12-30T16:50:34.154Z"
   },
   {
    "duration": 9,
    "start_time": "2022-12-30T16:50:34.160Z"
   },
   {
    "duration": 26,
    "start_time": "2022-12-30T16:50:34.170Z"
   },
   {
    "duration": 5,
    "start_time": "2022-12-30T16:50:34.198Z"
   },
   {
    "duration": 27,
    "start_time": "2022-12-30T16:50:34.204Z"
   },
   {
    "duration": 28,
    "start_time": "2022-12-30T16:50:34.232Z"
   },
   {
    "duration": 4,
    "start_time": "2022-12-30T16:50:34.262Z"
   },
   {
    "duration": 63,
    "start_time": "2022-12-30T16:50:34.267Z"
   },
   {
    "duration": 132,
    "start_time": "2022-12-30T16:50:34.331Z"
   },
   {
    "duration": 23,
    "start_time": "2022-12-30T16:50:34.464Z"
   },
   {
    "duration": 78,
    "start_time": "2022-12-30T16:50:34.497Z"
   },
   {
    "duration": 2,
    "start_time": "2022-12-30T16:50:34.577Z"
   },
   {
    "duration": 155,
    "start_time": "2022-12-30T16:50:34.580Z"
   },
   {
    "duration": 140,
    "start_time": "2022-12-30T16:50:34.736Z"
   },
   {
    "duration": 9,
    "start_time": "2022-12-30T16:50:34.877Z"
   },
   {
    "duration": 3,
    "start_time": "2022-12-30T16:50:34.897Z"
   },
   {
    "duration": 5,
    "start_time": "2022-12-30T16:50:34.902Z"
   },
   {
    "duration": 5,
    "start_time": "2022-12-30T16:50:34.908Z"
   },
   {
    "duration": 9,
    "start_time": "2022-12-30T16:50:34.915Z"
   },
   {
    "duration": 11,
    "start_time": "2022-12-30T16:50:34.926Z"
   },
   {
    "duration": 8,
    "start_time": "2022-12-30T16:50:34.939Z"
   },
   {
    "duration": 59,
    "start_time": "2022-12-30T16:50:34.948Z"
   },
   {
    "duration": 128,
    "start_time": "2022-12-30T16:50:35.009Z"
   },
   {
    "duration": 11,
    "start_time": "2022-12-30T16:50:35.139Z"
   },
   {
    "duration": 329,
    "start_time": "2022-12-30T16:50:35.152Z"
   },
   {
    "duration": 317,
    "start_time": "2022-12-30T16:50:35.483Z"
   },
   {
    "duration": 393,
    "start_time": "2022-12-30T16:50:35.801Z"
   },
   {
    "duration": 27,
    "start_time": "2022-12-30T16:50:36.197Z"
   },
   {
    "duration": 28,
    "start_time": "2022-12-30T16:50:36.228Z"
   },
   {
    "duration": 53,
    "start_time": "2022-12-30T16:50:36.258Z"
   },
   {
    "duration": 9,
    "start_time": "2022-12-30T16:50:36.313Z"
   },
   {
    "duration": 59,
    "start_time": "2022-12-30T16:50:36.324Z"
   },
   {
    "duration": 7,
    "start_time": "2022-12-30T16:50:36.385Z"
   },
   {
    "duration": 6,
    "start_time": "2022-12-30T16:50:36.394Z"
   },
   {
    "duration": 5,
    "start_time": "2022-12-30T16:50:36.401Z"
   },
   {
    "duration": 6,
    "start_time": "2022-12-30T16:50:36.408Z"
   },
   {
    "duration": 9,
    "start_time": "2022-12-30T16:50:36.415Z"
   },
   {
    "duration": 6,
    "start_time": "2022-12-30T16:50:36.425Z"
   },
   {
    "duration": 4,
    "start_time": "2022-12-30T16:51:23.708Z"
   },
   {
    "duration": 92,
    "start_time": "2022-12-30T16:51:58.358Z"
   },
   {
    "duration": 3,
    "start_time": "2022-12-30T16:52:05.869Z"
   },
   {
    "duration": 9,
    "start_time": "2022-12-30T16:52:08.201Z"
   },
   {
    "duration": 4,
    "start_time": "2022-12-30T16:53:24.645Z"
   },
   {
    "duration": 9,
    "start_time": "2022-12-30T16:54:21.479Z"
   },
   {
    "duration": 8,
    "start_time": "2022-12-30T16:54:39.287Z"
   },
   {
    "duration": 9,
    "start_time": "2022-12-30T16:55:35.154Z"
   },
   {
    "duration": 7,
    "start_time": "2022-12-30T16:55:48.281Z"
   },
   {
    "duration": 5,
    "start_time": "2022-12-30T16:56:42.146Z"
   },
   {
    "duration": 10,
    "start_time": "2022-12-30T16:56:48.025Z"
   },
   {
    "duration": 9,
    "start_time": "2022-12-30T16:56:50.271Z"
   },
   {
    "duration": 6,
    "start_time": "2022-12-30T16:56:53.149Z"
   },
   {
    "duration": 3,
    "start_time": "2022-12-30T17:07:33.809Z"
   },
   {
    "duration": 6,
    "start_time": "2022-12-30T17:07:35.153Z"
   },
   {
    "duration": 9,
    "start_time": "2022-12-30T17:07:43.952Z"
   },
   {
    "duration": 9,
    "start_time": "2022-12-30T17:07:45.846Z"
   },
   {
    "duration": 9,
    "start_time": "2022-12-30T17:07:49.954Z"
   },
   {
    "duration": 9,
    "start_time": "2022-12-30T17:08:10.133Z"
   },
   {
    "duration": 8,
    "start_time": "2022-12-30T17:08:23.193Z"
   },
   {
    "duration": 8,
    "start_time": "2022-12-30T17:08:33.450Z"
   },
   {
    "duration": 9,
    "start_time": "2022-12-30T17:08:53.442Z"
   },
   {
    "duration": 15,
    "start_time": "2022-12-30T17:09:07.296Z"
   },
   {
    "duration": 10,
    "start_time": "2022-12-30T17:09:14.326Z"
   },
   {
    "duration": 9,
    "start_time": "2022-12-30T17:09:22.626Z"
   },
   {
    "duration": 81,
    "start_time": "2022-12-30T18:40:33.906Z"
   },
   {
    "duration": 12,
    "start_time": "2022-12-30T18:41:05.922Z"
   },
   {
    "duration": 9,
    "start_time": "2022-12-30T18:41:16.299Z"
   },
   {
    "duration": 8,
    "start_time": "2022-12-30T18:41:23.742Z"
   },
   {
    "duration": 8,
    "start_time": "2022-12-30T18:42:52.002Z"
   },
   {
    "duration": 9,
    "start_time": "2022-12-30T18:42:54.848Z"
   },
   {
    "duration": 326,
    "start_time": "2022-12-30T18:52:25.384Z"
   },
   {
    "duration": 455,
    "start_time": "2022-12-30T18:55:45.903Z"
   },
   {
    "duration": 438,
    "start_time": "2022-12-30T18:56:16.524Z"
   },
   {
    "duration": 54,
    "start_time": "2022-12-30T23:01:11.013Z"
   },
   {
    "duration": 1314,
    "start_time": "2022-12-30T23:01:14.296Z"
   },
   {
    "duration": 562,
    "start_time": "2022-12-30T23:01:15.612Z"
   },
   {
    "duration": 14,
    "start_time": "2022-12-30T23:01:16.175Z"
   },
   {
    "duration": 23,
    "start_time": "2022-12-30T23:01:16.190Z"
   },
   {
    "duration": 4,
    "start_time": "2022-12-30T23:01:16.215Z"
   },
   {
    "duration": 19,
    "start_time": "2022-12-30T23:01:16.220Z"
   },
   {
    "duration": 17,
    "start_time": "2022-12-30T23:01:16.241Z"
   },
   {
    "duration": 122,
    "start_time": "2022-12-30T23:01:16.260Z"
   },
   {
    "duration": 3,
    "start_time": "2022-12-30T23:01:16.384Z"
   },
   {
    "duration": 3033,
    "start_time": "2022-12-30T23:01:16.388Z"
   },
   {
    "duration": 26,
    "start_time": "2022-12-30T23:01:19.423Z"
   },
   {
    "duration": 30,
    "start_time": "2022-12-30T23:01:19.451Z"
   },
   {
    "duration": 112,
    "start_time": "2022-12-30T23:01:19.482Z"
   },
   {
    "duration": 3,
    "start_time": "2022-12-30T23:01:19.597Z"
   },
   {
    "duration": 11,
    "start_time": "2022-12-30T23:01:19.601Z"
   },
   {
    "duration": 37,
    "start_time": "2022-12-30T23:01:19.613Z"
   },
   {
    "duration": 10,
    "start_time": "2022-12-30T23:01:19.652Z"
   },
   {
    "duration": 32,
    "start_time": "2022-12-30T23:01:19.664Z"
   },
   {
    "duration": 47,
    "start_time": "2022-12-30T23:01:19.698Z"
   },
   {
    "duration": 5,
    "start_time": "2022-12-30T23:01:19.746Z"
   },
   {
    "duration": 43,
    "start_time": "2022-12-30T23:01:19.753Z"
   },
   {
    "duration": 159,
    "start_time": "2022-12-30T23:01:19.799Z"
   },
   {
    "duration": 32,
    "start_time": "2022-12-30T23:01:19.960Z"
   },
   {
    "duration": 113,
    "start_time": "2022-12-30T23:01:19.994Z"
   },
   {
    "duration": 2,
    "start_time": "2022-12-30T23:01:20.109Z"
   },
   {
    "duration": 176,
    "start_time": "2022-12-30T23:01:20.113Z"
   },
   {
    "duration": 234,
    "start_time": "2022-12-30T23:01:20.291Z"
   },
   {
    "duration": 21,
    "start_time": "2022-12-30T23:01:20.527Z"
   },
   {
    "duration": 7,
    "start_time": "2022-12-30T23:01:20.550Z"
   },
   {
    "duration": 8,
    "start_time": "2022-12-30T23:01:20.559Z"
   },
   {
    "duration": 15,
    "start_time": "2022-12-30T23:01:20.568Z"
   },
   {
    "duration": 14,
    "start_time": "2022-12-30T23:01:20.585Z"
   },
   {
    "duration": 17,
    "start_time": "2022-12-30T23:01:20.601Z"
   },
   {
    "duration": 12,
    "start_time": "2022-12-30T23:01:20.620Z"
   },
   {
    "duration": 54,
    "start_time": "2022-12-30T23:01:20.634Z"
   },
   {
    "duration": 136,
    "start_time": "2022-12-30T23:01:20.689Z"
   },
   {
    "duration": 27,
    "start_time": "2022-12-30T23:01:20.827Z"
   },
   {
    "duration": 367,
    "start_time": "2022-12-30T23:01:20.856Z"
   },
   {
    "duration": 383,
    "start_time": "2022-12-30T23:01:21.225Z"
   },
   {
    "duration": 395,
    "start_time": "2022-12-30T23:01:21.610Z"
   },
   {
    "duration": 50,
    "start_time": "2022-12-30T23:01:22.010Z"
   },
   {
    "duration": 32,
    "start_time": "2022-12-30T23:01:22.062Z"
   },
   {
    "duration": 57,
    "start_time": "2022-12-30T23:01:22.095Z"
   },
   {
    "duration": 9,
    "start_time": "2022-12-30T23:01:22.154Z"
   },
   {
    "duration": 10,
    "start_time": "2022-12-30T23:01:22.164Z"
   },
   {
    "duration": 89,
    "start_time": "2022-12-30T23:01:22.176Z"
   },
   {
    "duration": 0,
    "start_time": "2022-12-30T23:01:22.267Z"
   },
   {
    "duration": 0,
    "start_time": "2022-12-30T23:01:22.268Z"
   },
   {
    "duration": 0,
    "start_time": "2022-12-30T23:01:22.270Z"
   },
   {
    "duration": 0,
    "start_time": "2022-12-30T23:01:22.271Z"
   },
   {
    "duration": 0,
    "start_time": "2022-12-30T23:01:22.272Z"
   },
   {
    "duration": 0,
    "start_time": "2022-12-30T23:01:22.273Z"
   },
   {
    "duration": 0,
    "start_time": "2022-12-30T23:01:22.274Z"
   },
   {
    "duration": 0,
    "start_time": "2022-12-30T23:01:22.275Z"
   },
   {
    "duration": 0,
    "start_time": "2022-12-30T23:01:22.276Z"
   },
   {
    "duration": 0,
    "start_time": "2022-12-30T23:01:22.277Z"
   },
   {
    "duration": 0,
    "start_time": "2022-12-30T23:01:22.278Z"
   },
   {
    "duration": 0,
    "start_time": "2022-12-30T23:01:22.279Z"
   },
   {
    "duration": 0,
    "start_time": "2022-12-30T23:01:22.280Z"
   },
   {
    "duration": 94,
    "start_time": "2022-12-30T23:01:51.550Z"
   },
   {
    "duration": 37,
    "start_time": "2022-12-30T23:02:05.424Z"
   },
   {
    "duration": 25,
    "start_time": "2022-12-30T23:02:11.890Z"
   },
   {
    "duration": 4,
    "start_time": "2022-12-30T23:03:37.582Z"
   },
   {
    "duration": 165,
    "start_time": "2022-12-30T23:03:37.588Z"
   },
   {
    "duration": 8,
    "start_time": "2022-12-30T23:03:37.755Z"
   },
   {
    "duration": 22,
    "start_time": "2022-12-30T23:03:37.765Z"
   },
   {
    "duration": 3,
    "start_time": "2022-12-30T23:03:37.790Z"
   },
   {
    "duration": 10,
    "start_time": "2022-12-30T23:03:37.794Z"
   },
   {
    "duration": 29,
    "start_time": "2022-12-30T23:03:37.806Z"
   },
   {
    "duration": 112,
    "start_time": "2022-12-30T23:03:37.837Z"
   },
   {
    "duration": 3,
    "start_time": "2022-12-30T23:03:37.951Z"
   },
   {
    "duration": 2951,
    "start_time": "2022-12-30T23:03:37.956Z"
   },
   {
    "duration": 10,
    "start_time": "2022-12-30T23:03:40.909Z"
   },
   {
    "duration": 35,
    "start_time": "2022-12-30T23:03:40.921Z"
   },
   {
    "duration": 82,
    "start_time": "2022-12-30T23:03:40.958Z"
   },
   {
    "duration": 78,
    "start_time": "2022-12-30T23:03:41.041Z"
   },
   {
    "duration": 35,
    "start_time": "2022-12-30T23:03:41.120Z"
   },
   {
    "duration": 5,
    "start_time": "2022-12-30T23:03:41.157Z"
   },
   {
    "duration": 20,
    "start_time": "2022-12-30T23:03:41.164Z"
   },
   {
    "duration": 7,
    "start_time": "2022-12-30T23:03:41.186Z"
   },
   {
    "duration": 5,
    "start_time": "2022-12-30T23:03:41.194Z"
   },
   {
    "duration": 61,
    "start_time": "2022-12-30T23:03:41.200Z"
   },
   {
    "duration": 28,
    "start_time": "2022-12-30T23:03:41.263Z"
   },
   {
    "duration": 3,
    "start_time": "2022-12-30T23:03:41.293Z"
   },
   {
    "duration": 71,
    "start_time": "2022-12-30T23:03:41.298Z"
   },
   {
    "duration": 140,
    "start_time": "2022-12-30T23:03:41.370Z"
   },
   {
    "duration": 35,
    "start_time": "2022-12-30T23:03:41.512Z"
   },
   {
    "duration": 104,
    "start_time": "2022-12-30T23:03:41.549Z"
   },
   {
    "duration": 2,
    "start_time": "2022-12-30T23:03:41.654Z"
   },
   {
    "duration": 155,
    "start_time": "2022-12-30T23:03:41.658Z"
   },
   {
    "duration": 151,
    "start_time": "2022-12-30T23:03:41.815Z"
   },
   {
    "duration": 10,
    "start_time": "2022-12-30T23:03:41.968Z"
   },
   {
    "duration": 11,
    "start_time": "2022-12-30T23:03:41.979Z"
   },
   {
    "duration": 7,
    "start_time": "2022-12-30T23:03:41.992Z"
   },
   {
    "duration": 9,
    "start_time": "2022-12-30T23:03:42.000Z"
   },
   {
    "duration": 4,
    "start_time": "2022-12-30T23:03:42.035Z"
   },
   {
    "duration": 16,
    "start_time": "2022-12-30T23:03:42.041Z"
   },
   {
    "duration": 6,
    "start_time": "2022-12-30T23:03:42.059Z"
   },
   {
    "duration": 40,
    "start_time": "2022-12-30T23:03:42.070Z"
   },
   {
    "duration": 142,
    "start_time": "2022-12-30T23:03:42.112Z"
   },
   {
    "duration": 10,
    "start_time": "2022-12-30T23:03:42.256Z"
   },
   {
    "duration": 382,
    "start_time": "2022-12-30T23:03:42.268Z"
   },
   {
    "duration": 356,
    "start_time": "2022-12-30T23:03:42.651Z"
   },
   {
    "duration": 326,
    "start_time": "2022-12-30T23:03:43.009Z"
   },
   {
    "duration": 30,
    "start_time": "2022-12-30T23:03:43.336Z"
   },
   {
    "duration": 27,
    "start_time": "2022-12-30T23:03:43.368Z"
   },
   {
    "duration": 60,
    "start_time": "2022-12-30T23:03:43.397Z"
   },
   {
    "duration": 4,
    "start_time": "2022-12-30T23:03:43.459Z"
   },
   {
    "duration": 7,
    "start_time": "2022-12-30T23:03:43.464Z"
   },
   {
    "duration": 16,
    "start_time": "2022-12-30T23:03:43.472Z"
   },
   {
    "duration": 0,
    "start_time": "2022-12-30T23:03:43.489Z"
   },
   {
    "duration": 0,
    "start_time": "2022-12-30T23:03:43.491Z"
   },
   {
    "duration": 0,
    "start_time": "2022-12-30T23:03:43.492Z"
   },
   {
    "duration": 0,
    "start_time": "2022-12-30T23:03:43.493Z"
   },
   {
    "duration": 0,
    "start_time": "2022-12-30T23:03:43.494Z"
   },
   {
    "duration": 0,
    "start_time": "2022-12-30T23:03:43.495Z"
   },
   {
    "duration": 0,
    "start_time": "2022-12-30T23:03:43.496Z"
   },
   {
    "duration": 0,
    "start_time": "2022-12-30T23:03:43.497Z"
   },
   {
    "duration": 0,
    "start_time": "2022-12-30T23:03:43.498Z"
   },
   {
    "duration": 0,
    "start_time": "2022-12-30T23:03:43.499Z"
   },
   {
    "duration": 0,
    "start_time": "2022-12-30T23:03:43.500Z"
   },
   {
    "duration": 0,
    "start_time": "2022-12-30T23:03:43.500Z"
   },
   {
    "duration": 0,
    "start_time": "2022-12-30T23:03:43.535Z"
   },
   {
    "duration": 7,
    "start_time": "2022-12-30T23:05:42.125Z"
   },
   {
    "duration": 8,
    "start_time": "2022-12-30T23:05:55.995Z"
   },
   {
    "duration": 3,
    "start_time": "2022-12-30T23:05:58.699Z"
   },
   {
    "duration": 163,
    "start_time": "2022-12-30T23:05:58.704Z"
   },
   {
    "duration": 7,
    "start_time": "2022-12-30T23:05:58.869Z"
   },
   {
    "duration": 23,
    "start_time": "2022-12-30T23:05:58.877Z"
   },
   {
    "duration": 3,
    "start_time": "2022-12-30T23:05:58.902Z"
   },
   {
    "duration": 12,
    "start_time": "2022-12-30T23:05:58.906Z"
   },
   {
    "duration": 8,
    "start_time": "2022-12-30T23:05:58.934Z"
   },
   {
    "duration": 109,
    "start_time": "2022-12-30T23:05:58.944Z"
   },
   {
    "duration": 3,
    "start_time": "2022-12-30T23:05:59.055Z"
   },
   {
    "duration": 2697,
    "start_time": "2022-12-30T23:05:59.060Z"
   },
   {
    "duration": 12,
    "start_time": "2022-12-30T23:06:01.760Z"
   },
   {
    "duration": 48,
    "start_time": "2022-12-30T23:06:01.774Z"
   },
   {
    "duration": 73,
    "start_time": "2022-12-30T23:06:01.824Z"
   },
   {
    "duration": 99,
    "start_time": "2022-12-30T23:06:01.899Z"
   },
   {
    "duration": 26,
    "start_time": "2022-12-30T23:06:02.000Z"
   },
   {
    "duration": 7,
    "start_time": "2022-12-30T23:06:02.035Z"
   },
   {
    "duration": 30,
    "start_time": "2022-12-30T23:06:02.043Z"
   },
   {
    "duration": 6,
    "start_time": "2022-12-30T23:06:02.075Z"
   },
   {
    "duration": 21,
    "start_time": "2022-12-30T23:06:02.083Z"
   },
   {
    "duration": 14,
    "start_time": "2022-12-30T23:06:02.105Z"
   },
   {
    "duration": 31,
    "start_time": "2022-12-30T23:06:02.121Z"
   },
   {
    "duration": 27,
    "start_time": "2022-12-30T23:06:02.153Z"
   },
   {
    "duration": 7,
    "start_time": "2022-12-30T23:06:02.182Z"
   },
   {
    "duration": 21,
    "start_time": "2022-12-30T23:06:02.190Z"
   },
   {
    "duration": 45,
    "start_time": "2022-12-30T23:06:02.213Z"
   },
   {
    "duration": 129,
    "start_time": "2022-12-30T23:06:02.260Z"
   },
   {
    "duration": 44,
    "start_time": "2022-12-30T23:06:02.392Z"
   },
   {
    "duration": 116,
    "start_time": "2022-12-30T23:06:02.438Z"
   },
   {
    "duration": 3,
    "start_time": "2022-12-30T23:06:02.559Z"
   },
   {
    "duration": 158,
    "start_time": "2022-12-30T23:06:02.563Z"
   },
   {
    "duration": 148,
    "start_time": "2022-12-30T23:06:02.722Z"
   },
   {
    "duration": 9,
    "start_time": "2022-12-30T23:06:02.872Z"
   },
   {
    "duration": 5,
    "start_time": "2022-12-30T23:06:02.883Z"
   },
   {
    "duration": 7,
    "start_time": "2022-12-30T23:06:02.890Z"
   },
   {
    "duration": 5,
    "start_time": "2022-12-30T23:06:02.898Z"
   },
   {
    "duration": 7,
    "start_time": "2022-12-30T23:06:02.904Z"
   },
   {
    "duration": 7,
    "start_time": "2022-12-30T23:06:02.934Z"
   },
   {
    "duration": 9,
    "start_time": "2022-12-30T23:06:02.943Z"
   },
   {
    "duration": 43,
    "start_time": "2022-12-30T23:06:02.954Z"
   },
   {
    "duration": 131,
    "start_time": "2022-12-30T23:06:02.998Z"
   },
   {
    "duration": 13,
    "start_time": "2022-12-30T23:06:03.130Z"
   },
   {
    "duration": 345,
    "start_time": "2022-12-30T23:06:03.145Z"
   },
   {
    "duration": 362,
    "start_time": "2022-12-30T23:06:03.492Z"
   },
   {
    "duration": 366,
    "start_time": "2022-12-30T23:06:03.855Z"
   },
   {
    "duration": 39,
    "start_time": "2022-12-30T23:06:04.224Z"
   },
   {
    "duration": 29,
    "start_time": "2022-12-30T23:06:04.265Z"
   },
   {
    "duration": 62,
    "start_time": "2022-12-30T23:06:04.296Z"
   },
   {
    "duration": 3,
    "start_time": "2022-12-30T23:06:04.360Z"
   },
   {
    "duration": 28,
    "start_time": "2022-12-30T23:06:04.365Z"
   },
   {
    "duration": 28,
    "start_time": "2022-12-30T23:06:04.395Z"
   },
   {
    "duration": 0,
    "start_time": "2022-12-30T23:06:04.425Z"
   },
   {
    "duration": 0,
    "start_time": "2022-12-30T23:06:04.426Z"
   },
   {
    "duration": 0,
    "start_time": "2022-12-30T23:06:04.427Z"
   },
   {
    "duration": 0,
    "start_time": "2022-12-30T23:06:04.428Z"
   },
   {
    "duration": 0,
    "start_time": "2022-12-30T23:06:04.429Z"
   },
   {
    "duration": 0,
    "start_time": "2022-12-30T23:06:04.430Z"
   },
   {
    "duration": 0,
    "start_time": "2022-12-30T23:06:04.431Z"
   },
   {
    "duration": 0,
    "start_time": "2022-12-30T23:06:04.433Z"
   },
   {
    "duration": 0,
    "start_time": "2022-12-30T23:06:04.433Z"
   },
   {
    "duration": 0,
    "start_time": "2022-12-30T23:06:04.435Z"
   },
   {
    "duration": 0,
    "start_time": "2022-12-30T23:06:04.436Z"
   },
   {
    "duration": 0,
    "start_time": "2022-12-30T23:06:04.437Z"
   },
   {
    "duration": 0,
    "start_time": "2022-12-30T23:06:04.438Z"
   },
   {
    "duration": 47,
    "start_time": "2022-12-30T23:10:04.764Z"
   },
   {
    "duration": 76,
    "start_time": "2022-12-30T23:10:21.764Z"
   },
   {
    "duration": 72,
    "start_time": "2022-12-30T23:10:34.158Z"
   },
   {
    "duration": 3,
    "start_time": "2022-12-30T23:13:05.638Z"
   },
   {
    "duration": 164,
    "start_time": "2022-12-30T23:13:05.643Z"
   },
   {
    "duration": 6,
    "start_time": "2022-12-30T23:13:05.809Z"
   },
   {
    "duration": 36,
    "start_time": "2022-12-30T23:13:05.817Z"
   },
   {
    "duration": 5,
    "start_time": "2022-12-30T23:13:05.855Z"
   },
   {
    "duration": 9,
    "start_time": "2022-12-30T23:13:05.862Z"
   },
   {
    "duration": 9,
    "start_time": "2022-12-30T23:13:05.872Z"
   },
   {
    "duration": 129,
    "start_time": "2022-12-30T23:13:05.882Z"
   },
   {
    "duration": 5,
    "start_time": "2022-12-30T23:13:06.013Z"
   },
   {
    "duration": 3004,
    "start_time": "2022-12-30T23:13:06.020Z"
   },
   {
    "duration": 20,
    "start_time": "2022-12-30T23:13:09.026Z"
   },
   {
    "duration": 44,
    "start_time": "2022-12-30T23:13:09.048Z"
   },
   {
    "duration": 95,
    "start_time": "2022-12-30T23:13:09.097Z"
   },
   {
    "duration": 93,
    "start_time": "2022-12-30T23:13:09.194Z"
   },
   {
    "duration": 27,
    "start_time": "2022-12-30T23:13:09.290Z"
   },
   {
    "duration": 20,
    "start_time": "2022-12-30T23:13:09.319Z"
   },
   {
    "duration": 11,
    "start_time": "2022-12-30T23:13:09.341Z"
   },
   {
    "duration": 8,
    "start_time": "2022-12-30T23:13:09.354Z"
   },
   {
    "duration": 11,
    "start_time": "2022-12-30T23:13:09.363Z"
   },
   {
    "duration": 14,
    "start_time": "2022-12-30T23:13:09.375Z"
   },
   {
    "duration": 74,
    "start_time": "2022-12-30T23:13:09.391Z"
   },
   {
    "duration": 31,
    "start_time": "2022-12-30T23:13:09.466Z"
   },
   {
    "duration": 13,
    "start_time": "2022-12-30T23:13:09.500Z"
   },
   {
    "duration": 28,
    "start_time": "2022-12-30T23:13:09.515Z"
   },
   {
    "duration": 53,
    "start_time": "2022-12-30T23:13:09.545Z"
   },
   {
    "duration": 135,
    "start_time": "2022-12-30T23:13:09.600Z"
   },
   {
    "duration": 81,
    "start_time": "2022-12-30T23:13:09.737Z"
   },
   {
    "duration": 43,
    "start_time": "2022-12-30T23:13:09.821Z"
   },
   {
    "duration": 104,
    "start_time": "2022-12-30T23:13:09.866Z"
   },
   {
    "duration": 3,
    "start_time": "2022-12-30T23:13:09.971Z"
   },
   {
    "duration": 197,
    "start_time": "2022-12-30T23:13:09.975Z"
   },
   {
    "duration": 161,
    "start_time": "2022-12-30T23:13:10.174Z"
   },
   {
    "duration": 9,
    "start_time": "2022-12-30T23:13:10.337Z"
   },
   {
    "duration": 23,
    "start_time": "2022-12-30T23:13:10.347Z"
   },
   {
    "duration": 15,
    "start_time": "2022-12-30T23:13:10.372Z"
   },
   {
    "duration": 16,
    "start_time": "2022-12-30T23:13:10.388Z"
   },
   {
    "duration": 12,
    "start_time": "2022-12-30T23:13:10.409Z"
   },
   {
    "duration": 13,
    "start_time": "2022-12-30T23:13:10.422Z"
   },
   {
    "duration": 13,
    "start_time": "2022-12-30T23:13:10.437Z"
   },
   {
    "duration": 42,
    "start_time": "2022-12-30T23:13:10.452Z"
   },
   {
    "duration": 126,
    "start_time": "2022-12-30T23:13:10.496Z"
   },
   {
    "duration": 16,
    "start_time": "2022-12-30T23:13:10.624Z"
   },
   {
    "duration": 356,
    "start_time": "2022-12-30T23:13:10.642Z"
   },
   {
    "duration": 378,
    "start_time": "2022-12-30T23:13:11.000Z"
   },
   {
    "duration": 363,
    "start_time": "2022-12-30T23:13:11.380Z"
   },
   {
    "duration": 30,
    "start_time": "2022-12-30T23:13:11.745Z"
   },
   {
    "duration": 28,
    "start_time": "2022-12-30T23:13:11.776Z"
   },
   {
    "duration": 54,
    "start_time": "2022-12-30T23:13:11.806Z"
   },
   {
    "duration": 4,
    "start_time": "2022-12-30T23:13:11.862Z"
   },
   {
    "duration": 16,
    "start_time": "2022-12-30T23:13:11.867Z"
   },
   {
    "duration": 27,
    "start_time": "2022-12-30T23:13:11.885Z"
   },
   {
    "duration": 0,
    "start_time": "2022-12-30T23:13:11.913Z"
   },
   {
    "duration": 0,
    "start_time": "2022-12-30T23:13:11.914Z"
   },
   {
    "duration": 0,
    "start_time": "2022-12-30T23:13:11.915Z"
   },
   {
    "duration": 0,
    "start_time": "2022-12-30T23:13:11.916Z"
   },
   {
    "duration": 0,
    "start_time": "2022-12-30T23:13:11.917Z"
   },
   {
    "duration": 0,
    "start_time": "2022-12-30T23:13:11.918Z"
   },
   {
    "duration": 0,
    "start_time": "2022-12-30T23:13:11.920Z"
   },
   {
    "duration": 0,
    "start_time": "2022-12-30T23:13:11.935Z"
   },
   {
    "duration": 0,
    "start_time": "2022-12-30T23:13:11.937Z"
   },
   {
    "duration": 0,
    "start_time": "2022-12-30T23:13:11.938Z"
   },
   {
    "duration": 0,
    "start_time": "2022-12-30T23:13:11.939Z"
   },
   {
    "duration": 0,
    "start_time": "2022-12-30T23:13:11.940Z"
   },
   {
    "duration": 0,
    "start_time": "2022-12-30T23:13:11.941Z"
   },
   {
    "duration": 3,
    "start_time": "2022-12-30T23:14:28.980Z"
   },
   {
    "duration": 5,
    "start_time": "2022-12-30T23:14:40.825Z"
   },
   {
    "duration": 9,
    "start_time": "2022-12-30T23:14:46.385Z"
   },
   {
    "duration": 11,
    "start_time": "2022-12-30T23:14:50.525Z"
   },
   {
    "duration": 18,
    "start_time": "2022-12-30T23:14:50.538Z"
   },
   {
    "duration": 12,
    "start_time": "2022-12-30T23:14:50.557Z"
   },
   {
    "duration": 9,
    "start_time": "2022-12-30T23:14:50.572Z"
   },
   {
    "duration": 19,
    "start_time": "2022-12-30T23:14:50.584Z"
   },
   {
    "duration": 37,
    "start_time": "2022-12-30T23:14:50.604Z"
   },
   {
    "duration": 8,
    "start_time": "2022-12-30T23:14:50.644Z"
   },
   {
    "duration": 13,
    "start_time": "2022-12-30T23:14:50.653Z"
   },
   {
    "duration": 11,
    "start_time": "2022-12-30T23:14:50.668Z"
   },
   {
    "duration": 400,
    "start_time": "2022-12-30T23:14:50.681Z"
   },
   {
    "duration": 474,
    "start_time": "2022-12-30T23:14:51.083Z"
   },
   {
    "duration": 10,
    "start_time": "2022-12-30T23:14:51.559Z"
   },
   {
    "duration": 25,
    "start_time": "2022-12-30T23:14:51.571Z"
   },
   {
    "duration": 14,
    "start_time": "2022-12-30T23:14:51.598Z"
   },
   {
    "duration": 55,
    "start_time": "2022-12-30T23:16:46.723Z"
   },
   {
    "duration": 7,
    "start_time": "2022-12-30T23:16:58.526Z"
   },
   {
    "duration": 86,
    "start_time": "2022-12-30T23:17:55.841Z"
   },
   {
    "duration": 437,
    "start_time": "2022-12-30T23:19:44.794Z"
   },
   {
    "duration": 46,
    "start_time": "2022-12-30T23:20:17.709Z"
   },
   {
    "duration": 1280,
    "start_time": "2022-12-31T22:44:22.045Z"
   },
   {
    "duration": 479,
    "start_time": "2022-12-31T22:44:23.327Z"
   },
   {
    "duration": 11,
    "start_time": "2022-12-31T22:44:23.808Z"
   },
   {
    "duration": 20,
    "start_time": "2022-12-31T22:44:23.821Z"
   },
   {
    "duration": 2,
    "start_time": "2022-12-31T22:44:23.843Z"
   },
   {
    "duration": 12,
    "start_time": "2022-12-31T22:44:23.846Z"
   },
   {
    "duration": 18,
    "start_time": "2022-12-31T22:44:23.860Z"
   },
   {
    "duration": 92,
    "start_time": "2022-12-31T22:44:23.879Z"
   },
   {
    "duration": 2,
    "start_time": "2022-12-31T22:44:23.973Z"
   },
   {
    "duration": 2518,
    "start_time": "2022-12-31T22:44:23.978Z"
   },
   {
    "duration": 18,
    "start_time": "2022-12-31T22:44:26.498Z"
   },
   {
    "duration": 26,
    "start_time": "2022-12-31T22:44:26.517Z"
   },
   {
    "duration": 84,
    "start_time": "2022-12-31T22:44:26.545Z"
   },
   {
    "duration": 67,
    "start_time": "2022-12-31T22:44:26.630Z"
   },
   {
    "duration": 31,
    "start_time": "2022-12-31T22:44:26.698Z"
   },
   {
    "duration": 2,
    "start_time": "2022-12-31T22:44:26.731Z"
   },
   {
    "duration": 7,
    "start_time": "2022-12-31T22:44:26.735Z"
   },
   {
    "duration": 5,
    "start_time": "2022-12-31T22:44:26.743Z"
   },
   {
    "duration": 71,
    "start_time": "2022-12-31T22:44:26.750Z"
   },
   {
    "duration": 6,
    "start_time": "2022-12-31T22:44:26.823Z"
   },
   {
    "duration": 27,
    "start_time": "2022-12-31T22:44:26.831Z"
   },
   {
    "duration": 26,
    "start_time": "2022-12-31T22:44:26.859Z"
   },
   {
    "duration": 30,
    "start_time": "2022-12-31T22:44:26.886Z"
   },
   {
    "duration": 4,
    "start_time": "2022-12-31T22:44:26.917Z"
   },
   {
    "duration": 34,
    "start_time": "2022-12-31T22:44:26.923Z"
   },
   {
    "duration": 129,
    "start_time": "2022-12-31T22:44:26.958Z"
   },
   {
    "duration": 76,
    "start_time": "2022-12-31T22:44:27.089Z"
   },
   {
    "duration": 26,
    "start_time": "2022-12-31T22:44:27.168Z"
   },
   {
    "duration": 92,
    "start_time": "2022-12-31T22:44:27.195Z"
   },
   {
    "duration": 2,
    "start_time": "2022-12-31T22:44:27.289Z"
   },
   {
    "duration": 147,
    "start_time": "2022-12-31T22:44:27.292Z"
   },
   {
    "duration": 129,
    "start_time": "2022-12-31T22:44:27.441Z"
   },
   {
    "duration": 8,
    "start_time": "2022-12-31T22:44:27.572Z"
   },
   {
    "duration": 8,
    "start_time": "2022-12-31T22:44:27.582Z"
   },
   {
    "duration": 5,
    "start_time": "2022-12-31T22:44:27.592Z"
   },
   {
    "duration": 3,
    "start_time": "2022-12-31T22:44:27.616Z"
   },
   {
    "duration": 19,
    "start_time": "2022-12-31T22:44:27.620Z"
   },
   {
    "duration": 16,
    "start_time": "2022-12-31T22:44:27.640Z"
   },
   {
    "duration": 4,
    "start_time": "2022-12-31T22:44:27.657Z"
   },
   {
    "duration": 433,
    "start_time": "2022-12-31T22:44:27.663Z"
   },
   {
    "duration": 184,
    "start_time": "2022-12-31T22:44:28.098Z"
   },
   {
    "duration": 0,
    "start_time": "2022-12-31T22:44:28.283Z"
   },
   {
    "duration": 0,
    "start_time": "2022-12-31T22:44:28.284Z"
   },
   {
    "duration": 0,
    "start_time": "2022-12-31T22:44:28.285Z"
   },
   {
    "duration": 0,
    "start_time": "2022-12-31T22:44:28.286Z"
   },
   {
    "duration": 0,
    "start_time": "2022-12-31T22:44:28.287Z"
   },
   {
    "duration": 0,
    "start_time": "2022-12-31T22:44:28.288Z"
   },
   {
    "duration": 0,
    "start_time": "2022-12-31T22:44:28.289Z"
   },
   {
    "duration": 0,
    "start_time": "2022-12-31T22:44:28.291Z"
   },
   {
    "duration": 0,
    "start_time": "2022-12-31T22:44:28.315Z"
   },
   {
    "duration": 0,
    "start_time": "2022-12-31T22:44:28.316Z"
   },
   {
    "duration": 0,
    "start_time": "2022-12-31T22:44:28.317Z"
   },
   {
    "duration": 0,
    "start_time": "2022-12-31T22:44:28.318Z"
   },
   {
    "duration": 0,
    "start_time": "2022-12-31T22:44:28.319Z"
   },
   {
    "duration": 0,
    "start_time": "2022-12-31T22:44:28.320Z"
   },
   {
    "duration": 0,
    "start_time": "2022-12-31T22:44:28.321Z"
   },
   {
    "duration": 0,
    "start_time": "2022-12-31T22:44:28.322Z"
   },
   {
    "duration": 0,
    "start_time": "2022-12-31T22:44:28.323Z"
   },
   {
    "duration": 0,
    "start_time": "2022-12-31T22:44:28.324Z"
   },
   {
    "duration": 0,
    "start_time": "2022-12-31T22:44:28.325Z"
   },
   {
    "duration": 0,
    "start_time": "2022-12-31T22:44:28.326Z"
   },
   {
    "duration": 0,
    "start_time": "2022-12-31T22:44:28.327Z"
   },
   {
    "duration": 0,
    "start_time": "2022-12-31T22:44:28.329Z"
   },
   {
    "duration": 0,
    "start_time": "2022-12-31T22:44:28.330Z"
   },
   {
    "duration": 0,
    "start_time": "2022-12-31T22:44:28.331Z"
   },
   {
    "duration": 1490,
    "start_time": "2023-01-01T09:17:22.952Z"
   },
   {
    "duration": 698,
    "start_time": "2023-01-01T09:17:24.444Z"
   },
   {
    "duration": 13,
    "start_time": "2023-01-01T09:17:25.144Z"
   },
   {
    "duration": 28,
    "start_time": "2023-01-01T09:17:25.159Z"
   },
   {
    "duration": 4,
    "start_time": "2023-01-01T09:17:25.189Z"
   },
   {
    "duration": 14,
    "start_time": "2023-01-01T09:17:25.198Z"
   },
   {
    "duration": 13,
    "start_time": "2023-01-01T09:17:25.214Z"
   },
   {
    "duration": 130,
    "start_time": "2023-01-01T09:17:25.252Z"
   },
   {
    "duration": 7,
    "start_time": "2023-01-01T09:17:25.384Z"
   },
   {
    "duration": 2771,
    "start_time": "2023-01-01T09:17:25.394Z"
   },
   {
    "duration": 18,
    "start_time": "2023-01-01T09:17:28.167Z"
   },
   {
    "duration": 32,
    "start_time": "2023-01-01T09:17:28.187Z"
   },
   {
    "duration": 106,
    "start_time": "2023-01-01T09:17:28.220Z"
   },
   {
    "duration": 92,
    "start_time": "2023-01-01T09:17:28.328Z"
   },
   {
    "duration": 35,
    "start_time": "2023-01-01T09:17:28.422Z"
   },
   {
    "duration": 4,
    "start_time": "2023-01-01T09:17:28.459Z"
   },
   {
    "duration": 10,
    "start_time": "2023-01-01T09:17:28.465Z"
   },
   {
    "duration": 8,
    "start_time": "2023-01-01T09:17:28.477Z"
   },
   {
    "duration": 95,
    "start_time": "2023-01-01T09:17:28.487Z"
   },
   {
    "duration": 11,
    "start_time": "2023-01-01T09:17:28.585Z"
   },
   {
    "duration": 31,
    "start_time": "2023-01-01T09:17:28.598Z"
   },
   {
    "duration": 43,
    "start_time": "2023-01-01T09:17:28.631Z"
   },
   {
    "duration": 8,
    "start_time": "2023-01-01T09:17:28.676Z"
   },
   {
    "duration": 5,
    "start_time": "2023-01-01T09:17:28.685Z"
   },
   {
    "duration": 40,
    "start_time": "2023-01-01T09:17:28.692Z"
   },
   {
    "duration": 147,
    "start_time": "2023-01-01T09:17:28.752Z"
   },
   {
    "duration": 75,
    "start_time": "2023-01-01T09:17:28.901Z"
   },
   {
    "duration": 31,
    "start_time": "2023-01-01T09:17:28.981Z"
   },
   {
    "duration": 108,
    "start_time": "2023-01-01T09:17:29.014Z"
   },
   {
    "duration": 2,
    "start_time": "2023-01-01T09:17:29.124Z"
   },
   {
    "duration": 179,
    "start_time": "2023-01-01T09:17:29.128Z"
   },
   {
    "duration": 159,
    "start_time": "2023-01-01T09:17:29.309Z"
   },
   {
    "duration": 10,
    "start_time": "2023-01-01T09:17:29.470Z"
   },
   {
    "duration": 13,
    "start_time": "2023-01-01T09:17:29.483Z"
   },
   {
    "duration": 4,
    "start_time": "2023-01-01T09:17:29.498Z"
   },
   {
    "duration": 6,
    "start_time": "2023-01-01T09:17:29.504Z"
   },
   {
    "duration": 7,
    "start_time": "2023-01-01T09:17:29.511Z"
   },
   {
    "duration": 37,
    "start_time": "2023-01-01T09:17:29.520Z"
   },
   {
    "duration": 6,
    "start_time": "2023-01-01T09:17:29.558Z"
   },
   {
    "duration": 486,
    "start_time": "2023-01-01T09:17:29.566Z"
   },
   {
    "duration": 243,
    "start_time": "2023-01-01T09:17:30.054Z"
   },
   {
    "duration": 0,
    "start_time": "2023-01-01T09:17:30.299Z"
   },
   {
    "duration": 0,
    "start_time": "2023-01-01T09:17:30.302Z"
   },
   {
    "duration": 0,
    "start_time": "2023-01-01T09:17:30.303Z"
   },
   {
    "duration": 0,
    "start_time": "2023-01-01T09:17:30.305Z"
   },
   {
    "duration": 0,
    "start_time": "2023-01-01T09:17:30.306Z"
   },
   {
    "duration": 0,
    "start_time": "2023-01-01T09:17:30.307Z"
   },
   {
    "duration": 0,
    "start_time": "2023-01-01T09:17:30.308Z"
   },
   {
    "duration": 0,
    "start_time": "2023-01-01T09:17:30.310Z"
   },
   {
    "duration": 0,
    "start_time": "2023-01-01T09:17:30.311Z"
   },
   {
    "duration": 0,
    "start_time": "2023-01-01T09:17:30.312Z"
   },
   {
    "duration": 0,
    "start_time": "2023-01-01T09:17:30.313Z"
   },
   {
    "duration": 0,
    "start_time": "2023-01-01T09:17:30.314Z"
   },
   {
    "duration": 0,
    "start_time": "2023-01-01T09:17:30.315Z"
   },
   {
    "duration": 0,
    "start_time": "2023-01-01T09:17:30.316Z"
   },
   {
    "duration": 0,
    "start_time": "2023-01-01T09:17:30.317Z"
   },
   {
    "duration": 0,
    "start_time": "2023-01-01T09:17:30.318Z"
   },
   {
    "duration": 0,
    "start_time": "2023-01-01T09:17:30.319Z"
   },
   {
    "duration": 0,
    "start_time": "2023-01-01T09:17:30.320Z"
   },
   {
    "duration": 0,
    "start_time": "2023-01-01T09:17:30.351Z"
   },
   {
    "duration": 0,
    "start_time": "2023-01-01T09:17:30.353Z"
   },
   {
    "duration": 0,
    "start_time": "2023-01-01T09:17:30.354Z"
   },
   {
    "duration": 0,
    "start_time": "2023-01-01T09:17:30.355Z"
   },
   {
    "duration": 0,
    "start_time": "2023-01-01T09:17:30.356Z"
   },
   {
    "duration": 0,
    "start_time": "2023-01-01T09:17:30.358Z"
   },
   {
    "duration": 11,
    "start_time": "2023-01-01T09:17:57.348Z"
   },
   {
    "duration": 3,
    "start_time": "2023-01-01T09:18:19.815Z"
   },
   {
    "duration": 192,
    "start_time": "2023-01-01T09:18:19.820Z"
   },
   {
    "duration": 8,
    "start_time": "2023-01-01T09:18:20.014Z"
   },
   {
    "duration": 37,
    "start_time": "2023-01-01T09:18:20.024Z"
   },
   {
    "duration": 4,
    "start_time": "2023-01-01T09:18:20.063Z"
   },
   {
    "duration": 10,
    "start_time": "2023-01-01T09:18:20.068Z"
   },
   {
    "duration": 11,
    "start_time": "2023-01-01T09:18:20.079Z"
   },
   {
    "duration": 120,
    "start_time": "2023-01-01T09:18:20.092Z"
   },
   {
    "duration": 3,
    "start_time": "2023-01-01T09:18:20.214Z"
   },
   {
    "duration": 3110,
    "start_time": "2023-01-01T09:18:20.219Z"
   },
   {
    "duration": 21,
    "start_time": "2023-01-01T09:18:23.332Z"
   },
   {
    "duration": 33,
    "start_time": "2023-01-01T09:18:23.355Z"
   },
   {
    "duration": 103,
    "start_time": "2023-01-01T09:18:23.390Z"
   },
   {
    "duration": 92,
    "start_time": "2023-01-01T09:18:23.495Z"
   },
   {
    "duration": 28,
    "start_time": "2023-01-01T09:18:23.589Z"
   },
   {
    "duration": 4,
    "start_time": "2023-01-01T09:18:23.618Z"
   },
   {
    "duration": 28,
    "start_time": "2023-01-01T09:18:23.623Z"
   },
   {
    "duration": 7,
    "start_time": "2023-01-01T09:18:23.653Z"
   },
   {
    "duration": 6,
    "start_time": "2023-01-01T09:18:23.662Z"
   },
   {
    "duration": 8,
    "start_time": "2023-01-01T09:18:23.669Z"
   },
   {
    "duration": 28,
    "start_time": "2023-01-01T09:18:23.679Z"
   },
   {
    "duration": 65,
    "start_time": "2023-01-01T09:18:23.709Z"
   },
   {
    "duration": 8,
    "start_time": "2023-01-01T09:18:23.776Z"
   },
   {
    "duration": 4,
    "start_time": "2023-01-01T09:18:23.786Z"
   },
   {
    "duration": 63,
    "start_time": "2023-01-01T09:18:23.791Z"
   },
   {
    "duration": 134,
    "start_time": "2023-01-01T09:18:23.856Z"
   },
   {
    "duration": 80,
    "start_time": "2023-01-01T09:18:23.992Z"
   },
   {
    "duration": 33,
    "start_time": "2023-01-01T09:18:24.076Z"
   },
   {
    "duration": 117,
    "start_time": "2023-01-01T09:18:24.110Z"
   },
   {
    "duration": 3,
    "start_time": "2023-01-01T09:18:24.228Z"
   },
   {
    "duration": 172,
    "start_time": "2023-01-01T09:18:24.232Z"
   },
   {
    "duration": 162,
    "start_time": "2023-01-01T09:18:24.405Z"
   },
   {
    "duration": 11,
    "start_time": "2023-01-01T09:18:24.569Z"
   },
   {
    "duration": 9,
    "start_time": "2023-01-01T09:18:24.582Z"
   },
   {
    "duration": 3,
    "start_time": "2023-01-01T09:18:24.593Z"
   },
   {
    "duration": 6,
    "start_time": "2023-01-01T09:18:24.597Z"
   },
   {
    "duration": 8,
    "start_time": "2023-01-01T09:18:24.604Z"
   },
   {
    "duration": 14,
    "start_time": "2023-01-01T09:18:24.613Z"
   },
   {
    "duration": 25,
    "start_time": "2023-01-01T09:18:24.628Z"
   },
   {
    "duration": 46,
    "start_time": "2023-01-01T09:18:24.655Z"
   },
   {
    "duration": 56,
    "start_time": "2023-01-01T09:18:24.703Z"
   },
   {
    "duration": 9,
    "start_time": "2023-01-01T09:18:24.760Z"
   },
   {
    "duration": 131,
    "start_time": "2023-01-01T09:18:24.771Z"
   },
   {
    "duration": 9,
    "start_time": "2023-01-01T09:18:24.904Z"
   },
   {
    "duration": 358,
    "start_time": "2023-01-01T09:18:24.915Z"
   },
   {
    "duration": 347,
    "start_time": "2023-01-01T09:18:25.275Z"
   },
   {
    "duration": 350,
    "start_time": "2023-01-01T09:18:25.624Z"
   },
   {
    "duration": 30,
    "start_time": "2023-01-01T09:18:25.976Z"
   },
   {
    "duration": 46,
    "start_time": "2023-01-01T09:18:26.007Z"
   },
   {
    "duration": 38,
    "start_time": "2023-01-01T09:18:26.055Z"
   },
   {
    "duration": 4,
    "start_time": "2023-01-01T09:18:26.095Z"
   },
   {
    "duration": 24,
    "start_time": "2023-01-01T09:18:26.100Z"
   },
   {
    "duration": 42,
    "start_time": "2023-01-01T09:18:26.125Z"
   },
   {
    "duration": 21,
    "start_time": "2023-01-01T09:18:26.169Z"
   },
   {
    "duration": 33,
    "start_time": "2023-01-01T09:18:26.192Z"
   },
   {
    "duration": 23,
    "start_time": "2023-01-01T09:18:26.227Z"
   },
   {
    "duration": 0,
    "start_time": "2023-01-01T09:18:26.251Z"
   },
   {
    "duration": 0,
    "start_time": "2023-01-01T09:18:26.253Z"
   },
   {
    "duration": 0,
    "start_time": "2023-01-01T09:18:26.254Z"
   },
   {
    "duration": 0,
    "start_time": "2023-01-01T09:18:26.255Z"
   },
   {
    "duration": 0,
    "start_time": "2023-01-01T09:18:26.256Z"
   },
   {
    "duration": 0,
    "start_time": "2023-01-01T09:18:26.257Z"
   },
   {
    "duration": 0,
    "start_time": "2023-01-01T09:18:26.258Z"
   },
   {
    "duration": 0,
    "start_time": "2023-01-01T09:18:26.259Z"
   },
   {
    "duration": 0,
    "start_time": "2023-01-01T09:18:26.260Z"
   },
   {
    "duration": 0,
    "start_time": "2023-01-01T09:18:26.261Z"
   },
   {
    "duration": 3,
    "start_time": "2023-01-01T09:19:15.617Z"
   },
   {
    "duration": 178,
    "start_time": "2023-01-01T09:19:15.622Z"
   },
   {
    "duration": 8,
    "start_time": "2023-01-01T09:19:15.802Z"
   },
   {
    "duration": 25,
    "start_time": "2023-01-01T09:19:15.812Z"
   },
   {
    "duration": 3,
    "start_time": "2023-01-01T09:19:15.850Z"
   },
   {
    "duration": 10,
    "start_time": "2023-01-01T09:19:15.855Z"
   },
   {
    "duration": 8,
    "start_time": "2023-01-01T09:19:15.867Z"
   },
   {
    "duration": 116,
    "start_time": "2023-01-01T09:19:15.876Z"
   },
   {
    "duration": 3,
    "start_time": "2023-01-01T09:19:15.993Z"
   },
   {
    "duration": 3013,
    "start_time": "2023-01-01T09:19:15.999Z"
   },
   {
    "duration": 12,
    "start_time": "2023-01-01T09:19:19.014Z"
   },
   {
    "duration": 53,
    "start_time": "2023-01-01T09:19:19.028Z"
   },
   {
    "duration": 102,
    "start_time": "2023-01-01T09:19:19.083Z"
   },
   {
    "duration": 100,
    "start_time": "2023-01-01T09:19:19.186Z"
   },
   {
    "duration": 26,
    "start_time": "2023-01-01T09:19:19.288Z"
   },
   {
    "duration": 10,
    "start_time": "2023-01-01T09:19:19.316Z"
   },
   {
    "duration": 19,
    "start_time": "2023-01-01T09:19:19.328Z"
   },
   {
    "duration": 28,
    "start_time": "2023-01-01T09:19:19.350Z"
   },
   {
    "duration": 26,
    "start_time": "2023-01-01T09:19:19.380Z"
   },
   {
    "duration": 21,
    "start_time": "2023-01-01T09:19:19.408Z"
   },
   {
    "duration": 41,
    "start_time": "2023-01-01T09:19:19.431Z"
   },
   {
    "duration": 30,
    "start_time": "2023-01-01T09:19:19.474Z"
   },
   {
    "duration": 8,
    "start_time": "2023-01-01T09:19:19.506Z"
   },
   {
    "duration": 24,
    "start_time": "2023-01-01T09:19:19.515Z"
   },
   {
    "duration": 81,
    "start_time": "2023-01-01T09:19:19.541Z"
   },
   {
    "duration": 156,
    "start_time": "2023-01-01T09:19:19.624Z"
   },
   {
    "duration": 88,
    "start_time": "2023-01-01T09:19:19.782Z"
   },
   {
    "duration": 30,
    "start_time": "2023-01-01T09:19:19.873Z"
   },
   {
    "duration": 103,
    "start_time": "2023-01-01T09:19:19.904Z"
   },
   {
    "duration": 3,
    "start_time": "2023-01-01T09:19:20.008Z"
   },
   {
    "duration": 159,
    "start_time": "2023-01-01T09:19:20.013Z"
   },
   {
    "duration": 157,
    "start_time": "2023-01-01T09:19:20.174Z"
   },
   {
    "duration": 20,
    "start_time": "2023-01-01T09:19:20.332Z"
   },
   {
    "duration": 17,
    "start_time": "2023-01-01T09:19:20.354Z"
   },
   {
    "duration": 3,
    "start_time": "2023-01-01T09:19:20.373Z"
   },
   {
    "duration": 9,
    "start_time": "2023-01-01T09:19:20.377Z"
   },
   {
    "duration": 6,
    "start_time": "2023-01-01T09:19:20.388Z"
   },
   {
    "duration": 9,
    "start_time": "2023-01-01T09:19:20.396Z"
   },
   {
    "duration": 6,
    "start_time": "2023-01-01T09:19:20.406Z"
   },
   {
    "duration": 62,
    "start_time": "2023-01-01T09:19:20.413Z"
   },
   {
    "duration": 43,
    "start_time": "2023-01-01T09:19:20.476Z"
   },
   {
    "duration": 10,
    "start_time": "2023-01-01T09:19:20.521Z"
   },
   {
    "duration": 149,
    "start_time": "2023-01-01T09:19:20.551Z"
   },
   {
    "duration": 10,
    "start_time": "2023-01-01T09:19:20.701Z"
   },
   {
    "duration": 350,
    "start_time": "2023-01-01T09:19:20.713Z"
   },
   {
    "duration": 345,
    "start_time": "2023-01-01T09:19:21.065Z"
   },
   {
    "duration": 350,
    "start_time": "2023-01-01T09:19:21.412Z"
   },
   {
    "duration": 374,
    "start_time": "2023-01-01T09:19:21.764Z"
   },
   {
    "duration": 34,
    "start_time": "2023-01-01T09:19:22.139Z"
   },
   {
    "duration": 33,
    "start_time": "2023-01-01T09:19:22.175Z"
   },
   {
    "duration": 49,
    "start_time": "2023-01-01T09:19:22.210Z"
   },
   {
    "duration": 4,
    "start_time": "2023-01-01T09:19:22.261Z"
   },
   {
    "duration": 13,
    "start_time": "2023-01-01T09:19:22.266Z"
   },
   {
    "duration": 14,
    "start_time": "2023-01-01T09:19:22.281Z"
   },
   {
    "duration": 9,
    "start_time": "2023-01-01T09:19:22.297Z"
   },
   {
    "duration": 10,
    "start_time": "2023-01-01T09:19:22.308Z"
   },
   {
    "duration": 36,
    "start_time": "2023-01-01T09:19:22.320Z"
   },
   {
    "duration": 10,
    "start_time": "2023-01-01T09:19:22.358Z"
   },
   {
    "duration": 15,
    "start_time": "2023-01-01T09:19:22.370Z"
   },
   {
    "duration": 17,
    "start_time": "2023-01-01T09:19:22.386Z"
   },
   {
    "duration": 17,
    "start_time": "2023-01-01T09:19:22.404Z"
   },
   {
    "duration": 28,
    "start_time": "2023-01-01T09:19:22.423Z"
   },
   {
    "duration": 9,
    "start_time": "2023-01-01T09:19:22.453Z"
   },
   {
    "duration": 466,
    "start_time": "2023-01-01T09:19:22.464Z"
   },
   {
    "duration": 20,
    "start_time": "2023-01-01T09:19:22.932Z"
   },
   {
    "duration": 9,
    "start_time": "2023-01-01T09:19:22.953Z"
   },
   {
    "duration": 172,
    "start_time": "2023-01-01T09:20:19.463Z"
   },
   {
    "duration": 52,
    "start_time": "2023-01-01T09:20:30.385Z"
   },
   {
    "duration": 46,
    "start_time": "2023-01-01T09:20:44.007Z"
   },
   {
    "duration": 44,
    "start_time": "2023-01-01T09:20:52.575Z"
   },
   {
    "duration": 14,
    "start_time": "2023-01-01T09:25:23.803Z"
   },
   {
    "duration": 19,
    "start_time": "2023-01-01T09:25:33.123Z"
   },
   {
    "duration": 3,
    "start_time": "2023-01-01T09:25:37.280Z"
   },
   {
    "duration": 173,
    "start_time": "2023-01-01T09:25:37.285Z"
   },
   {
    "duration": 8,
    "start_time": "2023-01-01T09:25:37.460Z"
   },
   {
    "duration": 27,
    "start_time": "2023-01-01T09:25:37.470Z"
   },
   {
    "duration": 4,
    "start_time": "2023-01-01T09:25:37.499Z"
   },
   {
    "duration": 10,
    "start_time": "2023-01-01T09:25:37.505Z"
   },
   {
    "duration": 7,
    "start_time": "2023-01-01T09:25:37.518Z"
   },
   {
    "duration": 109,
    "start_time": "2023-01-01T09:25:37.550Z"
   },
   {
    "duration": 10,
    "start_time": "2023-01-01T09:25:37.661Z"
   },
   {
    "duration": 3149,
    "start_time": "2023-01-01T09:25:37.673Z"
   },
   {
    "duration": 11,
    "start_time": "2023-01-01T09:25:40.824Z"
   },
   {
    "duration": 39,
    "start_time": "2023-01-01T09:25:40.837Z"
   },
   {
    "duration": 95,
    "start_time": "2023-01-01T09:25:40.878Z"
   },
   {
    "duration": 95,
    "start_time": "2023-01-01T09:25:40.974Z"
   },
   {
    "duration": 26,
    "start_time": "2023-01-01T09:25:41.071Z"
   },
   {
    "duration": 4,
    "start_time": "2023-01-01T09:25:41.099Z"
   },
   {
    "duration": 11,
    "start_time": "2023-01-01T09:25:41.104Z"
   },
   {
    "duration": 34,
    "start_time": "2023-01-01T09:25:41.117Z"
   },
   {
    "duration": 8,
    "start_time": "2023-01-01T09:25:41.153Z"
   },
   {
    "duration": 8,
    "start_time": "2023-01-01T09:25:41.163Z"
   },
   {
    "duration": 29,
    "start_time": "2023-01-01T09:25:41.172Z"
   },
   {
    "duration": 62,
    "start_time": "2023-01-01T09:25:41.203Z"
   },
   {
    "duration": 8,
    "start_time": "2023-01-01T09:25:41.267Z"
   },
   {
    "duration": 7,
    "start_time": "2023-01-01T09:25:41.279Z"
   },
   {
    "duration": 18,
    "start_time": "2023-01-01T09:25:41.288Z"
   },
   {
    "duration": 0,
    "start_time": "2023-01-01T09:25:41.308Z"
   },
   {
    "duration": 0,
    "start_time": "2023-01-01T09:25:41.309Z"
   },
   {
    "duration": 0,
    "start_time": "2023-01-01T09:25:41.310Z"
   },
   {
    "duration": 0,
    "start_time": "2023-01-01T09:25:41.311Z"
   },
   {
    "duration": 0,
    "start_time": "2023-01-01T09:25:41.313Z"
   },
   {
    "duration": 0,
    "start_time": "2023-01-01T09:25:41.314Z"
   },
   {
    "duration": 0,
    "start_time": "2023-01-01T09:25:41.315Z"
   },
   {
    "duration": 0,
    "start_time": "2023-01-01T09:25:41.351Z"
   },
   {
    "duration": 0,
    "start_time": "2023-01-01T09:25:41.353Z"
   },
   {
    "duration": 0,
    "start_time": "2023-01-01T09:25:41.354Z"
   },
   {
    "duration": 0,
    "start_time": "2023-01-01T09:25:41.356Z"
   },
   {
    "duration": 0,
    "start_time": "2023-01-01T09:25:41.357Z"
   },
   {
    "duration": 0,
    "start_time": "2023-01-01T09:25:41.358Z"
   },
   {
    "duration": 0,
    "start_time": "2023-01-01T09:25:41.359Z"
   },
   {
    "duration": 0,
    "start_time": "2023-01-01T09:25:41.360Z"
   },
   {
    "duration": 0,
    "start_time": "2023-01-01T09:25:41.361Z"
   },
   {
    "duration": 0,
    "start_time": "2023-01-01T09:25:41.363Z"
   },
   {
    "duration": 0,
    "start_time": "2023-01-01T09:25:41.364Z"
   },
   {
    "duration": 0,
    "start_time": "2023-01-01T09:25:41.365Z"
   },
   {
    "duration": 0,
    "start_time": "2023-01-01T09:25:41.366Z"
   },
   {
    "duration": 0,
    "start_time": "2023-01-01T09:25:41.367Z"
   },
   {
    "duration": 0,
    "start_time": "2023-01-01T09:25:41.368Z"
   },
   {
    "duration": 0,
    "start_time": "2023-01-01T09:25:41.370Z"
   },
   {
    "duration": 0,
    "start_time": "2023-01-01T09:25:41.371Z"
   },
   {
    "duration": 0,
    "start_time": "2023-01-01T09:25:41.372Z"
   },
   {
    "duration": 0,
    "start_time": "2023-01-01T09:25:41.373Z"
   },
   {
    "duration": 0,
    "start_time": "2023-01-01T09:25:41.374Z"
   },
   {
    "duration": 0,
    "start_time": "2023-01-01T09:25:41.375Z"
   },
   {
    "duration": 0,
    "start_time": "2023-01-01T09:25:41.376Z"
   },
   {
    "duration": 0,
    "start_time": "2023-01-01T09:25:41.377Z"
   },
   {
    "duration": 0,
    "start_time": "2023-01-01T09:25:41.378Z"
   },
   {
    "duration": 0,
    "start_time": "2023-01-01T09:25:41.379Z"
   },
   {
    "duration": 0,
    "start_time": "2023-01-01T09:25:41.380Z"
   },
   {
    "duration": 0,
    "start_time": "2023-01-01T09:25:41.381Z"
   },
   {
    "duration": 0,
    "start_time": "2023-01-01T09:25:41.383Z"
   },
   {
    "duration": 0,
    "start_time": "2023-01-01T09:25:41.385Z"
   },
   {
    "duration": 0,
    "start_time": "2023-01-01T09:25:41.386Z"
   },
   {
    "duration": 0,
    "start_time": "2023-01-01T09:25:41.387Z"
   },
   {
    "duration": 0,
    "start_time": "2023-01-01T09:25:41.389Z"
   },
   {
    "duration": 0,
    "start_time": "2023-01-01T09:25:41.390Z"
   },
   {
    "duration": 0,
    "start_time": "2023-01-01T09:25:41.451Z"
   },
   {
    "duration": 0,
    "start_time": "2023-01-01T09:25:41.453Z"
   },
   {
    "duration": 9,
    "start_time": "2023-01-01T09:25:59.183Z"
   },
   {
    "duration": 8,
    "start_time": "2023-01-01T09:28:25.616Z"
   },
   {
    "duration": 3,
    "start_time": "2023-01-01T09:28:33.420Z"
   },
   {
    "duration": 163,
    "start_time": "2023-01-01T09:28:33.425Z"
   },
   {
    "duration": 7,
    "start_time": "2023-01-01T09:28:33.590Z"
   },
   {
    "duration": 30,
    "start_time": "2023-01-01T09:28:33.599Z"
   },
   {
    "duration": 3,
    "start_time": "2023-01-01T09:28:33.631Z"
   },
   {
    "duration": 16,
    "start_time": "2023-01-01T09:28:33.636Z"
   },
   {
    "duration": 11,
    "start_time": "2023-01-01T09:28:33.654Z"
   },
   {
    "duration": 113,
    "start_time": "2023-01-01T09:28:33.666Z"
   },
   {
    "duration": 3,
    "start_time": "2023-01-01T09:28:33.780Z"
   },
   {
    "duration": 2878,
    "start_time": "2023-01-01T09:28:33.785Z"
   },
   {
    "duration": 11,
    "start_time": "2023-01-01T09:28:36.665Z"
   },
   {
    "duration": 30,
    "start_time": "2023-01-01T09:28:36.678Z"
   },
   {
    "duration": 95,
    "start_time": "2023-01-01T09:28:36.709Z"
   },
   {
    "duration": 91,
    "start_time": "2023-01-01T09:28:36.807Z"
   },
   {
    "duration": 26,
    "start_time": "2023-01-01T09:28:36.900Z"
   },
   {
    "duration": 31,
    "start_time": "2023-01-01T09:28:36.929Z"
   },
   {
    "duration": 28,
    "start_time": "2023-01-01T09:28:36.962Z"
   },
   {
    "duration": 44,
    "start_time": "2023-01-01T09:28:36.992Z"
   },
   {
    "duration": 76,
    "start_time": "2023-01-01T09:28:37.038Z"
   },
   {
    "duration": 27,
    "start_time": "2023-01-01T09:28:37.115Z"
   },
   {
    "duration": 60,
    "start_time": "2023-01-01T09:28:37.144Z"
   },
   {
    "duration": 36,
    "start_time": "2023-01-01T09:28:37.206Z"
   },
   {
    "duration": 8,
    "start_time": "2023-01-01T09:28:37.245Z"
   },
   {
    "duration": 21,
    "start_time": "2023-01-01T09:28:37.255Z"
   },
   {
    "duration": 22,
    "start_time": "2023-01-01T09:28:37.278Z"
   },
   {
    "duration": 67,
    "start_time": "2023-01-01T09:28:37.302Z"
   },
   {
    "duration": 131,
    "start_time": "2023-01-01T09:28:37.371Z"
   },
   {
    "duration": 82,
    "start_time": "2023-01-01T09:28:37.504Z"
   },
   {
    "duration": 32,
    "start_time": "2023-01-01T09:28:37.588Z"
   },
   {
    "duration": 111,
    "start_time": "2023-01-01T09:28:37.621Z"
   },
   {
    "duration": 3,
    "start_time": "2023-01-01T09:28:37.734Z"
   },
   {
    "duration": 206,
    "start_time": "2023-01-01T09:28:37.739Z"
   },
   {
    "duration": 161,
    "start_time": "2023-01-01T09:28:37.948Z"
   },
   {
    "duration": 11,
    "start_time": "2023-01-01T09:28:38.111Z"
   },
   {
    "duration": 55,
    "start_time": "2023-01-01T09:28:38.124Z"
   },
   {
    "duration": 55,
    "start_time": "2023-01-01T09:28:38.181Z"
   },
   {
    "duration": 49,
    "start_time": "2023-01-01T09:28:38.238Z"
   },
   {
    "duration": 28,
    "start_time": "2023-01-01T09:28:38.288Z"
   },
   {
    "duration": 71,
    "start_time": "2023-01-01T09:28:38.318Z"
   },
   {
    "duration": 33,
    "start_time": "2023-01-01T09:28:38.391Z"
   },
   {
    "duration": 108,
    "start_time": "2023-01-01T09:28:38.428Z"
   },
   {
    "duration": 45,
    "start_time": "2023-01-01T09:28:38.537Z"
   },
   {
    "duration": 10,
    "start_time": "2023-01-01T09:28:38.584Z"
   },
   {
    "duration": 165,
    "start_time": "2023-01-01T09:28:38.596Z"
   },
   {
    "duration": 10,
    "start_time": "2023-01-01T09:28:38.763Z"
   },
   {
    "duration": 402,
    "start_time": "2023-01-01T09:28:38.775Z"
   },
   {
    "duration": 377,
    "start_time": "2023-01-01T09:28:39.179Z"
   },
   {
    "duration": 431,
    "start_time": "2023-01-01T09:28:39.558Z"
   },
   {
    "duration": 412,
    "start_time": "2023-01-01T09:28:39.992Z"
   },
   {
    "duration": 45,
    "start_time": "2023-01-01T09:28:40.406Z"
   },
   {
    "duration": 57,
    "start_time": "2023-01-01T09:28:40.453Z"
   },
   {
    "duration": 41,
    "start_time": "2023-01-01T09:28:40.511Z"
   },
   {
    "duration": 4,
    "start_time": "2023-01-01T09:28:40.554Z"
   },
   {
    "duration": 28,
    "start_time": "2023-01-01T09:28:40.560Z"
   },
   {
    "duration": 26,
    "start_time": "2023-01-01T09:28:40.590Z"
   },
   {
    "duration": 16,
    "start_time": "2023-01-01T09:28:40.618Z"
   },
   {
    "duration": 10,
    "start_time": "2023-01-01T09:28:40.636Z"
   },
   {
    "duration": 19,
    "start_time": "2023-01-01T09:28:40.649Z"
   },
   {
    "duration": 23,
    "start_time": "2023-01-01T09:28:40.670Z"
   },
   {
    "duration": 13,
    "start_time": "2023-01-01T09:28:40.695Z"
   },
   {
    "duration": 10,
    "start_time": "2023-01-01T09:28:40.710Z"
   },
   {
    "duration": 30,
    "start_time": "2023-01-01T09:28:40.721Z"
   },
   {
    "duration": 10,
    "start_time": "2023-01-01T09:28:40.753Z"
   },
   {
    "duration": 14,
    "start_time": "2023-01-01T09:28:40.765Z"
   },
   {
    "duration": 503,
    "start_time": "2023-01-01T09:28:40.781Z"
   },
   {
    "duration": 10,
    "start_time": "2023-01-01T09:28:41.286Z"
   },
   {
    "duration": 10,
    "start_time": "2023-01-01T09:28:41.297Z"
   }
  ],
  "kernelspec": {
   "display_name": "Python 3 (ipykernel)",
   "language": "python",
   "name": "python3"
  },
  "language_info": {
   "codemirror_mode": {
    "name": "ipython",
    "version": 3
   },
   "file_extension": ".py",
   "mimetype": "text/x-python",
   "name": "python",
   "nbconvert_exporter": "python",
   "pygments_lexer": "ipython3",
   "version": "3.9.13"
  },
  "toc": {
   "base_numbering": 1,
   "nav_menu": {},
   "number_sections": true,
   "sideBar": true,
   "skip_h1_title": true,
   "title_cell": "Table of Contents",
   "title_sidebar": "Contents",
   "toc_cell": false,
   "toc_position": {},
   "toc_section_display": true,
   "toc_window_display": false
  }
 },
 "nbformat": 4,
 "nbformat_minor": 2
}
