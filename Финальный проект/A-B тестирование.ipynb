{
 "cells": [
  {
   "cell_type": "markdown",
   "metadata": {},
   "source": [
    "План работы:\n",
    "1. Подготовка к анализу, подключение библиотек и источников данных\n",
    "2. Предобработка данных\n",
    "3. Исследовательский анализ данных\n",
    "4. Анализ результатов А/В теста\n",
    "5. Выводы"
   ]
  },
  {
   "cell_type": "markdown",
   "metadata": {},
   "source": [
    "Данные:  \n",
    "/datasets/ab_project_marketing_events.csv — календарь маркетинговых событий на 2020 год;  \n",
    "/datasets/final_ab_new_users.csv — все пользователи, зарегистрировавшиеся в интернет-магазине в период с 7 по 21 декабря 2020 года;  \n",
    "/datasets/final_ab_events.csv — все события новых пользователей в период с 7 декабря 2020 по 4 января 2021 года;  \n",
    "/datasets/final_ab_participants.csv — таблица участников тестов.  "
   ]
  },
  {
   "cell_type": "markdown",
   "metadata": {},
   "source": [
    "Цель исследования:  \n",
    "Оценка результатов А/В теста"
   ]
  },
  {
   "cell_type": "markdown",
   "metadata": {},
   "source": [
    "## Подготовка к анализу, подключение библиотек и источников данных"
   ]
  },
  {
   "cell_type": "code",
   "execution_count": 90,
   "metadata": {},
   "outputs": [],
   "source": [
    "import pandas as pd\n",
    "import seaborn as sns\n",
    "import numpy as np\n",
    "from datetime import datetime, timedelta\n",
    "import matplotlib.pyplot as plt\n",
    "import scipy.stats as st\n",
    "import math as mth\n",
    "from pandas.plotting import register_matplotlib_converters\n",
    "import warnings\n",
    "import datetime as dt\n",
    "import plotly.express as px"
   ]
  },
  {
   "cell_type": "code",
   "execution_count": 91,
   "metadata": {},
   "outputs": [],
   "source": [
    "try:\n",
    "    project_marketing = pd.read_csv('ab_project_marketing_events.csv')\n",
    "    new_users = pd.read_csv('final_ab_new_users.csv')\n",
    "    events = pd.read_csv('final_ab_events.csv')\n",
    "    participants = pd.read_csv('final_ab_participants.csv')\n",
    "except:\n",
    "    project_marketing = pd.read_csv('/datasets/ab_project_marketing_events.csv')\n",
    "    new_users = pd.read_csv('/datasets/final_ab_new_users.csv')\n",
    "    events = pd.read_csv('/datasets/final_ab_events.csv')\n",
    "    participants = pd.read_csv('/datasets/final_ab_participants.csv')\n",
    "    "
   ]
  },
  {
   "cell_type": "code",
   "execution_count": 92,
   "metadata": {},
   "outputs": [
    {
     "data": {
      "text/html": [
       "<div>\n",
       "<style scoped>\n",
       "    .dataframe tbody tr th:only-of-type {\n",
       "        vertical-align: middle;\n",
       "    }\n",
       "\n",
       "    .dataframe tbody tr th {\n",
       "        vertical-align: top;\n",
       "    }\n",
       "\n",
       "    .dataframe thead th {\n",
       "        text-align: right;\n",
       "    }\n",
       "</style>\n",
       "<table border=\"1\" class=\"dataframe\">\n",
       "  <thead>\n",
       "    <tr style=\"text-align: right;\">\n",
       "      <th></th>\n",
       "      <th>name</th>\n",
       "      <th>regions</th>\n",
       "      <th>start_dt</th>\n",
       "      <th>finish_dt</th>\n",
       "    </tr>\n",
       "  </thead>\n",
       "  <tbody>\n",
       "    <tr>\n",
       "      <th>0</th>\n",
       "      <td>Christmas&amp;New Year Promo</td>\n",
       "      <td>EU, N.America</td>\n",
       "      <td>2020-12-25</td>\n",
       "      <td>2021-01-03</td>\n",
       "    </tr>\n",
       "    <tr>\n",
       "      <th>1</th>\n",
       "      <td>St. Valentine's Day Giveaway</td>\n",
       "      <td>EU, CIS, APAC, N.America</td>\n",
       "      <td>2020-02-14</td>\n",
       "      <td>2020-02-16</td>\n",
       "    </tr>\n",
       "    <tr>\n",
       "      <th>2</th>\n",
       "      <td>St. Patric's Day Promo</td>\n",
       "      <td>EU, N.America</td>\n",
       "      <td>2020-03-17</td>\n",
       "      <td>2020-03-19</td>\n",
       "    </tr>\n",
       "    <tr>\n",
       "      <th>3</th>\n",
       "      <td>Easter Promo</td>\n",
       "      <td>EU, CIS, APAC, N.America</td>\n",
       "      <td>2020-04-12</td>\n",
       "      <td>2020-04-19</td>\n",
       "    </tr>\n",
       "    <tr>\n",
       "      <th>4</th>\n",
       "      <td>4th of July Promo</td>\n",
       "      <td>N.America</td>\n",
       "      <td>2020-07-04</td>\n",
       "      <td>2020-07-11</td>\n",
       "    </tr>\n",
       "  </tbody>\n",
       "</table>\n",
       "</div>"
      ],
      "text/plain": [
       "                           name                   regions    start_dt  \\\n",
       "0      Christmas&New Year Promo             EU, N.America  2020-12-25   \n",
       "1  St. Valentine's Day Giveaway  EU, CIS, APAC, N.America  2020-02-14   \n",
       "2        St. Patric's Day Promo             EU, N.America  2020-03-17   \n",
       "3                  Easter Promo  EU, CIS, APAC, N.America  2020-04-12   \n",
       "4             4th of July Promo                 N.America  2020-07-04   \n",
       "\n",
       "    finish_dt  \n",
       "0  2021-01-03  \n",
       "1  2020-02-16  \n",
       "2  2020-03-19  \n",
       "3  2020-04-19  \n",
       "4  2020-07-11  "
      ]
     },
     "execution_count": 92,
     "metadata": {},
     "output_type": "execute_result"
    }
   ],
   "source": [
    "project_marketing.head()"
   ]
  },
  {
   "cell_type": "code",
   "execution_count": 93,
   "metadata": {},
   "outputs": [
    {
     "name": "stdout",
     "output_type": "stream",
     "text": [
      "<class 'pandas.core.frame.DataFrame'>\n",
      "RangeIndex: 14 entries, 0 to 13\n",
      "Data columns (total 4 columns):\n",
      " #   Column     Non-Null Count  Dtype \n",
      "---  ------     --------------  ----- \n",
      " 0   name       14 non-null     object\n",
      " 1   regions    14 non-null     object\n",
      " 2   start_dt   14 non-null     object\n",
      " 3   finish_dt  14 non-null     object\n",
      "dtypes: object(4)\n",
      "memory usage: 576.0+ bytes\n"
     ]
    }
   ],
   "source": [
    "project_marketing.info()"
   ]
  },
  {
   "cell_type": "code",
   "execution_count": 94,
   "metadata": {},
   "outputs": [
    {
     "data": {
      "text/html": [
       "<div>\n",
       "<style scoped>\n",
       "    .dataframe tbody tr th:only-of-type {\n",
       "        vertical-align: middle;\n",
       "    }\n",
       "\n",
       "    .dataframe tbody tr th {\n",
       "        vertical-align: top;\n",
       "    }\n",
       "\n",
       "    .dataframe thead th {\n",
       "        text-align: right;\n",
       "    }\n",
       "</style>\n",
       "<table border=\"1\" class=\"dataframe\">\n",
       "  <thead>\n",
       "    <tr style=\"text-align: right;\">\n",
       "      <th></th>\n",
       "      <th>user_id</th>\n",
       "      <th>first_date</th>\n",
       "      <th>region</th>\n",
       "      <th>device</th>\n",
       "    </tr>\n",
       "  </thead>\n",
       "  <tbody>\n",
       "    <tr>\n",
       "      <th>0</th>\n",
       "      <td>D72A72121175D8BE</td>\n",
       "      <td>2020-12-07</td>\n",
       "      <td>EU</td>\n",
       "      <td>PC</td>\n",
       "    </tr>\n",
       "    <tr>\n",
       "      <th>1</th>\n",
       "      <td>F1C668619DFE6E65</td>\n",
       "      <td>2020-12-07</td>\n",
       "      <td>N.America</td>\n",
       "      <td>Android</td>\n",
       "    </tr>\n",
       "    <tr>\n",
       "      <th>2</th>\n",
       "      <td>2E1BF1D4C37EA01F</td>\n",
       "      <td>2020-12-07</td>\n",
       "      <td>EU</td>\n",
       "      <td>PC</td>\n",
       "    </tr>\n",
       "    <tr>\n",
       "      <th>3</th>\n",
       "      <td>50734A22C0C63768</td>\n",
       "      <td>2020-12-07</td>\n",
       "      <td>EU</td>\n",
       "      <td>iPhone</td>\n",
       "    </tr>\n",
       "    <tr>\n",
       "      <th>4</th>\n",
       "      <td>E1BDDCE0DAFA2679</td>\n",
       "      <td>2020-12-07</td>\n",
       "      <td>N.America</td>\n",
       "      <td>iPhone</td>\n",
       "    </tr>\n",
       "  </tbody>\n",
       "</table>\n",
       "</div>"
      ],
      "text/plain": [
       "            user_id  first_date     region   device\n",
       "0  D72A72121175D8BE  2020-12-07         EU       PC\n",
       "1  F1C668619DFE6E65  2020-12-07  N.America  Android\n",
       "2  2E1BF1D4C37EA01F  2020-12-07         EU       PC\n",
       "3  50734A22C0C63768  2020-12-07         EU   iPhone\n",
       "4  E1BDDCE0DAFA2679  2020-12-07  N.America   iPhone"
      ]
     },
     "execution_count": 94,
     "metadata": {},
     "output_type": "execute_result"
    }
   ],
   "source": [
    "new_users.head()"
   ]
  },
  {
   "cell_type": "code",
   "execution_count": 95,
   "metadata": {},
   "outputs": [
    {
     "name": "stdout",
     "output_type": "stream",
     "text": [
      "<class 'pandas.core.frame.DataFrame'>\n",
      "RangeIndex: 61733 entries, 0 to 61732\n",
      "Data columns (total 4 columns):\n",
      " #   Column      Non-Null Count  Dtype \n",
      "---  ------      --------------  ----- \n",
      " 0   user_id     61733 non-null  object\n",
      " 1   first_date  61733 non-null  object\n",
      " 2   region      61733 non-null  object\n",
      " 3   device      61733 non-null  object\n",
      "dtypes: object(4)\n",
      "memory usage: 1.9+ MB\n"
     ]
    }
   ],
   "source": [
    "new_users.info()"
   ]
  },
  {
   "cell_type": "code",
   "execution_count": 96,
   "metadata": {},
   "outputs": [
    {
     "data": {
      "text/html": [
       "<div>\n",
       "<style scoped>\n",
       "    .dataframe tbody tr th:only-of-type {\n",
       "        vertical-align: middle;\n",
       "    }\n",
       "\n",
       "    .dataframe tbody tr th {\n",
       "        vertical-align: top;\n",
       "    }\n",
       "\n",
       "    .dataframe thead th {\n",
       "        text-align: right;\n",
       "    }\n",
       "</style>\n",
       "<table border=\"1\" class=\"dataframe\">\n",
       "  <thead>\n",
       "    <tr style=\"text-align: right;\">\n",
       "      <th></th>\n",
       "      <th>user_id</th>\n",
       "      <th>event_dt</th>\n",
       "      <th>event_name</th>\n",
       "      <th>details</th>\n",
       "    </tr>\n",
       "  </thead>\n",
       "  <tbody>\n",
       "    <tr>\n",
       "      <th>0</th>\n",
       "      <td>E1BDDCE0DAFA2679</td>\n",
       "      <td>2020-12-07 20:22:03</td>\n",
       "      <td>purchase</td>\n",
       "      <td>99.99</td>\n",
       "    </tr>\n",
       "    <tr>\n",
       "      <th>1</th>\n",
       "      <td>7B6452F081F49504</td>\n",
       "      <td>2020-12-07 09:22:53</td>\n",
       "      <td>purchase</td>\n",
       "      <td>9.99</td>\n",
       "    </tr>\n",
       "    <tr>\n",
       "      <th>2</th>\n",
       "      <td>9CD9F34546DF254C</td>\n",
       "      <td>2020-12-07 12:59:29</td>\n",
       "      <td>purchase</td>\n",
       "      <td>4.99</td>\n",
       "    </tr>\n",
       "    <tr>\n",
       "      <th>3</th>\n",
       "      <td>96F27A054B191457</td>\n",
       "      <td>2020-12-07 04:02:40</td>\n",
       "      <td>purchase</td>\n",
       "      <td>4.99</td>\n",
       "    </tr>\n",
       "    <tr>\n",
       "      <th>4</th>\n",
       "      <td>1FD7660FDF94CA1F</td>\n",
       "      <td>2020-12-07 10:15:09</td>\n",
       "      <td>purchase</td>\n",
       "      <td>4.99</td>\n",
       "    </tr>\n",
       "  </tbody>\n",
       "</table>\n",
       "</div>"
      ],
      "text/plain": [
       "            user_id             event_dt event_name  details\n",
       "0  E1BDDCE0DAFA2679  2020-12-07 20:22:03   purchase    99.99\n",
       "1  7B6452F081F49504  2020-12-07 09:22:53   purchase     9.99\n",
       "2  9CD9F34546DF254C  2020-12-07 12:59:29   purchase     4.99\n",
       "3  96F27A054B191457  2020-12-07 04:02:40   purchase     4.99\n",
       "4  1FD7660FDF94CA1F  2020-12-07 10:15:09   purchase     4.99"
      ]
     },
     "execution_count": 96,
     "metadata": {},
     "output_type": "execute_result"
    }
   ],
   "source": [
    "events.head()"
   ]
  },
  {
   "cell_type": "code",
   "execution_count": 97,
   "metadata": {},
   "outputs": [
    {
     "name": "stdout",
     "output_type": "stream",
     "text": [
      "<class 'pandas.core.frame.DataFrame'>\n",
      "RangeIndex: 440317 entries, 0 to 440316\n",
      "Data columns (total 4 columns):\n",
      " #   Column      Non-Null Count   Dtype  \n",
      "---  ------      --------------   -----  \n",
      " 0   user_id     440317 non-null  object \n",
      " 1   event_dt    440317 non-null  object \n",
      " 2   event_name  440317 non-null  object \n",
      " 3   details     62740 non-null   float64\n",
      "dtypes: float64(1), object(3)\n",
      "memory usage: 13.4+ MB\n"
     ]
    }
   ],
   "source": [
    "events.info()"
   ]
  },
  {
   "cell_type": "code",
   "execution_count": 98,
   "metadata": {},
   "outputs": [
    {
     "data": {
      "text/html": [
       "<div>\n",
       "<style scoped>\n",
       "    .dataframe tbody tr th:only-of-type {\n",
       "        vertical-align: middle;\n",
       "    }\n",
       "\n",
       "    .dataframe tbody tr th {\n",
       "        vertical-align: top;\n",
       "    }\n",
       "\n",
       "    .dataframe thead th {\n",
       "        text-align: right;\n",
       "    }\n",
       "</style>\n",
       "<table border=\"1\" class=\"dataframe\">\n",
       "  <thead>\n",
       "    <tr style=\"text-align: right;\">\n",
       "      <th></th>\n",
       "      <th>user_id</th>\n",
       "      <th>group</th>\n",
       "      <th>ab_test</th>\n",
       "    </tr>\n",
       "  </thead>\n",
       "  <tbody>\n",
       "    <tr>\n",
       "      <th>0</th>\n",
       "      <td>D1ABA3E2887B6A73</td>\n",
       "      <td>A</td>\n",
       "      <td>recommender_system_test</td>\n",
       "    </tr>\n",
       "    <tr>\n",
       "      <th>1</th>\n",
       "      <td>A7A3664BD6242119</td>\n",
       "      <td>A</td>\n",
       "      <td>recommender_system_test</td>\n",
       "    </tr>\n",
       "    <tr>\n",
       "      <th>2</th>\n",
       "      <td>DABC14FDDFADD29E</td>\n",
       "      <td>A</td>\n",
       "      <td>recommender_system_test</td>\n",
       "    </tr>\n",
       "    <tr>\n",
       "      <th>3</th>\n",
       "      <td>04988C5DF189632E</td>\n",
       "      <td>A</td>\n",
       "      <td>recommender_system_test</td>\n",
       "    </tr>\n",
       "    <tr>\n",
       "      <th>4</th>\n",
       "      <td>482F14783456D21B</td>\n",
       "      <td>B</td>\n",
       "      <td>recommender_system_test</td>\n",
       "    </tr>\n",
       "  </tbody>\n",
       "</table>\n",
       "</div>"
      ],
      "text/plain": [
       "            user_id group                  ab_test\n",
       "0  D1ABA3E2887B6A73     A  recommender_system_test\n",
       "1  A7A3664BD6242119     A  recommender_system_test\n",
       "2  DABC14FDDFADD29E     A  recommender_system_test\n",
       "3  04988C5DF189632E     A  recommender_system_test\n",
       "4  482F14783456D21B     B  recommender_system_test"
      ]
     },
     "execution_count": 98,
     "metadata": {},
     "output_type": "execute_result"
    }
   ],
   "source": [
    "participants.head()"
   ]
  },
  {
   "cell_type": "code",
   "execution_count": 99,
   "metadata": {},
   "outputs": [
    {
     "name": "stdout",
     "output_type": "stream",
     "text": [
      "<class 'pandas.core.frame.DataFrame'>\n",
      "RangeIndex: 18268 entries, 0 to 18267\n",
      "Data columns (total 3 columns):\n",
      " #   Column   Non-Null Count  Dtype \n",
      "---  ------   --------------  ----- \n",
      " 0   user_id  18268 non-null  object\n",
      " 1   group    18268 non-null  object\n",
      " 2   ab_test  18268 non-null  object\n",
      "dtypes: object(3)\n",
      "memory usage: 428.3+ KB\n"
     ]
    }
   ],
   "source": [
    "participants.info()"
   ]
  },
  {
   "cell_type": "markdown",
   "metadata": {},
   "source": [
    "Много пропусков в столбце details таблицы events  \n",
    "Даты не приведены к типу datetime"
   ]
  },
  {
   "cell_type": "markdown",
   "metadata": {},
   "source": [
    "## Предобработка данных"
   ]
  },
  {
   "cell_type": "code",
   "execution_count": 100,
   "metadata": {},
   "outputs": [],
   "source": [
    "project_marketing['start_dt'] = pd.to_datetime(project_marketing['start_dt'])\n",
    "project_marketing['finish_dt'] = pd.to_datetime(project_marketing['finish_dt'])\n",
    "new_users['first_date'] = pd.to_datetime(new_users['first_date'])\n",
    "events['event_dt'] = pd.to_datetime(events['event_dt'])"
   ]
  },
  {
   "cell_type": "code",
   "execution_count": 101,
   "metadata": {},
   "outputs": [
    {
     "data": {
      "text/plain": [
       "0"
      ]
     },
     "execution_count": 101,
     "metadata": {},
     "output_type": "execute_result"
    }
   ],
   "source": [
    "participants.duplicated().sum()"
   ]
  },
  {
   "cell_type": "code",
   "execution_count": 102,
   "metadata": {},
   "outputs": [
    {
     "data": {
      "text/plain": [
       "0"
      ]
     },
     "execution_count": 102,
     "metadata": {},
     "output_type": "execute_result"
    }
   ],
   "source": [
    "project_marketing.duplicated().sum()"
   ]
  },
  {
   "cell_type": "code",
   "execution_count": 103,
   "metadata": {},
   "outputs": [
    {
     "data": {
      "text/plain": [
       "0"
      ]
     },
     "execution_count": 103,
     "metadata": {},
     "output_type": "execute_result"
    }
   ],
   "source": [
    "new_users.duplicated().sum()"
   ]
  },
  {
   "cell_type": "code",
   "execution_count": 104,
   "metadata": {},
   "outputs": [
    {
     "data": {
      "text/plain": [
       "0"
      ]
     },
     "execution_count": 104,
     "metadata": {},
     "output_type": "execute_result"
    }
   ],
   "source": [
    "events.duplicated().sum()"
   ]
  },
  {
   "cell_type": "markdown",
   "metadata": {},
   "source": [
    "В исходных таблицах нет явных дубликатов"
   ]
  },
  {
   "cell_type": "code",
   "execution_count": 105,
   "metadata": {},
   "outputs": [
    {
     "data": {
      "text/plain": [
       "array(['A', 'B'], dtype=object)"
      ]
     },
     "execution_count": 105,
     "metadata": {},
     "output_type": "execute_result"
    }
   ],
   "source": [
    "participants['group'].unique()"
   ]
  },
  {
   "cell_type": "code",
   "execution_count": 106,
   "metadata": {},
   "outputs": [
    {
     "data": {
      "text/plain": [
       "array(['recommender_system_test', 'interface_eu_test'], dtype=object)"
      ]
     },
     "execution_count": 106,
     "metadata": {},
     "output_type": "execute_result"
    }
   ],
   "source": [
    "participants['ab_test'].unique()"
   ]
  },
  {
   "cell_type": "code",
   "execution_count": 107,
   "metadata": {},
   "outputs": [
    {
     "name": "stdout",
     "output_type": "stream",
     "text": [
      "Пользователей, которые попали одновременно в несколько разных А/В тестов всего: 1602\n"
     ]
    }
   ],
   "source": [
    "print('Пользователей, которые попали одновременно в несколько разных А/В тестов всего:', participants.duplicated(subset=['user_id']).sum())"
   ]
  },
  {
   "cell_type": "markdown",
   "metadata": {},
   "source": [
    "Возможны 2 варианта: либо один клиент попал в два разных теста - тут ничего страшного нет, либо один клиент попал в две разные группы в одном тесте - это означает что тест проведен некорректно.  \n",
    "Какой из вариантов в нашем случае посмотрим дальше"
   ]
  },
  {
   "cell_type": "code",
   "execution_count": 108,
   "metadata": {},
   "outputs": [
    {
     "data": {
      "text/plain": [
       "array(['purchase', 'product_cart', 'product_page', 'login'], dtype=object)"
      ]
     },
     "execution_count": 108,
     "metadata": {},
     "output_type": "execute_result"
    }
   ],
   "source": [
    "events['event_name'].unique()"
   ]
  },
  {
   "cell_type": "code",
   "execution_count": 109,
   "metadata": {},
   "outputs": [
    {
     "name": "stdout",
     "output_type": "stream",
     "text": [
      "Самая ранняя дата в таблице events: 2020-12-07 00:00:33\n"
     ]
    }
   ],
   "source": [
    "print('Самая ранняя дата в таблице events:', events['event_dt'].min())"
   ]
  },
  {
   "cell_type": "code",
   "execution_count": 110,
   "metadata": {},
   "outputs": [
    {
     "name": "stdout",
     "output_type": "stream",
     "text": [
      "Самая поздняя дата в таблице events: 2020-12-30 23:36:33\n"
     ]
    }
   ],
   "source": [
    "print('Самая поздняя дата в таблице events:', events['event_dt'].max())"
   ]
  },
  {
   "cell_type": "code",
   "execution_count": 111,
   "metadata": {},
   "outputs": [
    {
     "data": {
      "text/plain": [
       "array(['product_cart', 'product_page', 'login'], dtype=object)"
      ]
     },
     "execution_count": 111,
     "metadata": {},
     "output_type": "execute_result"
    }
   ],
   "source": [
    "events.loc[events['details'].isna()]['event_name'].unique()"
   ]
  },
  {
   "cell_type": "code",
   "execution_count": 112,
   "metadata": {},
   "outputs": [
    {
     "data": {
      "text/plain": [
       "0"
      ]
     },
     "execution_count": 112,
     "metadata": {},
     "output_type": "execute_result"
    }
   ],
   "source": [
    "new_users['user_id'].duplicated().sum()"
   ]
  },
  {
   "cell_type": "markdown",
   "metadata": {},
   "source": [
    "В таблице new_users нет повторяющихся id пользователей"
   ]
  },
  {
   "cell_type": "code",
   "execution_count": 113,
   "metadata": {},
   "outputs": [
    {
     "name": "stdout",
     "output_type": "stream",
     "text": [
      "Самая ранняя дата регистрации: 2020-12-07 00:00:00\n"
     ]
    }
   ],
   "source": [
    "print('Самая ранняя дата регистрации:', new_users['first_date'].min())"
   ]
  },
  {
   "cell_type": "code",
   "execution_count": 114,
   "metadata": {},
   "outputs": [
    {
     "name": "stdout",
     "output_type": "stream",
     "text": [
      "Самая поздняя дата регистрации: 2020-12-23 00:00:00\n"
     ]
    }
   ],
   "source": [
    "print('Самая поздняя дата регистрации:', new_users['first_date'].max())"
   ]
  },
  {
   "cell_type": "code",
   "execution_count": 115,
   "metadata": {},
   "outputs": [
    {
     "data": {
      "text/plain": [
       "array(['EU', 'N.America', 'APAC', 'CIS'], dtype=object)"
      ]
     },
     "execution_count": 115,
     "metadata": {},
     "output_type": "execute_result"
    }
   ],
   "source": [
    "new_users['region'].unique()"
   ]
  },
  {
   "cell_type": "code",
   "execution_count": 116,
   "metadata": {},
   "outputs": [
    {
     "data": {
      "text/plain": [
       "EU           46270\n",
       "N.America     9155\n",
       "CIS           3155\n",
       "APAC          3153\n",
       "Name: region, dtype: int64"
      ]
     },
     "execution_count": 116,
     "metadata": {},
     "output_type": "execute_result"
    }
   ],
   "source": [
    "new_users['region'].value_counts()"
   ]
  },
  {
   "cell_type": "code",
   "execution_count": 117,
   "metadata": {},
   "outputs": [
    {
     "data": {
      "text/html": [
       "<div>\n",
       "<style scoped>\n",
       "    .dataframe tbody tr th:only-of-type {\n",
       "        vertical-align: middle;\n",
       "    }\n",
       "\n",
       "    .dataframe tbody tr th {\n",
       "        vertical-align: top;\n",
       "    }\n",
       "\n",
       "    .dataframe thead th {\n",
       "        text-align: right;\n",
       "    }\n",
       "</style>\n",
       "<table border=\"1\" class=\"dataframe\">\n",
       "  <thead>\n",
       "    <tr style=\"text-align: right;\">\n",
       "      <th></th>\n",
       "      <th>user_id</th>\n",
       "      <th>event_dt</th>\n",
       "      <th>event_name</th>\n",
       "      <th>details</th>\n",
       "    </tr>\n",
       "  </thead>\n",
       "  <tbody>\n",
       "    <tr>\n",
       "      <th>0</th>\n",
       "      <td>E1BDDCE0DAFA2679</td>\n",
       "      <td>2020-12-07 20:22:03</td>\n",
       "      <td>purchase</td>\n",
       "      <td>99.99</td>\n",
       "    </tr>\n",
       "    <tr>\n",
       "      <th>1</th>\n",
       "      <td>7B6452F081F49504</td>\n",
       "      <td>2020-12-07 09:22:53</td>\n",
       "      <td>purchase</td>\n",
       "      <td>9.99</td>\n",
       "    </tr>\n",
       "    <tr>\n",
       "      <th>2</th>\n",
       "      <td>9CD9F34546DF254C</td>\n",
       "      <td>2020-12-07 12:59:29</td>\n",
       "      <td>purchase</td>\n",
       "      <td>4.99</td>\n",
       "    </tr>\n",
       "    <tr>\n",
       "      <th>3</th>\n",
       "      <td>96F27A054B191457</td>\n",
       "      <td>2020-12-07 04:02:40</td>\n",
       "      <td>purchase</td>\n",
       "      <td>4.99</td>\n",
       "    </tr>\n",
       "    <tr>\n",
       "      <th>4</th>\n",
       "      <td>1FD7660FDF94CA1F</td>\n",
       "      <td>2020-12-07 10:15:09</td>\n",
       "      <td>purchase</td>\n",
       "      <td>4.99</td>\n",
       "    </tr>\n",
       "  </tbody>\n",
       "</table>\n",
       "</div>"
      ],
      "text/plain": [
       "            user_id            event_dt event_name  details\n",
       "0  E1BDDCE0DAFA2679 2020-12-07 20:22:03   purchase    99.99\n",
       "1  7B6452F081F49504 2020-12-07 09:22:53   purchase     9.99\n",
       "2  9CD9F34546DF254C 2020-12-07 12:59:29   purchase     4.99\n",
       "3  96F27A054B191457 2020-12-07 04:02:40   purchase     4.99\n",
       "4  1FD7660FDF94CA1F 2020-12-07 10:15:09   purchase     4.99"
      ]
     },
     "execution_count": 117,
     "metadata": {},
     "output_type": "execute_result"
    }
   ],
   "source": [
    "events.head()"
   ]
  },
  {
   "cell_type": "code",
   "execution_count": 118,
   "metadata": {},
   "outputs": [
    {
     "data": {
      "text/plain": [
       "EU           47872\n",
       "N.America     9155\n",
       "CIS           3155\n",
       "APAC          3153\n",
       "Name: region, dtype: int64"
      ]
     },
     "execution_count": 118,
     "metadata": {},
     "output_type": "execute_result"
    }
   ],
   "source": [
    "new_users.merge(participants, on='user_id', how='left')['region'].value_counts()"
   ]
  },
  {
   "cell_type": "markdown",
   "metadata": {},
   "source": [
    "Разбиение новых пользователей по регионам"
   ]
  },
  {
   "cell_type": "code",
   "execution_count": 119,
   "metadata": {},
   "outputs": [
    {
     "data": {
      "text/plain": [
       "array(['PC', 'Android', 'iPhone', 'Mac'], dtype=object)"
      ]
     },
     "execution_count": 119,
     "metadata": {},
     "output_type": "execute_result"
    }
   ],
   "source": [
    "new_users['device'].unique()"
   ]
  },
  {
   "cell_type": "code",
   "execution_count": 120,
   "metadata": {
    "scrolled": true
   },
   "outputs": [
    {
     "data": {
      "text/plain": [
       "Android    27520\n",
       "PC         15599\n",
       "iPhone     12530\n",
       "Mac         6084\n",
       "Name: device, dtype: int64"
      ]
     },
     "execution_count": 120,
     "metadata": {},
     "output_type": "execute_result"
    }
   ],
   "source": [
    "new_users['device'].value_counts()"
   ]
  },
  {
   "cell_type": "markdown",
   "metadata": {},
   "source": [
    "Разбиение новых пользователей по устройствам"
   ]
  },
  {
   "cell_type": "markdown",
   "metadata": {},
   "source": [
    "Большинство новых пользователей из EU, на втором месте N. America. Среди устройств самые популярные - android смартфоны, на втром месте ПК."
   ]
  },
  {
   "cell_type": "code",
   "execution_count": 121,
   "metadata": {},
   "outputs": [
    {
     "data": {
      "text/html": [
       "<div>\n",
       "<style scoped>\n",
       "    .dataframe tbody tr th:only-of-type {\n",
       "        vertical-align: middle;\n",
       "    }\n",
       "\n",
       "    .dataframe tbody tr th {\n",
       "        vertical-align: top;\n",
       "    }\n",
       "\n",
       "    .dataframe thead th {\n",
       "        text-align: right;\n",
       "    }\n",
       "</style>\n",
       "<table border=\"1\" class=\"dataframe\">\n",
       "  <thead>\n",
       "    <tr style=\"text-align: right;\">\n",
       "      <th></th>\n",
       "      <th>user_id</th>\n",
       "      <th>event_dt</th>\n",
       "      <th>event_name</th>\n",
       "      <th>details</th>\n",
       "      <th>group</th>\n",
       "      <th>ab_test</th>\n",
       "      <th>first_date</th>\n",
       "      <th>region</th>\n",
       "      <th>device</th>\n",
       "    </tr>\n",
       "  </thead>\n",
       "  <tbody>\n",
       "    <tr>\n",
       "      <th>0</th>\n",
       "      <td>E1BDDCE0DAFA2679</td>\n",
       "      <td>2020-12-07 20:22:03</td>\n",
       "      <td>purchase</td>\n",
       "      <td>99.99</td>\n",
       "      <td>NaN</td>\n",
       "      <td>NaN</td>\n",
       "      <td>2020-12-07</td>\n",
       "      <td>N.America</td>\n",
       "      <td>iPhone</td>\n",
       "    </tr>\n",
       "    <tr>\n",
       "      <th>1</th>\n",
       "      <td>7B6452F081F49504</td>\n",
       "      <td>2020-12-07 09:22:53</td>\n",
       "      <td>purchase</td>\n",
       "      <td>9.99</td>\n",
       "      <td>NaN</td>\n",
       "      <td>NaN</td>\n",
       "      <td>2020-12-07</td>\n",
       "      <td>EU</td>\n",
       "      <td>iPhone</td>\n",
       "    </tr>\n",
       "    <tr>\n",
       "      <th>2</th>\n",
       "      <td>9CD9F34546DF254C</td>\n",
       "      <td>2020-12-07 12:59:29</td>\n",
       "      <td>purchase</td>\n",
       "      <td>4.99</td>\n",
       "      <td>NaN</td>\n",
       "      <td>NaN</td>\n",
       "      <td>2020-12-07</td>\n",
       "      <td>N.America</td>\n",
       "      <td>iPhone</td>\n",
       "    </tr>\n",
       "    <tr>\n",
       "      <th>3</th>\n",
       "      <td>96F27A054B191457</td>\n",
       "      <td>2020-12-07 04:02:40</td>\n",
       "      <td>purchase</td>\n",
       "      <td>4.99</td>\n",
       "      <td>B</td>\n",
       "      <td>interface_eu_test</td>\n",
       "      <td>2020-12-07</td>\n",
       "      <td>EU</td>\n",
       "      <td>iPhone</td>\n",
       "    </tr>\n",
       "    <tr>\n",
       "      <th>4</th>\n",
       "      <td>1FD7660FDF94CA1F</td>\n",
       "      <td>2020-12-07 10:15:09</td>\n",
       "      <td>purchase</td>\n",
       "      <td>4.99</td>\n",
       "      <td>NaN</td>\n",
       "      <td>NaN</td>\n",
       "      <td>2020-12-07</td>\n",
       "      <td>EU</td>\n",
       "      <td>Android</td>\n",
       "    </tr>\n",
       "  </tbody>\n",
       "</table>\n",
       "</div>"
      ],
      "text/plain": [
       "            user_id            event_dt event_name  details group  \\\n",
       "0  E1BDDCE0DAFA2679 2020-12-07 20:22:03   purchase    99.99   NaN   \n",
       "1  7B6452F081F49504 2020-12-07 09:22:53   purchase     9.99   NaN   \n",
       "2  9CD9F34546DF254C 2020-12-07 12:59:29   purchase     4.99   NaN   \n",
       "3  96F27A054B191457 2020-12-07 04:02:40   purchase     4.99     B   \n",
       "4  1FD7660FDF94CA1F 2020-12-07 10:15:09   purchase     4.99   NaN   \n",
       "\n",
       "             ab_test first_date     region   device  \n",
       "0                NaN 2020-12-07  N.America   iPhone  \n",
       "1                NaN 2020-12-07         EU   iPhone  \n",
       "2                NaN 2020-12-07  N.America   iPhone  \n",
       "3  interface_eu_test 2020-12-07         EU   iPhone  \n",
       "4                NaN 2020-12-07         EU  Android  "
      ]
     },
     "execution_count": 121,
     "metadata": {},
     "output_type": "execute_result"
    }
   ],
   "source": [
    "user_data = events.merge(participants,on='user_id', how='left')\\\n",
    "    .merge(new_users, on='user_id', how='left')\n",
    "user_data.head()"
   ]
  },
  {
   "cell_type": "code",
   "execution_count": 122,
   "metadata": {},
   "outputs": [
    {
     "name": "stdout",
     "output_type": "stream",
     "text": [
      "<class 'pandas.core.frame.DataFrame'>\n",
      "Int64Index: 446211 entries, 0 to 446210\n",
      "Data columns (total 9 columns):\n",
      " #   Column      Non-Null Count   Dtype         \n",
      "---  ------      --------------   -----         \n",
      " 0   user_id     446211 non-null  object        \n",
      " 1   event_dt    446211 non-null  datetime64[ns]\n",
      " 2   event_name  446211 non-null  object        \n",
      " 3   details     63588 non-null   float64       \n",
      " 4   group       106625 non-null  object        \n",
      " 5   ab_test     106625 non-null  object        \n",
      " 6   first_date  446211 non-null  datetime64[ns]\n",
      " 7   region      446211 non-null  object        \n",
      " 8   device      446211 non-null  object        \n",
      "dtypes: datetime64[ns](2), float64(1), object(6)\n",
      "memory usage: 34.0+ MB\n"
     ]
    }
   ],
   "source": [
    "user_data.info()"
   ]
  },
  {
   "cell_type": "code",
   "execution_count": 123,
   "metadata": {},
   "outputs": [],
   "source": [
    "user_data['details'] = user_data['details'].fillna(0)"
   ]
  },
  {
   "cell_type": "markdown",
   "metadata": {},
   "source": [
    "Заполняем пропуски в details значением 0, т.к. это поле содержит стоимость заказа, т.е. может иметь ненулевые значения только для заказов"
   ]
  },
  {
   "cell_type": "code",
   "execution_count": 124,
   "metadata": {},
   "outputs": [],
   "source": [
    "user_data = user_data.query('ab_test == \"recommender_system_test\"')"
   ]
  },
  {
   "cell_type": "markdown",
   "metadata": {},
   "source": [
    "Отфильтровали нерелевантные тесты"
   ]
  },
  {
   "cell_type": "code",
   "execution_count": null,
   "metadata": {},
   "outputs": [],
   "source": []
  },
  {
   "cell_type": "code",
   "execution_count": 125,
   "metadata": {},
   "outputs": [],
   "source": [
    "q = user_data['details'].quantile(0.99)"
   ]
  },
  {
   "cell_type": "code",
   "execution_count": 126,
   "metadata": {},
   "outputs": [],
   "source": [
    "user_data = user_data.query('details < @q')"
   ]
  },
  {
   "cell_type": "markdown",
   "metadata": {},
   "source": [
    "Удалили выбросы из поля details"
   ]
  },
  {
   "cell_type": "code",
   "execution_count": 127,
   "metadata": {},
   "outputs": [],
   "source": [
    "user_data['date'] = user_data['event_dt'].dt.date"
   ]
  },
  {
   "cell_type": "markdown",
   "metadata": {},
   "source": [
    "Добавили отдельный столбец для даты события"
   ]
  },
  {
   "cell_type": "markdown",
   "metadata": {},
   "source": [
    "Вывод по предобработке:\n",
    "- Столбцы, содержащие даты, преобразованы к типу datetime\n",
    "- Пропуски в таблице events столбце details заменены значением 0, данное поле содержит информацию о сумме заказа, поэтому актуально только для события purchase.\n",
    "- Явных дубликатов в таблицах не найдено\n",
    "- Получена таблица user_data как объединение таблиц events, participants, new_users по user_id через left join\n",
    "- В таблице user_data добавлен столбец date, содержащий дату события, извлеченную из event_dt\n",
    "- Удалены выбросы из столбца details таблицы user_data, считаем выбросами значения details больше 99 процентиля\n",
    "\n",
    "Предобрабтка данных нужна для подготовки данных к анализу. "
   ]
  },
  {
   "cell_type": "markdown",
   "metadata": {},
   "source": [
    "### Проверяем соответствие данных ТЗ"
   ]
  },
  {
   "cell_type": "code",
   "execution_count": 128,
   "metadata": {},
   "outputs": [
    {
     "data": {
      "text/plain": [
       "Timestamp('2020-12-07 00:00:00')"
      ]
     },
     "execution_count": 128,
     "metadata": {},
     "output_type": "execute_result"
    }
   ],
   "source": [
    "user_data['first_date'].min()"
   ]
  },
  {
   "cell_type": "code",
   "execution_count": 129,
   "metadata": {},
   "outputs": [
    {
     "data": {
      "text/plain": [
       "Timestamp('2020-12-21 00:00:00')"
      ]
     },
     "execution_count": 129,
     "metadata": {},
     "output_type": "execute_result"
    }
   ],
   "source": [
    "user_data['first_date'].max()"
   ]
  },
  {
   "cell_type": "code",
   "execution_count": 130,
   "metadata": {},
   "outputs": [
    {
     "data": {
      "text/plain": [
       "Timestamp('2020-12-30 12:42:57')"
      ]
     },
     "execution_count": 130,
     "metadata": {},
     "output_type": "execute_result"
    }
   ],
   "source": [
    "user_data['event_dt'].max()"
   ]
  },
  {
   "cell_type": "code",
   "execution_count": 131,
   "metadata": {},
   "outputs": [
    {
     "data": {
      "text/plain": [
       "Timestamp('2020-12-30 23:36:33')"
      ]
     },
     "execution_count": 131,
     "metadata": {},
     "output_type": "execute_result"
    }
   ],
   "source": [
    "events['event_dt'].max()"
   ]
  },
  {
   "cell_type": "markdown",
   "metadata": {},
   "source": [
    "Данные не соответствуют ТЗ, не хватает данных за еще 5 дней"
   ]
  },
  {
   "cell_type": "code",
   "execution_count": 132,
   "metadata": {},
   "outputs": [
    {
     "data": {
      "text/plain": [
       "0"
      ]
     },
     "execution_count": 132,
     "metadata": {},
     "output_type": "execute_result"
    }
   ],
   "source": [
    "user_data['first_date'].isna().sum()"
   ]
  },
  {
   "cell_type": "code",
   "execution_count": 133,
   "metadata": {},
   "outputs": [
    {
     "data": {
      "text/plain": [
       "EU           3481\n",
       "N.America     119\n",
       "APAC           45\n",
       "CIS            30\n",
       "Name: region, dtype: int64"
      ]
     },
     "execution_count": 133,
     "metadata": {},
     "output_type": "execute_result"
    }
   ],
   "source": [
    "user_data.drop_duplicates(subset=['user_id'])['region'].value_counts()"
   ]
  },
  {
   "cell_type": "code",
   "execution_count": 134,
   "metadata": {},
   "outputs": [
    {
     "data": {
      "text/plain": [
       "EU           6351\n",
       "N.America     223\n",
       "APAC           72\n",
       "CIS            55\n",
       "Name: region, dtype: int64"
      ]
     },
     "execution_count": 134,
     "metadata": {},
     "output_type": "execute_result"
    }
   ],
   "source": [
    "new_users.merge(participants, on='user_id', how='left')\\\n",
    "    .query('ab_test == \"recommender_system_test\"')['region'].value_counts()\n"
   ]
  },
  {
   "cell_type": "markdown",
   "metadata": {},
   "source": [
    "Число участников совпадает с ожидаемым"
   ]
  },
  {
   "cell_type": "code",
   "execution_count": 135,
   "metadata": {},
   "outputs": [
    {
     "data": {
      "text/plain": [
       "0"
      ]
     },
     "execution_count": 135,
     "metadata": {},
     "output_type": "execute_result"
    }
   ],
   "source": [
    "new_users.duplicated(subset=['user_id']).sum()"
   ]
  },
  {
   "cell_type": "code",
   "execution_count": 136,
   "metadata": {},
   "outputs": [
    {
     "data": {
      "text/plain": [
       "0"
      ]
     },
     "execution_count": 136,
     "metadata": {},
     "output_type": "execute_result"
    }
   ],
   "source": [
    "participants.query('ab_test == \"recommender_system_test\"').duplicated(subset=['user_id']).sum()"
   ]
  },
  {
   "cell_type": "markdown",
   "metadata": {},
   "source": [
    "Группы теста не пересекаются"
   ]
  },
  {
   "cell_type": "code",
   "execution_count": 137,
   "metadata": {
    "scrolled": true
   },
   "outputs": [
    {
     "data": {
      "text/html": [
       "<div>\n",
       "<style scoped>\n",
       "    .dataframe tbody tr th:only-of-type {\n",
       "        vertical-align: middle;\n",
       "    }\n",
       "\n",
       "    .dataframe tbody tr th {\n",
       "        vertical-align: top;\n",
       "    }\n",
       "\n",
       "    .dataframe thead th {\n",
       "        text-align: right;\n",
       "    }\n",
       "</style>\n",
       "<table border=\"1\" class=\"dataframe\">\n",
       "  <thead>\n",
       "    <tr style=\"text-align: right;\">\n",
       "      <th></th>\n",
       "      <th></th>\n",
       "      <th>group</th>\n",
       "    </tr>\n",
       "    <tr>\n",
       "      <th>ab_test</th>\n",
       "      <th>group</th>\n",
       "      <th></th>\n",
       "    </tr>\n",
       "  </thead>\n",
       "  <tbody>\n",
       "    <tr>\n",
       "      <th rowspan=\"2\" valign=\"top\">interface_eu_test</th>\n",
       "      <th>A</th>\n",
       "      <td>5831</td>\n",
       "    </tr>\n",
       "    <tr>\n",
       "      <th>B</th>\n",
       "      <td>5736</td>\n",
       "    </tr>\n",
       "    <tr>\n",
       "      <th rowspan=\"2\" valign=\"top\">recommender_system_test</th>\n",
       "      <th>A</th>\n",
       "      <td>3824</td>\n",
       "    </tr>\n",
       "    <tr>\n",
       "      <th>B</th>\n",
       "      <td>2877</td>\n",
       "    </tr>\n",
       "  </tbody>\n",
       "</table>\n",
       "</div>"
      ],
      "text/plain": [
       "                               group\n",
       "ab_test                 group       \n",
       "interface_eu_test       A       5831\n",
       "                        B       5736\n",
       "recommender_system_test A       3824\n",
       "                        B       2877"
      ]
     },
     "execution_count": 137,
     "metadata": {},
     "output_type": "execute_result"
    }
   ],
   "source": [
    "participants.groupby(by=['ab_test', 'group']).agg({'group':'count'})"
   ]
  },
  {
   "cell_type": "code",
   "execution_count": 138,
   "metadata": {},
   "outputs": [
    {
     "data": {
      "text/plain": [
       "16666"
      ]
     },
     "execution_count": 138,
     "metadata": {},
     "output_type": "execute_result"
    }
   ],
   "source": [
    "participants['user_id'].nunique()"
   ]
  },
  {
   "cell_type": "code",
   "execution_count": 139,
   "metadata": {},
   "outputs": [
    {
     "data": {
      "text/plain": [
       "58703"
      ]
     },
     "execution_count": 139,
     "metadata": {},
     "output_type": "execute_result"
    }
   ],
   "source": [
    "events['user_id'].nunique()"
   ]
  },
  {
   "cell_type": "code",
   "execution_count": 140,
   "metadata": {},
   "outputs": [
    {
     "data": {
      "text/plain": [
       "61733"
      ]
     },
     "execution_count": 140,
     "metadata": {},
     "output_type": "execute_result"
    }
   ],
   "source": [
    "new_users['user_id'].nunique()"
   ]
  },
  {
   "cell_type": "markdown",
   "metadata": {},
   "source": [
    "Всего в А/В тесте участвуют 16666 пользователей, из зарегистрировавшихся за период 61733. Данные о событиях есть для 58703 пользователей"
   ]
  },
  {
   "cell_type": "code",
   "execution_count": 141,
   "metadata": {},
   "outputs": [],
   "source": [
    "def filter_event(row):\n",
    "    if 'EU' in row[1].split(','):\n",
    "        if row[2] > datetime(2020, 12, 1):\n",
    "            return 1\n",
    "        elif row[3] > datetime(2020, 12, 1):\n",
    "            return 1\n",
    "        elif row[2] < datetime(2020, 12, 1) and row[3] > datetime(2020, 12, 1):\n",
    "            return 1\n",
    "        else:\n",
    "            return 0\n",
    "    else:\n",
    "        return 0"
   ]
  },
  {
   "cell_type": "code",
   "execution_count": 142,
   "metadata": {},
   "outputs": [],
   "source": [
    "project_marketing['mask'] = project_marketing.apply(filter_event, axis=1)"
   ]
  },
  {
   "cell_type": "code",
   "execution_count": 143,
   "metadata": {},
   "outputs": [
    {
     "data": {
      "text/html": [
       "<div>\n",
       "<style scoped>\n",
       "    .dataframe tbody tr th:only-of-type {\n",
       "        vertical-align: middle;\n",
       "    }\n",
       "\n",
       "    .dataframe tbody tr th {\n",
       "        vertical-align: top;\n",
       "    }\n",
       "\n",
       "    .dataframe thead th {\n",
       "        text-align: right;\n",
       "    }\n",
       "</style>\n",
       "<table border=\"1\" class=\"dataframe\">\n",
       "  <thead>\n",
       "    <tr style=\"text-align: right;\">\n",
       "      <th></th>\n",
       "      <th>name</th>\n",
       "      <th>regions</th>\n",
       "      <th>start_dt</th>\n",
       "      <th>finish_dt</th>\n",
       "      <th>mask</th>\n",
       "    </tr>\n",
       "  </thead>\n",
       "  <tbody>\n",
       "    <tr>\n",
       "      <th>0</th>\n",
       "      <td>Christmas&amp;New Year Promo</td>\n",
       "      <td>EU, N.America</td>\n",
       "      <td>2020-12-25</td>\n",
       "      <td>2021-01-03</td>\n",
       "      <td>1</td>\n",
       "    </tr>\n",
       "  </tbody>\n",
       "</table>\n",
       "</div>"
      ],
      "text/plain": [
       "                       name        regions   start_dt  finish_dt  mask\n",
       "0  Christmas&New Year Promo  EU, N.America 2020-12-25 2021-01-03     1"
      ]
     },
     "execution_count": 143,
     "metadata": {},
     "output_type": "execute_result"
    }
   ],
   "source": [
    "project_marketing.query('mask == 1')"
   ]
  },
  {
   "cell_type": "code",
   "execution_count": 144,
   "metadata": {},
   "outputs": [],
   "source": [
    "user_data['date'] = pd.to_datetime(user_data['date'])"
   ]
  },
  {
   "cell_type": "code",
   "execution_count": 145,
   "metadata": {},
   "outputs": [],
   "source": [
    "def date_diff(row):\n",
    "#    d1 = datetime.strptime(str(row[6]), \"%Y-%m-%d\")\n",
    "#    d2 = datetime.strptime(str(row[9]), \"%Y-%m-%d\")\n",
    "    return abs((row[9] - row[6]).days)"
   ]
  },
  {
   "cell_type": "code",
   "execution_count": 146,
   "metadata": {},
   "outputs": [],
   "source": [
    "user_data['date_diff'] = user_data.apply(date_diff, axis=1\n",
    "                                        )"
   ]
  },
  {
   "cell_type": "code",
   "execution_count": 147,
   "metadata": {},
   "outputs": [
    {
     "data": {
      "text/html": [
       "<div>\n",
       "<style scoped>\n",
       "    .dataframe tbody tr th:only-of-type {\n",
       "        vertical-align: middle;\n",
       "    }\n",
       "\n",
       "    .dataframe tbody tr th {\n",
       "        vertical-align: top;\n",
       "    }\n",
       "\n",
       "    .dataframe thead th {\n",
       "        text-align: right;\n",
       "    }\n",
       "</style>\n",
       "<table border=\"1\" class=\"dataframe\">\n",
       "  <thead>\n",
       "    <tr style=\"text-align: right;\">\n",
       "      <th></th>\n",
       "      <th>user_id</th>\n",
       "      <th>event_dt</th>\n",
       "      <th>event_name</th>\n",
       "      <th>details</th>\n",
       "      <th>group</th>\n",
       "      <th>ab_test</th>\n",
       "      <th>first_date</th>\n",
       "      <th>region</th>\n",
       "      <th>device</th>\n",
       "      <th>date</th>\n",
       "      <th>date_diff</th>\n",
       "    </tr>\n",
       "  </thead>\n",
       "  <tbody>\n",
       "    <tr>\n",
       "      <th>5</th>\n",
       "      <td>831887FE7F2D6CBA</td>\n",
       "      <td>2020-12-07 06:50:29</td>\n",
       "      <td>purchase</td>\n",
       "      <td>4.99</td>\n",
       "      <td>A</td>\n",
       "      <td>recommender_system_test</td>\n",
       "      <td>2020-12-07</td>\n",
       "      <td>EU</td>\n",
       "      <td>Android</td>\n",
       "      <td>2020-12-07</td>\n",
       "      <td>0</td>\n",
       "    </tr>\n",
       "    <tr>\n",
       "      <th>17</th>\n",
       "      <td>3C5DD0288AC4FE23</td>\n",
       "      <td>2020-12-07 19:42:40</td>\n",
       "      <td>purchase</td>\n",
       "      <td>4.99</td>\n",
       "      <td>A</td>\n",
       "      <td>recommender_system_test</td>\n",
       "      <td>2020-12-07</td>\n",
       "      <td>EU</td>\n",
       "      <td>PC</td>\n",
       "      <td>2020-12-07</td>\n",
       "      <td>0</td>\n",
       "    </tr>\n",
       "    <tr>\n",
       "      <th>71</th>\n",
       "      <td>2B06EB547B7AAD08</td>\n",
       "      <td>2020-12-07 21:36:38</td>\n",
       "      <td>purchase</td>\n",
       "      <td>4.99</td>\n",
       "      <td>A</td>\n",
       "      <td>recommender_system_test</td>\n",
       "      <td>2020-12-07</td>\n",
       "      <td>EU</td>\n",
       "      <td>PC</td>\n",
       "      <td>2020-12-07</td>\n",
       "      <td>0</td>\n",
       "    </tr>\n",
       "    <tr>\n",
       "      <th>75</th>\n",
       "      <td>A640F31CAC7823A6</td>\n",
       "      <td>2020-12-07 18:48:26</td>\n",
       "      <td>purchase</td>\n",
       "      <td>4.99</td>\n",
       "      <td>B</td>\n",
       "      <td>recommender_system_test</td>\n",
       "      <td>2020-12-07</td>\n",
       "      <td>EU</td>\n",
       "      <td>PC</td>\n",
       "      <td>2020-12-07</td>\n",
       "      <td>0</td>\n",
       "    </tr>\n",
       "    <tr>\n",
       "      <th>94</th>\n",
       "      <td>2F46396B6766CFDB</td>\n",
       "      <td>2020-12-07 13:29:30</td>\n",
       "      <td>purchase</td>\n",
       "      <td>4.99</td>\n",
       "      <td>A</td>\n",
       "      <td>recommender_system_test</td>\n",
       "      <td>2020-12-07</td>\n",
       "      <td>EU</td>\n",
       "      <td>PC</td>\n",
       "      <td>2020-12-07</td>\n",
       "      <td>0</td>\n",
       "    </tr>\n",
       "  </tbody>\n",
       "</table>\n",
       "</div>"
      ],
      "text/plain": [
       "             user_id            event_dt event_name  details group  \\\n",
       "5   831887FE7F2D6CBA 2020-12-07 06:50:29   purchase     4.99     A   \n",
       "17  3C5DD0288AC4FE23 2020-12-07 19:42:40   purchase     4.99     A   \n",
       "71  2B06EB547B7AAD08 2020-12-07 21:36:38   purchase     4.99     A   \n",
       "75  A640F31CAC7823A6 2020-12-07 18:48:26   purchase     4.99     B   \n",
       "94  2F46396B6766CFDB 2020-12-07 13:29:30   purchase     4.99     A   \n",
       "\n",
       "                    ab_test first_date region   device       date  date_diff  \n",
       "5   recommender_system_test 2020-12-07     EU  Android 2020-12-07          0  \n",
       "17  recommender_system_test 2020-12-07     EU       PC 2020-12-07          0  \n",
       "71  recommender_system_test 2020-12-07     EU       PC 2020-12-07          0  \n",
       "75  recommender_system_test 2020-12-07     EU       PC 2020-12-07          0  \n",
       "94  recommender_system_test 2020-12-07     EU       PC 2020-12-07          0  "
      ]
     },
     "execution_count": 147,
     "metadata": {},
     "output_type": "execute_result"
    }
   ],
   "source": [
    "user_data.head()"
   ]
  },
  {
   "cell_type": "code",
   "execution_count": 148,
   "metadata": {},
   "outputs": [
    {
     "data": {
      "text/plain": [
       "user_id       618\n",
       "event_dt      618\n",
       "event_name    618\n",
       "details       618\n",
       "group         618\n",
       "ab_test       618\n",
       "first_date    618\n",
       "region        618\n",
       "device        618\n",
       "date          618\n",
       "date_diff     618\n",
       "dtype: int64"
      ]
     },
     "execution_count": 148,
     "metadata": {},
     "output_type": "execute_result"
    }
   ],
   "source": [
    "user_data.query('date_diff > 14').count()"
   ]
  },
  {
   "cell_type": "code",
   "execution_count": 149,
   "metadata": {},
   "outputs": [],
   "source": [
    "user_data = user_data.query('date_diff <= 14')"
   ]
  },
  {
   "cell_type": "code",
   "execution_count": 150,
   "metadata": {},
   "outputs": [
    {
     "data": {
      "text/html": [
       "<div>\n",
       "<style scoped>\n",
       "    .dataframe tbody tr th:only-of-type {\n",
       "        vertical-align: middle;\n",
       "    }\n",
       "\n",
       "    .dataframe tbody tr th {\n",
       "        vertical-align: top;\n",
       "    }\n",
       "\n",
       "    .dataframe thead th {\n",
       "        text-align: right;\n",
       "    }\n",
       "</style>\n",
       "<table border=\"1\" class=\"dataframe\">\n",
       "  <thead>\n",
       "    <tr style=\"text-align: right;\">\n",
       "      <th></th>\n",
       "      <th>user_id</th>\n",
       "    </tr>\n",
       "    <tr>\n",
       "      <th>group</th>\n",
       "      <th></th>\n",
       "    </tr>\n",
       "  </thead>\n",
       "  <tbody>\n",
       "    <tr>\n",
       "      <th>A</th>\n",
       "      <td>2747</td>\n",
       "    </tr>\n",
       "    <tr>\n",
       "      <th>B</th>\n",
       "      <td>928</td>\n",
       "    </tr>\n",
       "  </tbody>\n",
       "</table>\n",
       "</div>"
      ],
      "text/plain": [
       "       user_id\n",
       "group         \n",
       "A         2747\n",
       "B          928"
      ]
     },
     "execution_count": 150,
     "metadata": {},
     "output_type": "execute_result"
    }
   ],
   "source": [
    "user_data.groupby(by='group').agg({'user_id':'nunique'})"
   ]
  },
  {
   "cell_type": "code",
   "execution_count": 151,
   "metadata": {},
   "outputs": [
    {
     "name": "stdout",
     "output_type": "stream",
     "text": [
      "Всего после фильтрации осталось уникальных пользователей: 3675\n"
     ]
    }
   ],
   "source": [
    "print('Всего после фильтрации осталось уникальных пользователей:', user_data['user_id'].nunique())"
   ]
  },
  {
   "cell_type": "markdown",
   "metadata": {},
   "source": [
    "Вывод по проверке.  \n",
    "Данные примерно соответствуют ТЗ. Не хватает данных за 5 дней (31.12 - 4.01), аудитория теста 10% новых пользователей (вместо 15% по ТЗ: всего 61 тыс новых пользователей, среди них 6 тыс участвуют в тесте), группы теста не пересекаются, есть пересечения групп с новогодними акциями"
   ]
  },
  {
   "cell_type": "markdown",
   "metadata": {},
   "source": [
    "## Исследовательсий анализ данных"
   ]
  },
  {
   "cell_type": "markdown",
   "metadata": {},
   "source": [
    "- Какие особенности данных нужно учесть, прежде чем приступать к A/B-тестированию?"
   ]
  },
  {
   "cell_type": "code",
   "execution_count": 152,
   "metadata": {},
   "outputs": [
    {
     "name": "stdout",
     "output_type": "stream",
     "text": [
      "<class 'pandas.core.frame.DataFrame'>\n",
      "Int64Index: 23728 entries, 5 to 446160\n",
      "Data columns (total 11 columns):\n",
      " #   Column      Non-Null Count  Dtype         \n",
      "---  ------      --------------  -----         \n",
      " 0   user_id     23728 non-null  object        \n",
      " 1   event_dt    23728 non-null  datetime64[ns]\n",
      " 2   event_name  23728 non-null  object        \n",
      " 3   details     23728 non-null  float64       \n",
      " 4   group       23728 non-null  object        \n",
      " 5   ab_test     23728 non-null  object        \n",
      " 6   first_date  23728 non-null  datetime64[ns]\n",
      " 7   region      23728 non-null  object        \n",
      " 8   device      23728 non-null  object        \n",
      " 9   date        23728 non-null  datetime64[ns]\n",
      " 10  date_diff   23728 non-null  int64         \n",
      "dtypes: datetime64[ns](3), float64(1), int64(1), object(6)\n",
      "memory usage: 2.2+ MB\n"
     ]
    }
   ],
   "source": [
    "user_data.info()"
   ]
  },
  {
   "cell_type": "code",
   "execution_count": 153,
   "metadata": {},
   "outputs": [
    {
     "data": {
      "text/html": [
       "<div>\n",
       "<style scoped>\n",
       "    .dataframe tbody tr th:only-of-type {\n",
       "        vertical-align: middle;\n",
       "    }\n",
       "\n",
       "    .dataframe tbody tr th {\n",
       "        vertical-align: top;\n",
       "    }\n",
       "\n",
       "    .dataframe thead th {\n",
       "        text-align: right;\n",
       "    }\n",
       "</style>\n",
       "<table border=\"1\" class=\"dataframe\">\n",
       "  <thead>\n",
       "    <tr style=\"text-align: right;\">\n",
       "      <th></th>\n",
       "      <th>event_count</th>\n",
       "      <th>user_count</th>\n",
       "      <th>event_per_user</th>\n",
       "    </tr>\n",
       "    <tr>\n",
       "      <th>group</th>\n",
       "      <th></th>\n",
       "      <th></th>\n",
       "      <th></th>\n",
       "    </tr>\n",
       "  </thead>\n",
       "  <tbody>\n",
       "    <tr>\n",
       "      <th>A</th>\n",
       "      <td>18668</td>\n",
       "      <td>2747</td>\n",
       "      <td>6.795777</td>\n",
       "    </tr>\n",
       "    <tr>\n",
       "      <th>B</th>\n",
       "      <td>5060</td>\n",
       "      <td>928</td>\n",
       "      <td>5.452586</td>\n",
       "    </tr>\n",
       "  </tbody>\n",
       "</table>\n",
       "</div>"
      ],
      "text/plain": [
       "       event_count  user_count  event_per_user\n",
       "group                                         \n",
       "A            18668        2747        6.795777\n",
       "B             5060         928        5.452586"
      ]
     },
     "execution_count": 153,
     "metadata": {},
     "output_type": "execute_result"
    }
   ],
   "source": [
    "data_grouped = user_data.groupby(by=['group']).agg({'event_name':'count', 'user_id':'nunique'})\\\n",
    "    .rename(columns={'event_name':'event_count', 'user_id':'user_count'})\n",
    "data_grouped['event_per_user'] = data_grouped['event_count']/data_grouped['user_count']\n",
    "data_grouped"
   ]
  },
  {
   "cell_type": "code",
   "execution_count": 154,
   "metadata": {},
   "outputs": [],
   "source": [
    "data_grouped = user_data.groupby(by=['group', 'date']).agg({'user_id':'count'}).reset_index()"
   ]
  },
  {
   "cell_type": "code",
   "execution_count": 155,
   "metadata": {
    "scrolled": false
   },
   "outputs": [
    {
     "data": {
      "image/png": "[encoded data removed]",
      "text/plain": [
       "<Figure size 576x432 with 1 Axes>"
      ]
     },
     "metadata": {
      "needs_background": "light"
     },
     "output_type": "display_data"
    }
   ],
   "source": [
    "#Plotting multiple sets of data\n",
    "x1= data_grouped.query('group == \"A\"')['date']\n",
    "x2= data_grouped.query('group == \"B\"')['date']\n",
    "y1 = data_grouped.query('group == \"A\"')['user_id']\n",
    "y2= data_grouped.query('group == \"B\"')['user_id']\n",
    "plt.figure(figsize=(8,6))\n",
    "ax = plt.axes()\n",
    "ax.set_facecolor(\"white\")\n",
    "plt.bar(x1,y1,label = \"Group A\",color = '#42B300', alpha=0.6) # First set of data\n",
    "plt.bar(x2,y2,label = \"Group B\",color = 'red', alpha=0.6) # Second set of data\n",
    "plt.xlabel('Date')\n",
    "plt.ylabel('Events_count')\n",
    "plt.title ('Распределение событий по дням')\n",
    "plt.legend()\n",
    "plt.show()"
   ]
  },
  {
   "cell_type": "markdown",
   "metadata": {},
   "source": [
    "Распределение числа событий в группе А напоминает нормальное, в группе В - равномерное"
   ]
  },
  {
   "cell_type": "code",
   "execution_count": 156,
   "metadata": {},
   "outputs": [],
   "source": [
    "data_grouped = user_data.groupby(by=['group', 'event_name']).agg({'user_id':'nunique'})\\\n",
    "    .reset_index()"
   ]
  },
  {
   "cell_type": "code",
   "execution_count": 157,
   "metadata": {
    "scrolled": false
   },
   "outputs": [
    {
     "data": {
      "image/png": "[encoded data removed]",
      "text/plain": [
       "<Figure size 576x432 with 1 Axes>"
      ]
     },
     "metadata": {
      "needs_background": "light"
     },
     "output_type": "display_data"
    }
   ],
   "source": [
    "x1= data_grouped.sort_values(by='user_id').query('group == \"A\"')['event_name']\n",
    "x2= data_grouped.sort_values(by='user_id').query('group == \"B\"')['event_name']\n",
    "y1 = data_grouped.sort_values(by='user_id').query('group == \"A\"')['user_id']\n",
    "y2= data_grouped.sort_values(by='user_id').query('group == \"B\"')['user_id']\n",
    "plt.figure(figsize=(8,6))\n",
    "ax = plt.axes()\n",
    "ax.set_facecolor(\"white\")\n",
    "plt.barh(x1,y1,label = \"Group A\",color = '#42B300', alpha=0.6) # First set of data\n",
    "plt.barh(x2,y2,label = \"Group B\",color = 'red', alpha=0.6) # Second set of data\n",
    "plt.xlabel('Date')\n",
    "plt.ylabel('Events_count')\n",
    "plt.title ('Распределение событий по дням')\n",
    "plt.legend()\n",
    "plt.show()"
   ]
  },
  {
   "cell_type": "code",
   "execution_count": 158,
   "metadata": {},
   "outputs": [
    {
     "data": {
      "text/html": [
       "<div>\n",
       "<style scoped>\n",
       "    .dataframe tbody tr th:only-of-type {\n",
       "        vertical-align: middle;\n",
       "    }\n",
       "\n",
       "    .dataframe tbody tr th {\n",
       "        vertical-align: top;\n",
       "    }\n",
       "\n",
       "    .dataframe thead th {\n",
       "        text-align: right;\n",
       "    }\n",
       "</style>\n",
       "<table border=\"1\" class=\"dataframe\">\n",
       "  <thead>\n",
       "    <tr style=\"text-align: right;\">\n",
       "      <th></th>\n",
       "      <th>group</th>\n",
       "      <th>event_name</th>\n",
       "      <th>user_id</th>\n",
       "    </tr>\n",
       "  </thead>\n",
       "  <tbody>\n",
       "    <tr>\n",
       "      <th>0</th>\n",
       "      <td>A</td>\n",
       "      <td>login</td>\n",
       "      <td>2747</td>\n",
       "    </tr>\n",
       "    <tr>\n",
       "      <th>1</th>\n",
       "      <td>A</td>\n",
       "      <td>product_cart</td>\n",
       "      <td>824</td>\n",
       "    </tr>\n",
       "    <tr>\n",
       "      <th>2</th>\n",
       "      <td>A</td>\n",
       "      <td>product_page</td>\n",
       "      <td>1780</td>\n",
       "    </tr>\n",
       "    <tr>\n",
       "      <th>3</th>\n",
       "      <td>A</td>\n",
       "      <td>purchase</td>\n",
       "      <td>855</td>\n",
       "    </tr>\n",
       "    <tr>\n",
       "      <th>4</th>\n",
       "      <td>B</td>\n",
       "      <td>login</td>\n",
       "      <td>927</td>\n",
       "    </tr>\n",
       "    <tr>\n",
       "      <th>5</th>\n",
       "      <td>B</td>\n",
       "      <td>product_cart</td>\n",
       "      <td>255</td>\n",
       "    </tr>\n",
       "    <tr>\n",
       "      <th>6</th>\n",
       "      <td>B</td>\n",
       "      <td>product_page</td>\n",
       "      <td>523</td>\n",
       "    </tr>\n",
       "    <tr>\n",
       "      <th>7</th>\n",
       "      <td>B</td>\n",
       "      <td>purchase</td>\n",
       "      <td>253</td>\n",
       "    </tr>\n",
       "  </tbody>\n",
       "</table>\n",
       "</div>"
      ],
      "text/plain": [
       "  group    event_name  user_id\n",
       "0     A         login     2747\n",
       "1     A  product_cart      824\n",
       "2     A  product_page     1780\n",
       "3     A      purchase      855\n",
       "4     B         login      927\n",
       "5     B  product_cart      255\n",
       "6     B  product_page      523\n",
       "7     B      purchase      253"
      ]
     },
     "execution_count": 158,
     "metadata": {},
     "output_type": "execute_result"
    }
   ],
   "source": [
    "data_grouped"
   ]
  },
  {
   "cell_type": "code",
   "execution_count": 159,
   "metadata": {},
   "outputs": [],
   "source": [
    "def priority(row):\n",
    "    if row[0] == 'A':\n",
    "        if row[1] == 'login':\n",
    "            return 11\n",
    "        elif row[1] == 'product_page':\n",
    "            return 12\n",
    "        elif row[1] == 'product_cart':\n",
    "            return 13\n",
    "        elif row[1] == 'purchase':\n",
    "            return 14\n",
    "    elif row[0] == 'B':\n",
    "        if row[1] == 'login':\n",
    "            return 21\n",
    "        elif row[1] == 'product_page':\n",
    "            return 22\n",
    "        elif row[1] == 'product_cart':\n",
    "            return 23\n",
    "        elif row[1] == 'purchase':\n",
    "            return 24"
   ]
  },
  {
   "cell_type": "code",
   "execution_count": 160,
   "metadata": {},
   "outputs": [],
   "source": [
    "data_grouped['mask'] = data_grouped.apply(priority, axis=1)\n",
    "data_grouped = data_grouped.sort_values(by='mask')[['group', 'event_name', 'user_id']]"
   ]
  },
  {
   "cell_type": "code",
   "execution_count": 161,
   "metadata": {},
   "outputs": [],
   "source": [
    "data_grouped['conversion_from_previous_step'] = [1] * len(data_grouped)"
   ]
  },
  {
   "cell_type": "code",
   "execution_count": 162,
   "metadata": {},
   "outputs": [],
   "source": [
    "for i in range(len(data_grouped)):\n",
    "    if data_grouped.iloc[i, 1] == 'login':\n",
    "        pass\n",
    "    else:\n",
    "        data_grouped.iloc[i, 3] = data_grouped.iloc[i, 2]/data_grouped.iloc[i-1, 2]\n",
    "        "
   ]
  },
  {
   "cell_type": "code",
   "execution_count": 163,
   "metadata": {},
   "outputs": [
    {
     "data": {
      "text/html": [
       "<div>\n",
       "<style scoped>\n",
       "    .dataframe tbody tr th:only-of-type {\n",
       "        vertical-align: middle;\n",
       "    }\n",
       "\n",
       "    .dataframe tbody tr th {\n",
       "        vertical-align: top;\n",
       "    }\n",
       "\n",
       "    .dataframe thead th {\n",
       "        text-align: right;\n",
       "    }\n",
       "</style>\n",
       "<table border=\"1\" class=\"dataframe\">\n",
       "  <thead>\n",
       "    <tr style=\"text-align: right;\">\n",
       "      <th></th>\n",
       "      <th>group</th>\n",
       "      <th>event_name</th>\n",
       "      <th>user_id</th>\n",
       "      <th>conversion_from_previous_step</th>\n",
       "    </tr>\n",
       "  </thead>\n",
       "  <tbody>\n",
       "    <tr>\n",
       "      <th>0</th>\n",
       "      <td>A</td>\n",
       "      <td>login</td>\n",
       "      <td>2747</td>\n",
       "      <td>1.000000</td>\n",
       "    </tr>\n",
       "    <tr>\n",
       "      <th>2</th>\n",
       "      <td>A</td>\n",
       "      <td>product_page</td>\n",
       "      <td>1780</td>\n",
       "      <td>0.647980</td>\n",
       "    </tr>\n",
       "    <tr>\n",
       "      <th>1</th>\n",
       "      <td>A</td>\n",
       "      <td>product_cart</td>\n",
       "      <td>824</td>\n",
       "      <td>0.462921</td>\n",
       "    </tr>\n",
       "    <tr>\n",
       "      <th>3</th>\n",
       "      <td>A</td>\n",
       "      <td>purchase</td>\n",
       "      <td>855</td>\n",
       "      <td>1.037621</td>\n",
       "    </tr>\n",
       "    <tr>\n",
       "      <th>4</th>\n",
       "      <td>B</td>\n",
       "      <td>login</td>\n",
       "      <td>927</td>\n",
       "      <td>1.000000</td>\n",
       "    </tr>\n",
       "    <tr>\n",
       "      <th>6</th>\n",
       "      <td>B</td>\n",
       "      <td>product_page</td>\n",
       "      <td>523</td>\n",
       "      <td>0.564186</td>\n",
       "    </tr>\n",
       "    <tr>\n",
       "      <th>5</th>\n",
       "      <td>B</td>\n",
       "      <td>product_cart</td>\n",
       "      <td>255</td>\n",
       "      <td>0.487572</td>\n",
       "    </tr>\n",
       "    <tr>\n",
       "      <th>7</th>\n",
       "      <td>B</td>\n",
       "      <td>purchase</td>\n",
       "      <td>253</td>\n",
       "      <td>0.992157</td>\n",
       "    </tr>\n",
       "  </tbody>\n",
       "</table>\n",
       "</div>"
      ],
      "text/plain": [
       "  group    event_name  user_id  conversion_from_previous_step\n",
       "0     A         login     2747                       1.000000\n",
       "2     A  product_page     1780                       0.647980\n",
       "1     A  product_cart      824                       0.462921\n",
       "3     A      purchase      855                       1.037621\n",
       "4     B         login      927                       1.000000\n",
       "6     B  product_page      523                       0.564186\n",
       "5     B  product_cart      255                       0.487572\n",
       "7     B      purchase      253                       0.992157"
      ]
     },
     "execution_count": 163,
     "metadata": {},
     "output_type": "execute_result"
    }
   ],
   "source": [
    "data_grouped"
   ]
  },
  {
   "cell_type": "code",
   "execution_count": 164,
   "metadata": {},
   "outputs": [
    {
     "data": {
      "application/vnd.plotly.v1+json": {
       "config": {
        "plotlyServerURL": "https://plot.ly"
       },
       "data": [
        {
         "hovertemplate": "number=%{x}<br>stage=%{y}<extra></extra>",
         "legendgroup": "",
         "marker": {
          "color": "#636efa"
         },
         "name": "",
         "orientation": "h",
         "showlegend": false,
         "type": "funnel",
         "x": [
          2747,
          1780,
          824,
          855
         ],
         "xaxis": "x",
         "y": [
          "login",
          "product_page",
          "product_cart",
          "purchase"
         ],
         "yaxis": "y"
        }
       ],
       "layout": {
        "legend": {
         "tracegroupgap": 0
        },
        "margin": {
         "t": 60
        },
        "template": {
         "data": {
          "bar": [
           {
            "error_x": {
             "color": "#2a3f5f"
            },
            "error_y": {
             "color": "#2a3f5f"
            },
            "marker": {
             "line": {
              "color": "#E5ECF6",
              "width": 0.5
             },
             "pattern": {
              "fillmode": "overlay",
              "size": 10,
              "solidity": 0.2
             }
            },
            "type": "bar"
           }
          ],
          "barpolar": [
           {
            "marker": {
             "line": {
              "color": "#E5ECF6",
              "width": 0.5
             },
             "pattern": {
              "fillmode": "overlay",
              "size": 10,
              "solidity": 0.2
             }
            },
            "type": "barpolar"
           }
          ],
          "carpet": [
           {
            "aaxis": {
             "endlinecolor": "#2a3f5f",
             "gridcolor": "white",
             "linecolor": "white",
             "minorgridcolor": "white",
             "startlinecolor": "#2a3f5f"
            },
            "baxis": {
             "endlinecolor": "#2a3f5f",
             "gridcolor": "white",
             "linecolor": "white",
             "minorgridcolor": "white",
             "startlinecolor": "#2a3f5f"
            },
            "type": "carpet"
           }
          ],
          "choropleth": [
           {
            "colorbar": {
             "outlinewidth": 0,
             "ticks": ""
            },
            "type": "choropleth"
           }
          ],
          "contour": [
           {
            "colorbar": {
             "outlinewidth": 0,
             "ticks": ""
            },
            "colorscale": [
             [
              0,
              "#0d0887"
             ],
             [
              0.1111111111111111,
              "#46039f"
             ],
             [
              0.2222222222222222,
              "#7201a8"
             ],
             [
              0.3333333333333333,
              "#9c179e"
             ],
             [
              0.4444444444444444,
              "#bd3786"
             ],
             [
              0.5555555555555556,
              "#d8576b"
             ],
             [
              0.6666666666666666,
              "#ed7953"
             ],
             [
              0.7777777777777778,
              "#fb9f3a"
             ],
             [
              0.8888888888888888,
              "#fdca26"
             ],
             [
              1,
              "#f0f921"
             ]
            ],
            "type": "contour"
           }
          ],
          "contourcarpet": [
           {
            "colorbar": {
             "outlinewidth": 0,
             "ticks": ""
            },
            "type": "contourcarpet"
           }
          ],
          "heatmap": [
           {
            "colorbar": {
             "outlinewidth": 0,
             "ticks": ""
            },
            "colorscale": [
             [
              0,
              "#0d0887"
             ],
             [
              0.1111111111111111,
              "#46039f"
             ],
             [
              0.2222222222222222,
              "#7201a8"
             ],
             [
              0.3333333333333333,
              "#9c179e"
             ],
             [
              0.4444444444444444,
              "#bd3786"
             ],
             [
              0.5555555555555556,
              "#d8576b"
             ],
             [
              0.6666666666666666,
              "#ed7953"
             ],
             [
              0.7777777777777778,
              "#fb9f3a"
             ],
             [
              0.8888888888888888,
              "#fdca26"
             ],
             [
              1,
              "#f0f921"
             ]
            ],
            "type": "heatmap"
           }
          ],
          "heatmapgl": [
           {
            "colorbar": {
             "outlinewidth": 0,
             "ticks": ""
            },
            "colorscale": [
             [
              0,
              "#0d0887"
             ],
             [
              0.1111111111111111,
              "#46039f"
             ],
             [
              0.2222222222222222,
              "#7201a8"
             ],
             [
              0.3333333333333333,
              "#9c179e"
             ],
             [
              0.4444444444444444,
              "#bd3786"
             ],
             [
              0.5555555555555556,
              "#d8576b"
             ],
             [
              0.6666666666666666,
              "#ed7953"
             ],
             [
              0.7777777777777778,
              "#fb9f3a"
             ],
             [
              0.8888888888888888,
              "#fdca26"
             ],
             [
              1,
              "#f0f921"
             ]
            ],
            "type": "heatmapgl"
           }
          ],
          "histogram": [
           {
            "marker": {
             "pattern": {
              "fillmode": "overlay",
              "size": 10,
              "solidity": 0.2
             }
            },
            "type": "histogram"
           }
          ],
          "histogram2d": [
           {
            "colorbar": {
             "outlinewidth": 0,
             "ticks": ""
            },
            "colorscale": [
             [
              0,
              "#0d0887"
             ],
             [
              0.1111111111111111,
              "#46039f"
             ],
             [
              0.2222222222222222,
              "#7201a8"
             ],
             [
              0.3333333333333333,
              "#9c179e"
             ],
             [
              0.4444444444444444,
              "#bd3786"
             ],
             [
              0.5555555555555556,
              "#d8576b"
             ],
             [
              0.6666666666666666,
              "#ed7953"
             ],
             [
              0.7777777777777778,
              "#fb9f3a"
             ],
             [
              0.8888888888888888,
              "#fdca26"
             ],
             [
              1,
              "#f0f921"
             ]
            ],
            "type": "histogram2d"
           }
          ],
          "histogram2dcontour": [
           {
            "colorbar": {
             "outlinewidth": 0,
             "ticks": ""
            },
            "colorscale": [
             [
              0,
              "#0d0887"
             ],
             [
              0.1111111111111111,
              "#46039f"
             ],
             [
              0.2222222222222222,
              "#7201a8"
             ],
             [
              0.3333333333333333,
              "#9c179e"
             ],
             [
              0.4444444444444444,
              "#bd3786"
             ],
             [
              0.5555555555555556,
              "#d8576b"
             ],
             [
              0.6666666666666666,
              "#ed7953"
             ],
             [
              0.7777777777777778,
              "#fb9f3a"
             ],
             [
              0.8888888888888888,
              "#fdca26"
             ],
             [
              1,
              "#f0f921"
             ]
            ],
            "type": "histogram2dcontour"
           }
          ],
          "mesh3d": [
           {
            "colorbar": {
             "outlinewidth": 0,
             "ticks": ""
            },
            "type": "mesh3d"
           }
          ],
          "parcoords": [
           {
            "line": {
             "colorbar": {
              "outlinewidth": 0,
              "ticks": ""
             }
            },
            "type": "parcoords"
           }
          ],
          "pie": [
           {
            "automargin": true,
            "type": "pie"
           }
          ],
          "scatter": [
           {
            "marker": {
             "colorbar": {
              "outlinewidth": 0,
              "ticks": ""
             }
            },
            "type": "scatter"
           }
          ],
          "scatter3d": [
           {
            "line": {
             "colorbar": {
              "outlinewidth": 0,
              "ticks": ""
             }
            },
            "marker": {
             "colorbar": {
              "outlinewidth": 0,
              "ticks": ""
             }
            },
            "type": "scatter3d"
           }
          ],
          "scattercarpet": [
           {
            "marker": {
             "colorbar": {
              "outlinewidth": 0,
              "ticks": ""
             }
            },
            "type": "scattercarpet"
           }
          ],
          "scattergeo": [
           {
            "marker": {
             "colorbar": {
              "outlinewidth": 0,
              "ticks": ""
             }
            },
            "type": "scattergeo"
           }
          ],
          "scattergl": [
           {
            "marker": {
             "colorbar": {
              "outlinewidth": 0,
              "ticks": ""
             }
            },
            "type": "scattergl"
           }
          ],
          "scattermapbox": [
           {
            "marker": {
             "colorbar": {
              "outlinewidth": 0,
              "ticks": ""
             }
            },
            "type": "scattermapbox"
           }
          ],
          "scatterpolar": [
           {
            "marker": {
             "colorbar": {
              "outlinewidth": 0,
              "ticks": ""
             }
            },
            "type": "scatterpolar"
           }
          ],
          "scatterpolargl": [
           {
            "marker": {
             "colorbar": {
              "outlinewidth": 0,
              "ticks": ""
             }
            },
            "type": "scatterpolargl"
           }
          ],
          "scatterternary": [
           {
            "marker": {
             "colorbar": {
              "outlinewidth": 0,
              "ticks": ""
             }
            },
            "type": "scatterternary"
           }
          ],
          "surface": [
           {
            "colorbar": {
             "outlinewidth": 0,
             "ticks": ""
            },
            "colorscale": [
             [
              0,
              "#0d0887"
             ],
             [
              0.1111111111111111,
              "#46039f"
             ],
             [
              0.2222222222222222,
              "#7201a8"
             ],
             [
              0.3333333333333333,
              "#9c179e"
             ],
             [
              0.4444444444444444,
              "#bd3786"
             ],
             [
              0.5555555555555556,
              "#d8576b"
             ],
             [
              0.6666666666666666,
              "#ed7953"
             ],
             [
              0.7777777777777778,
              "#fb9f3a"
             ],
             [
              0.8888888888888888,
              "#fdca26"
             ],
             [
              1,
              "#f0f921"
             ]
            ],
            "type": "surface"
           }
          ],
          "table": [
           {
            "cells": {
             "fill": {
              "color": "#EBF0F8"
             },
             "line": {
              "color": "white"
             }
            },
            "header": {
             "fill": {
              "color": "#C8D4E3"
             },
             "line": {
              "color": "white"
             }
            },
            "type": "table"
           }
          ]
         },
         "layout": {
          "annotationdefaults": {
           "arrowcolor": "#2a3f5f",
           "arrowhead": 0,
           "arrowwidth": 1
          },
          "autotypenumbers": "strict",
          "coloraxis": {
           "colorbar": {
            "outlinewidth": 0,
            "ticks": ""
           }
          },
          "colorscale": {
           "diverging": [
            [
             0,
             "#8e0152"
            ],
            [
             0.1,
             "#c51b7d"
            ],
            [
             0.2,
             "#de77ae"
            ],
            [
             0.3,
             "#f1b6da"
            ],
            [
             0.4,
             "#fde0ef"
            ],
            [
             0.5,
             "#f7f7f7"
            ],
            [
             0.6,
             "#e6f5d0"
            ],
            [
             0.7,
             "#b8e186"
            ],
            [
             0.8,
             "#7fbc41"
            ],
            [
             0.9,
             "#4d9221"
            ],
            [
             1,
             "#276419"
            ]
           ],
           "sequential": [
            [
             0,
             "#0d0887"
            ],
            [
             0.1111111111111111,
             "#46039f"
            ],
            [
             0.2222222222222222,
             "#7201a8"
            ],
            [
             0.3333333333333333,
             "#9c179e"
            ],
            [
             0.4444444444444444,
             "#bd3786"
            ],
            [
             0.5555555555555556,
             "#d8576b"
            ],
            [
             0.6666666666666666,
             "#ed7953"
            ],
            [
             0.7777777777777778,
             "#fb9f3a"
            ],
            [
             0.8888888888888888,
             "#fdca26"
            ],
            [
             1,
             "#f0f921"
            ]
           ],
           "sequentialminus": [
            [
             0,
             "#0d0887"
            ],
            [
             0.1111111111111111,
             "#46039f"
            ],
            [
             0.2222222222222222,
             "#7201a8"
            ],
            [
             0.3333333333333333,
             "#9c179e"
            ],
            [
             0.4444444444444444,
             "#bd3786"
            ],
            [
             0.5555555555555556,
             "#d8576b"
            ],
            [
             0.6666666666666666,
             "#ed7953"
            ],
            [
             0.7777777777777778,
             "#fb9f3a"
            ],
            [
             0.8888888888888888,
             "#fdca26"
            ],
            [
             1,
             "#f0f921"
            ]
           ]
          },
          "colorway": [
           "#636efa",
           "#EF553B",
           "#00cc96",
           "#ab63fa",
           "#FFA15A",
           "#19d3f3",
           "#FF6692",
           "#B6E880",
           "#FF97FF",
           "#FECB52"
          ],
          "font": {
           "color": "#2a3f5f"
          },
          "geo": {
           "bgcolor": "white",
           "lakecolor": "white",
           "landcolor": "#E5ECF6",
           "showlakes": true,
           "showland": true,
           "subunitcolor": "white"
          },
          "hoverlabel": {
           "align": "left"
          },
          "hovermode": "closest",
          "mapbox": {
           "style": "light"
          },
          "paper_bgcolor": "white",
          "plot_bgcolor": "#E5ECF6",
          "polar": {
           "angularaxis": {
            "gridcolor": "white",
            "linecolor": "white",
            "ticks": ""
           },
           "bgcolor": "#E5ECF6",
           "radialaxis": {
            "gridcolor": "white",
            "linecolor": "white",
            "ticks": ""
           }
          },
          "scene": {
           "xaxis": {
            "backgroundcolor": "#E5ECF6",
            "gridcolor": "white",
            "gridwidth": 2,
            "linecolor": "white",
            "showbackground": true,
            "ticks": "",
            "zerolinecolor": "white"
           },
           "yaxis": {
            "backgroundcolor": "#E5ECF6",
            "gridcolor": "white",
            "gridwidth": 2,
            "linecolor": "white",
            "showbackground": true,
            "ticks": "",
            "zerolinecolor": "white"
           },
           "zaxis": {
            "backgroundcolor": "#E5ECF6",
            "gridcolor": "white",
            "gridwidth": 2,
            "linecolor": "white",
            "showbackground": true,
            "ticks": "",
            "zerolinecolor": "white"
           }
          },
          "shapedefaults": {
           "line": {
            "color": "#2a3f5f"
           }
          },
          "ternary": {
           "aaxis": {
            "gridcolor": "white",
            "linecolor": "white",
            "ticks": ""
           },
           "baxis": {
            "gridcolor": "white",
            "linecolor": "white",
            "ticks": ""
           },
           "bgcolor": "#E5ECF6",
           "caxis": {
            "gridcolor": "white",
            "linecolor": "white",
            "ticks": ""
           }
          },
          "title": {
           "x": 0.05
          },
          "xaxis": {
           "automargin": true,
           "gridcolor": "white",
           "linecolor": "white",
           "ticks": "",
           "title": {
            "standoff": 15
           },
           "zerolinecolor": "white",
           "zerolinewidth": 2
          },
          "yaxis": {
           "automargin": true,
           "gridcolor": "white",
           "linecolor": "white",
           "ticks": "",
           "title": {
            "standoff": 15
           },
           "zerolinecolor": "white",
           "zerolinewidth": 2
          }
         }
        },
        "xaxis": {
         "anchor": "y",
         "domain": [
          0,
          1
         ],
         "title": {
          "text": "number"
         }
        },
        "yaxis": {
         "anchor": "x",
         "domain": [
          0,
          1
         ],
         "title": {
          "text": "stage"
         }
        }
       }
      },
      "text/html": [
       "<div>                            <div id=\"0e5ebf32-52e0-4c97-a1e7-19f6dfe28706\" class=\"plotly-graph-div\" style=\"height:525px; width:100%;\"></div>            <script type=\"text/javascript\">                require([\"plotly\"], function(Plotly) {                    window.PLOTLYENV=window.PLOTLYENV || {};                                    if (document.getElementById(\"0e5ebf32-52e0-4c97-a1e7-19f6dfe28706\")) {                    Plotly.newPlot(                        \"0e5ebf32-52e0-4c97-a1e7-19f6dfe28706\",                        [{\"hovertemplate\":\"number=%{x}<br>stage=%{y}<extra></extra>\",\"legendgroup\":\"\",\"marker\":{\"color\":\"#636efa\"},\"name\":\"\",\"orientation\":\"h\",\"showlegend\":false,\"x\":[2747,1780,824,855],\"xaxis\":\"x\",\"y\":[\"login\",\"product_page\",\"product_cart\",\"purchase\"],\"yaxis\":\"y\",\"type\":\"funnel\"}],                        {\"template\":{\"data\":{\"bar\":[{\"error_x\":{\"color\":\"#2a3f5f\"},\"error_y\":{\"color\":\"#2a3f5f\"},\"marker\":{\"line\":{\"color\":\"#E5ECF6\",\"width\":0.5},\"pattern\":{\"fillmode\":\"overlay\",\"size\":10,\"solidity\":0.2}},\"type\":\"bar\"}],\"barpolar\":[{\"marker\":{\"line\":{\"color\":\"#E5ECF6\",\"width\":0.5},\"pattern\":{\"fillmode\":\"overlay\",\"size\":10,\"solidity\":0.2}},\"type\":\"barpolar\"}],\"carpet\":[{\"aaxis\":{\"endlinecolor\":\"#2a3f5f\",\"gridcolor\":\"white\",\"linecolor\":\"white\",\"minorgridcolor\":\"white\",\"startlinecolor\":\"#2a3f5f\"},\"baxis\":{\"endlinecolor\":\"#2a3f5f\",\"gridcolor\":\"white\",\"linecolor\":\"white\",\"minorgridcolor\":\"white\",\"startlinecolor\":\"#2a3f5f\"},\"type\":\"carpet\"}],\"choropleth\":[{\"colorbar\":{\"outlinewidth\":0,\"ticks\":\"\"},\"type\":\"choropleth\"}],\"contour\":[{\"colorbar\":{\"outlinewidth\":0,\"ticks\":\"\"},\"colorscale\":[[0.0,\"#0d0887\"],[0.1111111111111111,\"#46039f\"],[0.2222222222222222,\"#7201a8\"],[0.3333333333333333,\"#9c179e\"],[0.4444444444444444,\"#bd3786\"],[0.5555555555555556,\"#d8576b\"],[0.6666666666666666,\"#ed7953\"],[0.7777777777777778,\"#fb9f3a\"],[0.8888888888888888,\"#fdca26\"],[1.0,\"#f0f921\"]],\"type\":\"contour\"}],\"contourcarpet\":[{\"colorbar\":{\"outlinewidth\":0,\"ticks\":\"\"},\"type\":\"contourcarpet\"}],\"heatmap\":[{\"colorbar\":{\"outlinewidth\":0,\"ticks\":\"\"},\"colorscale\":[[0.0,\"#0d0887\"],[0.1111111111111111,\"#46039f\"],[0.2222222222222222,\"#7201a8\"],[0.3333333333333333,\"#9c179e\"],[0.4444444444444444,\"#bd3786\"],[0.5555555555555556,\"#d8576b\"],[0.6666666666666666,\"#ed7953\"],[0.7777777777777778,\"#fb9f3a\"],[0.8888888888888888,\"#fdca26\"],[1.0,\"#f0f921\"]],\"type\":\"heatmap\"}],\"heatmapgl\":[{\"colorbar\":{\"outlinewidth\":0,\"ticks\":\"\"},\"colorscale\":[[0.0,\"#0d0887\"],[0.1111111111111111,\"#46039f\"],[0.2222222222222222,\"#7201a8\"],[0.3333333333333333,\"#9c179e\"],[0.4444444444444444,\"#bd3786\"],[0.5555555555555556,\"#d8576b\"],[0.6666666666666666,\"#ed7953\"],[0.7777777777777778,\"#fb9f3a\"],[0.8888888888888888,\"#fdca26\"],[1.0,\"#f0f921\"]],\"type\":\"heatmapgl\"}],\"histogram\":[{\"marker\":{\"pattern\":{\"fillmode\":\"overlay\",\"size\":10,\"solidity\":0.2}},\"type\":\"histogram\"}],\"histogram2d\":[{\"colorbar\":{\"outlinewidth\":0,\"ticks\":\"\"},\"colorscale\":[[0.0,\"#0d0887\"],[0.1111111111111111,\"#46039f\"],[0.2222222222222222,\"#7201a8\"],[0.3333333333333333,\"#9c179e\"],[0.4444444444444444,\"#bd3786\"],[0.5555555555555556,\"#d8576b\"],[0.6666666666666666,\"#ed7953\"],[0.7777777777777778,\"#fb9f3a\"],[0.8888888888888888,\"#fdca26\"],[1.0,\"#f0f921\"]],\"type\":\"histogram2d\"}],\"histogram2dcontour\":[{\"colorbar\":{\"outlinewidth\":0,\"ticks\":\"\"},\"colorscale\":[[0.0,\"#0d0887\"],[0.1111111111111111,\"#46039f\"],[0.2222222222222222,\"#7201a8\"],[0.3333333333333333,\"#9c179e\"],[0.4444444444444444,\"#bd3786\"],[0.5555555555555556,\"#d8576b\"],[0.6666666666666666,\"#ed7953\"],[0.7777777777777778,\"#fb9f3a\"],[0.8888888888888888,\"#fdca26\"],[1.0,\"#f0f921\"]],\"type\":\"histogram2dcontour\"}],\"mesh3d\":[{\"colorbar\":{\"outlinewidth\":0,\"ticks\":\"\"},\"type\":\"mesh3d\"}],\"parcoords\":[{\"line\":{\"colorbar\":{\"outlinewidth\":0,\"ticks\":\"\"}},\"type\":\"parcoords\"}],\"pie\":[{\"automargin\":true,\"type\":\"pie\"}],\"scatter\":[{\"marker\":{\"colorbar\":{\"outlinewidth\":0,\"ticks\":\"\"}},\"type\":\"scatter\"}],\"scatter3d\":[{\"line\":{\"colorbar\":{\"outlinewidth\":0,\"ticks\":\"\"}},\"marker\":{\"colorbar\":{\"outlinewidth\":0,\"ticks\":\"\"}},\"type\":\"scatter3d\"}],\"scattercarpet\":[{\"marker\":{\"colorbar\":{\"outlinewidth\":0,\"ticks\":\"\"}},\"type\":\"scattercarpet\"}],\"scattergeo\":[{\"marker\":{\"colorbar\":{\"outlinewidth\":0,\"ticks\":\"\"}},\"type\":\"scattergeo\"}],\"scattergl\":[{\"marker\":{\"colorbar\":{\"outlinewidth\":0,\"ticks\":\"\"}},\"type\":\"scattergl\"}],\"scattermapbox\":[{\"marker\":{\"colorbar\":{\"outlinewidth\":0,\"ticks\":\"\"}},\"type\":\"scattermapbox\"}],\"scatterpolar\":[{\"marker\":{\"colorbar\":{\"outlinewidth\":0,\"ticks\":\"\"}},\"type\":\"scatterpolar\"}],\"scatterpolargl\":[{\"marker\":{\"colorbar\":{\"outlinewidth\":0,\"ticks\":\"\"}},\"type\":\"scatterpolargl\"}],\"scatterternary\":[{\"marker\":{\"colorbar\":{\"outlinewidth\":0,\"ticks\":\"\"}},\"type\":\"scatterternary\"}],\"surface\":[{\"colorbar\":{\"outlinewidth\":0,\"ticks\":\"\"},\"colorscale\":[[0.0,\"#0d0887\"],[0.1111111111111111,\"#46039f\"],[0.2222222222222222,\"#7201a8\"],[0.3333333333333333,\"#9c179e\"],[0.4444444444444444,\"#bd3786\"],[0.5555555555555556,\"#d8576b\"],[0.6666666666666666,\"#ed7953\"],[0.7777777777777778,\"#fb9f3a\"],[0.8888888888888888,\"#fdca26\"],[1.0,\"#f0f921\"]],\"type\":\"surface\"}],\"table\":[{\"cells\":{\"fill\":{\"color\":\"#EBF0F8\"},\"line\":{\"color\":\"white\"}},\"header\":{\"fill\":{\"color\":\"#C8D4E3\"},\"line\":{\"color\":\"white\"}},\"type\":\"table\"}]},\"layout\":{\"annotationdefaults\":{\"arrowcolor\":\"#2a3f5f\",\"arrowhead\":0,\"arrowwidth\":1},\"autotypenumbers\":\"strict\",\"coloraxis\":{\"colorbar\":{\"outlinewidth\":0,\"ticks\":\"\"}},\"colorscale\":{\"diverging\":[[0,\"#8e0152\"],[0.1,\"#c51b7d\"],[0.2,\"#de77ae\"],[0.3,\"#f1b6da\"],[0.4,\"#fde0ef\"],[0.5,\"#f7f7f7\"],[0.6,\"#e6f5d0\"],[0.7,\"#b8e186\"],[0.8,\"#7fbc41\"],[0.9,\"#4d9221\"],[1,\"#276419\"]],\"sequential\":[[0.0,\"#0d0887\"],[0.1111111111111111,\"#46039f\"],[0.2222222222222222,\"#7201a8\"],[0.3333333333333333,\"#9c179e\"],[0.4444444444444444,\"#bd3786\"],[0.5555555555555556,\"#d8576b\"],[0.6666666666666666,\"#ed7953\"],[0.7777777777777778,\"#fb9f3a\"],[0.8888888888888888,\"#fdca26\"],[1.0,\"#f0f921\"]],\"sequentialminus\":[[0.0,\"#0d0887\"],[0.1111111111111111,\"#46039f\"],[0.2222222222222222,\"#7201a8\"],[0.3333333333333333,\"#9c179e\"],[0.4444444444444444,\"#bd3786\"],[0.5555555555555556,\"#d8576b\"],[0.6666666666666666,\"#ed7953\"],[0.7777777777777778,\"#fb9f3a\"],[0.8888888888888888,\"#fdca26\"],[1.0,\"#f0f921\"]]},\"colorway\":[\"#636efa\",\"#EF553B\",\"#00cc96\",\"#ab63fa\",\"#FFA15A\",\"#19d3f3\",\"#FF6692\",\"#B6E880\",\"#FF97FF\",\"#FECB52\"],\"font\":{\"color\":\"#2a3f5f\"},\"geo\":{\"bgcolor\":\"white\",\"lakecolor\":\"white\",\"landcolor\":\"#E5ECF6\",\"showlakes\":true,\"showland\":true,\"subunitcolor\":\"white\"},\"hoverlabel\":{\"align\":\"left\"},\"hovermode\":\"closest\",\"mapbox\":{\"style\":\"light\"},\"paper_bgcolor\":\"white\",\"plot_bgcolor\":\"#E5ECF6\",\"polar\":{\"angularaxis\":{\"gridcolor\":\"white\",\"linecolor\":\"white\",\"ticks\":\"\"},\"bgcolor\":\"#E5ECF6\",\"radialaxis\":{\"gridcolor\":\"white\",\"linecolor\":\"white\",\"ticks\":\"\"}},\"scene\":{\"xaxis\":{\"backgroundcolor\":\"#E5ECF6\",\"gridcolor\":\"white\",\"gridwidth\":2,\"linecolor\":\"white\",\"showbackground\":true,\"ticks\":\"\",\"zerolinecolor\":\"white\"},\"yaxis\":{\"backgroundcolor\":\"#E5ECF6\",\"gridcolor\":\"white\",\"gridwidth\":2,\"linecolor\":\"white\",\"showbackground\":true,\"ticks\":\"\",\"zerolinecolor\":\"white\"},\"zaxis\":{\"backgroundcolor\":\"#E5ECF6\",\"gridcolor\":\"white\",\"gridwidth\":2,\"linecolor\":\"white\",\"showbackground\":true,\"ticks\":\"\",\"zerolinecolor\":\"white\"}},\"shapedefaults\":{\"line\":{\"color\":\"#2a3f5f\"}},\"ternary\":{\"aaxis\":{\"gridcolor\":\"white\",\"linecolor\":\"white\",\"ticks\":\"\"},\"baxis\":{\"gridcolor\":\"white\",\"linecolor\":\"white\",\"ticks\":\"\"},\"bgcolor\":\"#E5ECF6\",\"caxis\":{\"gridcolor\":\"white\",\"linecolor\":\"white\",\"ticks\":\"\"}},\"title\":{\"x\":0.05},\"xaxis\":{\"automargin\":true,\"gridcolor\":\"white\",\"linecolor\":\"white\",\"ticks\":\"\",\"title\":{\"standoff\":15},\"zerolinecolor\":\"white\",\"zerolinewidth\":2},\"yaxis\":{\"automargin\":true,\"gridcolor\":\"white\",\"linecolor\":\"white\",\"ticks\":\"\",\"title\":{\"standoff\":15},\"zerolinecolor\":\"white\",\"zerolinewidth\":2}}},\"xaxis\":{\"anchor\":\"y\",\"domain\":[0.0,1.0],\"title\":{\"text\":\"number\"}},\"yaxis\":{\"anchor\":\"x\",\"domain\":[0.0,1.0],\"title\":{\"text\":\"stage\"}},\"legend\":{\"tracegroupgap\":0},\"margin\":{\"t\":60}},                        {\"responsive\": true}                    ).then(function(){\n",
       "                            \n",
       "var gd = document.getElementById('0e5ebf32-52e0-4c97-a1e7-19f6dfe28706');\n",
       "var x = new MutationObserver(function (mutations, observer) {{\n",
       "        var display = window.getComputedStyle(gd).display;\n",
       "        if (!display || display === 'none') {{\n",
       "            console.log([gd, 'removed!']);\n",
       "            Plotly.purge(gd);\n",
       "            observer.disconnect();\n",
       "        }}\n",
       "}});\n",
       "\n",
       "// Listen for the removal of the full notebook cells\n",
       "var notebookContainer = gd.closest('#notebook-container');\n",
       "if (notebookContainer) {{\n",
       "    x.observe(notebookContainer, {childList: true});\n",
       "}}\n",
       "\n",
       "// Listen for the clearing of the current output cell\n",
       "var outputEl = gd.closest('.output');\n",
       "if (outputEl) {{\n",
       "    x.observe(outputEl, {childList: true});\n",
       "}}\n",
       "\n",
       "                        })                };                });            </script>        </div>"
      ]
     },
     "metadata": {},
     "output_type": "display_data"
    }
   ],
   "source": [
    "\n",
    "data = dict(\n",
    "    number=data_grouped.query('group == \"A\"')['user_id'],\n",
    "    stage=data_grouped.query('group == \"A\"')['event_name'])\n",
    "fig = px.funnel(data, x='number', y='stage')\n",
    "fig.show()"
   ]
  },
  {
   "cell_type": "code",
   "execution_count": 165,
   "metadata": {},
   "outputs": [
    {
     "data": {
      "application/vnd.plotly.v1+json": {
       "config": {
        "plotlyServerURL": "https://plot.ly"
       },
       "data": [
        {
         "hovertemplate": "number=%{x}<br>stage=%{y}<extra></extra>",
         "legendgroup": "",
         "marker": {
          "color": "#636efa"
         },
         "name": "",
         "orientation": "h",
         "showlegend": false,
         "type": "funnel",
         "x": [
          927,
          523,
          255,
          253
         ],
         "xaxis": "x",
         "y": [
          "login",
          "product_page",
          "product_cart",
          "purchase"
         ],
         "yaxis": "y"
        }
       ],
       "layout": {
        "legend": {
         "tracegroupgap": 0
        },
        "margin": {
         "t": 60
        },
        "template": {
         "data": {
          "bar": [
           {
            "error_x": {
             "color": "#2a3f5f"
            },
            "error_y": {
             "color": "#2a3f5f"
            },
            "marker": {
             "line": {
              "color": "#E5ECF6",
              "width": 0.5
             },
             "pattern": {
              "fillmode": "overlay",
              "size": 10,
              "solidity": 0.2
             }
            },
            "type": "bar"
           }
          ],
          "barpolar": [
           {
            "marker": {
             "line": {
              "color": "#E5ECF6",
              "width": 0.5
             },
             "pattern": {
              "fillmode": "overlay",
              "size": 10,
              "solidity": 0.2
             }
            },
            "type": "barpolar"
           }
          ],
          "carpet": [
           {
            "aaxis": {
             "endlinecolor": "#2a3f5f",
             "gridcolor": "white",
             "linecolor": "white",
             "minorgridcolor": "white",
             "startlinecolor": "#2a3f5f"
            },
            "baxis": {
             "endlinecolor": "#2a3f5f",
             "gridcolor": "white",
             "linecolor": "white",
             "minorgridcolor": "white",
             "startlinecolor": "#2a3f5f"
            },
            "type": "carpet"
           }
          ],
          "choropleth": [
           {
            "colorbar": {
             "outlinewidth": 0,
             "ticks": ""
            },
            "type": "choropleth"
           }
          ],
          "contour": [
           {
            "colorbar": {
             "outlinewidth": 0,
             "ticks": ""
            },
            "colorscale": [
             [
              0,
              "#0d0887"
             ],
             [
              0.1111111111111111,
              "#46039f"
             ],
             [
              0.2222222222222222,
              "#7201a8"
             ],
             [
              0.3333333333333333,
              "#9c179e"
             ],
             [
              0.4444444444444444,
              "#bd3786"
             ],
             [
              0.5555555555555556,
              "#d8576b"
             ],
             [
              0.6666666666666666,
              "#ed7953"
             ],
             [
              0.7777777777777778,
              "#fb9f3a"
             ],
             [
              0.8888888888888888,
              "#fdca26"
             ],
             [
              1,
              "#f0f921"
             ]
            ],
            "type": "contour"
           }
          ],
          "contourcarpet": [
           {
            "colorbar": {
             "outlinewidth": 0,
             "ticks": ""
            },
            "type": "contourcarpet"
           }
          ],
          "heatmap": [
           {
            "colorbar": {
             "outlinewidth": 0,
             "ticks": ""
            },
            "colorscale": [
             [
              0,
              "#0d0887"
             ],
             [
              0.1111111111111111,
              "#46039f"
             ],
             [
              0.2222222222222222,
              "#7201a8"
             ],
             [
              0.3333333333333333,
              "#9c179e"
             ],
             [
              0.4444444444444444,
              "#bd3786"
             ],
             [
              0.5555555555555556,
              "#d8576b"
             ],
             [
              0.6666666666666666,
              "#ed7953"
             ],
             [
              0.7777777777777778,
              "#fb9f3a"
             ],
             [
              0.8888888888888888,
              "#fdca26"
             ],
             [
              1,
              "#f0f921"
             ]
            ],
            "type": "heatmap"
           }
          ],
          "heatmapgl": [
           {
            "colorbar": {
             "outlinewidth": 0,
             "ticks": ""
            },
            "colorscale": [
             [
              0,
              "#0d0887"
             ],
             [
              0.1111111111111111,
              "#46039f"
             ],
             [
              0.2222222222222222,
              "#7201a8"
             ],
             [
              0.3333333333333333,
              "#9c179e"
             ],
             [
              0.4444444444444444,
              "#bd3786"
             ],
             [
              0.5555555555555556,
              "#d8576b"
             ],
             [
              0.6666666666666666,
              "#ed7953"
             ],
             [
              0.7777777777777778,
              "#fb9f3a"
             ],
             [
              0.8888888888888888,
              "#fdca26"
             ],
             [
              1,
              "#f0f921"
             ]
            ],
            "type": "heatmapgl"
           }
          ],
          "histogram": [
           {
            "marker": {
             "pattern": {
              "fillmode": "overlay",
              "size": 10,
              "solidity": 0.2
             }
            },
            "type": "histogram"
           }
          ],
          "histogram2d": [
           {
            "colorbar": {
             "outlinewidth": 0,
             "ticks": ""
            },
            "colorscale": [
             [
              0,
              "#0d0887"
             ],
             [
              0.1111111111111111,
              "#46039f"
             ],
             [
              0.2222222222222222,
              "#7201a8"
             ],
             [
              0.3333333333333333,
              "#9c179e"
             ],
             [
              0.4444444444444444,
              "#bd3786"
             ],
             [
              0.5555555555555556,
              "#d8576b"
             ],
             [
              0.6666666666666666,
              "#ed7953"
             ],
             [
              0.7777777777777778,
              "#fb9f3a"
             ],
             [
              0.8888888888888888,
              "#fdca26"
             ],
             [
              1,
              "#f0f921"
             ]
            ],
            "type": "histogram2d"
           }
          ],
          "histogram2dcontour": [
           {
            "colorbar": {
             "outlinewidth": 0,
             "ticks": ""
            },
            "colorscale": [
             [
              0,
              "#0d0887"
             ],
             [
              0.1111111111111111,
              "#46039f"
             ],
             [
              0.2222222222222222,
              "#7201a8"
             ],
             [
              0.3333333333333333,
              "#9c179e"
             ],
             [
              0.4444444444444444,
              "#bd3786"
             ],
             [
              0.5555555555555556,
              "#d8576b"
             ],
             [
              0.6666666666666666,
              "#ed7953"
             ],
             [
              0.7777777777777778,
              "#fb9f3a"
             ],
             [
              0.8888888888888888,
              "#fdca26"
             ],
             [
              1,
              "#f0f921"
             ]
            ],
            "type": "histogram2dcontour"
           }
          ],
          "mesh3d": [
           {
            "colorbar": {
             "outlinewidth": 0,
             "ticks": ""
            },
            "type": "mesh3d"
           }
          ],
          "parcoords": [
           {
            "line": {
             "colorbar": {
              "outlinewidth": 0,
              "ticks": ""
             }
            },
            "type": "parcoords"
           }
          ],
          "pie": [
           {
            "automargin": true,
            "type": "pie"
           }
          ],
          "scatter": [
           {
            "marker": {
             "colorbar": {
              "outlinewidth": 0,
              "ticks": ""
             }
            },
            "type": "scatter"
           }
          ],
          "scatter3d": [
           {
            "line": {
             "colorbar": {
              "outlinewidth": 0,
              "ticks": ""
             }
            },
            "marker": {
             "colorbar": {
              "outlinewidth": 0,
              "ticks": ""
             }
            },
            "type": "scatter3d"
           }
          ],
          "scattercarpet": [
           {
            "marker": {
             "colorbar": {
              "outlinewidth": 0,
              "ticks": ""
             }
            },
            "type": "scattercarpet"
           }
          ],
          "scattergeo": [
           {
            "marker": {
             "colorbar": {
              "outlinewidth": 0,
              "ticks": ""
             }
            },
            "type": "scattergeo"
           }
          ],
          "scattergl": [
           {
            "marker": {
             "colorbar": {
              "outlinewidth": 0,
              "ticks": ""
             }
            },
            "type": "scattergl"
           }
          ],
          "scattermapbox": [
           {
            "marker": {
             "colorbar": {
              "outlinewidth": 0,
              "ticks": ""
             }
            },
            "type": "scattermapbox"
           }
          ],
          "scatterpolar": [
           {
            "marker": {
             "colorbar": {
              "outlinewidth": 0,
              "ticks": ""
             }
            },
            "type": "scatterpolar"
           }
          ],
          "scatterpolargl": [
           {
            "marker": {
             "colorbar": {
              "outlinewidth": 0,
              "ticks": ""
             }
            },
            "type": "scatterpolargl"
           }
          ],
          "scatterternary": [
           {
            "marker": {
             "colorbar": {
              "outlinewidth": 0,
              "ticks": ""
             }
            },
            "type": "scatterternary"
           }
          ],
          "surface": [
           {
            "colorbar": {
             "outlinewidth": 0,
             "ticks": ""
            },
            "colorscale": [
             [
              0,
              "#0d0887"
             ],
             [
              0.1111111111111111,
              "#46039f"
             ],
             [
              0.2222222222222222,
              "#7201a8"
             ],
             [
              0.3333333333333333,
              "#9c179e"
             ],
             [
              0.4444444444444444,
              "#bd3786"
             ],
             [
              0.5555555555555556,
              "#d8576b"
             ],
             [
              0.6666666666666666,
              "#ed7953"
             ],
             [
              0.7777777777777778,
              "#fb9f3a"
             ],
             [
              0.8888888888888888,
              "#fdca26"
             ],
             [
              1,
              "#f0f921"
             ]
            ],
            "type": "surface"
           }
          ],
          "table": [
           {
            "cells": {
             "fill": {
              "color": "#EBF0F8"
             },
             "line": {
              "color": "white"
             }
            },
            "header": {
             "fill": {
              "color": "#C8D4E3"
             },
             "line": {
              "color": "white"
             }
            },
            "type": "table"
           }
          ]
         },
         "layout": {
          "annotationdefaults": {
           "arrowcolor": "#2a3f5f",
           "arrowhead": 0,
           "arrowwidth": 1
          },
          "autotypenumbers": "strict",
          "coloraxis": {
           "colorbar": {
            "outlinewidth": 0,
            "ticks": ""
           }
          },
          "colorscale": {
           "diverging": [
            [
             0,
             "#8e0152"
            ],
            [
             0.1,
             "#c51b7d"
            ],
            [
             0.2,
             "#de77ae"
            ],
            [
             0.3,
             "#f1b6da"
            ],
            [
             0.4,
             "#fde0ef"
            ],
            [
             0.5,
             "#f7f7f7"
            ],
            [
             0.6,
             "#e6f5d0"
            ],
            [
             0.7,
             "#b8e186"
            ],
            [
             0.8,
             "#7fbc41"
            ],
            [
             0.9,
             "#4d9221"
            ],
            [
             1,
             "#276419"
            ]
           ],
           "sequential": [
            [
             0,
             "#0d0887"
            ],
            [
             0.1111111111111111,
             "#46039f"
            ],
            [
             0.2222222222222222,
             "#7201a8"
            ],
            [
             0.3333333333333333,
             "#9c179e"
            ],
            [
             0.4444444444444444,
             "#bd3786"
            ],
            [
             0.5555555555555556,
             "#d8576b"
            ],
            [
             0.6666666666666666,
             "#ed7953"
            ],
            [
             0.7777777777777778,
             "#fb9f3a"
            ],
            [
             0.8888888888888888,
             "#fdca26"
            ],
            [
             1,
             "#f0f921"
            ]
           ],
           "sequentialminus": [
            [
             0,
             "#0d0887"
            ],
            [
             0.1111111111111111,
             "#46039f"
            ],
            [
             0.2222222222222222,
             "#7201a8"
            ],
            [
             0.3333333333333333,
             "#9c179e"
            ],
            [
             0.4444444444444444,
             "#bd3786"
            ],
            [
             0.5555555555555556,
             "#d8576b"
            ],
            [
             0.6666666666666666,
             "#ed7953"
            ],
            [
             0.7777777777777778,
             "#fb9f3a"
            ],
            [
             0.8888888888888888,
             "#fdca26"
            ],
            [
             1,
             "#f0f921"
            ]
           ]
          },
          "colorway": [
           "#636efa",
           "#EF553B",
           "#00cc96",
           "#ab63fa",
           "#FFA15A",
           "#19d3f3",
           "#FF6692",
           "#B6E880",
           "#FF97FF",
           "#FECB52"
          ],
          "font": {
           "color": "#2a3f5f"
          },
          "geo": {
           "bgcolor": "white",
           "lakecolor": "white",
           "landcolor": "#E5ECF6",
           "showlakes": true,
           "showland": true,
           "subunitcolor": "white"
          },
          "hoverlabel": {
           "align": "left"
          },
          "hovermode": "closest",
          "mapbox": {
           "style": "light"
          },
          "paper_bgcolor": "white",
          "plot_bgcolor": "#E5ECF6",
          "polar": {
           "angularaxis": {
            "gridcolor": "white",
            "linecolor": "white",
            "ticks": ""
           },
           "bgcolor": "#E5ECF6",
           "radialaxis": {
            "gridcolor": "white",
            "linecolor": "white",
            "ticks": ""
           }
          },
          "scene": {
           "xaxis": {
            "backgroundcolor": "#E5ECF6",
            "gridcolor": "white",
            "gridwidth": 2,
            "linecolor": "white",
            "showbackground": true,
            "ticks": "",
            "zerolinecolor": "white"
           },
           "yaxis": {
            "backgroundcolor": "#E5ECF6",
            "gridcolor": "white",
            "gridwidth": 2,
            "linecolor": "white",
            "showbackground": true,
            "ticks": "",
            "zerolinecolor": "white"
           },
           "zaxis": {
            "backgroundcolor": "#E5ECF6",
            "gridcolor": "white",
            "gridwidth": 2,
            "linecolor": "white",
            "showbackground": true,
            "ticks": "",
            "zerolinecolor": "white"
           }
          },
          "shapedefaults": {
           "line": {
            "color": "#2a3f5f"
           }
          },
          "ternary": {
           "aaxis": {
            "gridcolor": "white",
            "linecolor": "white",
            "ticks": ""
           },
           "baxis": {
            "gridcolor": "white",
            "linecolor": "white",
            "ticks": ""
           },
           "bgcolor": "#E5ECF6",
           "caxis": {
            "gridcolor": "white",
            "linecolor": "white",
            "ticks": ""
           }
          },
          "title": {
           "x": 0.05
          },
          "xaxis": {
           "automargin": true,
           "gridcolor": "white",
           "linecolor": "white",
           "ticks": "",
           "title": {
            "standoff": 15
           },
           "zerolinecolor": "white",
           "zerolinewidth": 2
          },
          "yaxis": {
           "automargin": true,
           "gridcolor": "white",
           "linecolor": "white",
           "ticks": "",
           "title": {
            "standoff": 15
           },
           "zerolinecolor": "white",
           "zerolinewidth": 2
          }
         }
        },
        "xaxis": {
         "anchor": "y",
         "domain": [
          0,
          1
         ],
         "title": {
          "text": "number"
         }
        },
        "yaxis": {
         "anchor": "x",
         "domain": [
          0,
          1
         ],
         "title": {
          "text": "stage"
         }
        }
       }
      },
      "text/html": [
       "<div>                            <div id=\"27a3f8bd-8237-42d0-9654-2c7981e8c692\" class=\"plotly-graph-div\" style=\"height:525px; width:100%;\"></div>            <script type=\"text/javascript\">                require([\"plotly\"], function(Plotly) {                    window.PLOTLYENV=window.PLOTLYENV || {};                                    if (document.getElementById(\"27a3f8bd-8237-42d0-9654-2c7981e8c692\")) {                    Plotly.newPlot(                        \"27a3f8bd-8237-42d0-9654-2c7981e8c692\",                        [{\"hovertemplate\":\"number=%{x}<br>stage=%{y}<extra></extra>\",\"legendgroup\":\"\",\"marker\":{\"color\":\"#636efa\"},\"name\":\"\",\"orientation\":\"h\",\"showlegend\":false,\"x\":[927,523,255,253],\"xaxis\":\"x\",\"y\":[\"login\",\"product_page\",\"product_cart\",\"purchase\"],\"yaxis\":\"y\",\"type\":\"funnel\"}],                        {\"template\":{\"data\":{\"bar\":[{\"error_x\":{\"color\":\"#2a3f5f\"},\"error_y\":{\"color\":\"#2a3f5f\"},\"marker\":{\"line\":{\"color\":\"#E5ECF6\",\"width\":0.5},\"pattern\":{\"fillmode\":\"overlay\",\"size\":10,\"solidity\":0.2}},\"type\":\"bar\"}],\"barpolar\":[{\"marker\":{\"line\":{\"color\":\"#E5ECF6\",\"width\":0.5},\"pattern\":{\"fillmode\":\"overlay\",\"size\":10,\"solidity\":0.2}},\"type\":\"barpolar\"}],\"carpet\":[{\"aaxis\":{\"endlinecolor\":\"#2a3f5f\",\"gridcolor\":\"white\",\"linecolor\":\"white\",\"minorgridcolor\":\"white\",\"startlinecolor\":\"#2a3f5f\"},\"baxis\":{\"endlinecolor\":\"#2a3f5f\",\"gridcolor\":\"white\",\"linecolor\":\"white\",\"minorgridcolor\":\"white\",\"startlinecolor\":\"#2a3f5f\"},\"type\":\"carpet\"}],\"choropleth\":[{\"colorbar\":{\"outlinewidth\":0,\"ticks\":\"\"},\"type\":\"choropleth\"}],\"contour\":[{\"colorbar\":{\"outlinewidth\":0,\"ticks\":\"\"},\"colorscale\":[[0.0,\"#0d0887\"],[0.1111111111111111,\"#46039f\"],[0.2222222222222222,\"#7201a8\"],[0.3333333333333333,\"#9c179e\"],[0.4444444444444444,\"#bd3786\"],[0.5555555555555556,\"#d8576b\"],[0.6666666666666666,\"#ed7953\"],[0.7777777777777778,\"#fb9f3a\"],[0.8888888888888888,\"#fdca26\"],[1.0,\"#f0f921\"]],\"type\":\"contour\"}],\"contourcarpet\":[{\"colorbar\":{\"outlinewidth\":0,\"ticks\":\"\"},\"type\":\"contourcarpet\"}],\"heatmap\":[{\"colorbar\":{\"outlinewidth\":0,\"ticks\":\"\"},\"colorscale\":[[0.0,\"#0d0887\"],[0.1111111111111111,\"#46039f\"],[0.2222222222222222,\"#7201a8\"],[0.3333333333333333,\"#9c179e\"],[0.4444444444444444,\"#bd3786\"],[0.5555555555555556,\"#d8576b\"],[0.6666666666666666,\"#ed7953\"],[0.7777777777777778,\"#fb9f3a\"],[0.8888888888888888,\"#fdca26\"],[1.0,\"#f0f921\"]],\"type\":\"heatmap\"}],\"heatmapgl\":[{\"colorbar\":{\"outlinewidth\":0,\"ticks\":\"\"},\"colorscale\":[[0.0,\"#0d0887\"],[0.1111111111111111,\"#46039f\"],[0.2222222222222222,\"#7201a8\"],[0.3333333333333333,\"#9c179e\"],[0.4444444444444444,\"#bd3786\"],[0.5555555555555556,\"#d8576b\"],[0.6666666666666666,\"#ed7953\"],[0.7777777777777778,\"#fb9f3a\"],[0.8888888888888888,\"#fdca26\"],[1.0,\"#f0f921\"]],\"type\":\"heatmapgl\"}],\"histogram\":[{\"marker\":{\"pattern\":{\"fillmode\":\"overlay\",\"size\":10,\"solidity\":0.2}},\"type\":\"histogram\"}],\"histogram2d\":[{\"colorbar\":{\"outlinewidth\":0,\"ticks\":\"\"},\"colorscale\":[[0.0,\"#0d0887\"],[0.1111111111111111,\"#46039f\"],[0.2222222222222222,\"#7201a8\"],[0.3333333333333333,\"#9c179e\"],[0.4444444444444444,\"#bd3786\"],[0.5555555555555556,\"#d8576b\"],[0.6666666666666666,\"#ed7953\"],[0.7777777777777778,\"#fb9f3a\"],[0.8888888888888888,\"#fdca26\"],[1.0,\"#f0f921\"]],\"type\":\"histogram2d\"}],\"histogram2dcontour\":[{\"colorbar\":{\"outlinewidth\":0,\"ticks\":\"\"},\"colorscale\":[[0.0,\"#0d0887\"],[0.1111111111111111,\"#46039f\"],[0.2222222222222222,\"#7201a8\"],[0.3333333333333333,\"#9c179e\"],[0.4444444444444444,\"#bd3786\"],[0.5555555555555556,\"#d8576b\"],[0.6666666666666666,\"#ed7953\"],[0.7777777777777778,\"#fb9f3a\"],[0.8888888888888888,\"#fdca26\"],[1.0,\"#f0f921\"]],\"type\":\"histogram2dcontour\"}],\"mesh3d\":[{\"colorbar\":{\"outlinewidth\":0,\"ticks\":\"\"},\"type\":\"mesh3d\"}],\"parcoords\":[{\"line\":{\"colorbar\":{\"outlinewidth\":0,\"ticks\":\"\"}},\"type\":\"parcoords\"}],\"pie\":[{\"automargin\":true,\"type\":\"pie\"}],\"scatter\":[{\"marker\":{\"colorbar\":{\"outlinewidth\":0,\"ticks\":\"\"}},\"type\":\"scatter\"}],\"scatter3d\":[{\"line\":{\"colorbar\":{\"outlinewidth\":0,\"ticks\":\"\"}},\"marker\":{\"colorbar\":{\"outlinewidth\":0,\"ticks\":\"\"}},\"type\":\"scatter3d\"}],\"scattercarpet\":[{\"marker\":{\"colorbar\":{\"outlinewidth\":0,\"ticks\":\"\"}},\"type\":\"scattercarpet\"}],\"scattergeo\":[{\"marker\":{\"colorbar\":{\"outlinewidth\":0,\"ticks\":\"\"}},\"type\":\"scattergeo\"}],\"scattergl\":[{\"marker\":{\"colorbar\":{\"outlinewidth\":0,\"ticks\":\"\"}},\"type\":\"scattergl\"}],\"scattermapbox\":[{\"marker\":{\"colorbar\":{\"outlinewidth\":0,\"ticks\":\"\"}},\"type\":\"scattermapbox\"}],\"scatterpolar\":[{\"marker\":{\"colorbar\":{\"outlinewidth\":0,\"ticks\":\"\"}},\"type\":\"scatterpolar\"}],\"scatterpolargl\":[{\"marker\":{\"colorbar\":{\"outlinewidth\":0,\"ticks\":\"\"}},\"type\":\"scatterpolargl\"}],\"scatterternary\":[{\"marker\":{\"colorbar\":{\"outlinewidth\":0,\"ticks\":\"\"}},\"type\":\"scatterternary\"}],\"surface\":[{\"colorbar\":{\"outlinewidth\":0,\"ticks\":\"\"},\"colorscale\":[[0.0,\"#0d0887\"],[0.1111111111111111,\"#46039f\"],[0.2222222222222222,\"#7201a8\"],[0.3333333333333333,\"#9c179e\"],[0.4444444444444444,\"#bd3786\"],[0.5555555555555556,\"#d8576b\"],[0.6666666666666666,\"#ed7953\"],[0.7777777777777778,\"#fb9f3a\"],[0.8888888888888888,\"#fdca26\"],[1.0,\"#f0f921\"]],\"type\":\"surface\"}],\"table\":[{\"cells\":{\"fill\":{\"color\":\"#EBF0F8\"},\"line\":{\"color\":\"white\"}},\"header\":{\"fill\":{\"color\":\"#C8D4E3\"},\"line\":{\"color\":\"white\"}},\"type\":\"table\"}]},\"layout\":{\"annotationdefaults\":{\"arrowcolor\":\"#2a3f5f\",\"arrowhead\":0,\"arrowwidth\":1},\"autotypenumbers\":\"strict\",\"coloraxis\":{\"colorbar\":{\"outlinewidth\":0,\"ticks\":\"\"}},\"colorscale\":{\"diverging\":[[0,\"#8e0152\"],[0.1,\"#c51b7d\"],[0.2,\"#de77ae\"],[0.3,\"#f1b6da\"],[0.4,\"#fde0ef\"],[0.5,\"#f7f7f7\"],[0.6,\"#e6f5d0\"],[0.7,\"#b8e186\"],[0.8,\"#7fbc41\"],[0.9,\"#4d9221\"],[1,\"#276419\"]],\"sequential\":[[0.0,\"#0d0887\"],[0.1111111111111111,\"#46039f\"],[0.2222222222222222,\"#7201a8\"],[0.3333333333333333,\"#9c179e\"],[0.4444444444444444,\"#bd3786\"],[0.5555555555555556,\"#d8576b\"],[0.6666666666666666,\"#ed7953\"],[0.7777777777777778,\"#fb9f3a\"],[0.8888888888888888,\"#fdca26\"],[1.0,\"#f0f921\"]],\"sequentialminus\":[[0.0,\"#0d0887\"],[0.1111111111111111,\"#46039f\"],[0.2222222222222222,\"#7201a8\"],[0.3333333333333333,\"#9c179e\"],[0.4444444444444444,\"#bd3786\"],[0.5555555555555556,\"#d8576b\"],[0.6666666666666666,\"#ed7953\"],[0.7777777777777778,\"#fb9f3a\"],[0.8888888888888888,\"#fdca26\"],[1.0,\"#f0f921\"]]},\"colorway\":[\"#636efa\",\"#EF553B\",\"#00cc96\",\"#ab63fa\",\"#FFA15A\",\"#19d3f3\",\"#FF6692\",\"#B6E880\",\"#FF97FF\",\"#FECB52\"],\"font\":{\"color\":\"#2a3f5f\"},\"geo\":{\"bgcolor\":\"white\",\"lakecolor\":\"white\",\"landcolor\":\"#E5ECF6\",\"showlakes\":true,\"showland\":true,\"subunitcolor\":\"white\"},\"hoverlabel\":{\"align\":\"left\"},\"hovermode\":\"closest\",\"mapbox\":{\"style\":\"light\"},\"paper_bgcolor\":\"white\",\"plot_bgcolor\":\"#E5ECF6\",\"polar\":{\"angularaxis\":{\"gridcolor\":\"white\",\"linecolor\":\"white\",\"ticks\":\"\"},\"bgcolor\":\"#E5ECF6\",\"radialaxis\":{\"gridcolor\":\"white\",\"linecolor\":\"white\",\"ticks\":\"\"}},\"scene\":{\"xaxis\":{\"backgroundcolor\":\"#E5ECF6\",\"gridcolor\":\"white\",\"gridwidth\":2,\"linecolor\":\"white\",\"showbackground\":true,\"ticks\":\"\",\"zerolinecolor\":\"white\"},\"yaxis\":{\"backgroundcolor\":\"#E5ECF6\",\"gridcolor\":\"white\",\"gridwidth\":2,\"linecolor\":\"white\",\"showbackground\":true,\"ticks\":\"\",\"zerolinecolor\":\"white\"},\"zaxis\":{\"backgroundcolor\":\"#E5ECF6\",\"gridcolor\":\"white\",\"gridwidth\":2,\"linecolor\":\"white\",\"showbackground\":true,\"ticks\":\"\",\"zerolinecolor\":\"white\"}},\"shapedefaults\":{\"line\":{\"color\":\"#2a3f5f\"}},\"ternary\":{\"aaxis\":{\"gridcolor\":\"white\",\"linecolor\":\"white\",\"ticks\":\"\"},\"baxis\":{\"gridcolor\":\"white\",\"linecolor\":\"white\",\"ticks\":\"\"},\"bgcolor\":\"#E5ECF6\",\"caxis\":{\"gridcolor\":\"white\",\"linecolor\":\"white\",\"ticks\":\"\"}},\"title\":{\"x\":0.05},\"xaxis\":{\"automargin\":true,\"gridcolor\":\"white\",\"linecolor\":\"white\",\"ticks\":\"\",\"title\":{\"standoff\":15},\"zerolinecolor\":\"white\",\"zerolinewidth\":2},\"yaxis\":{\"automargin\":true,\"gridcolor\":\"white\",\"linecolor\":\"white\",\"ticks\":\"\",\"title\":{\"standoff\":15},\"zerolinecolor\":\"white\",\"zerolinewidth\":2}}},\"xaxis\":{\"anchor\":\"y\",\"domain\":[0.0,1.0],\"title\":{\"text\":\"number\"}},\"yaxis\":{\"anchor\":\"x\",\"domain\":[0.0,1.0],\"title\":{\"text\":\"stage\"}},\"legend\":{\"tracegroupgap\":0},\"margin\":{\"t\":60}},                        {\"responsive\": true}                    ).then(function(){\n",
       "                            \n",
       "var gd = document.getElementById('27a3f8bd-8237-42d0-9654-2c7981e8c692');\n",
       "var x = new MutationObserver(function (mutations, observer) {{\n",
       "        var display = window.getComputedStyle(gd).display;\n",
       "        if (!display || display === 'none') {{\n",
       "            console.log([gd, 'removed!']);\n",
       "            Plotly.purge(gd);\n",
       "            observer.disconnect();\n",
       "        }}\n",
       "}});\n",
       "\n",
       "// Listen for the removal of the full notebook cells\n",
       "var notebookContainer = gd.closest('#notebook-container');\n",
       "if (notebookContainer) {{\n",
       "    x.observe(notebookContainer, {childList: true});\n",
       "}}\n",
       "\n",
       "// Listen for the clearing of the current output cell\n",
       "var outputEl = gd.closest('.output');\n",
       "if (outputEl) {{\n",
       "    x.observe(outputEl, {childList: true});\n",
       "}}\n",
       "\n",
       "                        })                };                });            </script>        </div>"
      ]
     },
     "metadata": {},
     "output_type": "display_data"
    }
   ],
   "source": [
    "data = dict(\n",
    "    number=data_grouped.query('group == \"B\"')['user_id'],\n",
    "    stage=data_grouped.query('group == \"B\"')['event_name'])\n",
    "fig = px.funnel(data, x='number', y='stage')\n",
    "fig.show()"
   ]
  },
  {
   "cell_type": "markdown",
   "metadata": {},
   "source": [
    "Конверсии в просмотр страницы товара снизилась, конверсия в покупку выросла.  \n",
    "Странно, что в группе A покупок больше, чем просмотров корзины. Есть несколько предположений почему так могло случиться: появился способ перехода сразу на страницу оплаты, в обход корзины; ошибка в данных; пользователи могут оформить покупку несколько раз, не открывая корзину заново. Увидев что-то подобное при выполнении боевой задачи, я бы обратился к коллегам, чтобы проверить каждую из гипотез."
   ]
  },
  {
   "cell_type": "markdown",
   "metadata": {},
   "source": [
    "Вывод по исследовательскому анализу данных:\n",
    "- Среднее число событий на пользователя в группе А немного выше\n",
    "- Распределение числа событий в группе А напоминает нормальное, в группе В - равномерное\n",
    "- Конверсии в просмотр страницы товара снизилась, конверсия в покупку выросла."
   ]
  },
  {
   "cell_type": "markdown",
   "metadata": {},
   "source": [
    "## Анализ результатов А/В теста"
   ]
  },
  {
   "cell_type": "code",
   "execution_count": 166,
   "metadata": {},
   "outputs": [
    {
     "data": {
      "text/html": [
       "<div>\n",
       "<style scoped>\n",
       "    .dataframe tbody tr th:only-of-type {\n",
       "        vertical-align: middle;\n",
       "    }\n",
       "\n",
       "    .dataframe tbody tr th {\n",
       "        vertical-align: top;\n",
       "    }\n",
       "\n",
       "    .dataframe thead th {\n",
       "        text-align: right;\n",
       "    }\n",
       "</style>\n",
       "<table border=\"1\" class=\"dataframe\">\n",
       "  <thead>\n",
       "    <tr style=\"text-align: right;\">\n",
       "      <th></th>\n",
       "      <th>user_id</th>\n",
       "      <th>event_dt</th>\n",
       "      <th>event_name</th>\n",
       "      <th>details</th>\n",
       "      <th>group</th>\n",
       "      <th>ab_test</th>\n",
       "      <th>first_date</th>\n",
       "      <th>region</th>\n",
       "      <th>device</th>\n",
       "      <th>date</th>\n",
       "      <th>date_diff</th>\n",
       "    </tr>\n",
       "  </thead>\n",
       "  <tbody>\n",
       "    <tr>\n",
       "      <th>5</th>\n",
       "      <td>831887FE7F2D6CBA</td>\n",
       "      <td>2020-12-07 06:50:29</td>\n",
       "      <td>purchase</td>\n",
       "      <td>4.99</td>\n",
       "      <td>A</td>\n",
       "      <td>recommender_system_test</td>\n",
       "      <td>2020-12-07</td>\n",
       "      <td>EU</td>\n",
       "      <td>Android</td>\n",
       "      <td>2020-12-07</td>\n",
       "      <td>0</td>\n",
       "    </tr>\n",
       "    <tr>\n",
       "      <th>17</th>\n",
       "      <td>3C5DD0288AC4FE23</td>\n",
       "      <td>2020-12-07 19:42:40</td>\n",
       "      <td>purchase</td>\n",
       "      <td>4.99</td>\n",
       "      <td>A</td>\n",
       "      <td>recommender_system_test</td>\n",
       "      <td>2020-12-07</td>\n",
       "      <td>EU</td>\n",
       "      <td>PC</td>\n",
       "      <td>2020-12-07</td>\n",
       "      <td>0</td>\n",
       "    </tr>\n",
       "    <tr>\n",
       "      <th>71</th>\n",
       "      <td>2B06EB547B7AAD08</td>\n",
       "      <td>2020-12-07 21:36:38</td>\n",
       "      <td>purchase</td>\n",
       "      <td>4.99</td>\n",
       "      <td>A</td>\n",
       "      <td>recommender_system_test</td>\n",
       "      <td>2020-12-07</td>\n",
       "      <td>EU</td>\n",
       "      <td>PC</td>\n",
       "      <td>2020-12-07</td>\n",
       "      <td>0</td>\n",
       "    </tr>\n",
       "    <tr>\n",
       "      <th>75</th>\n",
       "      <td>A640F31CAC7823A6</td>\n",
       "      <td>2020-12-07 18:48:26</td>\n",
       "      <td>purchase</td>\n",
       "      <td>4.99</td>\n",
       "      <td>B</td>\n",
       "      <td>recommender_system_test</td>\n",
       "      <td>2020-12-07</td>\n",
       "      <td>EU</td>\n",
       "      <td>PC</td>\n",
       "      <td>2020-12-07</td>\n",
       "      <td>0</td>\n",
       "    </tr>\n",
       "    <tr>\n",
       "      <th>94</th>\n",
       "      <td>2F46396B6766CFDB</td>\n",
       "      <td>2020-12-07 13:29:30</td>\n",
       "      <td>purchase</td>\n",
       "      <td>4.99</td>\n",
       "      <td>A</td>\n",
       "      <td>recommender_system_test</td>\n",
       "      <td>2020-12-07</td>\n",
       "      <td>EU</td>\n",
       "      <td>PC</td>\n",
       "      <td>2020-12-07</td>\n",
       "      <td>0</td>\n",
       "    </tr>\n",
       "  </tbody>\n",
       "</table>\n",
       "</div>"
      ],
      "text/plain": [
       "             user_id            event_dt event_name  details group  \\\n",
       "5   831887FE7F2D6CBA 2020-12-07 06:50:29   purchase     4.99     A   \n",
       "17  3C5DD0288AC4FE23 2020-12-07 19:42:40   purchase     4.99     A   \n",
       "71  2B06EB547B7AAD08 2020-12-07 21:36:38   purchase     4.99     A   \n",
       "75  A640F31CAC7823A6 2020-12-07 18:48:26   purchase     4.99     B   \n",
       "94  2F46396B6766CFDB 2020-12-07 13:29:30   purchase     4.99     A   \n",
       "\n",
       "                    ab_test first_date region   device       date  date_diff  \n",
       "5   recommender_system_test 2020-12-07     EU  Android 2020-12-07          0  \n",
       "17  recommender_system_test 2020-12-07     EU       PC 2020-12-07          0  \n",
       "71  recommender_system_test 2020-12-07     EU       PC 2020-12-07          0  \n",
       "75  recommender_system_test 2020-12-07     EU       PC 2020-12-07          0  \n",
       "94  recommender_system_test 2020-12-07     EU       PC 2020-12-07          0  "
      ]
     },
     "execution_count": 166,
     "metadata": {},
     "output_type": "execute_result"
    }
   ],
   "source": [
    "user_data.head()"
   ]
  },
  {
   "cell_type": "code",
   "execution_count": 167,
   "metadata": {},
   "outputs": [],
   "source": [
    "user_data = user_data.dropna(subset=['ab_test'])"
   ]
  },
  {
   "cell_type": "code",
   "execution_count": 168,
   "metadata": {},
   "outputs": [
    {
     "name": "stdout",
     "output_type": "stream",
     "text": [
      "<class 'pandas.core.frame.DataFrame'>\n",
      "Int64Index: 23728 entries, 5 to 446160\n",
      "Data columns (total 11 columns):\n",
      " #   Column      Non-Null Count  Dtype         \n",
      "---  ------      --------------  -----         \n",
      " 0   user_id     23728 non-null  object        \n",
      " 1   event_dt    23728 non-null  datetime64[ns]\n",
      " 2   event_name  23728 non-null  object        \n",
      " 3   details     23728 non-null  float64       \n",
      " 4   group       23728 non-null  object        \n",
      " 5   ab_test     23728 non-null  object        \n",
      " 6   first_date  23728 non-null  datetime64[ns]\n",
      " 7   region      23728 non-null  object        \n",
      " 8   device      23728 non-null  object        \n",
      " 9   date        23728 non-null  datetime64[ns]\n",
      " 10  date_diff   23728 non-null  int64         \n",
      "dtypes: datetime64[ns](3), float64(1), int64(1), object(6)\n",
      "memory usage: 2.2+ MB\n"
     ]
    }
   ],
   "source": [
    "user_data.info()"
   ]
  },
  {
   "cell_type": "markdown",
   "metadata": {},
   "source": [
    "Проверка гипотезы о равенстве долей"
   ]
  },
  {
   "cell_type": "code",
   "execution_count": 169,
   "metadata": {},
   "outputs": [],
   "source": [
    "arr = user_data['event_name'].unique()"
   ]
  },
  {
   "cell_type": "code",
   "execution_count": 170,
   "metadata": {},
   "outputs": [
    {
     "data": {
      "text/plain": [
       "['login', 'product_page', 'product_cart', 'purchase']"
      ]
     },
     "execution_count": 170,
     "metadata": {},
     "output_type": "execute_result"
    }
   ],
   "source": [
    "narr = []\n",
    "for i in range(len(arr)):\n",
    "    narr.append(arr[len(arr) - i-1])\n",
    "narr"
   ]
  },
  {
   "cell_type": "code",
   "execution_count": 171,
   "metadata": {},
   "outputs": [
    {
     "name": "stdout",
     "output_type": "stream",
     "text": [
      "p-значение для стадии login->product_page:  4.310980554755872e-06\n",
      "p-значение для стадии product_page->product_cart:  0.14534814557238196\n",
      "p-значение для стадии product_cart->purchase:  0.026662126825152344\n",
      "Не отвергаем гипотезу о равенстве долей для шага 1 и всех следующих шагов\n"
     ]
    }
   ],
   "source": [
    "p_values_arr = []\n",
    "for i in range(len(narr)-1):\n",
    "    curr_stage = narr[i]\n",
    "    next_stage = narr[i+1]\n",
    "    alpha = 0.05  # критический уровень статистической значимости\n",
    "\n",
    "    purchases = np.array([user_data.query('group == \"A\"').query('event_name == @next_stage')['user_id'].nunique(),\n",
    "                          user_data.query('group == \"B\"').query('event_name == @next_stage')['user_id'].nunique()])\n",
    "    leads = np.array([user_data.query('group == \"A\"')['user_id'].nunique(),\n",
    "                     user_data.query('group == \"B\"')['user_id'].nunique()])\n",
    "    \n",
    "    # ваш код\n",
    "    p1 = purchases[0]/leads[0]\n",
    "\n",
    "    p2 = purchases[1]/leads[1]\n",
    "\n",
    "    p_combined = (purchases[0]+purchases[1])/(leads[0]+leads[1])\n",
    "\n",
    "    difference = p1 - p2\n",
    "    try:\n",
    "        z_value = difference / mth.sqrt(p_combined * (1 - p_combined) * (1/leads[0] + 1/leads[1]))\n",
    "    except:\n",
    "        pass\n",
    "\n",
    "     # ваш код\n",
    "    distr = st.norm(0, 1)  \n",
    "    # ваш код\n",
    "\n",
    "    p_value = (1 - distr.cdf(abs(z_value))) * 2 # ваш код\n",
    "\n",
    "    print(f'p-значение для стадии {curr_stage}->{next_stage}: ', p_value)\n",
    "    p_values_arr.append(p_value)\n",
    "\n",
    "\n",
    "p_values_arr.sort(reverse=True)\n",
    "\n",
    "#Поправка Бонферонни\n",
    "cnt = 0\n",
    "for val in p_values_arr:\n",
    "    if val < alpha/(len(p_values_arr)-cnt):\n",
    "        print(f'Отклоняем гипотезу о равенстве долей для шага {cnt+1}')\n",
    "        cnt += 1\n",
    "    else:\n",
    "        print(f'Не отвергаем гипотезу о равенстве долей для шага {cnt+1} и всех следующих шагов')\n",
    "        break\n"
   ]
  },
  {
   "cell_type": "markdown",
   "metadata": {},
   "source": [
    "Построим совмещенные комуллятивные графики"
   ]
  },
  {
   "cell_type": "code",
   "execution_count": 172,
   "metadata": {},
   "outputs": [
    {
     "data": {
      "text/html": [
       "<div>\n",
       "<style scoped>\n",
       "    .dataframe tbody tr th:only-of-type {\n",
       "        vertical-align: middle;\n",
       "    }\n",
       "\n",
       "    .dataframe tbody tr th {\n",
       "        vertical-align: top;\n",
       "    }\n",
       "\n",
       "    .dataframe thead th {\n",
       "        text-align: right;\n",
       "    }\n",
       "</style>\n",
       "<table border=\"1\" class=\"dataframe\">\n",
       "  <thead>\n",
       "    <tr style=\"text-align: right;\">\n",
       "      <th></th>\n",
       "      <th>user_id</th>\n",
       "      <th>event_dt</th>\n",
       "      <th>event_name</th>\n",
       "      <th>details</th>\n",
       "      <th>group</th>\n",
       "      <th>ab_test</th>\n",
       "      <th>first_date</th>\n",
       "      <th>region</th>\n",
       "      <th>device</th>\n",
       "      <th>date</th>\n",
       "      <th>date_diff</th>\n",
       "    </tr>\n",
       "  </thead>\n",
       "  <tbody>\n",
       "    <tr>\n",
       "      <th>5</th>\n",
       "      <td>831887FE7F2D6CBA</td>\n",
       "      <td>2020-12-07 06:50:29</td>\n",
       "      <td>purchase</td>\n",
       "      <td>4.99</td>\n",
       "      <td>A</td>\n",
       "      <td>recommender_system_test</td>\n",
       "      <td>2020-12-07</td>\n",
       "      <td>EU</td>\n",
       "      <td>Android</td>\n",
       "      <td>2020-12-07</td>\n",
       "      <td>0</td>\n",
       "    </tr>\n",
       "    <tr>\n",
       "      <th>17</th>\n",
       "      <td>3C5DD0288AC4FE23</td>\n",
       "      <td>2020-12-07 19:42:40</td>\n",
       "      <td>purchase</td>\n",
       "      <td>4.99</td>\n",
       "      <td>A</td>\n",
       "      <td>recommender_system_test</td>\n",
       "      <td>2020-12-07</td>\n",
       "      <td>EU</td>\n",
       "      <td>PC</td>\n",
       "      <td>2020-12-07</td>\n",
       "      <td>0</td>\n",
       "    </tr>\n",
       "    <tr>\n",
       "      <th>71</th>\n",
       "      <td>2B06EB547B7AAD08</td>\n",
       "      <td>2020-12-07 21:36:38</td>\n",
       "      <td>purchase</td>\n",
       "      <td>4.99</td>\n",
       "      <td>A</td>\n",
       "      <td>recommender_system_test</td>\n",
       "      <td>2020-12-07</td>\n",
       "      <td>EU</td>\n",
       "      <td>PC</td>\n",
       "      <td>2020-12-07</td>\n",
       "      <td>0</td>\n",
       "    </tr>\n",
       "    <tr>\n",
       "      <th>75</th>\n",
       "      <td>A640F31CAC7823A6</td>\n",
       "      <td>2020-12-07 18:48:26</td>\n",
       "      <td>purchase</td>\n",
       "      <td>4.99</td>\n",
       "      <td>B</td>\n",
       "      <td>recommender_system_test</td>\n",
       "      <td>2020-12-07</td>\n",
       "      <td>EU</td>\n",
       "      <td>PC</td>\n",
       "      <td>2020-12-07</td>\n",
       "      <td>0</td>\n",
       "    </tr>\n",
       "    <tr>\n",
       "      <th>94</th>\n",
       "      <td>2F46396B6766CFDB</td>\n",
       "      <td>2020-12-07 13:29:30</td>\n",
       "      <td>purchase</td>\n",
       "      <td>4.99</td>\n",
       "      <td>A</td>\n",
       "      <td>recommender_system_test</td>\n",
       "      <td>2020-12-07</td>\n",
       "      <td>EU</td>\n",
       "      <td>PC</td>\n",
       "      <td>2020-12-07</td>\n",
       "      <td>0</td>\n",
       "    </tr>\n",
       "  </tbody>\n",
       "</table>\n",
       "</div>"
      ],
      "text/plain": [
       "             user_id            event_dt event_name  details group  \\\n",
       "5   831887FE7F2D6CBA 2020-12-07 06:50:29   purchase     4.99     A   \n",
       "17  3C5DD0288AC4FE23 2020-12-07 19:42:40   purchase     4.99     A   \n",
       "71  2B06EB547B7AAD08 2020-12-07 21:36:38   purchase     4.99     A   \n",
       "75  A640F31CAC7823A6 2020-12-07 18:48:26   purchase     4.99     B   \n",
       "94  2F46396B6766CFDB 2020-12-07 13:29:30   purchase     4.99     A   \n",
       "\n",
       "                    ab_test first_date region   device       date  date_diff  \n",
       "5   recommender_system_test 2020-12-07     EU  Android 2020-12-07          0  \n",
       "17  recommender_system_test 2020-12-07     EU       PC 2020-12-07          0  \n",
       "71  recommender_system_test 2020-12-07     EU       PC 2020-12-07          0  \n",
       "75  recommender_system_test 2020-12-07     EU       PC 2020-12-07          0  \n",
       "94  recommender_system_test 2020-12-07     EU       PC 2020-12-07          0  "
      ]
     },
     "execution_count": 172,
     "metadata": {},
     "output_type": "execute_result"
    }
   ],
   "source": [
    "user_data.head()"
   ]
  },
  {
   "cell_type": "code",
   "execution_count": 173,
   "metadata": {},
   "outputs": [
    {
     "data": {
      "image/png": "[encoded data removed]",
      "text/plain": [
       "<Figure size 1152x648 with 1 Axes>"
      ]
     },
     "metadata": {
      "needs_background": "light"
     },
     "output_type": "display_data"
    }
   ],
   "source": [
    "# конвертеры, которые позволяют использовать типы pandas в matplotlib  \n",
    "register_matplotlib_converters()\n",
    "\n",
    "orders = user_data.query('event_name == \"purchase\"')[['user_id', 'date', 'group', 'details']]\n",
    "\n",
    "\n",
    "visitors = user_data.groupby(by=['date', 'group']).agg({'user_id':'nunique'})\\\n",
    "    .rename(columns={'user_id':'visitors'}).reset_index()\n",
    "visitors.columns = ['date', 'group', 'visitors']\n",
    "\n",
    "\n",
    "datesGroups = orders[['date', 'group']].drop_duplicates()\n",
    "\n",
    "ordersAggregated = datesGroups.apply(\n",
    "    lambda x: orders[\n",
    "        np.logical_and(\n",
    "            orders['date'] <= x['date'], orders['group'] == x['group']\n",
    "        )\n",
    "    ].agg(\n",
    "        {\n",
    "            'date': 'max',\n",
    "            'group': 'max',\n",
    "            'user_id': 'nunique',\n",
    "            'details': 'sum',\n",
    "        }\n",
    "    ),\n",
    "    axis=1,\n",
    ").sort_values(by=['date', 'group'])\n",
    "\n",
    "visitorsAggregated = datesGroups.apply(\n",
    "    lambda x: visitors[\n",
    "        np.logical_and(\n",
    "            visitors['date'] <= x['date'], visitors['group'] == x['group']\n",
    "        )\n",
    "    ].agg({'date': 'max', 'group': 'max', 'visitors': 'sum'}),\n",
    "    axis=1,\n",
    ").sort_values(by=['date', 'group'])\n",
    "\n",
    "\n",
    "cumulativeData = ordersAggregated.merge(\n",
    "    visitorsAggregated, left_on=['date', 'group'], right_on=['date', 'group']\n",
    ")\n",
    "\n",
    "cumulativeData.columns = [\n",
    "    'date',\n",
    "    'group',\n",
    "    'buyers',\n",
    "    'revenue',\n",
    "    'visitors',\n",
    "]\n",
    "\n",
    "cumulativeData['conversion'] = (\n",
    "    cumulativeData['buyers'] / cumulativeData['visitors']\n",
    ")\n",
    "\n",
    "cumulativeDataA = cumulativeData[cumulativeData['group'] == 'A']\n",
    "cumulativeDataB = cumulativeData[cumulativeData['group'] == 'B']\n",
    "\n",
    "mergedCumulativeConversions = cumulativeDataA[['date','conversion']].merge(cumulativeDataB[['date','conversion']], left_on='date', right_on='date', how='left', suffixes=['A', 'B'])\n",
    "plt.figure(figsize=(16, 9))\n",
    "plt.plot(mergedCumulativeConversions['date'], mergedCumulativeConversions['conversionB']/mergedCumulativeConversions['conversionA']-1, label=\"Относительный прирост конверсии группы B относительно группы A\")\n",
    "\n",
    "plt.legend()\n",
    "plt.title('График относительного прироста конверсии в покупку')\n",
    "\n",
    "\n",
    "plt.axhline(y=0, color='black', linestyle='--')\n",
    "#plt.axhline(y=-0.103, color='grey', linestyle='--')\n",
    "plt.axis([\"2020-12-07\", '2020-12-23', -0.5, 0.5])\n",
    "\n",
    "\n",
    "\n",
    "plt.show()"
   ]
  },
  {
   "cell_type": "markdown",
   "metadata": {},
   "source": [
    "Результат по конверсии в покупку у группы В хуже"
   ]
  },
  {
   "cell_type": "code",
   "execution_count": 174,
   "metadata": {},
   "outputs": [
    {
     "data": {
      "image/png": "[encoded data removed]",
      "text/plain": [
       "<Figure size 1152x648 with 1 Axes>"
      ]
     },
     "metadata": {
      "needs_background": "light"
     },
     "output_type": "display_data"
    }
   ],
   "source": [
    "# конвертеры, которые позволяют использовать типы pandas в matplotlib  \n",
    "register_matplotlib_converters()\n",
    "\n",
    "orders = user_data.query('event_name == \"product_cart\"')[['user_id', 'date', 'group', 'details']]\n",
    "\n",
    "\n",
    "visitors = user_data.groupby(by=['date', 'group']).agg({'user_id':'nunique'})\\\n",
    "    .rename(columns={'user_id':'visitors'}).reset_index()\n",
    "visitors.columns = ['date', 'group', 'visitors']\n",
    "\n",
    "\n",
    "datesGroups = orders[['date', 'group']].drop_duplicates()\n",
    "\n",
    "ordersAggregated = datesGroups.apply(\n",
    "    lambda x: orders[\n",
    "        np.logical_and(\n",
    "            orders['date'] <= x['date'], orders['group'] == x['group']\n",
    "        )\n",
    "    ].agg(\n",
    "        {\n",
    "            'date': 'max',\n",
    "            'group': 'max',\n",
    "            'user_id': 'nunique',\n",
    "            'details': 'sum',\n",
    "        }\n",
    "    ),\n",
    "    axis=1,\n",
    ").sort_values(by=['date', 'group'])\n",
    "\n",
    "visitorsAggregated = datesGroups.apply(\n",
    "    lambda x: visitors[\n",
    "        np.logical_and(\n",
    "            visitors['date'] <= x['date'], visitors['group'] == x['group']\n",
    "        )\n",
    "    ].agg({'date': 'max', 'group': 'max', 'visitors': 'sum'}),\n",
    "    axis=1,\n",
    ").sort_values(by=['date', 'group'])\n",
    "\n",
    "\n",
    "cumulativeData = ordersAggregated.merge(\n",
    "    visitorsAggregated, left_on=['date', 'group'], right_on=['date', 'group']\n",
    ")\n",
    "\n",
    "cumulativeData.columns = [\n",
    "    'date',\n",
    "    'group',\n",
    "    'buyers',\n",
    "    'revenue',\n",
    "    'visitors',\n",
    "]\n",
    "\n",
    "cumulativeData['conversion'] = (\n",
    "    cumulativeData['buyers'] / cumulativeData['visitors']\n",
    ")\n",
    "\n",
    "cumulativeDataA = cumulativeData[cumulativeData['group'] == 'A']\n",
    "cumulativeDataB = cumulativeData[cumulativeData['group'] == 'B']\n",
    "\n",
    "mergedCumulativeConversions = cumulativeDataA[['date','conversion']].merge(cumulativeDataB[['date','conversion']], left_on='date', right_on='date', how='left', suffixes=['A', 'B'])\n",
    "plt.figure(figsize=(16, 9))\n",
    "plt.plot(mergedCumulativeConversions['date'], mergedCumulativeConversions['conversionB']/mergedCumulativeConversions['conversionA']-1, label=\"Относительный прирост конверсии группы B относительно группы A\")\n",
    "\n",
    "plt.legend()\n",
    "plt.title('График относительного прироста конверсии в просмотр корзины')\n",
    "\n",
    "\n",
    "plt.axhline(y=0, color='black', linestyle='--')\n",
    "#plt.axhline(y=-0.05, color='grey', linestyle='--')\n",
    "plt.axis([\"2020-12-07\", '2020-12-23', -0.5, 0.5])\n",
    "\n",
    "\n",
    "\n",
    "plt.show()"
   ]
  },
  {
   "cell_type": "markdown",
   "metadata": {},
   "source": [
    "Результат по конверсии в просмотр корзины у группы В хуже"
   ]
  },
  {
   "cell_type": "code",
   "execution_count": 175,
   "metadata": {},
   "outputs": [
    {
     "data": {
      "image/png": "[encoded data removed]",
      "text/plain": [
       "<Figure size 1152x648 with 1 Axes>"
      ]
     },
     "metadata": {
      "needs_background": "light"
     },
     "output_type": "display_data"
    }
   ],
   "source": [
    "# конвертеры, которые позволяют использовать типы pandas в matplotlib  \n",
    "register_matplotlib_converters()\n",
    "\n",
    "orders = user_data.query('event_name == \"product_page\"')[['user_id', 'date', 'group', 'details']]\n",
    "\n",
    "\n",
    "visitors = user_data.groupby(by=['date', 'group']).agg({'user_id':'nunique'})\\\n",
    "    .rename(columns={'user_id':'visitors'}).reset_index()\n",
    "visitors.columns = ['date', 'group', 'visitors']\n",
    "\n",
    "\n",
    "datesGroups = orders[['date', 'group']].drop_duplicates()\n",
    "\n",
    "ordersAggregated = datesGroups.apply(\n",
    "    lambda x: orders[\n",
    "        np.logical_and(\n",
    "            orders['date'] <= x['date'], orders['group'] == x['group']\n",
    "        )\n",
    "    ].agg(\n",
    "        {\n",
    "            'date': 'max',\n",
    "            'group': 'max',\n",
    "            'user_id': 'nunique',\n",
    "            'details': 'sum',\n",
    "        }\n",
    "    ),\n",
    "    axis=1,\n",
    ").sort_values(by=['date', 'group'])\n",
    "\n",
    "visitorsAggregated = datesGroups.apply(\n",
    "    lambda x: visitors[\n",
    "        np.logical_and(\n",
    "            visitors['date'] <= x['date'], visitors['group'] == x['group']\n",
    "        )\n",
    "    ].agg({'date': 'max', 'group': 'max', 'visitors': 'sum'}),\n",
    "    axis=1,\n",
    ").sort_values(by=['date', 'group'])\n",
    "\n",
    "\n",
    "cumulativeData = ordersAggregated.merge(\n",
    "    visitorsAggregated, left_on=['date', 'group'], right_on=['date', 'group']\n",
    ")\n",
    "\n",
    "cumulativeData.columns = [\n",
    "    'date',\n",
    "    'group',\n",
    "    'buyers',\n",
    "    'revenue',\n",
    "    'visitors',\n",
    "]\n",
    "\n",
    "cumulativeData['conversion'] = (\n",
    "    cumulativeData['buyers'] / cumulativeData['visitors']\n",
    ")\n",
    "\n",
    "cumulativeDataA = cumulativeData[cumulativeData['group'] == 'A']\n",
    "cumulativeDataB = cumulativeData[cumulativeData['group'] == 'B']\n",
    "\n",
    "mergedCumulativeConversions = cumulativeDataA[['date','conversion']].merge(cumulativeDataB[['date','conversion']], left_on='date', right_on='date', how='left', suffixes=['A', 'B'])\n",
    "plt.figure(figsize=(16, 9))\n",
    "plt.plot(mergedCumulativeConversions['date'], mergedCumulativeConversions['conversionB']/mergedCumulativeConversions['conversionA']-1, label=\"Относительный прирост конверсии группы B относительно группы A\")\n",
    "\n",
    "plt.legend()\n",
    "plt.title('График относительного прироста конверсии в просмотр карточки товара')\n",
    "\n",
    "\n",
    "plt.axhline(y=0, color='black', linestyle='--')\n",
    "#plt.axhline(y=-0.048, color='grey', linestyle='--')\n",
    "plt.axis([\"2020-12-07\", '2020-12-23', -0.5, 0.5])\n",
    "\n",
    "\n",
    "\n",
    "plt.show()"
   ]
  },
  {
   "cell_type": "markdown",
   "metadata": {},
   "source": [
    "Группа B показывает результат хуже группы A по конверсии в на всех этапах"
   ]
  },
  {
   "cell_type": "markdown",
   "metadata": {},
   "source": [
    "Вывод по оценке результатов А/В теста:  \n",
    "Конверсия в на всех этапах меньше у группы В"
   ]
  },
  {
   "cell_type": "markdown",
   "metadata": {},
   "source": [
    "## Вывод"
   ]
  },
  {
   "cell_type": "markdown",
   "metadata": {},
   "source": [
    "Вывод по предобработке:\n",
    "- Столбцы, содержащие даты, преобразованы к типу datetime\n",
    "- Пропуски в таблице events столбце details заменены значением 0, данное поле содержит информацию о сумме заказа, поэтому актуально только для события purchase.\n",
    "- Явных дубликатов в таблицах не найдено\n",
    "- Получена таблица user_data как объединение таблиц events, participants, new_users по user_id через left join\n",
    "- В таблице user_data добавлен столбец date, содержащий дату события, извлеченную из event_dt\n",
    "- Удалены выбросы из столбца details таблицы user_data, считаем выбросами значения details больше 99 процентиля\n",
    "\n",
    "\n",
    "Вывод по проверке:  \n",
    "Данные примерно соответствуют ТЗ. Не хватает данных за 5 дней (31.12 - 4.01), аудитория теста 10% новых пользователей (вместо 15% по ТЗ: всего 61 тыс новых пользователей, среди них 6 тыс участвуют в тесте), группы теста не пересекаются, есть пересечения групп с новогодними акциями\n",
    "\n",
    "Вывод по исследовательскому анализу данных:\n",
    "- Среднее число событий на пользователя в группе А немного выше\n",
    "- Распределение числа событий в группе А напоминает нормальное, в группе В - равномерное\n",
    "\n",
    "Вывод по оценке результатов А/В теста:  \n",
    "Конверсия в на всех этапах меньше у группы В\n",
    "\n",
    "Нужно найти объяснение аномалии с конверсиями в группе A. Проанализировать, почему в группе В конверсии ниже."
   ]
  },
  {
   "cell_type": "code",
   "execution_count": null,
   "metadata": {},
   "outputs": [],
   "source": []
  }
 ],
 "metadata": {
  "ExecuteTimeLog": [
   {
    "duration": 458,
    "start_time": "2023-02-27T09:56:58.667Z"
   },
   {
    "duration": 126,
    "start_time": "2023-02-27T10:00:12.061Z"
   },
   {
    "duration": 279,
    "start_time": "2023-02-27T10:01:12.310Z"
   },
   {
    "duration": 1799,
    "start_time": "2023-02-27T10:01:35.633Z"
   },
   {
    "duration": 195,
    "start_time": "2023-02-27T10:02:07.620Z"
   },
   {
    "duration": 17,
    "start_time": "2023-02-27T10:02:18.459Z"
   },
   {
    "duration": 15,
    "start_time": "2023-02-27T10:02:29.699Z"
   },
   {
    "duration": 11,
    "start_time": "2023-02-27T10:02:45.948Z"
   },
   {
    "duration": 31,
    "start_time": "2023-02-27T10:02:53.500Z"
   },
   {
    "duration": 12,
    "start_time": "2023-02-27T10:03:10.419Z"
   },
   {
    "duration": 56,
    "start_time": "2023-02-27T10:03:17.120Z"
   },
   {
    "duration": 8,
    "start_time": "2023-02-27T10:03:34.939Z"
   },
   {
    "duration": 12,
    "start_time": "2023-02-27T10:03:43.458Z"
   },
   {
    "duration": 6,
    "start_time": "2023-02-27T10:06:36.179Z"
   },
   {
    "duration": 1465,
    "start_time": "2023-02-27T10:06:57.231Z"
   },
   {
    "duration": 7,
    "start_time": "2023-02-27T10:07:12.020Z"
   },
   {
    "duration": 14,
    "start_time": "2023-02-27T10:07:42.150Z"
   },
   {
    "duration": 158,
    "start_time": "2023-02-27T10:08:18.047Z"
   },
   {
    "duration": 11,
    "start_time": "2023-02-27T10:09:10.658Z"
   },
   {
    "duration": 9,
    "start_time": "2023-02-27T10:09:23.154Z"
   },
   {
    "duration": 30,
    "start_time": "2023-02-27T10:09:33.058Z"
   },
   {
    "duration": 189,
    "start_time": "2023-02-27T10:09:42.299Z"
   },
   {
    "duration": 5,
    "start_time": "2023-02-27T10:12:49.166Z"
   },
   {
    "duration": 5,
    "start_time": "2023-02-27T10:13:09.868Z"
   },
   {
    "duration": 14,
    "start_time": "2023-02-27T10:14:39.053Z"
   },
   {
    "duration": 10,
    "start_time": "2023-02-27T10:17:21.407Z"
   },
   {
    "duration": 28,
    "start_time": "2023-02-27T10:18:31.525Z"
   },
   {
    "duration": 5,
    "start_time": "2023-02-27T10:18:46.709Z"
   },
   {
    "duration": 7,
    "start_time": "2023-02-27T10:18:53.162Z"
   },
   {
    "duration": 1072,
    "start_time": "2023-02-27T10:21:30.152Z"
   },
   {
    "duration": 162,
    "start_time": "2023-02-27T10:24:46.866Z"
   },
   {
    "duration": 143,
    "start_time": "2023-02-27T10:24:55.605Z"
   },
   {
    "duration": 103,
    "start_time": "2023-02-27T10:25:45.786Z"
   },
   {
    "duration": 11,
    "start_time": "2023-02-27T10:30:52.562Z"
   },
   {
    "duration": 20,
    "start_time": "2023-02-27T10:31:16.356Z"
   },
   {
    "duration": 6,
    "start_time": "2023-02-27T10:31:33.986Z"
   },
   {
    "duration": 5,
    "start_time": "2023-02-27T10:31:42.575Z"
   },
   {
    "duration": 9,
    "start_time": "2023-02-27T10:31:58.929Z"
   },
   {
    "duration": 12,
    "start_time": "2023-02-27T10:32:16.114Z"
   },
   {
    "duration": 14,
    "start_time": "2023-02-27T10:33:57.010Z"
   },
   {
    "duration": 19,
    "start_time": "2023-02-27T10:34:09.387Z"
   },
   {
    "duration": 16,
    "start_time": "2023-02-27T10:35:08.627Z"
   },
   {
    "duration": 8,
    "start_time": "2023-02-27T10:35:24.459Z"
   },
   {
    "duration": 40,
    "start_time": "2023-02-27T10:35:58.669Z"
   },
   {
    "duration": 7,
    "start_time": "2023-02-27T10:36:20.731Z"
   },
   {
    "duration": 54,
    "start_time": "2023-02-27T10:36:31.187Z"
   },
   {
    "duration": 51,
    "start_time": "2023-02-27T10:37:03.978Z"
   },
   {
    "duration": 59,
    "start_time": "2023-02-27T12:59:20.914Z"
   },
   {
    "duration": 1379,
    "start_time": "2023-02-27T12:59:25.772Z"
   },
   {
    "duration": 2617,
    "start_time": "2023-02-27T12:59:27.153Z"
   },
   {
    "duration": 12,
    "start_time": "2023-02-27T12:59:29.772Z"
   },
   {
    "duration": 11,
    "start_time": "2023-02-27T12:59:29.786Z"
   },
   {
    "duration": 9,
    "start_time": "2023-02-27T12:59:29.799Z"
   },
   {
    "duration": 22,
    "start_time": "2023-02-27T12:59:29.809Z"
   },
   {
    "duration": 10,
    "start_time": "2023-02-27T12:59:29.832Z"
   },
   {
    "duration": 78,
    "start_time": "2023-02-27T12:59:29.843Z"
   },
   {
    "duration": 8,
    "start_time": "2023-02-27T12:59:29.923Z"
   },
   {
    "duration": 16,
    "start_time": "2023-02-27T12:59:29.933Z"
   },
   {
    "duration": 114,
    "start_time": "2023-02-27T12:59:29.950Z"
   },
   {
    "duration": 10,
    "start_time": "2023-02-27T12:59:30.065Z"
   },
   {
    "duration": 6,
    "start_time": "2023-02-27T12:59:30.077Z"
   },
   {
    "duration": 43,
    "start_time": "2023-02-27T12:59:30.084Z"
   },
   {
    "duration": 206,
    "start_time": "2023-02-27T12:59:30.128Z"
   },
   {
    "duration": 6,
    "start_time": "2023-02-27T12:59:30.336Z"
   },
   {
    "duration": 26,
    "start_time": "2023-02-27T12:59:30.343Z"
   },
   {
    "duration": 56,
    "start_time": "2023-02-27T12:59:30.370Z"
   },
   {
    "duration": 28,
    "start_time": "2023-02-27T12:59:30.428Z"
   },
   {
    "duration": 50,
    "start_time": "2023-02-27T12:59:30.458Z"
   },
   {
    "duration": 33,
    "start_time": "2023-02-27T12:59:30.509Z"
   },
   {
    "duration": 53,
    "start_time": "2023-02-27T12:59:30.544Z"
   },
   {
    "duration": 76,
    "start_time": "2023-02-27T12:59:30.599Z"
   },
   {
    "duration": 49,
    "start_time": "2023-02-27T12:59:30.677Z"
   },
   {
    "duration": 48,
    "start_time": "2023-02-27T12:59:30.728Z"
   },
   {
    "duration": 52,
    "start_time": "2023-02-27T12:59:30.777Z"
   },
   {
    "duration": 40,
    "start_time": "2023-02-27T12:59:30.831Z"
   },
   {
    "duration": 45,
    "start_time": "2023-02-27T12:59:30.874Z"
   },
   {
    "duration": 52,
    "start_time": "2023-02-27T12:59:30.921Z"
   },
   {
    "duration": 46,
    "start_time": "2023-02-27T12:59:30.975Z"
   },
   {
    "duration": 9,
    "start_time": "2023-02-27T12:59:40.207Z"
   },
   {
    "duration": 11,
    "start_time": "2023-02-27T13:01:05.600Z"
   },
   {
    "duration": 70,
    "start_time": "2023-02-27T13:01:39.669Z"
   },
   {
    "duration": 24,
    "start_time": "2023-02-27T13:01:52.153Z"
   },
   {
    "duration": 13,
    "start_time": "2023-02-27T13:02:10.191Z"
   },
   {
    "duration": 213,
    "start_time": "2023-02-27T13:07:23.421Z"
   },
   {
    "duration": 443,
    "start_time": "2023-02-27T13:09:02.848Z"
   },
   {
    "duration": 123,
    "start_time": "2023-02-27T13:09:31.588Z"
   },
   {
    "duration": 6,
    "start_time": "2023-02-27T13:10:46.964Z"
   },
   {
    "duration": 116,
    "start_time": "2023-02-27T13:10:49.153Z"
   },
   {
    "duration": 12,
    "start_time": "2023-02-27T13:11:48.248Z"
   },
   {
    "duration": 121,
    "start_time": "2023-02-27T13:12:28.151Z"
   },
   {
    "duration": 37,
    "start_time": "2023-02-27T13:12:34.965Z"
   },
   {
    "duration": 11,
    "start_time": "2023-02-27T13:16:18.047Z"
   },
   {
    "duration": 20,
    "start_time": "2023-02-27T13:16:40.630Z"
   },
   {
    "duration": 9,
    "start_time": "2023-02-27T13:21:10.629Z"
   },
   {
    "duration": 18,
    "start_time": "2023-02-27T13:25:30.787Z"
   },
   {
    "duration": 12,
    "start_time": "2023-02-27T13:25:39.273Z"
   },
   {
    "duration": 19,
    "start_time": "2023-02-27T13:25:43.086Z"
   },
   {
    "duration": 6,
    "start_time": "2023-02-27T13:29:16.919Z"
   },
   {
    "duration": 4,
    "start_time": "2023-02-27T13:29:23.911Z"
   },
   {
    "duration": 15,
    "start_time": "2023-02-27T13:29:47.125Z"
   },
   {
    "duration": 5,
    "start_time": "2023-02-27T13:32:11.781Z"
   },
   {
    "duration": 10,
    "start_time": "2023-02-27T13:39:25.103Z"
   },
   {
    "duration": 16,
    "start_time": "2023-02-27T13:40:13.952Z"
   },
   {
    "duration": 50,
    "start_time": "2023-02-27T13:45:31.245Z"
   },
   {
    "duration": 50,
    "start_time": "2023-02-27T13:47:06.929Z"
   },
   {
    "duration": 22,
    "start_time": "2023-02-27T13:48:14.528Z"
   },
   {
    "duration": 51,
    "start_time": "2023-02-27T16:54:28.909Z"
   },
   {
    "duration": 1260,
    "start_time": "2023-02-27T16:54:34.433Z"
   },
   {
    "duration": 2357,
    "start_time": "2023-02-27T16:54:35.696Z"
   },
   {
    "duration": 13,
    "start_time": "2023-02-27T16:54:38.055Z"
   },
   {
    "duration": 13,
    "start_time": "2023-02-27T16:54:38.069Z"
   },
   {
    "duration": 14,
    "start_time": "2023-02-27T16:54:38.085Z"
   },
   {
    "duration": 20,
    "start_time": "2023-02-27T16:54:38.101Z"
   },
   {
    "duration": 12,
    "start_time": "2023-02-27T16:54:38.124Z"
   },
   {
    "duration": 74,
    "start_time": "2023-02-27T16:54:38.138Z"
   },
   {
    "duration": 8,
    "start_time": "2023-02-27T16:54:38.214Z"
   },
   {
    "duration": 19,
    "start_time": "2023-02-27T16:54:38.224Z"
   },
   {
    "duration": 125,
    "start_time": "2023-02-27T16:54:38.245Z"
   },
   {
    "duration": 9,
    "start_time": "2023-02-27T16:54:38.372Z"
   },
   {
    "duration": 14,
    "start_time": "2023-02-27T16:54:38.383Z"
   },
   {
    "duration": 38,
    "start_time": "2023-02-27T16:54:38.400Z"
   },
   {
    "duration": 183,
    "start_time": "2023-02-27T16:54:38.440Z"
   },
   {
    "duration": 5,
    "start_time": "2023-02-27T16:54:38.624Z"
   },
   {
    "duration": 12,
    "start_time": "2023-02-27T16:54:38.631Z"
   },
   {
    "duration": 21,
    "start_time": "2023-02-27T16:54:38.645Z"
   },
   {
    "duration": 22,
    "start_time": "2023-02-27T16:54:38.667Z"
   },
   {
    "duration": 30,
    "start_time": "2023-02-27T16:54:38.691Z"
   },
   {
    "duration": 10,
    "start_time": "2023-02-27T16:54:38.722Z"
   },
   {
    "duration": 6,
    "start_time": "2023-02-27T16:54:38.733Z"
   },
   {
    "duration": 64,
    "start_time": "2023-02-27T16:54:38.741Z"
   },
   {
    "duration": 13,
    "start_time": "2023-02-27T16:54:38.807Z"
   },
   {
    "duration": 7,
    "start_time": "2023-02-27T16:54:38.822Z"
   },
   {
    "duration": 6,
    "start_time": "2023-02-27T16:54:38.831Z"
   },
   {
    "duration": 9,
    "start_time": "2023-02-27T16:54:38.838Z"
   },
   {
    "duration": 11,
    "start_time": "2023-02-27T16:54:38.848Z"
   },
   {
    "duration": 32,
    "start_time": "2023-02-27T16:54:38.861Z"
   },
   {
    "duration": 9,
    "start_time": "2023-02-27T16:54:38.894Z"
   },
   {
    "duration": 20,
    "start_time": "2023-02-27T16:54:38.905Z"
   },
   {
    "duration": 1183,
    "start_time": "2023-02-27T16:54:38.926Z"
   },
   {
    "duration": 0,
    "start_time": "2023-02-27T16:54:40.111Z"
   },
   {
    "duration": 1,
    "start_time": "2023-02-27T16:54:40.112Z"
   },
   {
    "duration": 0,
    "start_time": "2023-02-27T16:54:40.114Z"
   },
   {
    "duration": 0,
    "start_time": "2023-02-27T16:54:40.115Z"
   },
   {
    "duration": 0,
    "start_time": "2023-02-27T16:54:40.117Z"
   },
   {
    "duration": 0,
    "start_time": "2023-02-27T16:54:40.120Z"
   },
   {
    "duration": 0,
    "start_time": "2023-02-27T16:54:40.121Z"
   },
   {
    "duration": 0,
    "start_time": "2023-02-27T16:54:40.122Z"
   },
   {
    "duration": 0,
    "start_time": "2023-02-27T16:54:40.124Z"
   },
   {
    "duration": 0,
    "start_time": "2023-02-27T16:54:40.125Z"
   },
   {
    "duration": 0,
    "start_time": "2023-02-27T16:54:40.127Z"
   },
   {
    "duration": 0,
    "start_time": "2023-02-27T16:54:40.128Z"
   },
   {
    "duration": 0,
    "start_time": "2023-02-27T16:54:40.129Z"
   },
   {
    "duration": 0,
    "start_time": "2023-02-27T16:54:40.131Z"
   },
   {
    "duration": 3,
    "start_time": "2023-02-27T17:00:05.071Z"
   },
   {
    "duration": 662,
    "start_time": "2023-02-27T17:00:05.076Z"
   },
   {
    "duration": 9,
    "start_time": "2023-02-27T17:00:05.740Z"
   },
   {
    "duration": 18,
    "start_time": "2023-02-27T17:00:05.751Z"
   },
   {
    "duration": 28,
    "start_time": "2023-02-27T17:00:05.771Z"
   },
   {
    "duration": 36,
    "start_time": "2023-02-27T17:00:05.801Z"
   },
   {
    "duration": 32,
    "start_time": "2023-02-27T17:00:05.839Z"
   },
   {
    "duration": 71,
    "start_time": "2023-02-27T17:00:05.873Z"
   },
   {
    "duration": 10,
    "start_time": "2023-02-27T17:00:05.945Z"
   },
   {
    "duration": 25,
    "start_time": "2023-02-27T17:00:05.957Z"
   },
   {
    "duration": 133,
    "start_time": "2023-02-27T17:00:05.985Z"
   },
   {
    "duration": 11,
    "start_time": "2023-02-27T17:00:06.121Z"
   },
   {
    "duration": 7,
    "start_time": "2023-02-27T17:00:06.134Z"
   },
   {
    "duration": 54,
    "start_time": "2023-02-27T17:00:06.145Z"
   },
   {
    "duration": 171,
    "start_time": "2023-02-27T17:00:06.201Z"
   },
   {
    "duration": 5,
    "start_time": "2023-02-27T17:00:06.373Z"
   },
   {
    "duration": 15,
    "start_time": "2023-02-27T17:00:06.380Z"
   },
   {
    "duration": 15,
    "start_time": "2023-02-27T17:00:06.396Z"
   },
   {
    "duration": 9,
    "start_time": "2023-02-27T17:00:06.413Z"
   },
   {
    "duration": 47,
    "start_time": "2023-02-27T17:00:06.424Z"
   },
   {
    "duration": 20,
    "start_time": "2023-02-27T17:00:06.473Z"
   },
   {
    "duration": 5,
    "start_time": "2023-02-27T17:00:06.495Z"
   },
   {
    "duration": 44,
    "start_time": "2023-02-27T17:00:06.501Z"
   },
   {
    "duration": 13,
    "start_time": "2023-02-27T17:00:06.546Z"
   },
   {
    "duration": 25,
    "start_time": "2023-02-27T17:00:06.561Z"
   },
   {
    "duration": 11,
    "start_time": "2023-02-27T17:00:06.588Z"
   },
   {
    "duration": 14,
    "start_time": "2023-02-27T17:00:06.601Z"
   },
   {
    "duration": 23,
    "start_time": "2023-02-27T17:00:06.616Z"
   },
   {
    "duration": 28,
    "start_time": "2023-02-27T17:00:06.640Z"
   },
   {
    "duration": 13,
    "start_time": "2023-02-27T17:00:06.670Z"
   },
   {
    "duration": 13,
    "start_time": "2023-02-27T17:00:06.685Z"
   },
   {
    "duration": 8,
    "start_time": "2023-02-27T17:00:06.700Z"
   },
   {
    "duration": 333,
    "start_time": "2023-02-27T17:00:06.710Z"
   },
   {
    "duration": 107,
    "start_time": "2023-02-27T17:00:07.045Z"
   },
   {
    "duration": 5,
    "start_time": "2023-02-27T17:00:07.154Z"
   },
   {
    "duration": 122,
    "start_time": "2023-02-27T17:00:07.161Z"
   },
   {
    "duration": 6,
    "start_time": "2023-02-27T17:00:07.285Z"
   },
   {
    "duration": 12,
    "start_time": "2023-02-27T17:00:07.293Z"
   },
   {
    "duration": 14,
    "start_time": "2023-02-27T17:00:07.306Z"
   },
   {
    "duration": 20,
    "start_time": "2023-02-27T17:00:07.322Z"
   },
   {
    "duration": 13,
    "start_time": "2023-02-27T17:00:07.345Z"
   },
   {
    "duration": 46,
    "start_time": "2023-02-27T17:00:07.360Z"
   },
   {
    "duration": 18,
    "start_time": "2023-02-27T17:00:07.407Z"
   },
   {
    "duration": 12,
    "start_time": "2023-02-27T17:00:07.427Z"
   },
   {
    "duration": 18,
    "start_time": "2023-02-27T17:00:07.440Z"
   },
   {
    "duration": 16,
    "start_time": "2023-02-27T17:00:07.460Z"
   },
   {
    "duration": 46,
    "start_time": "2023-02-27T17:00:49.001Z"
   },
   {
    "duration": 34,
    "start_time": "2023-02-27T17:01:37.439Z"
   },
   {
    "duration": 44,
    "start_time": "2023-02-27T17:02:01.441Z"
   },
   {
    "duration": 44,
    "start_time": "2023-02-27T17:02:41.337Z"
   },
   {
    "duration": 41,
    "start_time": "2023-02-27T17:03:14.956Z"
   },
   {
    "duration": 37,
    "start_time": "2023-02-27T17:03:19.565Z"
   },
   {
    "duration": 38,
    "start_time": "2023-02-27T17:03:31.238Z"
   },
   {
    "duration": 46,
    "start_time": "2023-02-27T17:03:34.869Z"
   },
   {
    "duration": 8,
    "start_time": "2023-02-27T17:07:49.784Z"
   },
   {
    "duration": 41,
    "start_time": "2023-02-27T17:15:06.137Z"
   },
   {
    "duration": 13,
    "start_time": "2023-02-27T18:16:16.766Z"
   },
   {
    "duration": 6,
    "start_time": "2023-02-27T18:16:26.170Z"
   },
   {
    "duration": 8,
    "start_time": "2023-02-27T18:16:51.813Z"
   },
   {
    "duration": 94,
    "start_time": "2023-02-27T18:17:18.172Z"
   },
   {
    "duration": 97,
    "start_time": "2023-02-27T18:18:11.400Z"
   },
   {
    "duration": 5,
    "start_time": "2023-02-27T18:18:11.500Z"
   },
   {
    "duration": 7,
    "start_time": "2023-02-27T18:18:11.506Z"
   },
   {
    "duration": 7,
    "start_time": "2023-02-27T18:18:11.515Z"
   },
   {
    "duration": 9,
    "start_time": "2023-02-27T18:18:11.525Z"
   },
   {
    "duration": 12,
    "start_time": "2023-02-27T18:18:11.536Z"
   },
   {
    "duration": 79,
    "start_time": "2023-02-27T18:18:11.550Z"
   },
   {
    "duration": 22,
    "start_time": "2023-02-27T18:18:11.631Z"
   },
   {
    "duration": 12,
    "start_time": "2023-02-27T18:18:11.656Z"
   },
   {
    "duration": 6,
    "start_time": "2023-02-27T18:18:11.692Z"
   },
   {
    "duration": 16,
    "start_time": "2023-02-27T18:18:11.699Z"
   },
   {
    "duration": 109,
    "start_time": "2023-02-27T18:18:27.296Z"
   },
   {
    "duration": 109,
    "start_time": "2023-02-27T18:18:35.143Z"
   },
   {
    "duration": 91,
    "start_time": "2023-02-27T18:19:02.800Z"
   },
   {
    "duration": 85,
    "start_time": "2023-02-27T18:19:12.663Z"
   },
   {
    "duration": 85,
    "start_time": "2023-02-27T18:19:24.301Z"
   },
   {
    "duration": 4,
    "start_time": "2023-02-27T18:19:50.446Z"
   },
   {
    "duration": 8,
    "start_time": "2023-02-27T18:19:50.452Z"
   },
   {
    "duration": 12,
    "start_time": "2023-02-27T18:19:50.461Z"
   },
   {
    "duration": 7,
    "start_time": "2023-02-27T18:19:50.475Z"
   },
   {
    "duration": 18,
    "start_time": "2023-02-27T18:19:50.484Z"
   },
   {
    "duration": 48,
    "start_time": "2023-02-27T18:19:50.503Z"
   },
   {
    "duration": 18,
    "start_time": "2023-02-27T18:19:50.553Z"
   },
   {
    "duration": 20,
    "start_time": "2023-02-27T18:19:50.574Z"
   },
   {
    "duration": 6,
    "start_time": "2023-02-27T18:19:50.596Z"
   },
   {
    "duration": 14,
    "start_time": "2023-02-27T18:19:50.605Z"
   },
   {
    "duration": 3,
    "start_time": "2023-02-27T18:20:41.700Z"
   },
   {
    "duration": 546,
    "start_time": "2023-02-27T18:20:41.705Z"
   },
   {
    "duration": 8,
    "start_time": "2023-02-27T18:20:42.253Z"
   },
   {
    "duration": 14,
    "start_time": "2023-02-27T18:20:42.262Z"
   },
   {
    "duration": 10,
    "start_time": "2023-02-27T18:20:42.278Z"
   },
   {
    "duration": 15,
    "start_time": "2023-02-27T18:20:42.292Z"
   },
   {
    "duration": 9,
    "start_time": "2023-02-27T18:20:42.309Z"
   },
   {
    "duration": 53,
    "start_time": "2023-02-27T18:20:42.319Z"
   },
   {
    "duration": 7,
    "start_time": "2023-02-27T18:20:42.391Z"
   },
   {
    "duration": 11,
    "start_time": "2023-02-27T18:20:42.400Z"
   },
   {
    "duration": 95,
    "start_time": "2023-02-27T18:20:42.412Z"
   },
   {
    "duration": 11,
    "start_time": "2023-02-27T18:20:42.509Z"
   },
   {
    "duration": 5,
    "start_time": "2023-02-27T18:20:42.522Z"
   },
   {
    "duration": 31,
    "start_time": "2023-02-27T18:20:42.531Z"
   },
   {
    "duration": 185,
    "start_time": "2023-02-27T18:20:42.564Z"
   },
   {
    "duration": 6,
    "start_time": "2023-02-27T18:20:42.750Z"
   },
   {
    "duration": 5,
    "start_time": "2023-02-27T18:20:42.758Z"
   },
   {
    "duration": 29,
    "start_time": "2023-02-27T18:20:42.765Z"
   },
   {
    "duration": 9,
    "start_time": "2023-02-27T18:20:42.796Z"
   },
   {
    "duration": 25,
    "start_time": "2023-02-27T18:20:42.807Z"
   },
   {
    "duration": 5,
    "start_time": "2023-02-27T18:20:42.834Z"
   },
   {
    "duration": 5,
    "start_time": "2023-02-27T18:20:42.840Z"
   },
   {
    "duration": 73,
    "start_time": "2023-02-27T18:20:42.847Z"
   },
   {
    "duration": 13,
    "start_time": "2023-02-27T18:20:42.921Z"
   },
   {
    "duration": 6,
    "start_time": "2023-02-27T18:20:42.936Z"
   },
   {
    "duration": 7,
    "start_time": "2023-02-27T18:20:42.944Z"
   },
   {
    "duration": 10,
    "start_time": "2023-02-27T18:20:42.953Z"
   },
   {
    "duration": 28,
    "start_time": "2023-02-27T18:20:42.964Z"
   },
   {
    "duration": 1276,
    "start_time": "2023-02-27T18:20:42.994Z"
   },
   {
    "duration": 0,
    "start_time": "2023-02-27T18:20:44.272Z"
   },
   {
    "duration": 0,
    "start_time": "2023-02-27T18:20:44.273Z"
   },
   {
    "duration": 0,
    "start_time": "2023-02-27T18:20:44.275Z"
   },
   {
    "duration": 0,
    "start_time": "2023-02-27T18:20:44.276Z"
   },
   {
    "duration": 0,
    "start_time": "2023-02-27T18:20:44.277Z"
   },
   {
    "duration": 0,
    "start_time": "2023-02-27T18:20:44.278Z"
   },
   {
    "duration": 0,
    "start_time": "2023-02-27T18:20:44.279Z"
   },
   {
    "duration": 0,
    "start_time": "2023-02-27T18:20:44.280Z"
   },
   {
    "duration": 0,
    "start_time": "2023-02-27T18:20:44.281Z"
   },
   {
    "duration": 1298,
    "start_time": "2023-02-27T18:21:05.035Z"
   },
   {
    "duration": 13,
    "start_time": "2023-02-27T18:21:42.748Z"
   },
   {
    "duration": 14,
    "start_time": "2023-02-27T18:21:42.763Z"
   },
   {
    "duration": 47,
    "start_time": "2023-02-27T18:21:42.778Z"
   },
   {
    "duration": 7,
    "start_time": "2023-02-27T18:21:42.828Z"
   },
   {
    "duration": 11,
    "start_time": "2023-02-27T18:21:42.837Z"
   },
   {
    "duration": 12,
    "start_time": "2023-02-27T18:21:42.850Z"
   },
   {
    "duration": 358,
    "start_time": "2023-02-27T18:21:42.864Z"
   },
   {
    "duration": 111,
    "start_time": "2023-02-27T18:21:43.224Z"
   },
   {
    "duration": 5,
    "start_time": "2023-02-27T18:21:43.338Z"
   },
   {
    "duration": 110,
    "start_time": "2023-02-27T18:21:43.345Z"
   },
   {
    "duration": 6,
    "start_time": "2023-02-27T18:21:43.457Z"
   },
   {
    "duration": 105,
    "start_time": "2023-02-27T18:21:43.464Z"
   },
   {
    "duration": 5,
    "start_time": "2023-02-27T18:21:43.570Z"
   },
   {
    "duration": 4,
    "start_time": "2023-02-27T18:21:43.592Z"
   },
   {
    "duration": 15,
    "start_time": "2023-02-27T18:21:43.598Z"
   },
   {
    "duration": 7,
    "start_time": "2023-02-27T18:21:43.614Z"
   },
   {
    "duration": 10,
    "start_time": "2023-02-27T18:21:43.623Z"
   },
   {
    "duration": 62,
    "start_time": "2023-02-27T18:21:43.634Z"
   },
   {
    "duration": 20,
    "start_time": "2023-02-27T18:21:43.698Z"
   },
   {
    "duration": 13,
    "start_time": "2023-02-27T18:21:43.720Z"
   },
   {
    "duration": 7,
    "start_time": "2023-02-27T18:21:43.734Z"
   },
   {
    "duration": 12,
    "start_time": "2023-02-27T18:21:43.743Z"
   },
   {
    "duration": 3,
    "start_time": "2023-02-27T18:22:11.780Z"
   },
   {
    "duration": 567,
    "start_time": "2023-02-27T18:22:11.786Z"
   },
   {
    "duration": 8,
    "start_time": "2023-02-27T18:22:12.355Z"
   },
   {
    "duration": 17,
    "start_time": "2023-02-27T18:22:12.364Z"
   },
   {
    "duration": 12,
    "start_time": "2023-02-27T18:22:12.384Z"
   },
   {
    "duration": 20,
    "start_time": "2023-02-27T18:22:12.397Z"
   },
   {
    "duration": 10,
    "start_time": "2023-02-27T18:22:12.419Z"
   },
   {
    "duration": 61,
    "start_time": "2023-02-27T18:22:12.431Z"
   },
   {
    "duration": 7,
    "start_time": "2023-02-27T18:22:12.494Z"
   },
   {
    "duration": 20,
    "start_time": "2023-02-27T18:22:12.503Z"
   },
   {
    "duration": 91,
    "start_time": "2023-02-27T18:22:12.601Z"
   },
   {
    "duration": 10,
    "start_time": "2023-02-27T18:22:12.694Z"
   },
   {
    "duration": 6,
    "start_time": "2023-02-27T18:22:12.705Z"
   },
   {
    "duration": 40,
    "start_time": "2023-02-27T18:22:12.713Z"
   },
   {
    "duration": 160,
    "start_time": "2023-02-27T18:22:12.754Z"
   },
   {
    "duration": 5,
    "start_time": "2023-02-27T18:22:12.916Z"
   },
   {
    "duration": 14,
    "start_time": "2023-02-27T18:22:12.923Z"
   },
   {
    "duration": 14,
    "start_time": "2023-02-27T18:22:12.938Z"
   },
   {
    "duration": 7,
    "start_time": "2023-02-27T18:22:12.954Z"
   },
   {
    "duration": 38,
    "start_time": "2023-02-27T18:22:12.963Z"
   },
   {
    "duration": 5,
    "start_time": "2023-02-27T18:22:13.003Z"
   },
   {
    "duration": 9,
    "start_time": "2023-02-27T18:22:13.010Z"
   },
   {
    "duration": 44,
    "start_time": "2023-02-27T18:22:13.020Z"
   },
   {
    "duration": 29,
    "start_time": "2023-02-27T18:22:13.065Z"
   },
   {
    "duration": 5,
    "start_time": "2023-02-27T18:22:13.095Z"
   },
   {
    "duration": 6,
    "start_time": "2023-02-27T18:22:13.101Z"
   },
   {
    "duration": 8,
    "start_time": "2023-02-27T18:22:13.109Z"
   },
   {
    "duration": 9,
    "start_time": "2023-02-27T18:22:13.118Z"
   },
   {
    "duration": 12,
    "start_time": "2023-02-27T18:22:13.131Z"
   },
   {
    "duration": 76,
    "start_time": "2023-02-27T18:22:13.145Z"
   },
   {
    "duration": 7,
    "start_time": "2023-02-27T18:22:13.223Z"
   },
   {
    "duration": 13,
    "start_time": "2023-02-27T18:22:13.231Z"
   },
   {
    "duration": 17,
    "start_time": "2023-02-27T18:22:13.245Z"
   },
   {
    "duration": 335,
    "start_time": "2023-02-27T18:22:13.263Z"
   },
   {
    "duration": 120,
    "start_time": "2023-02-27T18:22:13.600Z"
   },
   {
    "duration": 6,
    "start_time": "2023-02-27T18:22:13.722Z"
   },
   {
    "duration": 121,
    "start_time": "2023-02-27T18:22:13.729Z"
   },
   {
    "duration": 8,
    "start_time": "2023-02-27T18:22:20.905Z"
   },
   {
    "duration": 16,
    "start_time": "2023-02-27T18:22:24.529Z"
   },
   {
    "duration": 92,
    "start_time": "2023-02-27T18:22:42.072Z"
   },
   {
    "duration": 2,
    "start_time": "2023-02-27T18:23:52.396Z"
   },
   {
    "duration": 582,
    "start_time": "2023-02-27T18:23:52.401Z"
   },
   {
    "duration": 8,
    "start_time": "2023-02-27T18:23:52.985Z"
   },
   {
    "duration": 13,
    "start_time": "2023-02-27T18:23:52.995Z"
   },
   {
    "duration": 11,
    "start_time": "2023-02-27T18:23:53.011Z"
   },
   {
    "duration": 19,
    "start_time": "2023-02-27T18:23:53.024Z"
   },
   {
    "duration": 9,
    "start_time": "2023-02-27T18:23:53.045Z"
   },
   {
    "duration": 82,
    "start_time": "2023-02-27T18:23:53.056Z"
   },
   {
    "duration": 7,
    "start_time": "2023-02-27T18:23:53.140Z"
   },
   {
    "duration": 14,
    "start_time": "2023-02-27T18:23:53.149Z"
   },
   {
    "duration": 101,
    "start_time": "2023-02-27T18:23:53.165Z"
   },
   {
    "duration": 9,
    "start_time": "2023-02-27T18:23:53.268Z"
   },
   {
    "duration": 14,
    "start_time": "2023-02-27T18:23:53.278Z"
   },
   {
    "duration": 32,
    "start_time": "2023-02-27T18:23:53.295Z"
   },
   {
    "duration": 197,
    "start_time": "2023-02-27T18:23:53.329Z"
   },
   {
    "duration": 6,
    "start_time": "2023-02-27T18:23:53.527Z"
   },
   {
    "duration": 22,
    "start_time": "2023-02-27T18:23:53.535Z"
   },
   {
    "duration": 20,
    "start_time": "2023-02-27T18:23:53.558Z"
   },
   {
    "duration": 13,
    "start_time": "2023-02-27T18:23:53.579Z"
   },
   {
    "duration": 27,
    "start_time": "2023-02-27T18:23:53.594Z"
   },
   {
    "duration": 5,
    "start_time": "2023-02-27T18:23:53.622Z"
   },
   {
    "duration": 6,
    "start_time": "2023-02-27T18:23:53.629Z"
   },
   {
    "duration": 63,
    "start_time": "2023-02-27T18:23:53.636Z"
   },
   {
    "duration": 17,
    "start_time": "2023-02-27T18:23:53.701Z"
   },
   {
    "duration": 6,
    "start_time": "2023-02-27T18:23:53.720Z"
   },
   {
    "duration": 7,
    "start_time": "2023-02-27T18:23:53.728Z"
   },
   {
    "duration": 12,
    "start_time": "2023-02-27T18:23:53.737Z"
   },
   {
    "duration": 23,
    "start_time": "2023-02-27T18:23:53.751Z"
   },
   {
    "duration": 24,
    "start_time": "2023-02-27T18:23:53.776Z"
   },
   {
    "duration": 54,
    "start_time": "2023-02-27T18:23:53.802Z"
   },
   {
    "duration": 10,
    "start_time": "2023-02-27T18:23:53.859Z"
   },
   {
    "duration": 28,
    "start_time": "2023-02-27T18:23:53.871Z"
   },
   {
    "duration": 20,
    "start_time": "2023-02-27T18:23:53.901Z"
   },
   {
    "duration": 354,
    "start_time": "2023-02-27T18:23:53.923Z"
   },
   {
    "duration": 98,
    "start_time": "2023-02-27T18:23:54.279Z"
   },
   {
    "duration": 14,
    "start_time": "2023-02-27T18:23:54.378Z"
   },
   {
    "duration": 116,
    "start_time": "2023-02-27T18:23:54.394Z"
   },
   {
    "duration": 5,
    "start_time": "2023-02-27T18:23:54.512Z"
   },
   {
    "duration": 8,
    "start_time": "2023-02-27T18:23:54.519Z"
   },
   {
    "duration": 6,
    "start_time": "2023-02-27T18:23:54.529Z"
   },
   {
    "duration": 6,
    "start_time": "2023-02-27T18:23:54.539Z"
   },
   {
    "duration": 16,
    "start_time": "2023-02-27T18:23:54.547Z"
   },
   {
    "duration": 72,
    "start_time": "2023-02-27T18:23:54.565Z"
   },
   {
    "duration": 20,
    "start_time": "2023-02-27T18:23:54.639Z"
   },
   {
    "duration": 34,
    "start_time": "2023-02-27T18:23:54.660Z"
   },
   {
    "duration": 10,
    "start_time": "2023-02-27T18:23:54.696Z"
   },
   {
    "duration": 17,
    "start_time": "2023-02-27T18:23:54.707Z"
   },
   {
    "duration": 6,
    "start_time": "2023-02-27T18:30:33.273Z"
   },
   {
    "duration": 4,
    "start_time": "2023-02-27T18:30:45.606Z"
   },
   {
    "duration": 34,
    "start_time": "2023-02-27T18:31:01.621Z"
   },
   {
    "duration": 20,
    "start_time": "2023-02-27T18:31:06.797Z"
   },
   {
    "duration": 3,
    "start_time": "2023-02-27T18:31:55.737Z"
   },
   {
    "duration": 708,
    "start_time": "2023-02-27T18:31:55.742Z"
   },
   {
    "duration": 8,
    "start_time": "2023-02-27T18:31:56.452Z"
   },
   {
    "duration": 19,
    "start_time": "2023-02-27T18:31:56.462Z"
   },
   {
    "duration": 18,
    "start_time": "2023-02-27T18:31:56.484Z"
   },
   {
    "duration": 26,
    "start_time": "2023-02-27T18:31:56.504Z"
   },
   {
    "duration": 10,
    "start_time": "2023-02-27T18:31:56.531Z"
   },
   {
    "duration": 65,
    "start_time": "2023-02-27T18:31:56.542Z"
   },
   {
    "duration": 7,
    "start_time": "2023-02-27T18:31:56.609Z"
   },
   {
    "duration": 14,
    "start_time": "2023-02-27T18:31:56.617Z"
   },
   {
    "duration": 101,
    "start_time": "2023-02-27T18:31:56.632Z"
   },
   {
    "duration": 11,
    "start_time": "2023-02-27T18:31:56.736Z"
   },
   {
    "duration": 6,
    "start_time": "2023-02-27T18:31:56.749Z"
   },
   {
    "duration": 54,
    "start_time": "2023-02-27T18:31:56.758Z"
   },
   {
    "duration": 172,
    "start_time": "2023-02-27T18:31:56.814Z"
   },
   {
    "duration": 5,
    "start_time": "2023-02-27T18:31:56.992Z"
   },
   {
    "duration": 18,
    "start_time": "2023-02-27T18:31:56.998Z"
   },
   {
    "duration": 23,
    "start_time": "2023-02-27T18:31:57.018Z"
   },
   {
    "duration": 7,
    "start_time": "2023-02-27T18:31:57.043Z"
   },
   {
    "duration": 25,
    "start_time": "2023-02-27T18:31:57.051Z"
   },
   {
    "duration": 14,
    "start_time": "2023-02-27T18:31:57.078Z"
   },
   {
    "duration": 4,
    "start_time": "2023-02-27T18:31:57.094Z"
   },
   {
    "duration": 39,
    "start_time": "2023-02-27T18:31:57.100Z"
   },
   {
    "duration": 20,
    "start_time": "2023-02-27T18:31:57.141Z"
   },
   {
    "duration": 36,
    "start_time": "2023-02-27T18:31:57.163Z"
   },
   {
    "duration": 17,
    "start_time": "2023-02-27T18:31:57.201Z"
   },
   {
    "duration": 23,
    "start_time": "2023-02-27T18:31:57.219Z"
   },
   {
    "duration": 13,
    "start_time": "2023-02-27T18:31:57.244Z"
   },
   {
    "duration": 20,
    "start_time": "2023-02-27T18:31:57.259Z"
   },
   {
    "duration": 52,
    "start_time": "2023-02-27T18:31:57.281Z"
   },
   {
    "duration": 8,
    "start_time": "2023-02-27T18:31:57.336Z"
   },
   {
    "duration": 15,
    "start_time": "2023-02-27T18:31:57.346Z"
   },
   {
    "duration": 34,
    "start_time": "2023-02-27T18:31:57.363Z"
   },
   {
    "duration": 328,
    "start_time": "2023-02-27T18:31:57.399Z"
   },
   {
    "duration": 108,
    "start_time": "2023-02-27T18:31:57.729Z"
   },
   {
    "duration": 7,
    "start_time": "2023-02-27T18:31:57.839Z"
   },
   {
    "duration": 110,
    "start_time": "2023-02-27T18:31:57.847Z"
   },
   {
    "duration": 6,
    "start_time": "2023-02-27T18:31:57.959Z"
   },
   {
    "duration": 22,
    "start_time": "2023-02-27T18:31:57.967Z"
   },
   {
    "duration": 13,
    "start_time": "2023-02-27T18:31:57.994Z"
   },
   {
    "duration": 7,
    "start_time": "2023-02-27T18:31:58.011Z"
   },
   {
    "duration": 13,
    "start_time": "2023-02-27T18:31:58.019Z"
   },
   {
    "duration": 6,
    "start_time": "2023-02-27T18:31:58.034Z"
   },
   {
    "duration": 13,
    "start_time": "2023-02-27T18:31:58.041Z"
   },
   {
    "duration": 50,
    "start_time": "2023-02-27T18:31:58.055Z"
   },
   {
    "duration": 17,
    "start_time": "2023-02-27T18:31:58.106Z"
   },
   {
    "duration": 11,
    "start_time": "2023-02-27T18:31:58.125Z"
   },
   {
    "duration": 9,
    "start_time": "2023-02-27T18:31:58.138Z"
   },
   {
    "duration": 43,
    "start_time": "2023-02-27T18:31:58.149Z"
   },
   {
    "duration": 228,
    "start_time": "2023-02-27T18:33:14.932Z"
   },
   {
    "duration": 147,
    "start_time": "2023-02-27T18:34:13.949Z"
   },
   {
    "duration": 5,
    "start_time": "2023-02-27T18:41:01.126Z"
   },
   {
    "duration": 112,
    "start_time": "2023-02-27T18:41:58.823Z"
   },
   {
    "duration": 46,
    "start_time": "2023-02-27T18:42:30.426Z"
   },
   {
    "duration": 2,
    "start_time": "2023-02-27T18:42:54.402Z"
   },
   {
    "duration": 43,
    "start_time": "2023-02-27T18:42:57.354Z"
   },
   {
    "duration": 13,
    "start_time": "2023-02-27T18:43:14.709Z"
   },
   {
    "duration": 15,
    "start_time": "2023-02-27T18:43:22.450Z"
   },
   {
    "duration": 42,
    "start_time": "2023-02-27T18:43:40.706Z"
   },
   {
    "duration": 39,
    "start_time": "2023-02-27T18:44:08.822Z"
   },
   {
    "duration": 4,
    "start_time": "2023-02-27T18:49:45.416Z"
   },
   {
    "duration": 4,
    "start_time": "2023-02-27T18:50:04.229Z"
   },
   {
    "duration": 13,
    "start_time": "2023-02-27T18:52:14.766Z"
   },
   {
    "duration": 11,
    "start_time": "2023-02-27T18:56:42.522Z"
   },
   {
    "duration": 338,
    "start_time": "2023-02-27T18:59:52.873Z"
   },
   {
    "duration": 452,
    "start_time": "2023-02-27T19:00:19.689Z"
   },
   {
    "duration": 47,
    "start_time": "2023-02-27T19:01:07.287Z"
   },
   {
    "duration": 1326,
    "start_time": "2023-02-27T19:01:41.268Z"
   },
   {
    "duration": 48,
    "start_time": "2023-02-27T19:02:19.121Z"
   },
   {
    "duration": 18,
    "start_time": "2023-02-27T19:02:36.781Z"
   },
   {
    "duration": 342,
    "start_time": "2023-02-27T19:03:36.193Z"
   },
   {
    "duration": 22,
    "start_time": "2023-02-27T19:04:13.458Z"
   },
   {
    "duration": 17,
    "start_time": "2023-02-27T19:04:22.206Z"
   },
   {
    "duration": 226,
    "start_time": "2023-02-27T19:06:06.525Z"
   },
   {
    "duration": 269,
    "start_time": "2023-02-27T19:10:14.969Z"
   },
   {
    "duration": 226,
    "start_time": "2023-02-27T19:11:28.869Z"
   },
   {
    "duration": 247,
    "start_time": "2023-02-27T19:14:12.773Z"
   },
   {
    "duration": 22,
    "start_time": "2023-02-27T19:15:33.771Z"
   },
   {
    "duration": 29,
    "start_time": "2023-02-27T19:15:41.042Z"
   },
   {
    "duration": 22,
    "start_time": "2023-02-27T19:15:59.082Z"
   },
   {
    "duration": 538,
    "start_time": "2023-02-27T19:17:37.489Z"
   },
   {
    "duration": 590,
    "start_time": "2023-02-27T19:18:11.005Z"
   },
   {
    "duration": 2855,
    "start_time": "2023-02-27T20:22:09.878Z"
   },
   {
    "duration": 664,
    "start_time": "2023-02-27T20:31:42.925Z"
   },
   {
    "duration": 607,
    "start_time": "2023-02-27T20:32:47.678Z"
   },
   {
    "duration": 585,
    "start_time": "2023-02-27T20:35:59.735Z"
   },
   {
    "duration": 536,
    "start_time": "2023-02-27T20:37:49.783Z"
   },
   {
    "duration": 414,
    "start_time": "2023-02-27T20:38:12.719Z"
   },
   {
    "duration": 528,
    "start_time": "2023-02-27T20:45:42.820Z"
   },
   {
    "duration": 631,
    "start_time": "2023-02-27T20:47:25.772Z"
   },
   {
    "duration": 552,
    "start_time": "2023-02-27T20:47:30.408Z"
   },
   {
    "duration": 508,
    "start_time": "2023-02-27T20:47:34.390Z"
   },
   {
    "duration": 495,
    "start_time": "2023-02-27T20:47:41.310Z"
   },
   {
    "duration": 501,
    "start_time": "2023-02-27T20:47:47.213Z"
   },
   {
    "duration": 519,
    "start_time": "2023-02-27T20:47:52.286Z"
   },
   {
    "duration": 635,
    "start_time": "2023-02-27T20:48:50.888Z"
   },
   {
    "duration": 546,
    "start_time": "2023-02-27T20:48:57.078Z"
   },
   {
    "duration": 666,
    "start_time": "2023-02-27T20:58:25.993Z"
   },
   {
    "duration": 534,
    "start_time": "2023-02-27T20:58:32.341Z"
   },
   {
    "duration": 638,
    "start_time": "2023-02-27T20:59:09.428Z"
   },
   {
    "duration": 583,
    "start_time": "2023-02-27T20:59:19.302Z"
   },
   {
    "duration": 560,
    "start_time": "2023-02-27T20:59:27.467Z"
   },
   {
    "duration": 620,
    "start_time": "2023-02-27T21:00:02.125Z"
   },
   {
    "duration": 54,
    "start_time": "2023-02-28T11:12:53.541Z"
   },
   {
    "duration": 1375,
    "start_time": "2023-02-28T11:12:58.368Z"
   },
   {
    "duration": 1968,
    "start_time": "2023-02-28T11:12:59.746Z"
   },
   {
    "duration": 13,
    "start_time": "2023-02-28T11:13:01.715Z"
   },
   {
    "duration": 53,
    "start_time": "2023-02-28T11:13:01.730Z"
   },
   {
    "duration": 56,
    "start_time": "2023-02-28T11:13:01.785Z"
   },
   {
    "duration": 49,
    "start_time": "2023-02-28T11:13:01.843Z"
   },
   {
    "duration": 54,
    "start_time": "2023-02-28T11:13:01.894Z"
   },
   {
    "duration": 134,
    "start_time": "2023-02-28T11:13:01.950Z"
   },
   {
    "duration": 8,
    "start_time": "2023-02-28T11:13:02.086Z"
   },
   {
    "duration": 46,
    "start_time": "2023-02-28T11:13:02.096Z"
   },
   {
    "duration": 114,
    "start_time": "2023-02-28T11:13:02.144Z"
   },
   {
    "duration": 10,
    "start_time": "2023-02-28T11:13:02.260Z"
   },
   {
    "duration": 31,
    "start_time": "2023-02-28T11:13:02.272Z"
   },
   {
    "duration": 56,
    "start_time": "2023-02-28T11:13:02.305Z"
   },
   {
    "duration": 192,
    "start_time": "2023-02-28T11:13:02.362Z"
   },
   {
    "duration": 5,
    "start_time": "2023-02-28T11:13:02.555Z"
   },
   {
    "duration": 30,
    "start_time": "2023-02-28T11:13:02.562Z"
   },
   {
    "duration": 41,
    "start_time": "2023-02-28T11:13:02.594Z"
   },
   {
    "duration": 40,
    "start_time": "2023-02-28T11:13:02.637Z"
   },
   {
    "duration": 47,
    "start_time": "2023-02-28T11:13:02.679Z"
   },
   {
    "duration": 22,
    "start_time": "2023-02-28T11:13:02.727Z"
   },
   {
    "duration": 11,
    "start_time": "2023-02-28T11:13:02.751Z"
   },
   {
    "duration": 47,
    "start_time": "2023-02-28T11:13:02.763Z"
   },
   {
    "duration": 13,
    "start_time": "2023-02-28T11:13:02.812Z"
   },
   {
    "duration": 12,
    "start_time": "2023-02-28T11:13:02.827Z"
   },
   {
    "duration": 13,
    "start_time": "2023-02-28T11:13:02.841Z"
   },
   {
    "duration": 11,
    "start_time": "2023-02-28T11:13:02.856Z"
   },
   {
    "duration": 9,
    "start_time": "2023-02-28T11:13:02.872Z"
   },
   {
    "duration": 29,
    "start_time": "2023-02-28T11:13:02.883Z"
   },
   {
    "duration": 60,
    "start_time": "2023-02-28T11:13:02.914Z"
   },
   {
    "duration": 8,
    "start_time": "2023-02-28T11:13:02.976Z"
   },
   {
    "duration": 9,
    "start_time": "2023-02-28T11:13:02.987Z"
   },
   {
    "duration": 40,
    "start_time": "2023-02-28T11:13:02.997Z"
   },
   {
    "duration": 348,
    "start_time": "2023-02-28T11:13:03.039Z"
   },
   {
    "duration": 112,
    "start_time": "2023-02-28T11:13:03.390Z"
   },
   {
    "duration": 6,
    "start_time": "2023-02-28T11:13:03.503Z"
   },
   {
    "duration": 118,
    "start_time": "2023-02-28T11:13:03.510Z"
   },
   {
    "duration": 6,
    "start_time": "2023-02-28T11:13:03.635Z"
   },
   {
    "duration": 20,
    "start_time": "2023-02-28T11:13:03.643Z"
   },
   {
    "duration": 20,
    "start_time": "2023-02-28T11:13:03.665Z"
   },
   {
    "duration": 30,
    "start_time": "2023-02-28T11:13:03.687Z"
   },
   {
    "duration": 27,
    "start_time": "2023-02-28T11:13:03.720Z"
   },
   {
    "duration": 23,
    "start_time": "2023-02-28T11:13:03.750Z"
   },
   {
    "duration": 15,
    "start_time": "2023-02-28T11:13:03.775Z"
   },
   {
    "duration": 48,
    "start_time": "2023-02-28T11:13:03.792Z"
   },
   {
    "duration": 22,
    "start_time": "2023-02-28T11:13:03.842Z"
   },
   {
    "duration": 14,
    "start_time": "2023-02-28T11:13:03.866Z"
   },
   {
    "duration": 11,
    "start_time": "2023-02-28T11:13:03.882Z"
   },
   {
    "duration": 52,
    "start_time": "2023-02-28T11:13:03.895Z"
   },
   {
    "duration": 6,
    "start_time": "2023-02-28T11:13:03.948Z"
   },
   {
    "duration": 41,
    "start_time": "2023-02-28T11:13:03.955Z"
   },
   {
    "duration": 12,
    "start_time": "2023-02-28T11:13:03.998Z"
   },
   {
    "duration": 17,
    "start_time": "2023-02-28T11:13:04.037Z"
   },
   {
    "duration": 724,
    "start_time": "2023-02-28T11:13:04.056Z"
   },
   {
    "duration": 602,
    "start_time": "2023-02-28T11:13:04.782Z"
   },
   {
    "duration": 22,
    "start_time": "2023-02-28T11:13:05.386Z"
   },
   {
    "duration": 520,
    "start_time": "2023-02-28T11:13:41.365Z"
   },
   {
    "duration": 573,
    "start_time": "2023-02-28T11:14:24.225Z"
   },
   {
    "duration": 547,
    "start_time": "2023-02-28T11:14:57.541Z"
   },
   {
    "duration": 568,
    "start_time": "2023-02-28T11:15:07.102Z"
   },
   {
    "duration": 549,
    "start_time": "2023-02-28T11:15:20.623Z"
   },
   {
    "duration": 18,
    "start_time": "2023-02-28T11:19:33.171Z"
   },
   {
    "duration": 104,
    "start_time": "2023-02-28T11:20:11.430Z"
   },
   {
    "duration": 240,
    "start_time": "2023-02-28T11:20:20.668Z"
   },
   {
    "duration": 146,
    "start_time": "2023-02-28T11:20:43.458Z"
   },
   {
    "duration": 19,
    "start_time": "2023-02-28T11:22:08.169Z"
   },
   {
    "duration": 239,
    "start_time": "2023-02-28T11:22:43.102Z"
   },
   {
    "duration": 229,
    "start_time": "2023-02-28T11:23:08.938Z"
   },
   {
    "duration": 251,
    "start_time": "2023-02-28T11:23:35.539Z"
   },
   {
    "duration": 226,
    "start_time": "2023-02-28T11:23:42.544Z"
   },
   {
    "duration": 266,
    "start_time": "2023-02-28T11:24:02.361Z"
   },
   {
    "duration": 12,
    "start_time": "2023-02-28T11:24:55.074Z"
   },
   {
    "duration": 383,
    "start_time": "2023-02-28T12:22:21.368Z"
   },
   {
    "duration": 8,
    "start_time": "2023-02-28T12:44:46.127Z"
   },
   {
    "duration": 18,
    "start_time": "2023-02-28T12:45:33.866Z"
   },
   {
    "duration": 258,
    "start_time": "2023-02-28T12:45:49.383Z"
   },
   {
    "duration": 286,
    "start_time": "2023-02-28T12:46:22.166Z"
   },
   {
    "duration": 13,
    "start_time": "2023-02-28T12:48:10.116Z"
   },
   {
    "duration": 375,
    "start_time": "2023-02-28T12:49:13.072Z"
   },
   {
    "duration": 299,
    "start_time": "2023-02-28T12:49:44.865Z"
   },
   {
    "duration": 368,
    "start_time": "2023-02-28T12:49:56.918Z"
   },
   {
    "duration": 283,
    "start_time": "2023-02-28T12:50:06.218Z"
   },
   {
    "duration": 292,
    "start_time": "2023-02-28T12:50:17.394Z"
   },
   {
    "duration": 322,
    "start_time": "2023-02-28T12:50:29.554Z"
   },
   {
    "duration": 253,
    "start_time": "2023-02-28T12:51:07.365Z"
   },
   {
    "duration": 260,
    "start_time": "2023-02-28T12:51:27.961Z"
   },
   {
    "duration": 14,
    "start_time": "2023-02-28T12:53:11.336Z"
   },
   {
    "duration": 307,
    "start_time": "2023-02-28T12:53:41.188Z"
   },
   {
    "duration": 119,
    "start_time": "2023-02-28T12:54:06.969Z"
   },
   {
    "duration": 164,
    "start_time": "2023-02-28T12:54:21.006Z"
   },
   {
    "duration": 13,
    "start_time": "2023-02-28T12:55:42.069Z"
   },
   {
    "duration": 176,
    "start_time": "2023-02-28T12:55:43.271Z"
   },
   {
    "duration": 8,
    "start_time": "2023-02-28T12:56:47.821Z"
   },
   {
    "duration": 14,
    "start_time": "2023-02-28T12:57:15.553Z"
   },
   {
    "duration": 176,
    "start_time": "2023-02-28T12:57:16.783Z"
   },
   {
    "duration": 8,
    "start_time": "2023-02-28T12:57:19.697Z"
   },
   {
    "duration": 4,
    "start_time": "2023-02-28T12:58:57.463Z"
   },
   {
    "duration": 8,
    "start_time": "2023-02-28T12:59:03.762Z"
   },
   {
    "duration": 6,
    "start_time": "2023-02-28T13:01:18.256Z"
   },
   {
    "duration": 8,
    "start_time": "2023-02-28T13:01:20.809Z"
   },
   {
    "duration": 9,
    "start_time": "2023-02-28T13:03:34.539Z"
   },
   {
    "duration": 11,
    "start_time": "2023-02-28T13:03:48.435Z"
   },
   {
    "duration": 11,
    "start_time": "2023-02-28T13:04:01.976Z"
   },
   {
    "duration": 12,
    "start_time": "2023-02-28T13:04:24.492Z"
   },
   {
    "duration": 12,
    "start_time": "2023-02-28T13:04:47.968Z"
   },
   {
    "duration": 11,
    "start_time": "2023-02-28T13:05:09.011Z"
   },
   {
    "duration": 11,
    "start_time": "2023-02-28T13:05:12.967Z"
   },
   {
    "duration": 28,
    "start_time": "2023-02-28T13:05:41.264Z"
   },
   {
    "duration": 13,
    "start_time": "2023-02-28T13:05:43.377Z"
   },
   {
    "duration": 6,
    "start_time": "2023-02-28T13:06:24.497Z"
   },
   {
    "duration": 3,
    "start_time": "2023-02-28T13:07:00.069Z"
   },
   {
    "duration": 675,
    "start_time": "2023-02-28T13:07:00.078Z"
   },
   {
    "duration": 8,
    "start_time": "2023-02-28T13:07:00.755Z"
   },
   {
    "duration": 52,
    "start_time": "2023-02-28T13:07:00.765Z"
   },
   {
    "duration": 50,
    "start_time": "2023-02-28T13:07:00.819Z"
   },
   {
    "duration": 79,
    "start_time": "2023-02-28T13:07:00.871Z"
   },
   {
    "duration": 35,
    "start_time": "2023-02-28T13:07:00.952Z"
   },
   {
    "duration": 115,
    "start_time": "2023-02-28T13:07:00.989Z"
   },
   {
    "duration": 9,
    "start_time": "2023-02-28T13:07:01.107Z"
   },
   {
    "duration": 56,
    "start_time": "2023-02-28T13:07:01.118Z"
   },
   {
    "duration": 146,
    "start_time": "2023-02-28T13:07:01.177Z"
   },
   {
    "duration": 16,
    "start_time": "2023-02-28T13:07:01.325Z"
   },
   {
    "duration": 45,
    "start_time": "2023-02-28T13:07:01.343Z"
   },
   {
    "duration": 60,
    "start_time": "2023-02-28T13:07:01.390Z"
   },
   {
    "duration": 208,
    "start_time": "2023-02-28T13:07:01.452Z"
   },
   {
    "duration": 6,
    "start_time": "2023-02-28T13:07:01.662Z"
   },
   {
    "duration": 42,
    "start_time": "2023-02-28T13:07:01.670Z"
   },
   {
    "duration": 50,
    "start_time": "2023-02-28T13:07:01.714Z"
   },
   {
    "duration": 30,
    "start_time": "2023-02-28T13:07:01.766Z"
   },
   {
    "duration": 61,
    "start_time": "2023-02-28T13:07:01.798Z"
   },
   {
    "duration": 37,
    "start_time": "2023-02-28T13:07:01.860Z"
   },
   {
    "duration": 47,
    "start_time": "2023-02-28T13:07:01.899Z"
   },
   {
    "duration": 68,
    "start_time": "2023-02-28T13:07:01.947Z"
   },
   {
    "duration": 15,
    "start_time": "2023-02-28T13:07:02.017Z"
   },
   {
    "duration": 45,
    "start_time": "2023-02-28T13:07:02.034Z"
   },
   {
    "duration": 39,
    "start_time": "2023-02-28T13:07:02.081Z"
   },
   {
    "duration": 45,
    "start_time": "2023-02-28T13:07:02.121Z"
   },
   {
    "duration": 36,
    "start_time": "2023-02-28T13:07:02.167Z"
   },
   {
    "duration": 21,
    "start_time": "2023-02-28T13:07:02.207Z"
   },
   {
    "duration": 76,
    "start_time": "2023-02-28T13:07:02.230Z"
   },
   {
    "duration": 7,
    "start_time": "2023-02-28T13:07:02.308Z"
   },
   {
    "duration": 36,
    "start_time": "2023-02-28T13:07:02.317Z"
   },
   {
    "duration": 21,
    "start_time": "2023-02-28T13:07:02.354Z"
   },
   {
    "duration": 403,
    "start_time": "2023-02-28T13:07:02.377Z"
   },
   {
    "duration": 118,
    "start_time": "2023-02-28T13:07:02.782Z"
   },
   {
    "duration": 7,
    "start_time": "2023-02-28T13:07:02.902Z"
   },
   {
    "duration": 148,
    "start_time": "2023-02-28T13:07:02.911Z"
   },
   {
    "duration": 7,
    "start_time": "2023-02-28T13:07:03.061Z"
   },
   {
    "duration": 35,
    "start_time": "2023-02-28T13:07:03.070Z"
   },
   {
    "duration": 10,
    "start_time": "2023-02-28T13:07:03.108Z"
   },
   {
    "duration": 13,
    "start_time": "2023-02-28T13:07:03.119Z"
   },
   {
    "duration": 20,
    "start_time": "2023-02-28T13:07:03.134Z"
   },
   {
    "duration": 6,
    "start_time": "2023-02-28T13:07:03.156Z"
   },
   {
    "duration": 16,
    "start_time": "2023-02-28T13:07:03.164Z"
   },
   {
    "duration": 75,
    "start_time": "2023-02-28T13:07:03.182Z"
   },
   {
    "duration": 24,
    "start_time": "2023-02-28T13:07:03.258Z"
   },
   {
    "duration": 17,
    "start_time": "2023-02-28T13:07:03.284Z"
   },
   {
    "duration": 59,
    "start_time": "2023-02-28T13:07:03.303Z"
   },
   {
    "duration": 274,
    "start_time": "2023-02-28T13:07:03.364Z"
   },
   {
    "duration": 15,
    "start_time": "2023-02-28T13:07:03.640Z"
   },
   {
    "duration": 0,
    "start_time": "2023-02-28T13:07:03.656Z"
   },
   {
    "duration": 0,
    "start_time": "2023-02-28T13:07:03.657Z"
   },
   {
    "duration": 0,
    "start_time": "2023-02-28T13:07:03.659Z"
   },
   {
    "duration": 22,
    "start_time": "2023-02-28T13:16:43.300Z"
   },
   {
    "duration": 3,
    "start_time": "2023-02-28T13:16:52.815Z"
   },
   {
    "duration": 657,
    "start_time": "2023-02-28T13:16:52.824Z"
   },
   {
    "duration": 9,
    "start_time": "2023-02-28T13:16:53.482Z"
   },
   {
    "duration": 15,
    "start_time": "2023-02-28T13:16:53.493Z"
   },
   {
    "duration": 34,
    "start_time": "2023-02-28T13:16:53.511Z"
   },
   {
    "duration": 31,
    "start_time": "2023-02-28T13:16:53.548Z"
   },
   {
    "duration": 29,
    "start_time": "2023-02-28T13:16:53.582Z"
   },
   {
    "duration": 87,
    "start_time": "2023-02-28T13:16:53.614Z"
   },
   {
    "duration": 9,
    "start_time": "2023-02-28T13:16:53.703Z"
   },
   {
    "duration": 29,
    "start_time": "2023-02-28T13:16:53.714Z"
   },
   {
    "duration": 103,
    "start_time": "2023-02-28T13:16:53.747Z"
   },
   {
    "duration": 11,
    "start_time": "2023-02-28T13:16:53.852Z"
   },
   {
    "duration": 6,
    "start_time": "2023-02-28T13:16:53.865Z"
   },
   {
    "duration": 69,
    "start_time": "2023-02-28T13:16:53.873Z"
   },
   {
    "duration": 215,
    "start_time": "2023-02-28T13:16:53.945Z"
   },
   {
    "duration": 6,
    "start_time": "2023-02-28T13:16:54.162Z"
   },
   {
    "duration": 26,
    "start_time": "2023-02-28T13:16:54.169Z"
   },
   {
    "duration": 22,
    "start_time": "2023-02-28T13:16:54.197Z"
   },
   {
    "duration": 24,
    "start_time": "2023-02-28T13:16:54.220Z"
   },
   {
    "duration": 29,
    "start_time": "2023-02-28T13:16:54.246Z"
   },
   {
    "duration": 9,
    "start_time": "2023-02-28T13:16:54.277Z"
   },
   {
    "duration": 15,
    "start_time": "2023-02-28T13:16:54.287Z"
   },
   {
    "duration": 44,
    "start_time": "2023-02-28T13:16:54.337Z"
   },
   {
    "duration": 21,
    "start_time": "2023-02-28T13:16:54.382Z"
   },
   {
    "duration": 52,
    "start_time": "2023-02-28T13:16:54.405Z"
   },
   {
    "duration": 18,
    "start_time": "2023-02-28T13:16:54.460Z"
   },
   {
    "duration": 26,
    "start_time": "2023-02-28T13:16:54.480Z"
   },
   {
    "duration": 17,
    "start_time": "2023-02-28T13:16:54.508Z"
   },
   {
    "duration": 13,
    "start_time": "2023-02-28T13:16:54.529Z"
   },
   {
    "duration": 51,
    "start_time": "2023-02-28T13:16:54.544Z"
   },
   {
    "duration": 7,
    "start_time": "2023-02-28T13:16:54.597Z"
   },
   {
    "duration": 39,
    "start_time": "2023-02-28T13:16:54.605Z"
   },
   {
    "duration": 15,
    "start_time": "2023-02-28T13:16:54.646Z"
   },
   {
    "duration": 419,
    "start_time": "2023-02-28T13:16:54.663Z"
   },
   {
    "duration": 109,
    "start_time": "2023-02-28T13:16:55.085Z"
   },
   {
    "duration": 7,
    "start_time": "2023-02-28T13:16:55.195Z"
   },
   {
    "duration": 137,
    "start_time": "2023-02-28T13:16:55.204Z"
   },
   {
    "duration": 5,
    "start_time": "2023-02-28T13:16:55.343Z"
   },
   {
    "duration": 19,
    "start_time": "2023-02-28T13:16:55.350Z"
   },
   {
    "duration": 18,
    "start_time": "2023-02-28T13:16:55.371Z"
   },
   {
    "duration": 12,
    "start_time": "2023-02-28T13:16:55.391Z"
   },
   {
    "duration": 17,
    "start_time": "2023-02-28T13:16:55.404Z"
   },
   {
    "duration": 8,
    "start_time": "2023-02-28T13:16:55.438Z"
   },
   {
    "duration": 18,
    "start_time": "2023-02-28T13:16:55.448Z"
   },
   {
    "duration": 26,
    "start_time": "2023-02-28T13:16:55.468Z"
   },
   {
    "duration": 87,
    "start_time": "2023-02-28T13:16:55.496Z"
   },
   {
    "duration": 21,
    "start_time": "2023-02-28T13:16:55.584Z"
   },
   {
    "duration": 41,
    "start_time": "2023-02-28T13:16:55.607Z"
   },
   {
    "duration": 16,
    "start_time": "2023-02-28T13:16:55.650Z"
   },
   {
    "duration": 316,
    "start_time": "2023-02-28T13:16:55.668Z"
   },
   {
    "duration": 14,
    "start_time": "2023-02-28T13:16:55.986Z"
   },
   {
    "duration": 309,
    "start_time": "2023-02-28T13:16:56.006Z"
   },
   {
    "duration": 23,
    "start_time": "2023-02-28T13:16:56.317Z"
   },
   {
    "duration": 311,
    "start_time": "2023-02-28T13:16:56.342Z"
   },
   {
    "duration": 12,
    "start_time": "2023-02-28T13:17:01.515Z"
   },
   {
    "duration": 4,
    "start_time": "2023-02-28T13:17:04.840Z"
   },
   {
    "duration": 6,
    "start_time": "2023-02-28T13:17:06.682Z"
   },
   {
    "duration": 10,
    "start_time": "2023-02-28T13:17:14.842Z"
   },
   {
    "duration": 6,
    "start_time": "2023-02-28T13:17:37.640Z"
   },
   {
    "duration": 9,
    "start_time": "2023-02-28T13:17:39.369Z"
   },
   {
    "duration": 4,
    "start_time": "2023-02-28T13:18:25.677Z"
   },
   {
    "duration": 692,
    "start_time": "2023-02-28T13:18:25.712Z"
   },
   {
    "duration": 10,
    "start_time": "2023-02-28T13:18:26.406Z"
   },
   {
    "duration": 19,
    "start_time": "2023-02-28T13:18:26.417Z"
   },
   {
    "duration": 27,
    "start_time": "2023-02-28T13:18:26.438Z"
   },
   {
    "duration": 43,
    "start_time": "2023-02-28T13:18:26.467Z"
   },
   {
    "duration": 32,
    "start_time": "2023-02-28T13:18:26.512Z"
   },
   {
    "duration": 66,
    "start_time": "2023-02-28T13:18:26.546Z"
   },
   {
    "duration": 10,
    "start_time": "2023-02-28T13:18:26.613Z"
   },
   {
    "duration": 27,
    "start_time": "2023-02-28T13:18:26.625Z"
   },
   {
    "duration": 107,
    "start_time": "2023-02-28T13:18:26.655Z"
   },
   {
    "duration": 10,
    "start_time": "2023-02-28T13:18:26.764Z"
   },
   {
    "duration": 10,
    "start_time": "2023-02-28T13:18:26.776Z"
   },
   {
    "duration": 56,
    "start_time": "2023-02-28T13:18:26.788Z"
   },
   {
    "duration": 215,
    "start_time": "2023-02-28T13:18:26.847Z"
   },
   {
    "duration": 7,
    "start_time": "2023-02-28T13:18:27.064Z"
   },
   {
    "duration": 28,
    "start_time": "2023-02-28T13:18:27.073Z"
   },
   {
    "duration": 26,
    "start_time": "2023-02-28T13:18:27.103Z"
   },
   {
    "duration": 12,
    "start_time": "2023-02-28T13:18:27.131Z"
   },
   {
    "duration": 27,
    "start_time": "2023-02-28T13:18:27.146Z"
   },
   {
    "duration": 7,
    "start_time": "2023-02-28T13:18:27.175Z"
   },
   {
    "duration": 51,
    "start_time": "2023-02-28T13:18:27.185Z"
   },
   {
    "duration": 45,
    "start_time": "2023-02-28T13:18:27.238Z"
   },
   {
    "duration": 22,
    "start_time": "2023-02-28T13:18:27.285Z"
   },
   {
    "duration": 38,
    "start_time": "2023-02-28T13:18:27.309Z"
   },
   {
    "duration": 14,
    "start_time": "2023-02-28T13:18:27.349Z"
   },
   {
    "duration": 14,
    "start_time": "2023-02-28T13:18:27.365Z"
   },
   {
    "duration": 25,
    "start_time": "2023-02-28T13:18:27.381Z"
   },
   {
    "duration": 38,
    "start_time": "2023-02-28T13:18:27.412Z"
   },
   {
    "duration": 80,
    "start_time": "2023-02-28T13:18:27.453Z"
   },
   {
    "duration": 7,
    "start_time": "2023-02-28T13:18:27.536Z"
   },
   {
    "duration": 10,
    "start_time": "2023-02-28T13:18:27.544Z"
   },
   {
    "duration": 14,
    "start_time": "2023-02-28T13:18:27.555Z"
   },
   {
    "duration": 423,
    "start_time": "2023-02-28T13:18:27.571Z"
   },
   {
    "duration": 113,
    "start_time": "2023-02-28T13:18:27.996Z"
   },
   {
    "duration": 6,
    "start_time": "2023-02-28T13:18:28.111Z"
   },
   {
    "duration": 133,
    "start_time": "2023-02-28T13:18:28.119Z"
   },
   {
    "duration": 5,
    "start_time": "2023-02-28T13:18:28.254Z"
   },
   {
    "duration": 11,
    "start_time": "2023-02-28T13:18:28.261Z"
   },
   {
    "duration": 11,
    "start_time": "2023-02-28T13:18:28.278Z"
   },
   {
    "duration": 7,
    "start_time": "2023-02-28T13:18:28.291Z"
   },
   {
    "duration": 6,
    "start_time": "2023-02-28T13:18:28.300Z"
   },
   {
    "duration": 37,
    "start_time": "2023-02-28T13:18:28.307Z"
   },
   {
    "duration": 10,
    "start_time": "2023-02-28T13:18:28.346Z"
   },
   {
    "duration": 31,
    "start_time": "2023-02-28T13:18:28.358Z"
   },
   {
    "duration": 66,
    "start_time": "2023-02-28T13:18:28.391Z"
   },
   {
    "duration": 23,
    "start_time": "2023-02-28T13:18:28.459Z"
   },
   {
    "duration": 56,
    "start_time": "2023-02-28T13:18:28.488Z"
   },
   {
    "duration": 18,
    "start_time": "2023-02-28T13:18:28.547Z"
   },
   {
    "duration": 357,
    "start_time": "2023-02-28T13:18:28.568Z"
   },
   {
    "duration": 13,
    "start_time": "2023-02-28T13:18:28.927Z"
   },
   {
    "duration": 304,
    "start_time": "2023-02-28T13:18:28.942Z"
   },
   {
    "duration": 13,
    "start_time": "2023-02-28T13:18:29.248Z"
   },
   {
    "duration": 220,
    "start_time": "2023-02-28T13:18:29.263Z"
   },
   {
    "duration": 11,
    "start_time": "2023-02-28T13:18:29.485Z"
   },
   {
    "duration": 5,
    "start_time": "2023-02-28T13:18:29.498Z"
   },
   {
    "duration": 9,
    "start_time": "2023-02-28T13:18:29.505Z"
   },
   {
    "duration": 10,
    "start_time": "2023-02-28T13:18:33.174Z"
   },
   {
    "duration": 86,
    "start_time": "2023-02-28T13:31:56.554Z"
   },
   {
    "duration": 487,
    "start_time": "2023-02-28T13:33:34.118Z"
   },
   {
    "duration": 63,
    "start_time": "2023-02-28T13:33:56.268Z"
   },
   {
    "duration": 76,
    "start_time": "2023-03-01T12:45:16.665Z"
   },
   {
    "duration": 1662,
    "start_time": "2023-03-01T12:45:23.206Z"
   },
   {
    "duration": 1006,
    "start_time": "2023-03-01T12:45:24.870Z"
   },
   {
    "duration": 12,
    "start_time": "2023-03-01T12:45:25.877Z"
   },
   {
    "duration": 13,
    "start_time": "2023-03-01T12:45:25.891Z"
   },
   {
    "duration": 11,
    "start_time": "2023-03-01T12:45:25.905Z"
   },
   {
    "duration": 18,
    "start_time": "2023-03-01T12:45:25.918Z"
   },
   {
    "duration": 9,
    "start_time": "2023-03-01T12:45:25.938Z"
   },
   {
    "duration": 68,
    "start_time": "2023-03-01T12:45:25.948Z"
   },
   {
    "duration": 13,
    "start_time": "2023-03-01T12:45:26.017Z"
   },
   {
    "duration": 17,
    "start_time": "2023-03-01T12:45:26.032Z"
   },
   {
    "duration": 130,
    "start_time": "2023-03-01T12:45:26.050Z"
   },
   {
    "duration": 12,
    "start_time": "2023-03-01T12:45:26.182Z"
   },
   {
    "duration": 7,
    "start_time": "2023-03-01T12:45:26.195Z"
   },
   {
    "duration": 50,
    "start_time": "2023-03-01T12:45:26.205Z"
   },
   {
    "duration": 195,
    "start_time": "2023-03-01T12:45:26.257Z"
   },
   {
    "duration": 5,
    "start_time": "2023-03-01T12:45:26.454Z"
   },
   {
    "duration": 10,
    "start_time": "2023-03-01T12:45:26.460Z"
   },
   {
    "duration": 18,
    "start_time": "2023-03-01T12:45:26.472Z"
   },
   {
    "duration": 10,
    "start_time": "2023-03-01T12:45:26.492Z"
   },
   {
    "duration": 36,
    "start_time": "2023-03-01T12:45:26.528Z"
   },
   {
    "duration": 6,
    "start_time": "2023-03-01T12:45:26.566Z"
   },
   {
    "duration": 10,
    "start_time": "2023-03-01T12:45:26.574Z"
   },
   {
    "duration": 94,
    "start_time": "2023-03-01T12:45:26.586Z"
   },
   {
    "duration": 16,
    "start_time": "2023-03-01T12:45:26.682Z"
   },
   {
    "duration": 27,
    "start_time": "2023-03-01T12:45:26.700Z"
   },
   {
    "duration": 5,
    "start_time": "2023-03-01T12:45:26.729Z"
   },
   {
    "duration": 16,
    "start_time": "2023-03-01T12:45:26.735Z"
   },
   {
    "duration": 16,
    "start_time": "2023-03-01T12:45:26.757Z"
   },
   {
    "duration": 10,
    "start_time": "2023-03-01T12:45:26.775Z"
   },
   {
    "duration": 76,
    "start_time": "2023-03-01T12:45:26.787Z"
   },
   {
    "duration": 9,
    "start_time": "2023-03-01T12:45:26.865Z"
   },
   {
    "duration": 11,
    "start_time": "2023-03-01T12:45:26.877Z"
   },
   {
    "duration": 38,
    "start_time": "2023-03-01T12:45:26.890Z"
   },
   {
    "duration": 330,
    "start_time": "2023-03-01T12:45:26.930Z"
   },
   {
    "duration": 106,
    "start_time": "2023-03-01T12:45:27.262Z"
   },
   {
    "duration": 7,
    "start_time": "2023-03-01T12:45:27.370Z"
   },
   {
    "duration": 116,
    "start_time": "2023-03-01T12:45:27.379Z"
   },
   {
    "duration": 5,
    "start_time": "2023-03-01T12:45:27.497Z"
   },
   {
    "duration": 23,
    "start_time": "2023-03-01T12:45:27.504Z"
   },
   {
    "duration": 12,
    "start_time": "2023-03-01T12:45:27.528Z"
   },
   {
    "duration": 13,
    "start_time": "2023-03-01T12:45:27.542Z"
   },
   {
    "duration": 6,
    "start_time": "2023-03-01T12:45:27.556Z"
   },
   {
    "duration": 6,
    "start_time": "2023-03-01T12:45:27.564Z"
   },
   {
    "duration": 7,
    "start_time": "2023-03-01T12:45:27.572Z"
   },
   {
    "duration": 9,
    "start_time": "2023-03-01T12:45:27.581Z"
   },
   {
    "duration": 42,
    "start_time": "2023-03-01T12:45:27.591Z"
   },
   {
    "duration": 50,
    "start_time": "2023-03-01T12:45:27.634Z"
   },
   {
    "duration": 47,
    "start_time": "2023-03-01T12:45:27.685Z"
   },
   {
    "duration": 25,
    "start_time": "2023-03-01T12:45:27.734Z"
   },
   {
    "duration": 22,
    "start_time": "2023-03-01T12:45:27.761Z"
   },
   {
    "duration": 296,
    "start_time": "2023-03-01T12:45:27.785Z"
   },
   {
    "duration": 12,
    "start_time": "2023-03-01T12:45:28.082Z"
   },
   {
    "duration": 342,
    "start_time": "2023-03-01T12:45:28.096Z"
   },
   {
    "duration": 11,
    "start_time": "2023-03-01T12:45:28.440Z"
   },
   {
    "duration": 194,
    "start_time": "2023-03-01T12:45:28.453Z"
   },
   {
    "duration": 10,
    "start_time": "2023-03-01T12:45:28.649Z"
   },
   {
    "duration": 16,
    "start_time": "2023-03-01T12:45:28.660Z"
   },
   {
    "duration": 7,
    "start_time": "2023-03-01T12:45:28.678Z"
   },
   {
    "duration": 17,
    "start_time": "2023-03-01T12:45:28.687Z"
   },
   {
    "duration": 2782,
    "start_time": "2023-03-01T12:45:28.706Z"
   },
   {
    "duration": 63,
    "start_time": "2023-03-01T12:45:31.489Z"
   },
   {
    "duration": 14,
    "start_time": "2023-03-01T12:45:31.554Z"
   },
   {
    "duration": 63,
    "start_time": "2023-03-01T12:45:31.570Z"
   },
   {
    "duration": 24,
    "start_time": "2023-03-01T12:45:31.635Z"
   },
   {
    "duration": 7,
    "start_time": "2023-03-01T12:45:31.661Z"
   },
   {
    "duration": 92,
    "start_time": "2023-03-01T12:45:31.670Z"
   },
   {
    "duration": 66,
    "start_time": "2023-03-01T12:45:31.764Z"
   },
   {
    "duration": 660,
    "start_time": "2023-03-01T12:45:31.832Z"
   },
   {
    "duration": 589,
    "start_time": "2023-03-01T12:45:32.494Z"
   },
   {
    "duration": 682,
    "start_time": "2023-03-01T12:45:33.086Z"
   },
   {
    "duration": 9,
    "start_time": "2023-03-01T12:49:37.450Z"
   },
   {
    "duration": 95,
    "start_time": "2023-03-01T12:49:47.358Z"
   },
   {
    "duration": 14,
    "start_time": "2023-03-01T12:53:30.551Z"
   },
   {
    "duration": 12,
    "start_time": "2023-03-01T12:55:30.656Z"
   },
   {
    "duration": 148,
    "start_time": "2023-03-01T12:57:47.486Z"
   },
   {
    "duration": 17,
    "start_time": "2023-03-01T12:58:02.476Z"
   },
   {
    "duration": 16,
    "start_time": "2023-03-01T12:58:11.368Z"
   },
   {
    "duration": 8,
    "start_time": "2023-03-01T12:59:07.823Z"
   },
   {
    "duration": 9,
    "start_time": "2023-03-01T13:00:20.594Z"
   },
   {
    "duration": 22,
    "start_time": "2023-03-01T13:01:57.545Z"
   },
   {
    "duration": 292,
    "start_time": "2023-03-01T13:07:39.787Z"
   },
   {
    "duration": 207,
    "start_time": "2023-03-01T13:07:57.724Z"
   },
   {
    "duration": 14,
    "start_time": "2023-03-01T13:08:15.176Z"
   },
   {
    "duration": 5,
    "start_time": "2023-03-01T13:08:51.674Z"
   },
   {
    "duration": 11,
    "start_time": "2023-03-01T13:09:23.709Z"
   },
   {
    "duration": 15,
    "start_time": "2023-03-01T13:09:41.955Z"
   },
   {
    "duration": 1831,
    "start_time": "2023-03-01T13:11:24.584Z"
   },
   {
    "duration": 17,
    "start_time": "2023-03-01T13:11:47.839Z"
   },
   {
    "duration": 13,
    "start_time": "2023-03-01T13:13:47.904Z"
   },
   {
    "duration": 14,
    "start_time": "2023-03-01T13:13:51.223Z"
   },
   {
    "duration": 242,
    "start_time": "2023-03-01T13:13:51.240Z"
   },
   {
    "duration": 10,
    "start_time": "2023-03-01T13:13:51.485Z"
   },
   {
    "duration": 13,
    "start_time": "2023-03-01T13:13:51.497Z"
   },
   {
    "duration": 19,
    "start_time": "2023-03-01T13:13:51.513Z"
   },
   {
    "duration": 11,
    "start_time": "2023-03-01T13:13:51.534Z"
   },
   {
    "duration": 159,
    "start_time": "2023-03-01T13:13:51.548Z"
   },
   {
    "duration": 73,
    "start_time": "2023-03-01T13:13:51.708Z"
   },
   {
    "duration": 15,
    "start_time": "2023-03-01T13:13:51.784Z"
   },
   {
    "duration": 33,
    "start_time": "2023-03-01T13:13:51.802Z"
   },
   {
    "duration": 30,
    "start_time": "2023-03-01T13:13:51.837Z"
   },
   {
    "duration": 7,
    "start_time": "2023-03-01T13:13:51.869Z"
   },
   {
    "duration": 49,
    "start_time": "2023-03-01T13:13:51.878Z"
   },
   {
    "duration": 13,
    "start_time": "2023-03-01T13:13:51.931Z"
   },
   {
    "duration": 588,
    "start_time": "2023-03-01T13:13:51.947Z"
   },
   {
    "duration": 556,
    "start_time": "2023-03-01T13:13:52.537Z"
   },
   {
    "duration": 593,
    "start_time": "2023-03-01T13:13:53.095Z"
   },
   {
    "duration": 4,
    "start_time": "2023-03-01T14:11:11.703Z"
   },
   {
    "duration": 645,
    "start_time": "2023-03-01T14:11:11.710Z"
   },
   {
    "duration": 12,
    "start_time": "2023-03-01T14:11:12.357Z"
   },
   {
    "duration": 19,
    "start_time": "2023-03-01T14:11:12.371Z"
   },
   {
    "duration": 11,
    "start_time": "2023-03-01T14:11:12.393Z"
   },
   {
    "duration": 28,
    "start_time": "2023-03-01T14:11:12.406Z"
   },
   {
    "duration": 9,
    "start_time": "2023-03-01T14:11:12.436Z"
   },
   {
    "duration": 120,
    "start_time": "2023-03-01T14:11:12.447Z"
   },
   {
    "duration": 8,
    "start_time": "2023-03-01T14:11:12.569Z"
   },
   {
    "duration": 16,
    "start_time": "2023-03-01T14:11:12.579Z"
   },
   {
    "duration": 112,
    "start_time": "2023-03-01T14:11:12.597Z"
   },
   {
    "duration": 19,
    "start_time": "2023-03-01T14:11:12.711Z"
   },
   {
    "duration": 6,
    "start_time": "2023-03-01T14:11:12.731Z"
   },
   {
    "duration": 31,
    "start_time": "2023-03-01T14:11:12.740Z"
   },
   {
    "duration": 208,
    "start_time": "2023-03-01T14:11:12.772Z"
   },
   {
    "duration": 5,
    "start_time": "2023-03-01T14:11:12.982Z"
   },
   {
    "duration": 11,
    "start_time": "2023-03-01T14:11:12.989Z"
   },
   {
    "duration": 31,
    "start_time": "2023-03-01T14:11:13.001Z"
   },
   {
    "duration": 32,
    "start_time": "2023-03-01T14:11:13.034Z"
   },
   {
    "duration": 21,
    "start_time": "2023-03-01T14:11:13.067Z"
   },
   {
    "duration": 29,
    "start_time": "2023-03-01T14:11:13.090Z"
   },
   {
    "duration": 43,
    "start_time": "2023-03-01T14:11:13.127Z"
   },
   {
    "duration": 20,
    "start_time": "2023-03-01T14:11:13.171Z"
   },
   {
    "duration": 34,
    "start_time": "2023-03-01T14:11:13.194Z"
   },
   {
    "duration": 11,
    "start_time": "2023-03-01T14:11:13.231Z"
   },
   {
    "duration": 11,
    "start_time": "2023-03-01T14:11:13.244Z"
   },
   {
    "duration": 17,
    "start_time": "2023-03-01T14:11:13.257Z"
   },
   {
    "duration": 13,
    "start_time": "2023-03-01T14:11:13.276Z"
   },
   {
    "duration": 78,
    "start_time": "2023-03-01T14:11:13.291Z"
   },
   {
    "duration": 6,
    "start_time": "2023-03-01T14:11:13.371Z"
   },
   {
    "duration": 16,
    "start_time": "2023-03-01T14:11:13.379Z"
   },
   {
    "duration": 407,
    "start_time": "2023-03-01T14:11:13.396Z"
   },
   {
    "duration": 102,
    "start_time": "2023-03-01T14:11:13.805Z"
   },
   {
    "duration": 22,
    "start_time": "2023-03-01T14:11:13.909Z"
   },
   {
    "duration": 120,
    "start_time": "2023-03-01T14:11:13.932Z"
   },
   {
    "duration": 6,
    "start_time": "2023-03-01T14:11:14.054Z"
   },
   {
    "duration": 13,
    "start_time": "2023-03-01T14:11:14.061Z"
   },
   {
    "duration": 18,
    "start_time": "2023-03-01T14:11:14.075Z"
   },
   {
    "duration": 7,
    "start_time": "2023-03-01T14:11:14.095Z"
   },
   {
    "duration": 26,
    "start_time": "2023-03-01T14:11:14.103Z"
   },
   {
    "duration": 6,
    "start_time": "2023-03-01T14:11:14.136Z"
   },
   {
    "duration": 17,
    "start_time": "2023-03-01T14:11:14.144Z"
   },
   {
    "duration": 28,
    "start_time": "2023-03-01T14:11:14.164Z"
   },
   {
    "duration": 18,
    "start_time": "2023-03-01T14:11:14.194Z"
   },
   {
    "duration": 61,
    "start_time": "2023-03-01T14:11:14.214Z"
   },
   {
    "duration": 20,
    "start_time": "2023-03-01T14:11:14.277Z"
   },
   {
    "duration": 35,
    "start_time": "2023-03-01T14:11:14.299Z"
   },
   {
    "duration": 15,
    "start_time": "2023-03-01T14:11:14.335Z"
   },
   {
    "duration": 7,
    "start_time": "2023-03-01T14:11:14.352Z"
   },
   {
    "duration": 114,
    "start_time": "2023-03-01T14:11:14.360Z"
   },
   {
    "duration": 20,
    "start_time": "2023-03-01T14:11:14.476Z"
   },
   {
    "duration": 32,
    "start_time": "2023-03-01T14:11:14.498Z"
   },
   {
    "duration": 10,
    "start_time": "2023-03-01T14:11:14.531Z"
   },
   {
    "duration": 7,
    "start_time": "2023-03-01T14:11:14.543Z"
   },
   {
    "duration": 15,
    "start_time": "2023-03-01T14:11:14.552Z"
   },
   {
    "duration": 15,
    "start_time": "2023-03-01T14:11:14.569Z"
   },
   {
    "duration": 49,
    "start_time": "2023-03-01T14:11:14.586Z"
   },
   {
    "duration": 266,
    "start_time": "2023-03-01T14:11:14.637Z"
   },
   {
    "duration": 22,
    "start_time": "2023-03-01T14:11:14.905Z"
   },
   {
    "duration": 180,
    "start_time": "2023-03-01T14:11:14.929Z"
   },
   {
    "duration": 18,
    "start_time": "2023-03-01T14:11:15.110Z"
   },
   {
    "duration": 10,
    "start_time": "2023-03-01T14:11:15.130Z"
   },
   {
    "duration": 9,
    "start_time": "2023-03-01T14:11:15.142Z"
   },
   {
    "duration": 26,
    "start_time": "2023-03-01T14:11:15.152Z"
   },
   {
    "duration": 89,
    "start_time": "2023-03-01T14:11:15.180Z"
   },
   {
    "duration": 61,
    "start_time": "2023-03-01T14:11:15.271Z"
   },
   {
    "duration": 13,
    "start_time": "2023-03-01T14:11:15.334Z"
   },
   {
    "duration": 8,
    "start_time": "2023-03-01T14:11:15.349Z"
   },
   {
    "duration": 20,
    "start_time": "2023-03-01T14:11:15.359Z"
   },
   {
    "duration": 5,
    "start_time": "2023-03-01T14:11:15.381Z"
   },
   {
    "duration": 71,
    "start_time": "2023-03-01T14:11:15.388Z"
   },
   {
    "duration": 14,
    "start_time": "2023-03-01T14:11:15.461Z"
   },
   {
    "duration": 576,
    "start_time": "2023-03-01T14:11:15.477Z"
   },
   {
    "duration": 572,
    "start_time": "2023-03-01T14:11:16.055Z"
   },
   {
    "duration": 560,
    "start_time": "2023-03-01T14:11:16.629Z"
   },
   {
    "duration": 21,
    "start_time": "2023-03-01T14:11:55.932Z"
   },
   {
    "duration": 35,
    "start_time": "2023-03-01T14:12:02.244Z"
   },
   {
    "duration": 43,
    "start_time": "2023-03-01T14:14:49.183Z"
   },
   {
    "duration": 41,
    "start_time": "2023-03-01T14:15:33.036Z"
   },
   {
    "duration": 35,
    "start_time": "2023-03-01T14:21:30.451Z"
   },
   {
    "duration": 64,
    "start_time": "2023-03-01T14:22:07.440Z"
   },
   {
    "duration": 560,
    "start_time": "2023-03-01T14:23:39.422Z"
   },
   {
    "duration": 709,
    "start_time": "2023-03-01T14:25:01.030Z"
   },
   {
    "duration": 608,
    "start_time": "2023-03-01T14:25:10.221Z"
   },
   {
    "duration": 632,
    "start_time": "2023-03-01T14:25:17.338Z"
   },
   {
    "duration": 582,
    "start_time": "2023-03-01T14:25:22.286Z"
   },
   {
    "duration": 576,
    "start_time": "2023-03-01T14:25:27.205Z"
   },
   {
    "duration": 492,
    "start_time": "2023-03-01T14:28:45.762Z"
   },
   {
    "duration": 521,
    "start_time": "2023-03-01T14:29:03.031Z"
   },
   {
    "duration": 541,
    "start_time": "2023-03-01T14:29:11.253Z"
   },
   {
    "duration": 588,
    "start_time": "2023-03-01T14:29:16.874Z"
   },
   {
    "duration": 522,
    "start_time": "2023-03-01T14:29:24.432Z"
   },
   {
    "duration": 595,
    "start_time": "2023-03-01T14:29:33.301Z"
   },
   {
    "duration": 763,
    "start_time": "2023-03-01T14:29:40.202Z"
   },
   {
    "duration": 754,
    "start_time": "2023-03-01T14:29:45.051Z"
   },
   {
    "duration": 4,
    "start_time": "2023-03-01T14:47:14.138Z"
   },
   {
    "duration": 626,
    "start_time": "2023-03-01T14:47:14.145Z"
   },
   {
    "duration": 9,
    "start_time": "2023-03-01T14:47:14.773Z"
   },
   {
    "duration": 23,
    "start_time": "2023-03-01T14:47:14.783Z"
   },
   {
    "duration": 17,
    "start_time": "2023-03-01T14:47:14.807Z"
   },
   {
    "duration": 19,
    "start_time": "2023-03-01T14:47:14.827Z"
   },
   {
    "duration": 9,
    "start_time": "2023-03-01T14:47:14.848Z"
   },
   {
    "duration": 69,
    "start_time": "2023-03-01T14:47:14.858Z"
   },
   {
    "duration": 8,
    "start_time": "2023-03-01T14:47:14.929Z"
   },
   {
    "duration": 12,
    "start_time": "2023-03-01T14:47:14.939Z"
   },
   {
    "duration": 125,
    "start_time": "2023-03-01T14:47:14.953Z"
   },
   {
    "duration": 11,
    "start_time": "2023-03-01T14:47:15.080Z"
   },
   {
    "duration": 7,
    "start_time": "2023-03-01T14:47:15.093Z"
   },
   {
    "duration": 30,
    "start_time": "2023-03-01T14:47:15.127Z"
   },
   {
    "duration": 190,
    "start_time": "2023-03-01T14:47:15.161Z"
   },
   {
    "duration": 5,
    "start_time": "2023-03-01T14:47:15.352Z"
   },
   {
    "duration": 10,
    "start_time": "2023-03-01T14:47:15.358Z"
   },
   {
    "duration": 12,
    "start_time": "2023-03-01T14:47:15.369Z"
   },
   {
    "duration": 50,
    "start_time": "2023-03-01T14:47:15.383Z"
   },
   {
    "duration": 6,
    "start_time": "2023-03-01T14:47:15.435Z"
   },
   {
    "duration": 6,
    "start_time": "2023-03-01T14:47:15.442Z"
   },
   {
    "duration": 85,
    "start_time": "2023-03-01T14:47:15.450Z"
   },
   {
    "duration": 16,
    "start_time": "2023-03-01T14:47:15.537Z"
   },
   {
    "duration": 20,
    "start_time": "2023-03-01T14:47:15.556Z"
   },
   {
    "duration": 7,
    "start_time": "2023-03-01T14:47:15.579Z"
   },
   {
    "duration": 32,
    "start_time": "2023-03-01T14:47:15.588Z"
   },
   {
    "duration": 13,
    "start_time": "2023-03-01T14:47:15.622Z"
   },
   {
    "duration": 19,
    "start_time": "2023-03-01T14:47:15.637Z"
   },
   {
    "duration": 72,
    "start_time": "2023-03-01T14:47:15.658Z"
   },
   {
    "duration": 8,
    "start_time": "2023-03-01T14:47:15.732Z"
   },
   {
    "duration": 19,
    "start_time": "2023-03-01T14:47:15.741Z"
   },
   {
    "duration": 388,
    "start_time": "2023-03-01T14:47:15.762Z"
   },
   {
    "duration": 102,
    "start_time": "2023-03-01T14:47:16.152Z"
   },
   {
    "duration": 5,
    "start_time": "2023-03-01T14:47:16.256Z"
   },
   {
    "duration": 121,
    "start_time": "2023-03-01T14:47:16.263Z"
   },
   {
    "duration": 4,
    "start_time": "2023-03-01T14:47:16.386Z"
   },
   {
    "duration": 13,
    "start_time": "2023-03-01T14:47:16.392Z"
   },
   {
    "duration": 25,
    "start_time": "2023-03-01T14:47:16.407Z"
   },
   {
    "duration": 15,
    "start_time": "2023-03-01T14:47:16.433Z"
   },
   {
    "duration": 30,
    "start_time": "2023-03-01T14:47:16.450Z"
   },
   {
    "duration": 16,
    "start_time": "2023-03-01T14:47:16.482Z"
   },
   {
    "duration": 27,
    "start_time": "2023-03-01T14:47:16.503Z"
   },
   {
    "duration": 17,
    "start_time": "2023-03-01T14:47:16.531Z"
   },
   {
    "duration": 40,
    "start_time": "2023-03-01T14:47:16.550Z"
   },
   {
    "duration": 52,
    "start_time": "2023-03-01T14:47:16.593Z"
   },
   {
    "duration": 21,
    "start_time": "2023-03-01T14:47:16.648Z"
   },
   {
    "duration": 10,
    "start_time": "2023-03-01T14:47:16.670Z"
   },
   {
    "duration": 25,
    "start_time": "2023-03-01T14:47:16.681Z"
   },
   {
    "duration": 24,
    "start_time": "2023-03-01T14:47:16.707Z"
   },
   {
    "duration": 101,
    "start_time": "2023-03-01T14:47:16.733Z"
   },
   {
    "duration": 21,
    "start_time": "2023-03-01T14:47:16.836Z"
   },
   {
    "duration": 12,
    "start_time": "2023-03-01T14:47:16.860Z"
   },
   {
    "duration": 12,
    "start_time": "2023-03-01T14:47:16.874Z"
   },
   {
    "duration": 45,
    "start_time": "2023-03-01T14:47:16.888Z"
   },
   {
    "duration": 13,
    "start_time": "2023-03-01T14:47:16.936Z"
   },
   {
    "duration": 16,
    "start_time": "2023-03-01T14:47:16.951Z"
   },
   {
    "duration": 10,
    "start_time": "2023-03-01T14:47:16.968Z"
   },
   {
    "duration": 287,
    "start_time": "2023-03-01T14:47:16.980Z"
   },
   {
    "duration": 12,
    "start_time": "2023-03-01T14:47:17.270Z"
   },
   {
    "duration": 209,
    "start_time": "2023-03-01T14:47:17.283Z"
   },
   {
    "duration": 11,
    "start_time": "2023-03-01T14:47:17.494Z"
   },
   {
    "duration": 22,
    "start_time": "2023-03-01T14:47:17.506Z"
   },
   {
    "duration": 15,
    "start_time": "2023-03-01T14:47:17.529Z"
   },
   {
    "duration": 10,
    "start_time": "2023-03-01T14:47:17.546Z"
   },
   {
    "duration": 50,
    "start_time": "2023-03-01T14:47:17.557Z"
   },
   {
    "duration": 61,
    "start_time": "2023-03-01T14:47:17.609Z"
   },
   {
    "duration": 16,
    "start_time": "2023-03-01T14:47:17.671Z"
   },
   {
    "duration": 38,
    "start_time": "2023-03-01T14:47:17.689Z"
   },
   {
    "duration": 16,
    "start_time": "2023-03-01T14:47:17.729Z"
   },
   {
    "duration": 6,
    "start_time": "2023-03-01T14:47:17.747Z"
   },
   {
    "duration": 31,
    "start_time": "2023-03-01T14:47:17.754Z"
   },
   {
    "duration": 60,
    "start_time": "2023-03-01T14:47:17.787Z"
   },
   {
    "duration": 31,
    "start_time": "2023-03-01T14:47:17.849Z"
   },
   {
    "duration": 14,
    "start_time": "2023-03-01T14:47:17.883Z"
   },
   {
    "duration": 546,
    "start_time": "2023-03-01T14:47:17.927Z"
   },
   {
    "duration": 568,
    "start_time": "2023-03-01T14:47:18.476Z"
   },
   {
    "duration": 579,
    "start_time": "2023-03-01T14:47:19.046Z"
   },
   {
    "duration": 106,
    "start_time": "2023-03-01T15:18:55.276Z"
   },
   {
    "duration": 1541,
    "start_time": "2023-03-01T15:28:53.713Z"
   },
   {
    "duration": 1105,
    "start_time": "2023-03-01T15:28:55.257Z"
   },
   {
    "duration": 18,
    "start_time": "2023-03-01T15:28:56.364Z"
   },
   {
    "duration": 20,
    "start_time": "2023-03-01T15:28:56.383Z"
   },
   {
    "duration": 25,
    "start_time": "2023-03-01T15:28:56.405Z"
   },
   {
    "duration": 24,
    "start_time": "2023-03-01T15:28:56.431Z"
   },
   {
    "duration": 11,
    "start_time": "2023-03-01T15:28:56.457Z"
   },
   {
    "duration": 79,
    "start_time": "2023-03-01T15:28:56.470Z"
   },
   {
    "duration": 7,
    "start_time": "2023-03-01T15:28:56.551Z"
   },
   {
    "duration": 23,
    "start_time": "2023-03-01T15:28:56.560Z"
   },
   {
    "duration": 110,
    "start_time": "2023-03-01T15:28:56.585Z"
   },
   {
    "duration": 21,
    "start_time": "2023-03-01T15:28:56.697Z"
   },
   {
    "duration": 8,
    "start_time": "2023-03-01T15:28:56.720Z"
   },
   {
    "duration": 36,
    "start_time": "2023-03-01T15:28:56.731Z"
   },
   {
    "duration": 212,
    "start_time": "2023-03-01T15:28:56.768Z"
   },
   {
    "duration": 6,
    "start_time": "2023-03-01T15:28:56.981Z"
   },
   {
    "duration": 46,
    "start_time": "2023-03-01T15:28:56.988Z"
   },
   {
    "duration": 34,
    "start_time": "2023-03-01T15:28:57.036Z"
   },
   {
    "duration": 50,
    "start_time": "2023-03-01T15:28:57.072Z"
   },
   {
    "duration": 12,
    "start_time": "2023-03-01T15:28:57.124Z"
   },
   {
    "duration": 12,
    "start_time": "2023-03-01T15:28:57.137Z"
   },
   {
    "duration": 50,
    "start_time": "2023-03-01T15:28:57.152Z"
   },
   {
    "duration": 19,
    "start_time": "2023-03-01T15:28:57.204Z"
   },
   {
    "duration": 14,
    "start_time": "2023-03-01T15:28:57.226Z"
   },
   {
    "duration": 8,
    "start_time": "2023-03-01T15:28:57.242Z"
   },
   {
    "duration": 13,
    "start_time": "2023-03-01T15:28:57.251Z"
   },
   {
    "duration": 26,
    "start_time": "2023-03-01T15:28:57.267Z"
   },
   {
    "duration": 33,
    "start_time": "2023-03-01T15:28:57.296Z"
   },
   {
    "duration": 70,
    "start_time": "2023-03-01T15:28:57.331Z"
   },
   {
    "duration": 14,
    "start_time": "2023-03-01T15:28:57.402Z"
   },
   {
    "duration": 22,
    "start_time": "2023-03-01T15:28:57.418Z"
   },
   {
    "duration": 381,
    "start_time": "2023-03-01T15:28:57.442Z"
   },
   {
    "duration": 126,
    "start_time": "2023-03-01T15:28:57.825Z"
   },
   {
    "duration": 5,
    "start_time": "2023-03-01T15:28:57.953Z"
   },
   {
    "duration": 116,
    "start_time": "2023-03-01T15:28:57.960Z"
   },
   {
    "duration": 5,
    "start_time": "2023-03-01T15:28:58.078Z"
   },
   {
    "duration": 29,
    "start_time": "2023-03-01T15:28:58.084Z"
   },
   {
    "duration": 13,
    "start_time": "2023-03-01T15:28:58.122Z"
   },
   {
    "duration": 27,
    "start_time": "2023-03-01T15:28:58.137Z"
   },
   {
    "duration": 7,
    "start_time": "2023-03-01T15:28:58.165Z"
   },
   {
    "duration": 12,
    "start_time": "2023-03-01T15:28:58.177Z"
   },
   {
    "duration": 10,
    "start_time": "2023-03-01T15:28:58.191Z"
   },
   {
    "duration": 9,
    "start_time": "2023-03-01T15:28:58.203Z"
   },
   {
    "duration": 29,
    "start_time": "2023-03-01T15:28:58.214Z"
   },
   {
    "duration": 52,
    "start_time": "2023-03-01T15:28:58.244Z"
   },
   {
    "duration": 31,
    "start_time": "2023-03-01T15:28:58.298Z"
   },
   {
    "duration": 15,
    "start_time": "2023-03-01T15:28:58.331Z"
   },
   {
    "duration": 17,
    "start_time": "2023-03-01T15:28:58.347Z"
   },
   {
    "duration": 8,
    "start_time": "2023-03-01T15:28:58.366Z"
   },
   {
    "duration": 120,
    "start_time": "2023-03-01T15:28:58.375Z"
   },
   {
    "duration": 32,
    "start_time": "2023-03-01T15:28:58.497Z"
   },
   {
    "duration": 14,
    "start_time": "2023-03-01T15:28:58.531Z"
   },
   {
    "duration": 17,
    "start_time": "2023-03-01T15:28:58.546Z"
   },
   {
    "duration": 9,
    "start_time": "2023-03-01T15:28:58.565Z"
   },
   {
    "duration": 40,
    "start_time": "2023-03-01T15:28:58.576Z"
   },
   {
    "duration": 19,
    "start_time": "2023-03-01T15:28:58.627Z"
   },
   {
    "duration": 11,
    "start_time": "2023-03-01T15:28:58.648Z"
   },
   {
    "duration": 403,
    "start_time": "2023-03-01T15:28:58.661Z"
   },
   {
    "duration": 11,
    "start_time": "2023-03-01T15:28:59.066Z"
   },
   {
    "duration": 195,
    "start_time": "2023-03-01T15:28:59.079Z"
   },
   {
    "duration": 10,
    "start_time": "2023-03-01T15:28:59.277Z"
   },
   {
    "duration": 29,
    "start_time": "2023-03-01T15:28:59.288Z"
   },
   {
    "duration": 28,
    "start_time": "2023-03-01T15:28:59.318Z"
   },
   {
    "duration": 24,
    "start_time": "2023-03-01T15:28:59.347Z"
   },
   {
    "duration": 953,
    "start_time": "2023-03-01T15:28:59.373Z"
   },
   {
    "duration": 92,
    "start_time": "2023-03-01T15:29:00.328Z"
   },
   {
    "duration": 21,
    "start_time": "2023-03-01T15:29:00.424Z"
   },
   {
    "duration": 20,
    "start_time": "2023-03-01T15:29:00.447Z"
   },
   {
    "duration": 33,
    "start_time": "2023-03-01T15:29:00.505Z"
   },
   {
    "duration": 25,
    "start_time": "2023-03-01T15:29:00.540Z"
   },
   {
    "duration": 61,
    "start_time": "2023-03-01T15:29:00.567Z"
   },
   {
    "duration": 45,
    "start_time": "2023-03-01T15:29:00.630Z"
   },
   {
    "duration": 33,
    "start_time": "2023-03-01T15:29:00.677Z"
   },
   {
    "duration": 46,
    "start_time": "2023-03-01T15:29:00.712Z"
   },
   {
    "duration": 616,
    "start_time": "2023-03-01T15:29:00.761Z"
   },
   {
    "duration": 605,
    "start_time": "2023-03-01T15:29:01.378Z"
   },
   {
    "duration": 588,
    "start_time": "2023-03-01T15:29:01.985Z"
   },
   {
    "duration": 101,
    "start_time": "2023-03-01T18:03:40.401Z"
   },
   {
    "duration": 10,
    "start_time": "2023-03-01T18:03:49.989Z"
   },
   {
    "duration": 4,
    "start_time": "2023-03-01T18:04:34.910Z"
   },
   {
    "duration": 4,
    "start_time": "2023-03-01T18:05:04.346Z"
   },
   {
    "duration": 4,
    "start_time": "2023-03-01T18:06:36.177Z"
   },
   {
    "duration": 4,
    "start_time": "2023-03-01T18:06:38.329Z"
   },
   {
    "duration": 5,
    "start_time": "2023-03-01T18:06:43.967Z"
   },
   {
    "duration": 13,
    "start_time": "2023-03-01T18:20:39.538Z"
   },
   {
    "duration": 16,
    "start_time": "2023-03-01T18:23:37.241Z"
   },
   {
    "duration": 16,
    "start_time": "2023-03-01T18:49:51.225Z"
   },
   {
    "duration": 16,
    "start_time": "2023-03-01T18:50:10.452Z"
   },
   {
    "duration": 13,
    "start_time": "2023-03-01T18:50:31.670Z"
   },
   {
    "duration": 11,
    "start_time": "2023-03-01T18:51:46.388Z"
   },
   {
    "duration": 15,
    "start_time": "2023-03-01T18:52:18.561Z"
   },
   {
    "duration": 9,
    "start_time": "2023-03-01T18:54:13.404Z"
   },
   {
    "duration": 4,
    "start_time": "2023-03-01T18:57:01.790Z"
   },
   {
    "duration": 21,
    "start_time": "2023-03-01T18:57:25.227Z"
   },
   {
    "duration": 4,
    "start_time": "2023-03-01T18:58:44.301Z"
   },
   {
    "duration": 5,
    "start_time": "2023-03-01T18:58:45.776Z"
   },
   {
    "duration": 9,
    "start_time": "2023-03-01T18:58:52.398Z"
   },
   {
    "duration": 5,
    "start_time": "2023-03-01T18:59:51.368Z"
   },
   {
    "duration": 5,
    "start_time": "2023-03-01T18:59:53.352Z"
   },
   {
    "duration": 14,
    "start_time": "2023-03-01T18:59:55.171Z"
   },
   {
    "duration": 6,
    "start_time": "2023-03-01T19:00:05.633Z"
   },
   {
    "duration": 5,
    "start_time": "2023-03-01T19:00:07.183Z"
   },
   {
    "duration": 10,
    "start_time": "2023-03-01T19:00:08.415Z"
   },
   {
    "duration": 16,
    "start_time": "2023-03-01T19:01:20.455Z"
   },
   {
    "duration": 13,
    "start_time": "2023-03-01T19:02:25.207Z"
   },
   {
    "duration": 4,
    "start_time": "2023-03-01T19:04:02.042Z"
   },
   {
    "duration": 178,
    "start_time": "2023-03-01T19:04:32.284Z"
   },
   {
    "duration": 4,
    "start_time": "2023-03-01T19:04:50.930Z"
   },
   {
    "duration": 85,
    "start_time": "2023-03-01T19:04:52.295Z"
   },
   {
    "duration": 3,
    "start_time": "2023-03-01T19:05:28.946Z"
   },
   {
    "duration": 106,
    "start_time": "2023-03-01T19:05:30.823Z"
   },
   {
    "duration": 16,
    "start_time": "2023-03-01T19:05:49.597Z"
   },
   {
    "duration": 12,
    "start_time": "2023-03-01T19:06:17.243Z"
   },
   {
    "duration": 410,
    "start_time": "2023-03-01T19:06:27.863Z"
   },
   {
    "duration": 13,
    "start_time": "2023-03-01T19:06:34.792Z"
   },
   {
    "duration": 10,
    "start_time": "2023-03-01T19:07:53.572Z"
   },
   {
    "duration": 6,
    "start_time": "2023-03-01T19:08:19.599Z"
   },
   {
    "duration": 7,
    "start_time": "2023-03-01T19:10:37.512Z"
   },
   {
    "duration": 3,
    "start_time": "2023-03-01T19:38:03.751Z"
   },
   {
    "duration": 734,
    "start_time": "2023-03-01T19:38:03.756Z"
   },
   {
    "duration": 8,
    "start_time": "2023-03-01T19:38:04.492Z"
   },
   {
    "duration": 13,
    "start_time": "2023-03-01T19:38:04.502Z"
   },
   {
    "duration": 22,
    "start_time": "2023-03-01T19:38:04.518Z"
   },
   {
    "duration": 34,
    "start_time": "2023-03-01T19:38:04.544Z"
   },
   {
    "duration": 10,
    "start_time": "2023-03-01T19:38:04.581Z"
   },
   {
    "duration": 72,
    "start_time": "2023-03-01T19:38:04.593Z"
   },
   {
    "duration": 9,
    "start_time": "2023-03-01T19:38:04.668Z"
   },
   {
    "duration": 35,
    "start_time": "2023-03-01T19:38:04.679Z"
   },
   {
    "duration": 106,
    "start_time": "2023-03-01T19:38:04.716Z"
   },
   {
    "duration": 16,
    "start_time": "2023-03-01T19:38:04.824Z"
   },
   {
    "duration": 26,
    "start_time": "2023-03-01T19:38:04.842Z"
   },
   {
    "duration": 51,
    "start_time": "2023-03-01T19:38:04.872Z"
   },
   {
    "duration": 179,
    "start_time": "2023-03-01T19:38:04.925Z"
   },
   {
    "duration": 7,
    "start_time": "2023-03-01T19:38:05.106Z"
   },
   {
    "duration": 35,
    "start_time": "2023-03-01T19:38:05.115Z"
   },
   {
    "duration": 16,
    "start_time": "2023-03-01T19:38:05.153Z"
   },
   {
    "duration": 45,
    "start_time": "2023-03-01T19:38:05.172Z"
   },
   {
    "duration": 10,
    "start_time": "2023-03-01T19:38:05.219Z"
   },
   {
    "duration": 30,
    "start_time": "2023-03-01T19:38:05.233Z"
   },
   {
    "duration": 68,
    "start_time": "2023-03-01T19:38:05.266Z"
   },
   {
    "duration": 20,
    "start_time": "2023-03-01T19:38:05.335Z"
   },
   {
    "duration": 9,
    "start_time": "2023-03-01T19:38:05.357Z"
   },
   {
    "duration": 17,
    "start_time": "2023-03-01T19:38:05.368Z"
   },
   {
    "duration": 13,
    "start_time": "2023-03-01T19:38:05.387Z"
   },
   {
    "duration": 15,
    "start_time": "2023-03-01T19:38:05.402Z"
   },
   {
    "duration": 58,
    "start_time": "2023-03-01T19:38:05.419Z"
   },
   {
    "duration": 56,
    "start_time": "2023-03-01T19:38:05.479Z"
   },
   {
    "duration": 12,
    "start_time": "2023-03-01T19:38:05.536Z"
   },
   {
    "duration": 21,
    "start_time": "2023-03-01T19:38:05.549Z"
   },
   {
    "duration": 365,
    "start_time": "2023-03-01T19:38:05.572Z"
   },
   {
    "duration": 95,
    "start_time": "2023-03-01T19:38:05.938Z"
   },
   {
    "duration": 10,
    "start_time": "2023-03-01T19:38:06.037Z"
   },
   {
    "duration": 107,
    "start_time": "2023-03-01T19:38:06.048Z"
   },
   {
    "duration": 4,
    "start_time": "2023-03-01T19:38:06.157Z"
   },
   {
    "duration": 9,
    "start_time": "2023-03-01T19:38:06.162Z"
   },
   {
    "duration": 11,
    "start_time": "2023-03-01T19:38:06.173Z"
   },
   {
    "duration": 10,
    "start_time": "2023-03-01T19:38:06.185Z"
   },
   {
    "duration": 19,
    "start_time": "2023-03-01T19:38:06.197Z"
   },
   {
    "duration": 30,
    "start_time": "2023-03-01T19:38:06.220Z"
   },
   {
    "duration": 11,
    "start_time": "2023-03-01T19:38:06.252Z"
   },
   {
    "duration": 17,
    "start_time": "2023-03-01T19:38:06.264Z"
   },
   {
    "duration": 19,
    "start_time": "2023-03-01T19:38:06.283Z"
   },
   {
    "duration": 53,
    "start_time": "2023-03-01T19:38:06.304Z"
   },
   {
    "duration": 21,
    "start_time": "2023-03-01T19:38:06.359Z"
   },
   {
    "duration": 10,
    "start_time": "2023-03-01T19:38:06.381Z"
   },
   {
    "duration": 39,
    "start_time": "2023-03-01T19:38:06.392Z"
   },
   {
    "duration": 9,
    "start_time": "2023-03-01T19:38:06.433Z"
   },
   {
    "duration": 111,
    "start_time": "2023-03-01T19:38:06.447Z"
   },
   {
    "duration": 22,
    "start_time": "2023-03-01T19:38:06.560Z"
   },
   {
    "duration": 5,
    "start_time": "2023-03-01T19:38:06.584Z"
   },
   {
    "duration": 9,
    "start_time": "2023-03-01T19:38:06.591Z"
   },
   {
    "duration": 39,
    "start_time": "2023-03-01T19:38:06.602Z"
   },
   {
    "duration": 12,
    "start_time": "2023-03-01T19:38:06.643Z"
   },
   {
    "duration": 6,
    "start_time": "2023-03-01T19:38:06.657Z"
   },
   {
    "duration": 543,
    "start_time": "2023-03-01T19:38:06.665Z"
   },
   {
    "duration": 14,
    "start_time": "2023-03-01T19:38:07.209Z"
   },
   {
    "duration": 31,
    "start_time": "2023-03-01T19:38:07.229Z"
   },
   {
    "duration": 9,
    "start_time": "2023-03-01T19:38:07.262Z"
   },
   {
    "duration": 11,
    "start_time": "2023-03-01T19:38:07.274Z"
   },
   {
    "duration": 17,
    "start_time": "2023-03-01T19:38:07.287Z"
   },
   {
    "duration": 36,
    "start_time": "2023-03-01T19:38:07.306Z"
   },
   {
    "duration": 17,
    "start_time": "2023-03-01T19:38:07.349Z"
   },
   {
    "duration": 328,
    "start_time": "2023-03-01T19:38:07.368Z"
   },
   {
    "duration": 29,
    "start_time": "2023-03-01T19:38:07.698Z"
   },
   {
    "duration": 306,
    "start_time": "2023-03-01T19:38:07.730Z"
   },
   {
    "duration": 16,
    "start_time": "2023-03-01T19:38:08.038Z"
   },
   {
    "duration": 17,
    "start_time": "2023-03-01T19:38:08.057Z"
   },
   {
    "duration": 23,
    "start_time": "2023-03-01T19:38:08.077Z"
   },
   {
    "duration": 21,
    "start_time": "2023-03-01T19:38:08.103Z"
   },
   {
    "duration": 98,
    "start_time": "2023-03-01T19:38:08.127Z"
   },
   {
    "duration": 48,
    "start_time": "2023-03-01T19:38:08.226Z"
   },
   {
    "duration": 14,
    "start_time": "2023-03-01T19:38:08.275Z"
   },
   {
    "duration": 40,
    "start_time": "2023-03-01T19:38:08.291Z"
   },
   {
    "duration": 22,
    "start_time": "2023-03-01T19:38:08.333Z"
   },
   {
    "duration": 17,
    "start_time": "2023-03-01T19:38:08.357Z"
   },
   {
    "duration": 53,
    "start_time": "2023-03-01T19:38:08.375Z"
   },
   {
    "duration": 0,
    "start_time": "2023-03-01T19:38:08.429Z"
   },
   {
    "duration": 0,
    "start_time": "2023-03-01T19:38:08.431Z"
   },
   {
    "duration": 0,
    "start_time": "2023-03-01T19:38:08.432Z"
   },
   {
    "duration": 0,
    "start_time": "2023-03-01T19:38:08.434Z"
   },
   {
    "duration": 0,
    "start_time": "2023-03-01T19:38:08.435Z"
   },
   {
    "duration": 0,
    "start_time": "2023-03-01T19:38:08.436Z"
   },
   {
    "duration": 40,
    "start_time": "2023-03-01T19:39:32.345Z"
   },
   {
    "duration": 10,
    "start_time": "2023-03-01T19:47:07.144Z"
   },
   {
    "duration": 4,
    "start_time": "2023-03-01T19:52:06.700Z"
   },
   {
    "duration": 15,
    "start_time": "2023-03-01T19:52:51.514Z"
   },
   {
    "duration": 6,
    "start_time": "2023-03-01T19:53:21.505Z"
   },
   {
    "duration": 3,
    "start_time": "2023-03-01T19:53:31.364Z"
   },
   {
    "duration": 9,
    "start_time": "2023-03-01T19:53:32.521Z"
   },
   {
    "duration": 21,
    "start_time": "2023-03-01T19:53:34.034Z"
   },
   {
    "duration": 14,
    "start_time": "2023-03-01T19:54:03.767Z"
   },
   {
    "duration": 16,
    "start_time": "2023-03-01T19:54:07.385Z"
   },
   {
    "duration": 9,
    "start_time": "2023-03-01T19:54:17.643Z"
   },
   {
    "duration": 652,
    "start_time": "2023-03-01T19:54:17.654Z"
   },
   {
    "duration": 9,
    "start_time": "2023-03-01T19:54:18.307Z"
   },
   {
    "duration": 12,
    "start_time": "2023-03-01T19:54:18.317Z"
   },
   {
    "duration": 30,
    "start_time": "2023-03-01T19:54:18.332Z"
   },
   {
    "duration": 20,
    "start_time": "2023-03-01T19:54:18.363Z"
   },
   {
    "duration": 8,
    "start_time": "2023-03-01T19:54:18.384Z"
   },
   {
    "duration": 69,
    "start_time": "2023-03-01T19:54:18.394Z"
   },
   {
    "duration": 7,
    "start_time": "2023-03-01T19:54:18.466Z"
   },
   {
    "duration": 13,
    "start_time": "2023-03-01T19:54:18.474Z"
   },
   {
    "duration": 109,
    "start_time": "2023-03-01T19:54:18.489Z"
   },
   {
    "duration": 10,
    "start_time": "2023-03-01T19:54:18.600Z"
   },
   {
    "duration": 23,
    "start_time": "2023-03-01T19:54:18.612Z"
   },
   {
    "duration": 45,
    "start_time": "2023-03-01T19:54:18.637Z"
   },
   {
    "duration": 182,
    "start_time": "2023-03-01T19:54:18.683Z"
   },
   {
    "duration": 4,
    "start_time": "2023-03-01T19:54:18.867Z"
   },
   {
    "duration": 8,
    "start_time": "2023-03-01T19:54:18.872Z"
   },
   {
    "duration": 7,
    "start_time": "2023-03-01T19:54:18.882Z"
   },
   {
    "duration": 45,
    "start_time": "2023-03-01T19:54:18.891Z"
   },
   {
    "duration": 10,
    "start_time": "2023-03-01T19:54:18.938Z"
   },
   {
    "duration": 8,
    "start_time": "2023-03-01T19:54:18.952Z"
   },
   {
    "duration": 37,
    "start_time": "2023-03-01T19:54:18.962Z"
   },
   {
    "duration": 28,
    "start_time": "2023-03-01T19:54:19.001Z"
   },
   {
    "duration": 6,
    "start_time": "2023-03-01T19:54:19.033Z"
   },
   {
    "duration": 20,
    "start_time": "2023-03-01T19:54:19.041Z"
   },
   {
    "duration": 8,
    "start_time": "2023-03-01T19:54:19.062Z"
   },
   {
    "duration": 9,
    "start_time": "2023-03-01T19:54:19.072Z"
   },
   {
    "duration": 10,
    "start_time": "2023-03-01T19:54:19.082Z"
   },
   {
    "duration": 62,
    "start_time": "2023-03-01T19:54:19.093Z"
   },
   {
    "duration": 7,
    "start_time": "2023-03-01T19:54:19.157Z"
   },
   {
    "duration": 9,
    "start_time": "2023-03-01T19:54:19.165Z"
   },
   {
    "duration": 357,
    "start_time": "2023-03-01T19:54:19.175Z"
   },
   {
    "duration": 113,
    "start_time": "2023-03-01T19:54:19.533Z"
   },
   {
    "duration": 11,
    "start_time": "2023-03-01T19:54:19.650Z"
   },
   {
    "duration": 112,
    "start_time": "2023-03-01T19:54:19.662Z"
   },
   {
    "duration": 4,
    "start_time": "2023-03-01T19:54:19.776Z"
   },
   {
    "duration": 11,
    "start_time": "2023-03-01T19:54:19.782Z"
   },
   {
    "duration": 10,
    "start_time": "2023-03-01T19:54:19.795Z"
   },
   {
    "duration": 5,
    "start_time": "2023-03-01T19:54:19.807Z"
   },
   {
    "duration": 29,
    "start_time": "2023-03-01T19:54:19.814Z"
   },
   {
    "duration": 11,
    "start_time": "2023-03-01T19:54:19.850Z"
   },
   {
    "duration": 8,
    "start_time": "2023-03-01T19:54:19.863Z"
   },
   {
    "duration": 5,
    "start_time": "2023-03-01T19:54:19.873Z"
   },
   {
    "duration": 15,
    "start_time": "2023-03-01T19:54:19.880Z"
   },
   {
    "duration": 66,
    "start_time": "2023-03-01T19:54:19.897Z"
   },
   {
    "duration": 18,
    "start_time": "2023-03-01T19:54:19.964Z"
   },
   {
    "duration": 9,
    "start_time": "2023-03-01T19:54:19.983Z"
   },
   {
    "duration": 12,
    "start_time": "2023-03-01T19:54:19.993Z"
   },
   {
    "duration": 16,
    "start_time": "2023-03-01T19:54:20.028Z"
   },
   {
    "duration": 103,
    "start_time": "2023-03-01T19:54:20.048Z"
   },
   {
    "duration": 21,
    "start_time": "2023-03-01T19:54:20.157Z"
   },
   {
    "duration": 4,
    "start_time": "2023-03-01T19:54:20.179Z"
   },
   {
    "duration": 7,
    "start_time": "2023-03-01T19:54:20.185Z"
   },
   {
    "duration": 14,
    "start_time": "2023-03-01T19:54:20.193Z"
   },
   {
    "duration": 27,
    "start_time": "2023-03-01T19:54:20.210Z"
   },
   {
    "duration": 28,
    "start_time": "2023-03-01T19:54:20.238Z"
   },
   {
    "duration": 615,
    "start_time": "2023-03-01T19:54:20.268Z"
   },
   {
    "duration": 14,
    "start_time": "2023-03-01T19:54:20.884Z"
   },
   {
    "duration": 12,
    "start_time": "2023-03-01T19:54:20.900Z"
   },
   {
    "duration": 24,
    "start_time": "2023-03-01T19:54:20.914Z"
   },
   {
    "duration": 13,
    "start_time": "2023-03-01T19:54:20.942Z"
   },
   {
    "duration": 17,
    "start_time": "2023-03-01T19:54:20.956Z"
   },
   {
    "duration": 98,
    "start_time": "2023-03-01T19:54:20.975Z"
   },
   {
    "duration": 12,
    "start_time": "2023-03-01T19:54:21.075Z"
   },
   {
    "duration": 395,
    "start_time": "2023-03-01T19:54:21.089Z"
   },
   {
    "duration": 16,
    "start_time": "2023-03-01T19:54:21.487Z"
   },
   {
    "duration": 191,
    "start_time": "2023-03-01T19:54:21.505Z"
   },
   {
    "duration": 7,
    "start_time": "2023-03-01T19:54:21.698Z"
   },
   {
    "duration": 4,
    "start_time": "2023-03-01T19:54:21.709Z"
   },
   {
    "duration": 20,
    "start_time": "2023-03-01T19:54:21.714Z"
   },
   {
    "duration": 20,
    "start_time": "2023-03-01T19:54:21.738Z"
   },
   {
    "duration": 6,
    "start_time": "2023-03-01T19:54:23.102Z"
   },
   {
    "duration": 11,
    "start_time": "2023-03-01T19:54:26.962Z"
   },
   {
    "duration": 62,
    "start_time": "2023-03-01T19:54:35.727Z"
   },
   {
    "duration": 57,
    "start_time": "2023-03-01T19:54:38.399Z"
   },
   {
    "duration": 60,
    "start_time": "2023-03-01T19:54:54.901Z"
   },
   {
    "duration": 54,
    "start_time": "2023-03-01T19:55:04.098Z"
   },
   {
    "duration": 16,
    "start_time": "2023-03-01T19:56:15.748Z"
   },
   {
    "duration": 4,
    "start_time": "2023-03-01T19:56:27.873Z"
   },
   {
    "duration": 4,
    "start_time": "2023-03-01T19:56:36.947Z"
   },
   {
    "duration": 5,
    "start_time": "2023-03-01T19:56:42.364Z"
   },
   {
    "duration": 5,
    "start_time": "2023-03-01T19:56:53.981Z"
   },
   {
    "duration": 18,
    "start_time": "2023-03-01T19:57:59.751Z"
   },
   {
    "duration": 14,
    "start_time": "2023-03-01T19:58:06.343Z"
   },
   {
    "duration": 28,
    "start_time": "2023-03-01T19:58:07.618Z"
   },
   {
    "duration": 6,
    "start_time": "2023-03-01T19:58:12.553Z"
   },
   {
    "duration": 109,
    "start_time": "2023-03-01T20:03:08.453Z"
   },
   {
    "duration": 100,
    "start_time": "2023-03-01T20:20:26.682Z"
   },
   {
    "duration": 111,
    "start_time": "2023-03-01T20:21:14.455Z"
   },
   {
    "duration": 105,
    "start_time": "2023-03-01T20:22:29.771Z"
   },
   {
    "duration": 105,
    "start_time": "2023-03-01T20:27:11.385Z"
   },
   {
    "duration": 108,
    "start_time": "2023-03-01T20:27:31.891Z"
   },
   {
    "duration": 110,
    "start_time": "2023-03-01T20:27:58.689Z"
   },
   {
    "duration": 116,
    "start_time": "2023-03-01T20:29:33.547Z"
   },
   {
    "duration": 99,
    "start_time": "2023-03-01T20:29:43.905Z"
   },
   {
    "duration": 105,
    "start_time": "2023-03-01T20:29:53.224Z"
   },
   {
    "duration": 109,
    "start_time": "2023-03-01T20:30:12.365Z"
   },
   {
    "duration": 5,
    "start_time": "2023-03-01T20:32:27.185Z"
   },
   {
    "duration": 797,
    "start_time": "2023-03-01T20:32:27.195Z"
   },
   {
    "duration": 9,
    "start_time": "2023-03-01T20:32:27.994Z"
   },
   {
    "duration": 13,
    "start_time": "2023-03-01T20:32:28.005Z"
   },
   {
    "duration": 40,
    "start_time": "2023-03-01T20:32:28.020Z"
   },
   {
    "duration": 41,
    "start_time": "2023-03-01T20:32:28.062Z"
   },
   {
    "duration": 13,
    "start_time": "2023-03-01T20:32:28.105Z"
   },
   {
    "duration": 92,
    "start_time": "2023-03-01T20:32:28.120Z"
   },
   {
    "duration": 8,
    "start_time": "2023-03-01T20:32:28.214Z"
   },
   {
    "duration": 24,
    "start_time": "2023-03-01T20:32:28.231Z"
   },
   {
    "duration": 121,
    "start_time": "2023-03-01T20:32:28.257Z"
   },
   {
    "duration": 10,
    "start_time": "2023-03-01T20:32:28.380Z"
   },
   {
    "duration": 8,
    "start_time": "2023-03-01T20:32:28.392Z"
   },
   {
    "duration": 57,
    "start_time": "2023-03-01T20:32:28.401Z"
   },
   {
    "duration": 212,
    "start_time": "2023-03-01T20:32:28.463Z"
   },
   {
    "duration": 7,
    "start_time": "2023-03-01T20:32:28.678Z"
   },
   {
    "duration": 6,
    "start_time": "2023-03-01T20:32:28.687Z"
   },
   {
    "duration": 14,
    "start_time": "2023-03-01T20:32:28.695Z"
   },
   {
    "duration": 55,
    "start_time": "2023-03-01T20:32:28.711Z"
   },
   {
    "duration": 6,
    "start_time": "2023-03-01T20:32:28.768Z"
   },
   {
    "duration": 7,
    "start_time": "2023-03-01T20:32:28.776Z"
   },
   {
    "duration": 70,
    "start_time": "2023-03-01T20:32:28.784Z"
   },
   {
    "duration": 23,
    "start_time": "2023-03-01T20:32:28.856Z"
   },
   {
    "duration": 4,
    "start_time": "2023-03-01T20:32:28.881Z"
   },
   {
    "duration": 5,
    "start_time": "2023-03-01T20:32:28.887Z"
   },
   {
    "duration": 17,
    "start_time": "2023-03-01T20:32:28.893Z"
   },
   {
    "duration": 27,
    "start_time": "2023-03-01T20:32:28.912Z"
   },
   {
    "duration": 46,
    "start_time": "2023-03-01T20:32:28.941Z"
   },
   {
    "duration": 70,
    "start_time": "2023-03-01T20:32:28.989Z"
   },
   {
    "duration": 10,
    "start_time": "2023-03-01T20:32:29.064Z"
   },
   {
    "duration": 14,
    "start_time": "2023-03-01T20:32:29.076Z"
   },
   {
    "duration": 433,
    "start_time": "2023-03-01T20:32:29.092Z"
   },
   {
    "duration": 170,
    "start_time": "2023-03-01T20:32:29.527Z"
   },
   {
    "duration": 6,
    "start_time": "2023-03-01T20:32:29.699Z"
   },
   {
    "duration": 158,
    "start_time": "2023-03-01T20:32:29.707Z"
   },
   {
    "duration": 6,
    "start_time": "2023-03-01T20:32:29.867Z"
   },
   {
    "duration": 11,
    "start_time": "2023-03-01T20:32:29.875Z"
   },
   {
    "duration": 12,
    "start_time": "2023-03-01T20:32:29.888Z"
   },
   {
    "duration": 6,
    "start_time": "2023-03-01T20:32:29.902Z"
   },
   {
    "duration": 7,
    "start_time": "2023-03-01T20:32:29.910Z"
   },
   {
    "duration": 17,
    "start_time": "2023-03-01T20:32:29.935Z"
   },
   {
    "duration": 21,
    "start_time": "2023-03-01T20:32:29.963Z"
   },
   {
    "duration": 5,
    "start_time": "2023-03-01T20:32:29.986Z"
   },
   {
    "duration": 16,
    "start_time": "2023-03-01T20:32:29.993Z"
   },
   {
    "duration": 67,
    "start_time": "2023-03-01T20:32:30.011Z"
   },
   {
    "duration": 39,
    "start_time": "2023-03-01T20:32:30.080Z"
   },
   {
    "duration": 33,
    "start_time": "2023-03-01T20:32:30.121Z"
   },
   {
    "duration": 47,
    "start_time": "2023-03-01T20:32:30.156Z"
   },
   {
    "duration": 11,
    "start_time": "2023-03-01T20:32:30.205Z"
   },
   {
    "duration": 184,
    "start_time": "2023-03-01T20:32:30.218Z"
   },
   {
    "duration": 30,
    "start_time": "2023-03-01T20:32:30.404Z"
   },
   {
    "duration": 84,
    "start_time": "2023-03-01T20:32:30.435Z"
   },
   {
    "duration": 163,
    "start_time": "2023-03-01T20:32:30.521Z"
   },
   {
    "duration": 98,
    "start_time": "2023-03-01T20:32:30.687Z"
   },
   {
    "duration": 133,
    "start_time": "2023-03-01T20:32:30.788Z"
   },
   {
    "duration": 80,
    "start_time": "2023-03-01T20:32:30.923Z"
   },
   {
    "duration": 801,
    "start_time": "2023-03-01T20:32:31.005Z"
   },
   {
    "duration": 13,
    "start_time": "2023-03-01T20:32:31.808Z"
   },
   {
    "duration": 66,
    "start_time": "2023-03-01T20:32:31.833Z"
   },
   {
    "duration": 61,
    "start_time": "2023-03-01T20:32:31.901Z"
   },
   {
    "duration": 19,
    "start_time": "2023-03-01T20:32:31.964Z"
   },
   {
    "duration": 26,
    "start_time": "2023-03-01T20:32:31.985Z"
   },
   {
    "duration": 29,
    "start_time": "2023-03-01T20:32:32.013Z"
   },
   {
    "duration": 91,
    "start_time": "2023-03-01T20:32:32.044Z"
   },
   {
    "duration": 371,
    "start_time": "2023-03-01T20:32:32.141Z"
   },
   {
    "duration": 33,
    "start_time": "2023-03-01T20:32:32.515Z"
   },
   {
    "duration": 211,
    "start_time": "2023-03-01T20:32:32.558Z"
   },
   {
    "duration": 13,
    "start_time": "2023-03-01T20:32:32.771Z"
   },
   {
    "duration": 15,
    "start_time": "2023-03-01T20:32:32.785Z"
   },
   {
    "duration": 39,
    "start_time": "2023-03-01T20:32:32.802Z"
   },
   {
    "duration": 42,
    "start_time": "2023-03-01T20:32:32.844Z"
   },
   {
    "duration": 46,
    "start_time": "2023-03-01T20:32:32.889Z"
   },
   {
    "duration": 73,
    "start_time": "2023-03-01T20:32:32.937Z"
   },
   {
    "duration": 133,
    "start_time": "2023-03-01T20:32:33.013Z"
   },
   {
    "duration": 71,
    "start_time": "2023-03-01T20:32:33.155Z"
   },
   {
    "duration": 25,
    "start_time": "2023-03-01T20:32:33.235Z"
   },
   {
    "duration": 27,
    "start_time": "2023-03-01T20:32:33.262Z"
   },
   {
    "duration": 47,
    "start_time": "2023-03-01T20:32:33.291Z"
   },
   {
    "duration": 6,
    "start_time": "2023-03-01T20:32:33.340Z"
   },
   {
    "duration": 10,
    "start_time": "2023-03-01T20:32:33.348Z"
   },
   {
    "duration": 131,
    "start_time": "2023-03-01T20:32:33.360Z"
   },
   {
    "duration": 13,
    "start_time": "2023-03-01T20:32:33.493Z"
   },
   {
    "duration": 713,
    "start_time": "2023-03-01T20:32:33.508Z"
   },
   {
    "duration": 598,
    "start_time": "2023-03-01T20:32:34.223Z"
   },
   {
    "duration": 664,
    "start_time": "2023-03-01T20:32:34.826Z"
   },
   {
    "duration": 598,
    "start_time": "2023-03-01T20:33:03.288Z"
   },
   {
    "duration": 1296,
    "start_time": "2023-03-01T20:43:28.015Z"
   },
   {
    "duration": 658,
    "start_time": "2023-03-01T20:43:29.313Z"
   },
   {
    "duration": 11,
    "start_time": "2023-03-01T20:43:29.973Z"
   },
   {
    "duration": 11,
    "start_time": "2023-03-01T20:43:29.985Z"
   },
   {
    "duration": 9,
    "start_time": "2023-03-01T20:43:29.998Z"
   },
   {
    "duration": 35,
    "start_time": "2023-03-01T20:43:30.008Z"
   },
   {
    "duration": 12,
    "start_time": "2023-03-01T20:43:30.045Z"
   },
   {
    "duration": 58,
    "start_time": "2023-03-01T20:43:30.059Z"
   },
   {
    "duration": 16,
    "start_time": "2023-03-01T20:43:30.127Z"
   },
   {
    "duration": 29,
    "start_time": "2023-03-01T20:43:30.145Z"
   },
   {
    "duration": 119,
    "start_time": "2023-03-01T20:43:30.176Z"
   },
   {
    "duration": 10,
    "start_time": "2023-03-01T20:43:30.297Z"
   },
   {
    "duration": 31,
    "start_time": "2023-03-01T20:43:30.308Z"
   },
   {
    "duration": 97,
    "start_time": "2023-03-01T20:43:30.343Z"
   },
   {
    "duration": 260,
    "start_time": "2023-03-01T20:43:30.442Z"
   },
   {
    "duration": 6,
    "start_time": "2023-03-01T20:43:30.704Z"
   },
   {
    "duration": 48,
    "start_time": "2023-03-01T20:43:30.712Z"
   },
   {
    "duration": 25,
    "start_time": "2023-03-01T20:43:30.763Z"
   },
   {
    "duration": 57,
    "start_time": "2023-03-01T20:43:30.791Z"
   },
   {
    "duration": 35,
    "start_time": "2023-03-01T20:43:30.849Z"
   },
   {
    "duration": 32,
    "start_time": "2023-03-01T20:43:30.886Z"
   },
   {
    "duration": 74,
    "start_time": "2023-03-01T20:43:30.920Z"
   },
   {
    "duration": 15,
    "start_time": "2023-03-01T20:43:30.995Z"
   },
   {
    "duration": 34,
    "start_time": "2023-03-01T20:43:31.011Z"
   },
   {
    "duration": 33,
    "start_time": "2023-03-01T20:43:31.047Z"
   },
   {
    "duration": 32,
    "start_time": "2023-03-01T20:43:31.082Z"
   },
   {
    "duration": 42,
    "start_time": "2023-03-01T20:43:31.116Z"
   },
   {
    "duration": 27,
    "start_time": "2023-03-01T20:43:31.160Z"
   },
   {
    "duration": 80,
    "start_time": "2023-03-01T20:43:31.189Z"
   },
   {
    "duration": 8,
    "start_time": "2023-03-01T20:43:31.271Z"
   },
   {
    "duration": 22,
    "start_time": "2023-03-01T20:43:31.280Z"
   },
   {
    "duration": 384,
    "start_time": "2023-03-01T20:43:31.304Z"
   },
   {
    "duration": 105,
    "start_time": "2023-03-01T20:43:31.690Z"
   },
   {
    "duration": 5,
    "start_time": "2023-03-01T20:43:31.797Z"
   },
   {
    "duration": 107,
    "start_time": "2023-03-01T20:43:31.804Z"
   },
   {
    "duration": 25,
    "start_time": "2023-03-01T20:43:31.913Z"
   },
   {
    "duration": 11,
    "start_time": "2023-03-01T20:43:31.945Z"
   },
   {
    "duration": 10,
    "start_time": "2023-03-01T20:43:31.958Z"
   },
   {
    "duration": 12,
    "start_time": "2023-03-01T20:43:31.969Z"
   },
   {
    "duration": 12,
    "start_time": "2023-03-01T20:43:31.983Z"
   },
   {
    "duration": 11,
    "start_time": "2023-03-01T20:43:32.000Z"
   },
   {
    "duration": 9,
    "start_time": "2023-03-01T20:43:32.013Z"
   },
   {
    "duration": 21,
    "start_time": "2023-03-01T20:43:32.023Z"
   },
   {
    "duration": 31,
    "start_time": "2023-03-01T20:43:32.048Z"
   },
   {
    "duration": 53,
    "start_time": "2023-03-01T20:43:32.081Z"
   },
   {
    "duration": 19,
    "start_time": "2023-03-01T20:43:32.141Z"
   },
   {
    "duration": 16,
    "start_time": "2023-03-01T20:43:32.161Z"
   },
   {
    "duration": 16,
    "start_time": "2023-03-01T20:43:32.178Z"
   },
   {
    "duration": 12,
    "start_time": "2023-03-01T20:43:32.196Z"
   },
   {
    "duration": 87,
    "start_time": "2023-03-01T20:43:32.210Z"
   },
   {
    "duration": 31,
    "start_time": "2023-03-01T20:43:32.299Z"
   },
   {
    "duration": 8,
    "start_time": "2023-03-01T20:43:32.332Z"
   },
   {
    "duration": 10,
    "start_time": "2023-03-01T20:43:32.342Z"
   },
   {
    "duration": 11,
    "start_time": "2023-03-01T20:43:32.353Z"
   },
   {
    "duration": 15,
    "start_time": "2023-03-01T20:43:32.365Z"
   },
   {
    "duration": 4,
    "start_time": "2023-03-01T20:43:32.382Z"
   },
   {
    "duration": 657,
    "start_time": "2023-03-01T20:43:32.387Z"
   },
   {
    "duration": 16,
    "start_time": "2023-03-01T20:43:33.045Z"
   },
   {
    "duration": 41,
    "start_time": "2023-03-01T20:43:33.063Z"
   },
   {
    "duration": 23,
    "start_time": "2023-03-01T20:43:33.106Z"
   },
   {
    "duration": 27,
    "start_time": "2023-03-01T20:43:33.131Z"
   },
   {
    "duration": 25,
    "start_time": "2023-03-01T20:43:33.160Z"
   },
   {
    "duration": 24,
    "start_time": "2023-03-01T20:43:33.187Z"
   },
   {
    "duration": 17,
    "start_time": "2023-03-01T20:43:33.213Z"
   },
   {
    "duration": 348,
    "start_time": "2023-03-01T20:43:33.233Z"
   },
   {
    "duration": 18,
    "start_time": "2023-03-01T20:43:33.583Z"
   },
   {
    "duration": 190,
    "start_time": "2023-03-01T20:43:33.602Z"
   },
   {
    "duration": 8,
    "start_time": "2023-03-01T20:43:33.794Z"
   },
   {
    "duration": 5,
    "start_time": "2023-03-01T20:43:33.804Z"
   },
   {
    "duration": 21,
    "start_time": "2023-03-01T20:43:33.830Z"
   },
   {
    "duration": 13,
    "start_time": "2023-03-01T20:43:33.853Z"
   },
   {
    "duration": 116,
    "start_time": "2023-03-01T20:43:33.868Z"
   },
   {
    "duration": 0,
    "start_time": "2023-03-01T20:43:33.986Z"
   },
   {
    "duration": 0,
    "start_time": "2023-03-01T20:43:33.988Z"
   },
   {
    "duration": 0,
    "start_time": "2023-03-01T20:43:33.989Z"
   },
   {
    "duration": 0,
    "start_time": "2023-03-01T20:43:33.990Z"
   },
   {
    "duration": 0,
    "start_time": "2023-03-01T20:43:33.992Z"
   },
   {
    "duration": 0,
    "start_time": "2023-03-01T20:43:33.993Z"
   },
   {
    "duration": 0,
    "start_time": "2023-03-01T20:43:33.995Z"
   },
   {
    "duration": 0,
    "start_time": "2023-03-01T20:43:33.996Z"
   },
   {
    "duration": 0,
    "start_time": "2023-03-01T20:43:33.998Z"
   },
   {
    "duration": 0,
    "start_time": "2023-03-01T20:43:33.999Z"
   },
   {
    "duration": 0,
    "start_time": "2023-03-01T20:43:34.001Z"
   },
   {
    "duration": 0,
    "start_time": "2023-03-01T20:43:34.029Z"
   },
   {
    "duration": 0,
    "start_time": "2023-03-01T20:43:34.030Z"
   },
   {
    "duration": 1326,
    "start_time": "2023-03-01T20:44:05.545Z"
   },
   {
    "duration": 745,
    "start_time": "2023-03-01T20:44:06.873Z"
   },
   {
    "duration": 18,
    "start_time": "2023-03-01T20:44:07.619Z"
   },
   {
    "duration": 65,
    "start_time": "2023-03-01T20:44:07.639Z"
   },
   {
    "duration": 13,
    "start_time": "2023-03-01T20:44:07.706Z"
   },
   {
    "duration": 21,
    "start_time": "2023-03-01T20:44:07.721Z"
   },
   {
    "duration": 27,
    "start_time": "2023-03-01T20:44:07.744Z"
   },
   {
    "duration": 70,
    "start_time": "2023-03-01T20:44:07.773Z"
   },
   {
    "duration": 11,
    "start_time": "2023-03-01T20:44:07.849Z"
   },
   {
    "duration": 12,
    "start_time": "2023-03-01T20:44:07.863Z"
   },
   {
    "duration": 119,
    "start_time": "2023-03-01T20:44:07.876Z"
   },
   {
    "duration": 11,
    "start_time": "2023-03-01T20:44:07.996Z"
   },
   {
    "duration": 7,
    "start_time": "2023-03-01T20:44:08.008Z"
   },
   {
    "duration": 56,
    "start_time": "2023-03-01T20:44:08.030Z"
   },
   {
    "duration": 239,
    "start_time": "2023-03-01T20:44:08.089Z"
   },
   {
    "duration": 24,
    "start_time": "2023-03-01T20:44:08.334Z"
   },
   {
    "duration": 17,
    "start_time": "2023-03-01T20:44:08.360Z"
   },
   {
    "duration": 27,
    "start_time": "2023-03-01T20:44:08.379Z"
   },
   {
    "duration": 35,
    "start_time": "2023-03-01T20:44:08.409Z"
   },
   {
    "duration": 23,
    "start_time": "2023-03-01T20:44:08.445Z"
   },
   {
    "duration": 5,
    "start_time": "2023-03-01T20:44:08.470Z"
   },
   {
    "duration": 48,
    "start_time": "2023-03-01T20:44:08.476Z"
   },
   {
    "duration": 32,
    "start_time": "2023-03-01T20:44:08.526Z"
   },
   {
    "duration": 8,
    "start_time": "2023-03-01T20:44:08.559Z"
   },
   {
    "duration": 5,
    "start_time": "2023-03-01T20:44:08.568Z"
   },
   {
    "duration": 11,
    "start_time": "2023-03-01T20:44:08.575Z"
   },
   {
    "duration": 9,
    "start_time": "2023-03-01T20:44:08.587Z"
   },
   {
    "duration": 47,
    "start_time": "2023-03-01T20:44:08.600Z"
   },
   {
    "duration": 59,
    "start_time": "2023-03-01T20:44:08.649Z"
   },
   {
    "duration": 6,
    "start_time": "2023-03-01T20:44:08.709Z"
   },
   {
    "duration": 33,
    "start_time": "2023-03-01T20:44:08.717Z"
   },
   {
    "duration": 394,
    "start_time": "2023-03-01T20:44:08.758Z"
   },
   {
    "duration": 131,
    "start_time": "2023-03-01T20:44:09.157Z"
   },
   {
    "duration": 6,
    "start_time": "2023-03-01T20:44:09.290Z"
   },
   {
    "duration": 117,
    "start_time": "2023-03-01T20:44:09.298Z"
   },
   {
    "duration": 5,
    "start_time": "2023-03-01T20:44:09.417Z"
   },
   {
    "duration": 43,
    "start_time": "2023-03-01T20:44:09.427Z"
   },
   {
    "duration": 13,
    "start_time": "2023-03-01T20:44:09.472Z"
   },
   {
    "duration": 9,
    "start_time": "2023-03-01T20:44:09.487Z"
   },
   {
    "duration": 11,
    "start_time": "2023-03-01T20:44:09.498Z"
   },
   {
    "duration": 5,
    "start_time": "2023-03-01T20:44:09.512Z"
   },
   {
    "duration": 16,
    "start_time": "2023-03-01T20:44:09.519Z"
   },
   {
    "duration": 25,
    "start_time": "2023-03-01T20:44:09.543Z"
   },
   {
    "duration": 16,
    "start_time": "2023-03-01T20:44:09.570Z"
   },
   {
    "duration": 56,
    "start_time": "2023-03-01T20:44:09.588Z"
   },
   {
    "duration": 31,
    "start_time": "2023-03-01T20:44:09.646Z"
   },
   {
    "duration": 9,
    "start_time": "2023-03-01T20:44:09.679Z"
   },
   {
    "duration": 14,
    "start_time": "2023-03-01T20:44:09.689Z"
   },
   {
    "duration": 7,
    "start_time": "2023-03-01T20:44:09.705Z"
   },
   {
    "duration": 108,
    "start_time": "2023-03-01T20:44:09.713Z"
   },
   {
    "duration": 40,
    "start_time": "2023-03-01T20:44:09.823Z"
   },
   {
    "duration": 5,
    "start_time": "2023-03-01T20:44:09.865Z"
   },
   {
    "duration": 8,
    "start_time": "2023-03-01T20:44:09.871Z"
   },
   {
    "duration": 11,
    "start_time": "2023-03-01T20:44:09.881Z"
   },
   {
    "duration": 11,
    "start_time": "2023-03-01T20:44:09.894Z"
   },
   {
    "duration": 19,
    "start_time": "2023-03-01T20:44:09.907Z"
   },
   {
    "duration": 745,
    "start_time": "2023-03-01T20:44:09.937Z"
   },
   {
    "duration": 15,
    "start_time": "2023-03-01T20:44:10.684Z"
   },
   {
    "duration": 68,
    "start_time": "2023-03-01T20:44:10.700Z"
   },
   {
    "duration": 9,
    "start_time": "2023-03-01T20:44:10.770Z"
   },
   {
    "duration": 10,
    "start_time": "2023-03-01T20:44:10.781Z"
   },
   {
    "duration": 16,
    "start_time": "2023-03-01T20:44:10.793Z"
   },
   {
    "duration": 28,
    "start_time": "2023-03-01T20:44:10.812Z"
   },
   {
    "duration": 22,
    "start_time": "2023-03-01T20:44:10.847Z"
   },
   {
    "duration": 376,
    "start_time": "2023-03-01T20:44:10.871Z"
   },
   {
    "duration": 20,
    "start_time": "2023-03-01T20:44:11.251Z"
   },
   {
    "duration": 183,
    "start_time": "2023-03-01T20:44:11.273Z"
   },
   {
    "duration": 8,
    "start_time": "2023-03-01T20:44:11.458Z"
   },
   {
    "duration": 6,
    "start_time": "2023-03-01T20:44:11.468Z"
   },
   {
    "duration": 13,
    "start_time": "2023-03-01T20:44:11.476Z"
   },
   {
    "duration": 5,
    "start_time": "2023-03-01T20:44:11.491Z"
   },
   {
    "duration": 10,
    "start_time": "2023-03-01T20:44:11.498Z"
   },
   {
    "duration": 16,
    "start_time": "2023-03-01T20:44:11.530Z"
   },
   {
    "duration": 408,
    "start_time": "2023-03-01T20:44:11.551Z"
   },
   {
    "duration": 80,
    "start_time": "2023-03-01T20:44:11.960Z"
   },
   {
    "duration": 37,
    "start_time": "2023-03-01T20:44:12.044Z"
   },
   {
    "duration": 52,
    "start_time": "2023-03-01T20:44:12.083Z"
   },
   {
    "duration": 38,
    "start_time": "2023-03-01T20:44:12.139Z"
   },
   {
    "duration": 4,
    "start_time": "2023-03-01T20:44:12.178Z"
   },
   {
    "duration": 7,
    "start_time": "2023-03-01T20:44:12.184Z"
   },
   {
    "duration": 118,
    "start_time": "2023-03-01T20:44:12.192Z"
   },
   {
    "duration": 33,
    "start_time": "2023-03-01T20:44:12.315Z"
   },
   {
    "duration": 625,
    "start_time": "2023-03-01T20:44:12.357Z"
   },
   {
    "duration": 700,
    "start_time": "2023-03-01T20:44:12.983Z"
   },
   {
    "duration": 612,
    "start_time": "2023-03-01T20:44:13.685Z"
   },
   {
    "duration": 127,
    "start_time": "2023-03-02T05:31:14.516Z"
   },
   {
    "duration": 54,
    "start_time": "2023-03-02T05:40:00.597Z"
   },
   {
    "duration": 1474,
    "start_time": "2023-03-02T05:40:08.933Z"
   },
   {
    "duration": 791,
    "start_time": "2023-03-02T05:40:10.409Z"
   },
   {
    "duration": 11,
    "start_time": "2023-03-02T05:40:11.203Z"
   },
   {
    "duration": 13,
    "start_time": "2023-03-02T05:40:11.216Z"
   },
   {
    "duration": 14,
    "start_time": "2023-03-02T05:40:11.230Z"
   },
   {
    "duration": 33,
    "start_time": "2023-03-02T05:40:11.246Z"
   },
   {
    "duration": 14,
    "start_time": "2023-03-02T05:40:11.281Z"
   },
   {
    "duration": 98,
    "start_time": "2023-03-02T05:40:11.297Z"
   },
   {
    "duration": 6,
    "start_time": "2023-03-02T05:40:11.397Z"
   },
   {
    "duration": 14,
    "start_time": "2023-03-02T05:40:11.405Z"
   },
   {
    "duration": 99,
    "start_time": "2023-03-02T05:40:11.421Z"
   },
   {
    "duration": 9,
    "start_time": "2023-03-02T05:40:11.522Z"
   },
   {
    "duration": 5,
    "start_time": "2023-03-02T05:40:11.541Z"
   },
   {
    "duration": 30,
    "start_time": "2023-03-02T05:40:11.548Z"
   },
   {
    "duration": 187,
    "start_time": "2023-03-02T05:40:11.580Z"
   },
   {
    "duration": 5,
    "start_time": "2023-03-02T05:40:11.769Z"
   },
   {
    "duration": 9,
    "start_time": "2023-03-02T05:40:11.775Z"
   },
   {
    "duration": 10,
    "start_time": "2023-03-02T05:40:11.786Z"
   },
   {
    "duration": 44,
    "start_time": "2023-03-02T05:40:11.799Z"
   },
   {
    "duration": 5,
    "start_time": "2023-03-02T05:40:11.845Z"
   },
   {
    "duration": 7,
    "start_time": "2023-03-02T05:40:11.852Z"
   },
   {
    "duration": 47,
    "start_time": "2023-03-02T05:40:11.861Z"
   },
   {
    "duration": 34,
    "start_time": "2023-03-02T05:40:11.910Z"
   },
   {
    "duration": 8,
    "start_time": "2023-03-02T05:40:11.945Z"
   },
   {
    "duration": 4,
    "start_time": "2023-03-02T05:40:11.955Z"
   },
   {
    "duration": 8,
    "start_time": "2023-03-02T05:40:11.961Z"
   },
   {
    "duration": 13,
    "start_time": "2023-03-02T05:40:11.971Z"
   },
   {
    "duration": 9,
    "start_time": "2023-03-02T05:40:11.989Z"
   },
   {
    "duration": 76,
    "start_time": "2023-03-02T05:40:12.000Z"
   },
   {
    "duration": 8,
    "start_time": "2023-03-02T05:40:12.078Z"
   },
   {
    "duration": 10,
    "start_time": "2023-03-02T05:40:12.088Z"
   },
   {
    "duration": 350,
    "start_time": "2023-03-02T05:40:12.100Z"
   },
   {
    "duration": 158,
    "start_time": "2023-03-02T05:40:12.453Z"
   },
   {
    "duration": 8,
    "start_time": "2023-03-02T05:40:12.613Z"
   },
   {
    "duration": 120,
    "start_time": "2023-03-02T05:40:12.623Z"
   },
   {
    "duration": 4,
    "start_time": "2023-03-02T05:40:12.745Z"
   },
   {
    "duration": 10,
    "start_time": "2023-03-02T05:40:12.751Z"
   },
   {
    "duration": 13,
    "start_time": "2023-03-02T05:40:12.763Z"
   },
   {
    "duration": 14,
    "start_time": "2023-03-02T05:40:12.777Z"
   },
   {
    "duration": 10,
    "start_time": "2023-03-02T05:40:12.792Z"
   },
   {
    "duration": 10,
    "start_time": "2023-03-02T05:40:12.804Z"
   },
   {
    "duration": 26,
    "start_time": "2023-03-02T05:40:12.817Z"
   },
   {
    "duration": 5,
    "start_time": "2023-03-02T05:40:12.846Z"
   },
   {
    "duration": 20,
    "start_time": "2023-03-02T05:40:12.854Z"
   },
   {
    "duration": 44,
    "start_time": "2023-03-02T05:40:12.876Z"
   },
   {
    "duration": 32,
    "start_time": "2023-03-02T05:40:12.922Z"
   },
   {
    "duration": 9,
    "start_time": "2023-03-02T05:40:12.956Z"
   },
   {
    "duration": 12,
    "start_time": "2023-03-02T05:40:12.966Z"
   },
   {
    "duration": 10,
    "start_time": "2023-03-02T05:40:12.980Z"
   },
   {
    "duration": 138,
    "start_time": "2023-03-02T05:40:12.992Z"
   },
   {
    "duration": 24,
    "start_time": "2023-03-02T05:40:13.132Z"
   },
   {
    "duration": 4,
    "start_time": "2023-03-02T05:40:13.157Z"
   },
   {
    "duration": 7,
    "start_time": "2023-03-02T05:40:13.162Z"
   },
   {
    "duration": 17,
    "start_time": "2023-03-02T05:40:13.171Z"
   },
   {
    "duration": 26,
    "start_time": "2023-03-02T05:40:13.189Z"
   },
   {
    "duration": 9,
    "start_time": "2023-03-02T05:40:13.217Z"
   },
   {
    "duration": 546,
    "start_time": "2023-03-02T05:40:13.228Z"
   },
   {
    "duration": 12,
    "start_time": "2023-03-02T05:40:13.776Z"
   },
   {
    "duration": 20,
    "start_time": "2023-03-02T05:40:13.789Z"
   },
   {
    "duration": 34,
    "start_time": "2023-03-02T05:40:13.811Z"
   },
   {
    "duration": 15,
    "start_time": "2023-03-02T05:40:13.847Z"
   },
   {
    "duration": 19,
    "start_time": "2023-03-02T05:40:13.863Z"
   },
   {
    "duration": 15,
    "start_time": "2023-03-02T05:40:13.884Z"
   },
   {
    "duration": 9,
    "start_time": "2023-03-02T05:40:13.900Z"
   },
   {
    "duration": 322,
    "start_time": "2023-03-02T05:40:13.911Z"
   },
   {
    "duration": 16,
    "start_time": "2023-03-02T05:40:14.235Z"
   },
   {
    "duration": 159,
    "start_time": "2023-03-02T05:40:14.253Z"
   },
   {
    "duration": 7,
    "start_time": "2023-03-02T05:40:14.413Z"
   },
   {
    "duration": 19,
    "start_time": "2023-03-02T05:40:14.423Z"
   },
   {
    "duration": 14,
    "start_time": "2023-03-02T05:40:14.444Z"
   },
   {
    "duration": 11,
    "start_time": "2023-03-02T05:40:14.460Z"
   },
   {
    "duration": 10,
    "start_time": "2023-03-02T05:40:14.473Z"
   },
   {
    "duration": 13,
    "start_time": "2023-03-02T05:40:14.485Z"
   },
   {
    "duration": 8331,
    "start_time": "2023-03-02T05:40:14.500Z"
   },
   {
    "duration": 43,
    "start_time": "2023-03-02T05:40:22.833Z"
   },
   {
    "duration": 64,
    "start_time": "2023-03-02T05:40:22.878Z"
   },
   {
    "duration": 9,
    "start_time": "2023-03-02T05:40:22.943Z"
   },
   {
    "duration": 17,
    "start_time": "2023-03-02T05:40:22.954Z"
   },
   {
    "duration": 3,
    "start_time": "2023-03-02T05:40:22.973Z"
   },
   {
    "duration": 5,
    "start_time": "2023-03-02T05:40:22.978Z"
   },
   {
    "duration": 126,
    "start_time": "2023-03-02T05:40:22.987Z"
   },
   {
    "duration": 109,
    "start_time": "2023-03-02T05:41:28.735Z"
   },
   {
    "duration": 51,
    "start_time": "2023-03-02T10:39:52.256Z"
   },
   {
    "duration": 1552,
    "start_time": "2023-03-02T10:39:57.238Z"
   },
   {
    "duration": 2465,
    "start_time": "2023-03-02T10:39:58.792Z"
   },
   {
    "duration": 14,
    "start_time": "2023-03-02T10:40:01.259Z"
   },
   {
    "duration": 48,
    "start_time": "2023-03-02T10:40:01.275Z"
   },
   {
    "duration": 55,
    "start_time": "2023-03-02T10:40:01.326Z"
   },
   {
    "duration": 89,
    "start_time": "2023-03-02T10:40:01.383Z"
   },
   {
    "duration": 159,
    "start_time": "2023-03-02T10:40:01.474Z"
   },
   {
    "duration": 149,
    "start_time": "2023-03-02T10:40:01.634Z"
   },
   {
    "duration": 10,
    "start_time": "2023-03-02T10:40:01.785Z"
   },
   {
    "duration": 133,
    "start_time": "2023-03-02T10:40:01.797Z"
   },
   {
    "duration": 331,
    "start_time": "2023-03-02T10:40:01.932Z"
   },
   {
    "duration": 382,
    "start_time": "2023-03-02T10:40:02.266Z"
   },
   {
    "duration": 56,
    "start_time": "2023-03-02T10:40:02.650Z"
   },
   {
    "duration": 89,
    "start_time": "2023-03-02T10:40:02.709Z"
   },
   {
    "duration": 300,
    "start_time": "2023-03-02T10:40:02.800Z"
   },
   {
    "duration": 5,
    "start_time": "2023-03-02T10:40:03.102Z"
   },
   {
    "duration": 29,
    "start_time": "2023-03-02T10:40:03.109Z"
   },
   {
    "duration": 34,
    "start_time": "2023-03-02T10:40:03.139Z"
   },
   {
    "duration": 32,
    "start_time": "2023-03-02T10:40:03.175Z"
   },
   {
    "duration": 19,
    "start_time": "2023-03-02T10:40:03.209Z"
   },
   {
    "duration": 36,
    "start_time": "2023-03-02T10:40:03.230Z"
   },
   {
    "duration": 76,
    "start_time": "2023-03-02T10:40:03.268Z"
   },
   {
    "duration": 16,
    "start_time": "2023-03-02T10:40:03.346Z"
   },
   {
    "duration": 21,
    "start_time": "2023-03-02T10:40:03.364Z"
   },
   {
    "duration": 24,
    "start_time": "2023-03-02T10:40:03.388Z"
   },
   {
    "duration": 57,
    "start_time": "2023-03-02T10:40:03.414Z"
   },
   {
    "duration": 18,
    "start_time": "2023-03-02T10:40:03.472Z"
   },
   {
    "duration": 19,
    "start_time": "2023-03-02T10:40:03.492Z"
   },
   {
    "duration": 68,
    "start_time": "2023-03-02T10:40:03.512Z"
   },
   {
    "duration": 7,
    "start_time": "2023-03-02T10:40:03.582Z"
   },
   {
    "duration": 32,
    "start_time": "2023-03-02T10:40:03.590Z"
   },
   {
    "duration": 408,
    "start_time": "2023-03-02T10:40:03.624Z"
   },
   {
    "duration": 125,
    "start_time": "2023-03-02T10:40:04.034Z"
   },
   {
    "duration": 6,
    "start_time": "2023-03-02T10:40:04.162Z"
   },
   {
    "duration": 130,
    "start_time": "2023-03-02T10:40:04.170Z"
   },
   {
    "duration": 5,
    "start_time": "2023-03-02T10:40:04.302Z"
   },
   {
    "duration": 18,
    "start_time": "2023-03-02T10:40:04.308Z"
   },
   {
    "duration": 12,
    "start_time": "2023-03-02T10:40:04.328Z"
   },
   {
    "duration": 11,
    "start_time": "2023-03-02T10:40:04.342Z"
   },
   {
    "duration": 8,
    "start_time": "2023-03-02T10:40:04.355Z"
   },
   {
    "duration": 4,
    "start_time": "2023-03-02T10:40:04.368Z"
   },
   {
    "duration": 7,
    "start_time": "2023-03-02T10:40:04.373Z"
   },
   {
    "duration": 9,
    "start_time": "2023-03-02T10:40:04.382Z"
   },
   {
    "duration": 43,
    "start_time": "2023-03-02T10:40:04.393Z"
   },
   {
    "duration": 52,
    "start_time": "2023-03-02T10:40:04.438Z"
   },
   {
    "duration": 39,
    "start_time": "2023-03-02T10:40:04.492Z"
   },
   {
    "duration": 43,
    "start_time": "2023-03-02T10:40:04.533Z"
   },
   {
    "duration": 30,
    "start_time": "2023-03-02T10:40:04.577Z"
   },
   {
    "duration": 58,
    "start_time": "2023-03-02T10:40:04.608Z"
   },
   {
    "duration": 133,
    "start_time": "2023-03-02T10:40:04.668Z"
   },
   {
    "duration": 30,
    "start_time": "2023-03-02T10:40:04.803Z"
   },
   {
    "duration": 5,
    "start_time": "2023-03-02T10:40:04.835Z"
   },
   {
    "duration": 24,
    "start_time": "2023-03-02T10:40:04.842Z"
   },
   {
    "duration": 25,
    "start_time": "2023-03-02T10:40:04.868Z"
   },
   {
    "duration": 30,
    "start_time": "2023-03-02T10:40:04.895Z"
   },
   {
    "duration": 11,
    "start_time": "2023-03-02T10:40:04.927Z"
   },
   {
    "duration": 661,
    "start_time": "2023-03-02T10:40:04.940Z"
   },
   {
    "duration": 21,
    "start_time": "2023-03-02T10:40:05.603Z"
   },
   {
    "duration": 40,
    "start_time": "2023-03-02T10:40:05.626Z"
   },
   {
    "duration": 12,
    "start_time": "2023-03-02T10:40:05.667Z"
   },
   {
    "duration": 18,
    "start_time": "2023-03-02T10:40:05.681Z"
   },
   {
    "duration": 8,
    "start_time": "2023-03-02T10:40:05.701Z"
   },
   {
    "duration": 19,
    "start_time": "2023-03-02T10:40:05.711Z"
   },
   {
    "duration": 24,
    "start_time": "2023-03-02T10:40:05.732Z"
   },
   {
    "duration": 27,
    "start_time": "2023-03-02T10:40:05.757Z"
   },
   {
    "duration": 379,
    "start_time": "2023-03-02T10:40:05.786Z"
   },
   {
    "duration": 17,
    "start_time": "2023-03-02T10:40:06.167Z"
   },
   {
    "duration": 205,
    "start_time": "2023-03-02T10:40:06.186Z"
   },
   {
    "duration": 8,
    "start_time": "2023-03-02T10:40:06.393Z"
   },
   {
    "duration": 40,
    "start_time": "2023-03-02T10:40:06.403Z"
   },
   {
    "duration": 41,
    "start_time": "2023-03-02T10:40:06.444Z"
   },
   {
    "duration": 60,
    "start_time": "2023-03-02T10:40:06.487Z"
   },
   {
    "duration": 47,
    "start_time": "2023-03-02T10:40:06.548Z"
   },
   {
    "duration": 41,
    "start_time": "2023-03-02T10:40:06.597Z"
   },
   {
    "duration": 1013,
    "start_time": "2023-03-02T10:40:06.639Z"
   },
   {
    "duration": 100,
    "start_time": "2023-03-02T10:40:07.654Z"
   },
   {
    "duration": 73,
    "start_time": "2023-03-02T10:40:07.756Z"
   },
   {
    "duration": 18,
    "start_time": "2023-03-02T10:40:07.831Z"
   },
   {
    "duration": 24,
    "start_time": "2023-03-02T10:40:07.851Z"
   },
   {
    "duration": 4,
    "start_time": "2023-03-02T10:40:07.877Z"
   },
   {
    "duration": 10,
    "start_time": "2023-03-02T10:40:07.882Z"
   },
   {
    "duration": 116,
    "start_time": "2023-03-02T10:40:07.894Z"
   },
   {
    "duration": 23,
    "start_time": "2023-03-02T10:40:08.011Z"
   },
   {
    "duration": 672,
    "start_time": "2023-03-02T10:40:08.036Z"
   },
   {
    "duration": 716,
    "start_time": "2023-03-02T10:40:08.710Z"
   },
   {
    "duration": 620,
    "start_time": "2023-03-02T10:40:09.428Z"
   },
   {
    "duration": 83,
    "start_time": "2023-03-02T10:56:24.441Z"
   },
   {
    "duration": 96,
    "start_time": "2023-03-02T10:56:56.449Z"
   },
   {
    "duration": 4,
    "start_time": "2023-03-02T11:02:15.004Z"
   },
   {
    "duration": 718,
    "start_time": "2023-03-02T11:02:15.010Z"
   },
   {
    "duration": 9,
    "start_time": "2023-03-02T11:02:15.730Z"
   },
   {
    "duration": 16,
    "start_time": "2023-03-02T11:02:15.740Z"
   },
   {
    "duration": 19,
    "start_time": "2023-03-02T11:02:15.759Z"
   },
   {
    "duration": 33,
    "start_time": "2023-03-02T11:02:15.780Z"
   },
   {
    "duration": 10,
    "start_time": "2023-03-02T11:02:15.814Z"
   },
   {
    "duration": 74,
    "start_time": "2023-03-02T11:02:15.826Z"
   },
   {
    "duration": 20,
    "start_time": "2023-03-02T11:02:15.902Z"
   },
   {
    "duration": 13,
    "start_time": "2023-03-02T11:02:15.924Z"
   },
   {
    "duration": 114,
    "start_time": "2023-03-02T11:02:15.940Z"
   },
   {
    "duration": 12,
    "start_time": "2023-03-02T11:02:16.056Z"
   },
   {
    "duration": 6,
    "start_time": "2023-03-02T11:02:16.069Z"
   },
   {
    "duration": 50,
    "start_time": "2023-03-02T11:02:16.076Z"
   },
   {
    "duration": 204,
    "start_time": "2023-03-02T11:02:16.128Z"
   },
   {
    "duration": 5,
    "start_time": "2023-03-02T11:02:16.333Z"
   },
   {
    "duration": 8,
    "start_time": "2023-03-02T11:02:16.340Z"
   },
   {
    "duration": 17,
    "start_time": "2023-03-02T11:02:16.350Z"
   },
   {
    "duration": 27,
    "start_time": "2023-03-02T11:02:16.369Z"
   },
   {
    "duration": 5,
    "start_time": "2023-03-02T11:02:16.398Z"
   },
   {
    "duration": 27,
    "start_time": "2023-03-02T11:02:16.422Z"
   },
   {
    "duration": 45,
    "start_time": "2023-03-02T11:02:16.451Z"
   },
   {
    "duration": 15,
    "start_time": "2023-03-02T11:02:16.498Z"
   },
   {
    "duration": 29,
    "start_time": "2023-03-02T11:02:16.515Z"
   },
   {
    "duration": 5,
    "start_time": "2023-03-02T11:02:16.546Z"
   },
   {
    "duration": 36,
    "start_time": "2023-03-02T11:02:16.553Z"
   },
   {
    "duration": 20,
    "start_time": "2023-03-02T11:02:16.591Z"
   },
   {
    "duration": 17,
    "start_time": "2023-03-02T11:02:16.613Z"
   },
   {
    "duration": 51,
    "start_time": "2023-03-02T11:02:16.635Z"
   },
   {
    "duration": 8,
    "start_time": "2023-03-02T11:02:16.687Z"
   },
   {
    "duration": 31,
    "start_time": "2023-03-02T11:02:16.696Z"
   },
   {
    "duration": 379,
    "start_time": "2023-03-02T11:02:16.729Z"
   },
   {
    "duration": 135,
    "start_time": "2023-03-02T11:02:17.110Z"
   },
   {
    "duration": 8,
    "start_time": "2023-03-02T11:02:17.248Z"
   },
   {
    "duration": 123,
    "start_time": "2023-03-02T11:02:17.258Z"
   },
   {
    "duration": 6,
    "start_time": "2023-03-02T11:02:17.383Z"
   },
   {
    "duration": 13,
    "start_time": "2023-03-02T11:02:17.391Z"
   },
   {
    "duration": 19,
    "start_time": "2023-03-02T11:02:17.406Z"
   },
   {
    "duration": 6,
    "start_time": "2023-03-02T11:02:17.427Z"
   },
   {
    "duration": 14,
    "start_time": "2023-03-02T11:02:17.434Z"
   },
   {
    "duration": 21,
    "start_time": "2023-03-02T11:02:17.450Z"
   },
   {
    "duration": 8,
    "start_time": "2023-03-02T11:02:17.473Z"
   },
   {
    "duration": 13,
    "start_time": "2023-03-02T11:02:17.483Z"
   },
   {
    "duration": 26,
    "start_time": "2023-03-02T11:02:17.498Z"
   },
   {
    "duration": 53,
    "start_time": "2023-03-02T11:02:17.526Z"
   },
   {
    "duration": 42,
    "start_time": "2023-03-02T11:02:17.580Z"
   },
   {
    "duration": 9,
    "start_time": "2023-03-02T11:02:17.624Z"
   },
   {
    "duration": 14,
    "start_time": "2023-03-02T11:02:17.635Z"
   },
   {
    "duration": 8,
    "start_time": "2023-03-02T11:02:17.651Z"
   },
   {
    "duration": 122,
    "start_time": "2023-03-02T11:02:17.661Z"
   },
   {
    "duration": 23,
    "start_time": "2023-03-02T11:02:17.786Z"
   },
   {
    "duration": 11,
    "start_time": "2023-03-02T11:02:17.822Z"
   },
   {
    "duration": 17,
    "start_time": "2023-03-02T11:02:17.835Z"
   },
   {
    "duration": 24,
    "start_time": "2023-03-02T11:02:17.854Z"
   },
   {
    "duration": 22,
    "start_time": "2023-03-02T11:02:17.880Z"
   },
   {
    "duration": 8,
    "start_time": "2023-03-02T11:02:17.904Z"
   },
   {
    "duration": 657,
    "start_time": "2023-03-02T11:02:17.914Z"
   },
   {
    "duration": 15,
    "start_time": "2023-03-02T11:02:18.573Z"
   },
   {
    "duration": 51,
    "start_time": "2023-03-02T11:02:18.589Z"
   },
   {
    "duration": 7,
    "start_time": "2023-03-02T11:02:18.643Z"
   },
   {
    "duration": 19,
    "start_time": "2023-03-02T11:02:18.651Z"
   },
   {
    "duration": 11,
    "start_time": "2023-03-02T11:02:18.671Z"
   },
   {
    "duration": 18,
    "start_time": "2023-03-02T11:02:18.684Z"
   },
   {
    "duration": 20,
    "start_time": "2023-03-02T11:02:18.723Z"
   },
   {
    "duration": 11,
    "start_time": "2023-03-02T11:02:18.744Z"
   },
   {
    "duration": 365,
    "start_time": "2023-03-02T11:02:18.757Z"
   },
   {
    "duration": 24,
    "start_time": "2023-03-02T11:02:19.124Z"
   },
   {
    "duration": 213,
    "start_time": "2023-03-02T11:02:19.152Z"
   },
   {
    "duration": 8,
    "start_time": "2023-03-02T11:02:19.367Z"
   },
   {
    "duration": 13,
    "start_time": "2023-03-02T11:02:19.377Z"
   },
   {
    "duration": 10,
    "start_time": "2023-03-02T11:02:19.392Z"
   },
   {
    "duration": 13,
    "start_time": "2023-03-02T11:02:19.404Z"
   },
   {
    "duration": 6,
    "start_time": "2023-03-02T11:02:19.422Z"
   },
   {
    "duration": 20,
    "start_time": "2023-03-02T11:02:19.430Z"
   },
   {
    "duration": 54,
    "start_time": "2023-03-02T11:02:19.452Z"
   },
   {
    "duration": 49,
    "start_time": "2023-03-02T11:02:19.508Z"
   },
   {
    "duration": 16,
    "start_time": "2023-03-02T11:02:19.559Z"
   },
   {
    "duration": 24,
    "start_time": "2023-03-02T11:02:19.577Z"
   },
   {
    "duration": 29,
    "start_time": "2023-03-02T11:02:19.602Z"
   },
   {
    "duration": 4,
    "start_time": "2023-03-02T11:02:19.633Z"
   },
   {
    "duration": 17,
    "start_time": "2023-03-02T11:02:19.639Z"
   },
   {
    "duration": 89,
    "start_time": "2023-03-02T11:02:19.658Z"
   },
   {
    "duration": 13,
    "start_time": "2023-03-02T11:02:19.752Z"
   },
   {
    "duration": 609,
    "start_time": "2023-03-02T11:02:19.767Z"
   },
   {
    "duration": 599,
    "start_time": "2023-03-02T11:02:20.378Z"
   },
   {
    "duration": 621,
    "start_time": "2023-03-02T11:02:20.979Z"
   },
   {
    "duration": 105,
    "start_time": "2023-03-02T11:57:12.587Z"
   }
  ],
  "kernelspec": {
   "display_name": "Python 3 (ipykernel)",
   "language": "python",
   "name": "python3"
  },
  "language_info": {
   "codemirror_mode": {
    "name": "ipython",
    "version": 3
   },
   "file_extension": ".py",
   "mimetype": "text/x-python",
   "name": "python",
   "nbconvert_exporter": "python",
   "pygments_lexer": "ipython3",
   "version": "3.9.13"
  },
  "toc": {
   "base_numbering": 1,
   "nav_menu": {},
   "number_sections": true,
   "sideBar": true,
   "skip_h1_title": true,
   "title_cell": "Table of Contents",
   "title_sidebar": "Contents",
   "toc_cell": false,
   "toc_position": {},
   "toc_section_display": true,
   "toc_window_display": false
  }
 },
 "nbformat": 4,
 "nbformat_minor": 2
}
